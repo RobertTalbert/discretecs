{
  "nbformat": 4,
  "nbformat_minor": 0,
  "metadata": {
    "colab": {
      "provenance": [],
      "authorship_tag": "ABX9TyP63X0qSPJc41Y8SnBYiG0s",
      "include_colab_link": true
    },
    "kernelspec": {
      "name": "python3",
      "display_name": "Python 3"
    },
    "language_info": {
      "name": "python"
    }
  },
  "cells": [
    {
      "cell_type": "markdown",
      "metadata": {
        "id": "view-in-github",
        "colab_type": "text"
      },
      "source": [
        "<a href=\"https://colab.research.google.com/github/RobertTalbert/discretecs/blob/master/MTH325-Fall2024/MTH325-F24-Makeup2-Key.ipynb\" target=\"_parent\"><img src=\"https://colab.research.google.com/assets/colab-badge.svg\" alt=\"Open In Colab\"/></a>"
      ]
    },
    {
      "cell_type": "code",
      "execution_count": 1,
      "metadata": {
        "id": "NTgTgIVSjcRS"
      },
      "outputs": [],
      "source": [
        "import networkx as nx\n",
        "import matplotlib.pyplot as plt"
      ]
    },
    {
      "cell_type": "markdown",
      "source": [
        "## Notes\n",
        "\n",
        "* No answers are provided here for any Skill that nobody attempted, or for any Skill where 100% of the attempts ended in a Master rating. Those skills for this exam were Skill 6 and Skill 8.\n",
        "\n",
        "* Not all of the images from the exam were able to be included in this Jupyter notebook. Please see the original exam, which is posted to the Class Page under November 25, to get the original images.\n",
        "\n",
        "---"
      ],
      "metadata": {
        "id": "BmwxA0sLw4m7"
      }
    },
    {
      "cell_type": "markdown",
      "source": [
        "## Skill 1\n",
        "\n",
        "\n",
        "> **(CORE)** I can outline a proof by mathematical induction.\n",
        "\n",
        "Consider the following proposition, and suppose we want to prove it with mathematical induction:\n",
        "\n",
        "**Let $x$ be a positive real number. Then for any integer $n \\geq 1$, we have $(1+x)^n \\leq 1 + nx$.**\n",
        "\n",
        "1. The base case is when $n=1$. In this case, the left side of the inequality is $(1+x)^1 = 1+x$. The right side is $1 + (1)x = 1+x$. These are equal, so the inequality (and the base case) holds.\n",
        "2. Assume that for some integer $k$, $(1+x)^k \\leq 1 + kx$.\n",
        "3. Prove that $(1+x)^{k+1} \\leq 1 + (k+1)x$."
      ],
      "metadata": {
        "id": "LBUp_1yWlcHy"
      }
    },
    {
      "cell_type": "markdown",
      "source": [
        "## Skill 2\n",
        "\n",
        "> **(CORE)** I can outline a proof using direct, contrapositive, and indirect approaches.\n",
        "\n",
        "Consider the proposition: Suppose $T$ is a tree. **If $T$ has $n$ edges, then it has $n+1$ vertices.**\n",
        "\n",
        "1. *Direct proof*: Assume that $T$ nas $n$ edges. Prove that $T$ has $n+1$ vertices.\n",
        "2. *Indirect (contradiction) proof*: Assume that $T$ has $n$ edges and assume that $T$ does not have $n+1$ vertices.\n",
        "3. *Contrapositive proof*: Assume that $T$ does not have $n+1$ vertices. Prove that $T$ does not have $n$ edges."
      ],
      "metadata": {
        "id": "e7Gk4zi5k69a"
      }
    },
    {
      "cell_type": "markdown",
      "source": [
        "## Skill 3\n",
        "\n",
        "> **(CORE)** I can represent a graph in different ways, determine information (degree, degree sequence, paths of given length, etc.) about a graph using different representations, and give examples of graphs with specified properties."
      ],
      "metadata": {
        "id": "Uxh_w48vk3Wn"
      }
    },
    {
      "cell_type": "code",
      "source": [
        "G = nx.Graph([(0, 3), (0, 6), (0, 7), (1, 5), (1, 6), (2, 3), (3, 4), (3, 5),\n",
        " (3, 6), (3, 7), (4, 6), (4, 7), (5, 6), (6, 7)])\n",
        "\n",
        "# 1. Adjacency matrix\n",
        "\n",
        "## This is an extra step needed because networkx doesn't put the row/columns\n",
        "## into numerical order\n",
        "sorted_nodes = sorted(G.nodes())\n",
        "\n",
        "print(nx.adjacency_matrix(G, nodelist=sorted_nodes).todense())"
      ],
      "metadata": {
        "colab": {
          "base_uri": "https://localhost:8080/"
        },
        "id": "ti6G5Jd5jjKN",
        "outputId": "20d3203d-fce1-4e78-e4b9-7bbc6bb487da"
      },
      "execution_count": 2,
      "outputs": [
        {
          "output_type": "stream",
          "name": "stdout",
          "text": [
            "[[0 0 0 1 0 0 1 1]\n",
            " [0 0 0 0 0 1 1 0]\n",
            " [0 0 0 1 0 0 0 0]\n",
            " [1 0 1 0 1 1 1 1]\n",
            " [0 0 0 1 0 0 1 1]\n",
            " [0 1 0 1 0 0 1 0]\n",
            " [1 1 0 1 1 1 0 1]\n",
            " [1 0 0 1 1 0 1 0]]\n"
          ]
        }
      ]
    },
    {
      "cell_type": "code",
      "source": [
        "# 2. Dictionary\n",
        "nx.to_dict_of_lists(G)"
      ],
      "metadata": {
        "colab": {
          "base_uri": "https://localhost:8080/"
        },
        "id": "c8wBxOaujcrE",
        "outputId": "d346b59b-ac78-410e-95d2-f1f09620a703"
      },
      "execution_count": 3,
      "outputs": [
        {
          "output_type": "execute_result",
          "data": {
            "text/plain": [
              "{0: [3, 6, 7],\n",
              " 3: [0, 2, 4, 5, 6, 7],\n",
              " 6: [0, 1, 3, 4, 5, 7],\n",
              " 7: [0, 3, 4, 6],\n",
              " 1: [5, 6],\n",
              " 5: [1, 3, 6],\n",
              " 2: [3],\n",
              " 4: [3, 6, 7]}"
            ]
          },
          "metadata": {},
          "execution_count": 3
        }
      ]
    },
    {
      "cell_type": "code",
      "source": [
        "# 3. Degrees of vertices\n",
        "\n",
        "dict(G.degree())\n"
      ],
      "metadata": {
        "colab": {
          "base_uri": "https://localhost:8080/"
        },
        "id": "JstBUry7jl7-",
        "outputId": "28a3cade-fc28-4656-c201-71f8abc2ff05"
      },
      "execution_count": 4,
      "outputs": [
        {
          "output_type": "execute_result",
          "data": {
            "text/plain": [
              "{0: 3, 3: 6, 6: 6, 7: 4, 1: 2, 5: 3, 2: 1, 4: 3}"
            ]
          },
          "metadata": {},
          "execution_count": 4
        }
      ]
    },
    {
      "cell_type": "code",
      "source": [
        "# Picture to help with the next two\n",
        "nx.draw(G, with_labels=True, node_color = \"lightgray\")\n"
      ],
      "metadata": {
        "colab": {
          "base_uri": "https://localhost:8080/",
          "height": 516
        },
        "id": "nBi40wTUjx-u",
        "outputId": "bf211976-7180-4a71-c776-81bc2dc1bcab"
      },
      "execution_count": 5,
      "outputs": [
        {
          "output_type": "display_data",
          "data": {
            "text/plain": [
              "<Figure size 640x480 with 1 Axes>"
            ],
            "image/png": "[encoded data removed]"
          },
          "metadata": {}
        }
      ]
    },
    {
      "cell_type": "markdown",
      "source": [
        "4. Cycle of length 5: For example, 0, 7, 4, 6, 3, 0. Other examples exist\n",
        "5. Walk that is not a path: Any walk that repeats an edge or vertex, for example 2, 3, 2."
      ],
      "metadata": {
        "id": "a-SvevEPkcZF"
      }
    },
    {
      "cell_type": "markdown",
      "source": [
        "## Skill 4\n",
        "\n",
        "> I can determine whether a graph has an Euler path or Euler circuit, and whether a graph has a Hamiltonian path or circuit.\n",
        "\n",
        "1. The graph has an Euler trail because it has exactly two odd vertices. One trail specifically is 3, 1, 2, 3, 4, 5, 6, 7, 5.\n",
        "2. The graph does not have an Euler circuit because not all of its vertices are even.\n",
        "3. The graph does have a Hamilton path: 1, 2, 3, 4, 5, 6, 7 works.\n",
        "4. The graph does not have a Hamilton cycle. If there were a Hamilton cycle, it would have to visit all of vertices 1, 2, and 3 as well as 5, 6, and 7. But there is no way to do this without visiting vertex 4 multiple times."
      ],
      "metadata": {
        "id": "d1MC6Uwjl75v"
      }
    },
    {
      "cell_type": "markdown",
      "source": [
        "## Skill 5\n",
        "\n",
        "> I can use a greedy algorithm to find a vertex coloring for a graph, and I can determine a graph's chromatic number.\n",
        "\n",
        "![](https://i.ibb.co/xKv6B3x/makeup-nov25-skill5.png)\n",
        "\n",
        "1. The order in which vertices will be colored is **1, 7, 2, 0, 3, 4, 6, 5**. The greedy algorithm goes in this order and assigned to each vertex *the smallest integer \"color\" not already assigned to one of its neighbors*. The table below lists the vertices, their neighbors (unnecessary for this problem but helpful), and the color assigned to that vertex.\n",
        "\n",
        "| Vertex | Neighbors | Color assigned |\n",
        "| ----- | ------- | ------ |\n",
        "| 1 | 0, 2, 3, 6, 7 | 0 |\n",
        "| 7 | 0, 1, 2, 3, 6 | 1 |\n",
        "| 2 | 1, 3, 5, 7 | 2 |\n",
        "| 0 | 1, 4, 7 | 2 |\n",
        "| 3 | 1, 2, 7 | 3 |\n",
        "| 4 | 0, 5, 6 | 0 |\n",
        "| 6 | 1, 4, 7 | 2 |\n",
        "| 5 | 2, 4 | 1 |\n",
        "\n",
        "2. The chromatic number is **4**. It must be at least 4, because there is a clique of size 4 in the graph consisting of vertices 1, 2, 3, and 7. And it's exactly 4 because the greedy algorithm gives a 4-coloring.\n",
        "\n",
        "\n",
        "\n"
      ],
      "metadata": {
        "id": "OLjn4BP4ntU2"
      }
    },
    {
      "cell_type": "markdown",
      "source": [
        "## Skill 7\n",
        "\n",
        "> **(CORE)** I can determine whether a graph is a tree and state information about it.\n",
        "\n",
        "1. A graph with degree sequence 3, 2, 2, 2, 1 **cannot be a tree**: The degree sum is 10, which means there are 5 edges. But there are also 5 vertices, and in a tree the number of edges must be one less than the number of vertices.\n",
        "2. (a) D, E\n",
        "\n",
        "  (b) G\n",
        "\n",
        "  (c) E, H, I, J"
      ],
      "metadata": {
        "id": "D8rdbU7lx5kx"
      }
    },
    {
      "cell_type": "markdown",
      "source": [
        "## Skill 9\n",
        "\n",
        ">  I can use Dijkstra's Algorithm to find a minimum distance spanning tree for a weighted graph.\n",
        "\n",
        "The visited list is: $A, B, C, D, E, G, F$.\n",
        "\n",
        "The table of distances with updates is:\n",
        "\n",
        "| Vertex | Distance from $A$ |\n",
        "| ---- | ---------- |\n",
        "| A | $0$ |\n",
        "| B | $\\infty \\rightarrow 2$ |\n",
        "| C | $\\infty \\rightarrow 6$ |\n",
        "| D | $\\infty \\rightarrow 7$ |\n",
        "| E | $\\infty \\rightarrow 17$ |\n",
        "| F | $\\infty \\rightarrow 22$ |\n",
        "| G | $\\infty \\rightarrow 50 \\rightarrow 19$ |"
      ],
      "metadata": {
        "id": "btIQjMUv3Opm"
      }
    },
    {
      "cell_type": "markdown",
      "source": [
        "## Skill 10\n",
        "\n",
        "> I can execute a breadth-first and depth-first search in a graph.\n",
        "\n",
        "### Depth first search\n",
        "\n",
        "Visited list: 0, 4, 7, 6, 5, 3, 2, 1\n",
        "\n",
        "Stack history:\n",
        " - 0\n",
        " - 1, 4\n",
        " - 1, 2, 3, 7\n",
        " - 1, 2, 3, 5, 6\n",
        " - 1, 2, 3, 5\n",
        " - 1, 2, 3\n",
        " - 1, 2\n",
        " - 1\n",
        " - (empty)\n",
        "\n",
        "\n",
        " ### Breadth first search\n",
        "\n",
        " Visited list: 0, 1, 4, 2, 3, 6, 7, 5\n",
        "\n",
        " Queue history:\n",
        " - 0\n",
        " - 1, 4\n",
        " - 4, 2, 3, 6\n",
        " - 2, 3, 6, 7\n",
        " - 3, 6, 7, 5\n",
        " - 6, 7, 5\n",
        " - 7, 5\n",
        " - 5\n",
        " - (empty)\n"
      ],
      "metadata": {
        "id": "2bN6sHQZcaBo"
      }
    },
    {
      "cell_type": "markdown",
      "source": [
        "## Skill 11\n",
        "\n",
        "> **(CORE)** I can represent a directed graph in different ways, and determine information about a graph using different representations."
      ],
      "metadata": {
        "id": "9z967ek4h5r7"
      }
    },
    {
      "cell_type": "code",
      "source": [
        "d = nx.DiGraph([(0, 3), (1, 3), (1, 4), (1, 5), (2, 1), (2, 3), (2, 5), (3, 2),\n",
        " (3, 5), (4, 0), (4, 1), (4, 3), (4, 5), (5, 0), (5, 3), (5, 4)])"
      ],
      "metadata": {
        "id": "YnXIy988j9v7"
      },
      "execution_count": 6,
      "outputs": []
    },
    {
      "cell_type": "code",
      "source": [
        "# 1. Adjacency matrix\n",
        "\n",
        "## This is an extra step needed because networkx doesn't put the row/columns\n",
        "## into numerical order\n",
        "sorted_nodes = sorted(d.nodes())\n",
        "\n",
        "print(nx.adjacency_matrix(d, nodelist=sorted_nodes).todense())"
      ],
      "metadata": {
        "colab": {
          "base_uri": "https://localhost:8080/"
        },
        "id": "rmxWZVtSh_I1",
        "outputId": "f49798cd-8826-47b7-f7e7-99842db60a26"
      },
      "execution_count": 7,
      "outputs": [
        {
          "output_type": "stream",
          "name": "stdout",
          "text": [
            "[[0 0 0 1 0 0]\n",
            " [0 0 0 1 1 1]\n",
            " [0 1 0 1 0 1]\n",
            " [0 0 1 0 0 1]\n",
            " [1 1 0 1 0 1]\n",
            " [1 0 0 1 1 0]]\n"
          ]
        }
      ]
    },
    {
      "cell_type": "code",
      "source": [
        "# 2. Dictionary\n",
        "nx.to_dict_of_lists(d)"
      ],
      "metadata": {
        "colab": {
          "base_uri": "https://localhost:8080/"
        },
        "id": "rtHHHtkeiGb6",
        "outputId": "851ac83e-f289-491a-ff24-cecf5e2da1f3"
      },
      "execution_count": 8,
      "outputs": [
        {
          "output_type": "execute_result",
          "data": {
            "text/plain": [
              "{0: [3], 3: [2, 5], 1: [3, 4, 5], 4: [0, 1, 3, 5], 5: [0, 3, 4], 2: [1, 3, 5]}"
            ]
          },
          "metadata": {},
          "execution_count": 8
        }
      ]
    },
    {
      "cell_type": "code",
      "source": [
        "# 3. In- and out-degrees\n",
        "print(dict(d.in_degree()))\n",
        "print(dict(d.out_degree()))"
      ],
      "metadata": {
        "colab": {
          "base_uri": "https://localhost:8080/"
        },
        "id": "WWvvGnG7iQ1v",
        "outputId": "32e83726-7c20-435a-a51a-e138c3137141"
      },
      "execution_count": 9,
      "outputs": [
        {
          "output_type": "stream",
          "name": "stdout",
          "text": [
            "{0: 2, 3: 5, 1: 2, 4: 2, 5: 4, 2: 1}\n",
            "{0: 1, 3: 2, 1: 3, 4: 4, 5: 3, 2: 3}\n"
          ]
        }
      ]
    },
    {
      "cell_type": "code",
      "source": [
        "# 4. Picture\n",
        "nx.draw(d, with_labels=True, node_color = \"lightgray\", pos=nx.circular_layout(d))"
      ],
      "metadata": {
        "colab": {
          "base_uri": "https://localhost:8080/",
          "height": 516
        },
        "id": "4KteLjx5iUG0",
        "outputId": "607bee72-096e-4ec0-edab-704375c55d4b"
      },
      "execution_count": 10,
      "outputs": [
        {
          "output_type": "display_data",
          "data": {
            "text/plain": [
              "<Figure size 640x480 with 1 Axes>"
            ],
            "image/png": "[encoded data removed]"
          },
          "metadata": {}
        }
      ]
    },
    {
      "cell_type": "code",
      "source": [],
      "metadata": {
        "id": "cmyKeAMKiY7i"
      },
      "execution_count": 10,
      "outputs": []
    },
    {
      "cell_type": "markdown",
      "source": [
        "## Skill 12\n",
        "\n",
        "> I can use the Floyd-Warshall algorithm to construct the transitive closure of a directed graph.\n",
        "\n",
        "\n",
        "1.\n",
        "\n",
        "| $k$ | $i$ | $j$ | $W[i,j]$ | $W[i,k]$ | $W[k,j]$ | Result |\n",
        "| --- | --- | --- | -------- | -------- | -------- | ------ |\n",
        "| 0   | 0   | 0   | 0        | 0        | 0        | 0      |\n",
        "| 0   | 0   | 1   | 1        | 0        | 1        | 1      |\n",
        "| 0   | 0   | 2   | 1        | 0        | 1        | 1      |\n",
        "| 0   | 0   | 3   | 0        | 0        | 0        | 0      |\n",
        "| 0   | 1   | 0   | 1        | 1        | 0        | 1      |\n",
        "| 0   | 1   | 1   | 0        | 1        | 1        | 1      |\n",
        "\n",
        "\n",
        "2.\n",
        "\n",
        "\n",
        "| $k$ | $i$ | $j$ | $W[i,j]$ | $W[i,k]$ | $W[k,j]$ | Result |\n",
        "| --- | --- | --- | -------- | -------- | -------- | ------ |\n",
        "| 0   | 3   | 2   | 0        | 1        | 1        | 1      |"
      ],
      "metadata": {
        "id": "V1XiPnDYnvIf"
      }
    },
    {
      "cell_type": "markdown",
      "source": [
        "## Skill 13\n",
        "\n",
        "> I can determine whether a relation is reflexive, symmetric, antisymmetric, and/or transitive, and whether it is an equivalence relation; and if so, I can determine the equivalence class of a point.\n",
        "\n",
        "1. Let $S = \\lbrace 1, 2, 3, \\dots, 10 \\rbrace$. Here are two relations on $S$:\n",
        "    - Relation 1: $a \\sim b$ if $a < b$   (Note, this is a strict inequality, not \"less than or equal to\")\n",
        "    - Relation 2: $a \\sim b$ if $|b - a| \\leq 3$   (Note, this one uses \"less than or equal to\")\n",
        "\n",
        "\n",
        "*Explanations for the properties that aren't satisfied weren't necessary; they are included here for study purposes.*\n",
        "\n",
        "- Relation 1:\n",
        "  - Reflexive: **No** because for example, $1 \\not < 1 $\n",
        "  - Symmetric: **No** because for example, $1 < 2$ but $2 \\not < 1$\n",
        "  - Antisymmetric and transitive: **Yes**\n",
        "  - Equivalence relation: **No** because neither reflexive nor symmetric\n",
        "\n",
        "- Relation 2:\n",
        "  - Reflexive and symmetric: **Yes**\n",
        "  - Antisymmetric: **No** because for example $1 \\sim 2$ since $|2-1| \\leq 3$, and $2 \\sim 1$ because $|1-2| \\leq 3$, but $1 \\neq 2$\n",
        "  - Transitive: **No**, because for example $1 \\sim 3$ since $|3-1| \\leq 3$, and $3 \\sim 6$ because $|6-3| \\leq 3$. But $1 \\not \\sim 6$ because $|6 - 1| > 3$.   \n",
        "  - Equivalence relation: **No** because not transitive\n",
        "\n",
        "\n",
        "2. Let $W$ be the set of all English words of length four or greater, and put the following relation on $W$: $a \\sim b$ if and only if $a$ and $b$ end in the same three letters. State at least three elements of $[\\text{university}]$.\n",
        "\n",
        "Use any three English words that end in \"ity\", for example: charity, unity, diversity, city, clarity, etc.\n"
      ],
      "metadata": {
        "id": "I_MJul-TrVu-"
      }
    },
    {
      "cell_type": "markdown",
      "source": [
        "## Skill 14\n",
        "\n",
        "> I can determine whether a relation is a partial ordering; if so, I can draw its Hasse diagram and identify maximal/minimal elements and/or greatest/least elements, if they exist.\n",
        "\n",
        "1. Let $W$ be the set of all words in English. Here are two relations on $W$. For each, state whether the relation is a partial ordering. If a relation *is* a partial order, you do not need to explain why; just state that it is a partial ordering. But, if a relation is *not* a partial ordering, state at least one property of partial orderings that is not satisfied.\n",
        "   \n",
        "   (a) $a \\sim b$ if the length of $a$ is less than or equal to the length of $b$. (Here, \"length\" means the number of characters in the word.)\n",
        "\n",
        "\n",
        "   This is **not a partial ordering** because it's not antisymmetric: For example $\\text{boy} \\sim \\text{dog}$ and $\\text{dog} \\sim \\text{boy}$ but these are different words.  \n",
        "\n",
        "   (b) $a \\sim b$ if $a$ is equal to $b$ or is contained in $b$ as a substring. (For example, \"cat\" is contained in the word \"concatenate\" as a substring. The letters must stay in order and may not be split up, for example \"cat\" is not contained in \"carrot\".)\n",
        "\n",
        "\n",
        "   This one **is a partial ordering**.\n",
        "\n",
        "   (c) $a \\sim b$ if the length of $a$ divides the length of $b$\n",
        "\n",
        "  This is **not a partial ordering** because it's not antisymmetric. You can use the same counterexample as in part (a).\n",
        "\n",
        "2. Let $S = \\{4, 6, 10, 12, 20, 24, 30\\}$ and let $\\sim$ be the relation on $S$ defined by $a \\sim b$ if $b$ is an integer multiple of $a$. (For example, the number 100 is an integer multiple of the number 20 and the number 25; but not an integer multiple of the number 30.) This is a partial ordering; draw its Hasse diagram.\n",
        "\n",
        "![](https://i.ibb.co/jMmMSmD/SCR-20241126-igql.png)"
      ],
      "metadata": {
        "id": "mMyhn4BNuQPV"
      }
    },
    {
      "cell_type": "code",
      "source": [],
      "metadata": {
        "id": "d6cJ4q2GoTbC"
      },
      "execution_count": 10,
      "outputs": []
    }
  ]
}