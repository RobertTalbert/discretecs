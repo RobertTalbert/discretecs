{
 "cells": [
  {
   "cell_type": "markdown",
   "metadata": {
    "collapsed": false
   },
   "source": [
    "# Level 1\n",
    "\n",
    "## Question 1\n",
    "\n",
    "1a) Since A and B are mutually exclusive, they cannot happen at the same time and so $p(A \\cap B) = 0$. \n",
    "\n",
    "_Question: Why don't we just multiply the probabilities together?_ This is what we do if the events are __independent__. This means that the outcome of one does not affect or depend upon the outcome of the other. But this is different than being __mutually exclusive__. For example, if we roll two dice -- one blue, one red -- let $A$ be the event that we roll 2 on blue, and $B$ the event that we roll 3 on red. These events are certainly _independent_ because the result of the blue die roll has no effect on the result of the red one. But they are _not_ mutually exclusive, because certainly they could both happen. \n",
    "\n",
    "1b) Since A and B are mutually exclusive, $p(A \\cup B) = p(A) + p(B) = 0.9$. \n",
    "\n",
    "1c) This is asking for the probability of the complement of $A$. From our basic reading we know $p(\\overline{A}) = 1 - p(A) = 0.6$.\n",
    "\n",
    "\n",
    "## Question 2\n",
    "\n",
    "In each of these problems we are going to use the basic definition that the probability of an event $E$ is the size of $E$ (the number of ways it could occur) divided by the size of the sample space. \n",
    "\n",
    "2a) The sample space here is the entire group, which has size 300, and there are 155 males in the group, so the probability is $155/300$, "
   ]
  },
  {
   "cell_type": "code",
   "execution_count": 10,
   "metadata": {
    "collapsed": false
   },
   "outputs": [
    {
     "data": {
      "text/plain": [
       "0.516666666666667"
      ]
     },
     "execution_count": 10,
     "metadata": {},
     "output_type": "execute_result"
    }
   ],
   "source": [
    "#2a)   Note: The \"n\" forces the answer into a decimal approximation. \n",
    "n(155/300)"
   ]
  },
  {
   "cell_type": "markdown",
   "metadata": {},
   "source": [
    "2b) The sample space is the entire group again, and there are 97 people living in Grand Rapids, so the probability is $97/300$. "
   ]
  },
  {
   "cell_type": "code",
   "execution_count": 4,
   "metadata": {
    "collapsed": false
   },
   "outputs": [
    {
     "data": {
      "text/plain": [
       "0.323333333333333"
      ]
     },
     "execution_count": 4,
     "metadata": {},
     "output_type": "execute_result"
    }
   ],
   "source": [
    "#2b)\n",
    "n(97/300)"
   ]
  },
  {
   "cell_type": "markdown",
   "metadata": {},
   "source": [
    "2c) This time the sample space is _not_ the entire group. We are restricting ourselves only to the portion of the group living in GR and asking, given that a person is in that subgroup, how likely is it that the person is male? Our sample space now has 97 people in it, and 72 of those are male. So the probability is $72/97$."
   ]
  },
  {
   "cell_type": "code",
   "execution_count": 5,
   "metadata": {
    "collapsed": false
   },
   "outputs": [
    {
     "data": {
      "text/plain": [
       "0.742268041237113"
      ]
     },
     "execution_count": 5,
     "metadata": {},
     "output_type": "execute_result"
    }
   ],
   "source": [
    "#2c)\n",
    "n(72/97)"
   ]
  },
  {
   "cell_type": "markdown",
   "metadata": {},
   "source": [
    "2d) This time the sample space is the group of females, of which there are 145. Of those, 90 live in Allendale. So the probability is $90/145$. "
   ]
  },
  {
   "cell_type": "code",
   "execution_count": 6,
   "metadata": {
    "collapsed": false
   },
   "outputs": [
    {
     "data": {
      "text/plain": [
       "0.620689655172414"
      ]
     },
     "execution_count": 6,
     "metadata": {},
     "output_type": "execute_result"
    }
   ],
   "source": [
    "#2d)\n",
    "n(90/145)"
   ]
  },
  {
   "cell_type": "markdown",
   "metadata": {},
   "source": [
    "## Question 3\n",
    "\n",
    "This is a Bernoulli trial with $p = 3/5$ and $n = 8$. So the probability we seek is $C(20,8) (3/5)^8 (2/5)^{12}$ according to the formula we learned. "
   ]
  },
  {
   "cell_type": "code",
   "execution_count": 9,
   "metadata": {
    "collapsed": false
   },
   "outputs": [
    {
     "data": {
      "text/plain": [
       "0.0354974395564818"
      ]
     },
     "execution_count": 9,
     "metadata": {},
     "output_type": "execute_result"
    }
   ],
   "source": [
    "n(binomial(20,8) * (3/5)^8 * (2/5)^(12))"
   ]
  },
  {
   "cell_type": "markdown",
   "metadata": {
    "collapsed": true
   },
   "source": [
    "# Level 2\n",
    "\n",
    "## Option 1\n",
    "\n",
    "### Question 1\n",
    "\n",
    "The probability that the die rolls never come up even is the same as the probability that the die rolls always come up odd. There is a $1/2$ probability of each of the six rolls coming up odd, and each die roll is independent of the others. Therefore the probability of always coming up odd on six rolls is $(1/2)^6 = 1/64$. As mentioned, this is the same as the probability of never coming up even. \n",
    "\n",
    "### Question 2\n",
    "\n",
    "The sample space here is $\\{1,2,3,4,5,6\\} \\times \\{1,2,3,4,5,6\\}$ to represent the different outcomes of the two dice. For example $(1,4)$ is an element in the sample space and represents a 1 on the first die and a 4 on the second. There are three possible ways to get a sum of 10 when the two dice are thrown: \n",
    "\n",
    "+ $(4,6)$ (4 on the first one, 6 on the second)\n",
    "+ $(6,4)$ (vice versa)\n",
    "+ $(5,5)$ (5 on both dice)\n",
    "\n",
    "The probability of getting $(4,6)$ is $1/7 \\times 1/7 = 1/49$ since the probability of a 4 on the first one is $1/7$ and the probability of a 6 on the second one is also $1/7$ and the two events are independent of each other. Similarly the other two rolls are also at a probability of $1/49$. The outcomes are mutually exclusive, so the probability of getting any one of them is $1/49 + 1/49 + 1/49 = 3/49$ or about $0.06122$. \n",
    "\n",
    "## Option 2\n",
    "\n",
    "Let $E$ be the event that a subject tests positive for the disease and $F$ the event that the subject actually has the disease. We are looking for the conditional probability $p(F | E)$. Bayes' Theorem says that \n",
    "$$p(F|E) = \\frac{p(E|F) p(F)}{p(E|F) p(F) + p(E | \\overline{F}) p(\\overline{F})}$$\n",
    "We're given that 10% of the population has the disease, so $p(F) = 0.1$ and therefore $p(\\overline{F}) = 0.9$. \n",
    "\n",
    "We are also given that the probability of having a positive test, given that a subject has the disease, is 0.82; in our terminology, $p(E|F) = 0.82$. \n",
    "\n",
    "Finally we are given that the probability of having a falsely positive test, given that the subject does not have the disease, is 0.12. In our terminology, $p(E|\\overline{F}) = 0.12$. \n",
    "\n",
    "We now have all the information we need to plug into Bayes' Theorem: \n",
    "\n",
    "\\begin{align*}\n",
    "p(F|E) &= \\frac{p(E|F) p(F)}{p(E|F) p(F) + p(E | \\overline{F}) p(\\overline{F})} \\\\\n",
    "&= \\frac{(0.82)(0.1)}{(0.82)}\n"
   ]
  },
  {
   "cell_type": "code",
   "execution_count": null,
   "metadata": {
    "collapsed": true
   },
   "outputs": [],
   "source": []
  }
 ],
 "metadata": {
  "kernelspec": {
   "display_name": "Sage 6.9",
   "language": "",
   "name": "sage-6.9"
  },
  "language_info": {
   "codemirror_mode": {
    "name": "ipython",
    "version": 2
   },
   "file_extension": ".py",
   "mimetype": "text/x-python",
   "name": "python",
   "nbconvert_exporter": "python",
   "pygments_lexer": "ipython2",
   "version": "2.7.9"
  },
  "name": "Probability v1 solutions.ipynb"
 },
 "nbformat": 4,
 "nbformat_minor": 0
}
