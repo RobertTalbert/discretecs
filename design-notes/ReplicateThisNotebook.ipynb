{
  "nbformat": 4,
  "nbformat_minor": 0,
  "metadata": {
    "colab": {
      "name": "ReplicateThisNotebook.ipynb",
      "provenance": [],
      "authorship_tag": "ABX9TyOYAPTn1qhxWns3lyV09vEH"
    },
    "kernelspec": {
      "name": "python3",
      "display_name": "Python 3"
    }
  },
  "cells": [
    {
      "cell_type": "markdown",
      "metadata": {
        "id": "ObjCykY54E3c",
        "colab_type": "text"
      },
      "source": [
        "# MTH 325 Technology Assessment\n",
        "\n",
        "## Text replication task\n",
        "\n",
        "**Computational thinking** is a framework for problem solving that is very important in MTH 225. It consists of four stages:\n",
        "\n",
        "1. Decomposition\n",
        "2. Pattern finding\n",
        "3. Abstraction\n",
        "4. Algorithm design\n",
        "\n",
        "For example, the *triangular number sequence* is the sequence $1, 3, 6, 10, 15, \\dots$ where each number tells you the number of dots that can be arranged in a triangular pattern. [This website illustrates the idea.](https://www.mathsisfun.com/algebra/triangular-numbers.html). \n",
        "\n",
        "What's the pattern in the numbers? Can you see it? Does the pattern always hold? Why? \n",
        "\n",
        "Later in the course we'll look at this sequence and find that a *recurrence relation* describes it: \n",
        "\n",
        "$$T_n = T_{n-1} + n$$ \n",
        "\n",
        "Here is some Python that will compute triangular numbers using this relation: "
      ]
    },
    {
      "cell_type": "code",
      "metadata": {
        "id": "w2U5DGaQ3sxU",
        "colab_type": "code",
        "colab": {}
      },
      "source": [
        "def triangular(n): \n",
        "  if n == 1: \n",
        "    return 1\n",
        "  else: return triangular(n-1) + n"
      ],
      "execution_count": 5,
      "outputs": []
    }
  ]
}