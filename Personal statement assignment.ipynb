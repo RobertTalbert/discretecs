{
 "cells": [
  {
   "cell_type": "markdown",
   "metadata": {
    "collapsed": false
   },
   "source": [
    "# Overview\n",
    "\n",
    "The main activity for this part of the Technology and Coding Module is to create a Jupyter notebook, write text that includes the major features of Markdown in that notebook, and then save it and submit it to your shared Dropbox notebook. This will rehearse both your Markdown skills as well as the process of working with Jupyter notebooks. \n",
    "\n",
    "# Instructions\n",
    "\n",
    "1. If you are viewing this notebook via the link in the Technology and Coding module, download the `*.ipynb` file somewhere (as shown in the original assignment). But __keep a copy of the notebook open in another tab__ because we will need to refer to the instructions later. \n",
    "2. Now _upload_ the file to your SageMath Cloud account in any project you wish. [Click here for a brief video to show you how.](https://drive.google.com/file/d/0B_-QCkjK6ddRaklybWFVN2tmTkE/view) \n",
    "3. The file you uploaded is a Jupyter notebook that consists of a single Markdown cell. __Double-click this text__ to open that cell in \"edit mode\". You will then see the raw Markdown code that created the text and you can edit that Markdown if you wish; if you want to go back into \"viewing mode\" just hit `Shift-Enter`. \n",
    "4. With this cell open in \"edit mode\", __delete all the text in it__ so that you have a single _blank_ Markdown cell. Remember you were asked to keep a copy of the notebook open in another tab so you can refer to the instructions. Go back to the Technology and Coding module to find the link again if you need. \n",
    "5. You should now be looking at a Jupyter notebook that has a single empty Markdown cell. In that Markdown cell, __use Markdown to write a brief personal statement for MTH 325__. The contents of that personal statement are given in detail below. \n",
    "6. When you have finished retitle this notebook with the title `LastName-PersonalStatement`. Here is a short video showing how to rename files in SageMath Cloud: [https://goo.gl/WB5pXg](https://goo.gl/WB5pXg)\n",
    "7. Re-open this notebook once the name has been changed, and download __two__ copies of it to your shared Dropbox folder you set up in Part 1: A copy that is in iPython Notebook format and a copy that is in HTML format. To download a Jupyter notebook in a particular format, go to the `File` menu in SageMath Cloud, select `Download As...` and then choose the file format. ([Click here for a screenshot.](https://goo.gl/WB5pXg)) You can download these directly into your shared Dropbox folder or download them somewhere else and then move them to your shared Dropbox folder. \n",
    "\n",
    "Once you've saved both versions of this document in your Dropbox folder, you're done. This will be the standard method for submitting work: You'll do your work in a Jupyter notebook, then put the work in your Dropbox folder as both an executable Jupyter notebook and as a view-only HTML file. I'll add feedback by marking on the HTML file and leave it in your Dropbox folder. \n",
    "\n",
    "## What to put in the personal statement\n",
    "\n",
    "1. Give a personal introduction and your reasons for taking the course. \n",
    "2. Write a few things about your life situation: Are you working? Do you have family responsibilities? What are your professional goals? \n",
    "3. Write about any prior experience you might have that could influence your work in the course. For example, have you taken the course before? Have you taken other courses or done work that impacts your learning in MTH 325? \n",
    "4. Write about your learning goals for the course, your expectations for the course, and your preferred learning style in any course. _Please do not mention grades when writing about goals and expectations._\n",
    "5. Finally, if there is anything else I (Prof. Talbert) should know about you that could be important, please say so. \n",
    "\n",
    "We are envisioning maybe 1-2 short paragraphs for each point, or one long paragraph. We are not looking for a novel. Don't go on endlessly unless you just have a lot to say; but this information is valuable in conducting the class, so please don't skimp or blow it off either. \n",
    "\n",
    "In addition to the content, your work should demonstrate the use of the following elements of Markdown: \n",
    "\n",
    "+ Bold and italicized text\n",
    "+ Use of headers with at least two different levels\n",
    "+ Inclusion of a hyperlink to a website \n",
    "+ An ordered or unordered list \n",
    "\n",
    "How you include these elements is up to you. For example, you could use headers to break up the five parts of the statement, or use bold/italics to highlight your learning goals. But __all four of these elements must be demonstrated in order for the work to be considered complete.__ \n",
    "\n",
    "Please keep the entire personal statement inside a __single Markdown cell__ in the Jupyter notebook. "
   ]
  },
  {
   "cell_type": "code",
   "execution_count": null,
   "metadata": {
    "collapsed": true
   },
   "outputs": [],
   "source": []
  }
 ],
 "metadata": {
  "kernelspec": {
   "display_name": "Python 2",
   "language": "python",
   "name": "python2"
  },
  "language_info": {
   "codemirror_mode": {
    "name": "ipython",
    "version": 2
   },
   "file_extension": ".py",
   "mimetype": "text/x-python",
   "name": "python",
   "nbconvert_exporter": "python",
   "pygments_lexer": "ipython2",
   "version": "2.7.9"
  },
  "name": "This is a better name.ipynb"
 },
 "nbformat": 4,
 "nbformat_minor": 0
}
