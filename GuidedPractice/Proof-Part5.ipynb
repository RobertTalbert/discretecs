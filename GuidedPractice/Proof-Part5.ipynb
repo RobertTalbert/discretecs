{
 "cells": [
  {
   "cell_type": "markdown",
   "metadata": {
    "button": false,
    "deletable": true,
    "new_sheet": false,
    "run_control": {
     "read_only": false
    }
   },
   "source": [
    "# MTH 225: Methods of Proof\n",
    "\n",
    "## Part 5: Indirect Proof part 2\n",
    "\n",
    "### Overview \n",
    "\n",
    "This lesson is the second part of our look at indirect proof. Actually we are introducing no new content or ideas here. Instead, this lesson is intended to give you more practice with indirect proof, and to pull together the three main methods for proving conditional statements: _direct proof_, _proof by contrapositive_, and _indirect proof_. \n",
    "\n",
    "### Learning Objectives\n",
    "\n",
    "We'll also focus on the learning objectives from Part 4 in addition to these new ones: \n",
    "\n",
    "__Basic:__ \n",
    "\n",
    "+ Given a proof of a conditional statement, identify whether the proof is a direct proof, proof by contrapositive, or proof by contradiction.\n",
    "\n",
    "__Advanced:__\n",
    "\n",
    "+ Evaluate the pros and cons of using one of the three methods for proving conditional statements (direct proof, proof by contrapositive, proof by contradiction) on a given conditional statement. \n",
    "\n",
    "### Background\n",
    "\n",
    "Go back and review Parts 1--4. Make sure to invest time in writing the proofs necessary for the Homework A. \n",
    "\n",
    "### Exercises \n",
    "\n",
    "__(1)__ (Review) Suppose you were going to prove the statement: _If x is irrational, then 1/x is irrational_ using a proof by contradiction. Give a __precise__ statement of __all__ assumptions you would make at the beginning of the proof. \n",
    "\n",
    "__(2)__ Consider the proof below. What kind of proof is being used? There's a multiple-choice item at the submission form for your choice. \n",
    "\n",
    "__Proposition:__ If $n$ is an integer and $n^3 + 5$ is odd, then $n$ is even. \n",
    "\n",
    "__Proof:__ Suppose $n$ is odd. Then there exists an integer $q$ such that $n = 2q+1$. Therefore \n",
    "$$n^3 = (2q+1)^3 = 8q^3 + 12q^2 + 6q + 1$$\n",
    "Adding $1$ to this expression gives \n",
    "$$n^3 + 1 = 8q^3 + 12q^2 + 6q + 2$$\n",
    "Factor a $2$ out of the right hand side to get\n",
    "$$n^3 + 1 = 2(4q^3 + 6q^2 + 3q + 1)$$\n",
    "Now the expression $4q^3 + 6q^2 + 3q + 1$ is an integer because $q$ is an integer and because of the closure properties of integer addition and multiplication. Therefore we have $n^3 + 1$ as an integer multiple of $2$, which means that $n^3 + 1$ is even. $\\square$\n",
    "\n",
    "__(3)__ At the submission form are several (true) propositions given. For each one, check the box corresponding to the proof technique you believe would be the best for that statement. The interpretation of \"best\" is entirely up to you and will be the subject of our in-class discussion. \n",
    "\n",
    "Submit your work here: http://bit.ly/1kSUZba"
   ]
  },
  {
   "cell_type": "code",
   "execution_count": null,
   "metadata": {
    "button": false,
    "collapsed": true,
    "deletable": true,
    "new_sheet": false,
    "run_control": {
     "read_only": false
    }
   },
   "outputs": [],
   "source": []
  }
 ],
 "metadata": {
  "kernelspec": {
   "display_name": "Python 3",
   "language": "python",
   "name": "python3"
  },
  "language_info": {
   "codemirror_mode": {
    "name": "ipython",
    "version": 3
   },
   "file_extension": ".py",
   "mimetype": "text/x-python",
   "name": "python",
   "nbconvert_exporter": "python",
   "pygments_lexer": "ipython3",
   "version": "3.5.0"
  }
 },
 "nbformat": 4,
 "nbformat_minor": 0
}
