{
 "cells": [
  {
   "cell_type": "markdown",
   "metadata": {
    "button": false,
    "deletable": true,
    "new_sheet": false,
    "run_control": {
     "read_only": false
    }
   },
   "source": [
    "# MTH 225: Methods of Proof \n",
    "\n",
    "## Part 7: Mathematical Induction 2\n",
    "\n",
    "### Overview \n",
    "\n",
    "In the last lesson, we learned about _mathematical induction_ and its use in proving statements that involve predicates that are supposed to be true for all positive integers (or a subset of those). Part 7 is a continuation, where we will review what we know about mathematical induction and then apply mathematical induction to reason about recursively-defined structures. \n",
    "\n",
    "### Learning Objectives \n",
    "\n",
    "__Basic:__\n",
    "\n",
    "Same as Part 6. \n",
    "\n",
    "__Advanced:__\n",
    "\n",
    "+ Outline and write a draft of a proof by mathematical induction for a simple proposition involving recursively defined sequences and other recursive structures. \n",
    "\n",
    "\n",
    "### Background\n",
    "\n",
    "Here is a famous mathematical object, a sequence of integers called the _Fibonacci sequence_. This sequence goes like this: \n",
    "\n",
    "$$1, 1, 2, 3, 5, 8, 13, 21, 34, 55, 89, \\dots$$\n",
    "\n",
    "Do you see the pattern at work here? Except for the first two elements of the sequence, _each element is the sum of the two that come before it._ The Fibonacci sequence was invented, believe it or not, to model the breeding of rabbits, but they have amazing properties and a life of their own. \n",
    "\n",
    "But first let's look at a mathematical definition of the Fibonacci sequence. We will let $f_n$ represent the $n$th Fibonacci number, so that $f_1 = 1$, $f_1 = 1$, $f_2 = 1$, $f_3 = 2$, $f_4 = 3$, etc. \n",
    "\n",
    ">Definition: Define the 1st and 2nd Fibonacci numbers to be $f_1 = 1$ and $f_2 = 1$. Then for each $n \\geq 2$, define $f_n = f_{n-1} + f_{n-2}$. \n",
    "\n",
    "This is what is known as a _recursive_ definition because it defines one instance of the Fibonacci numbers in terms of previous instances of the Fibonacci numbers. \n",
    "\n",
    "Here is some code, written as a recursive Python function (it calls itself!), that you can use to generate the Fibonacci numbers: "
   ]
  },
  {
   "cell_type": "code",
   "execution_count": 1,
   "metadata": {
    "button": false,
    "collapsed": false,
    "deletable": true,
    "new_sheet": false,
    "run_control": {
     "read_only": false
    }
   },
   "outputs": [],
   "source": [
    "def fib(n):\n",
    "    if n == 1: return 1\n",
    "    elif n == 2: return 1\n",
    "    else: \n",
    "        return fib(n-1) + fib(n-2)\n",
    "    \n",
    "# WARNING: This recursive algorithm gets really slow when n is big. "
   ]
  },
  {
   "cell_type": "code",
   "execution_count": 2,
   "metadata": {
    "button": false,
    "collapsed": false,
    "deletable": true,
    "new_sheet": false,
    "run_control": {
     "read_only": false
    }
   },
   "outputs": [
    {
     "data": {
      "text/plain": [
       "[1,\n",
       " 1,\n",
       " 2,\n",
       " 3,\n",
       " 5,\n",
       " 8,\n",
       " 13,\n",
       " 21,\n",
       " 34,\n",
       " 55,\n",
       " 89,\n",
       " 144,\n",
       " 233,\n",
       " 377,\n",
       " 610,\n",
       " 987,\n",
       " 1597,\n",
       " 2584,\n",
       " 4181]"
      ]
     },
     "execution_count": 2,
     "metadata": {},
     "output_type": "execute_result"
    }
   ],
   "source": [
    "# Testing...  Should produce the first 20 Fibonacci numbers\n",
    "[fib(i) for i in range(1,20)]"
   ]
  },
  {
   "cell_type": "markdown",
   "metadata": {
    "button": false,
    "deletable": true,
    "new_sheet": false,
    "run_control": {
     "read_only": false
    }
   },
   "source": [
    "Let's use the code to play around with the following idea: __What happens when we add up a bunch of consecutive Fibonacci numbers (starting from $f_1$)?__ Try it below, or you can also do this by hand. "
   ]
  },
  {
   "cell_type": "code",
   "execution_count": 3,
   "metadata": {
    "button": false,
    "collapsed": false,
    "deletable": true,
    "new_sheet": false,
    "run_control": {
     "read_only": false
    }
   },
   "outputs": [
    {
     "name": "stdout",
     "output_type": "stream",
     "text": [
      "2\n",
      "4\n",
      "7\n",
      "12\n",
      "20\n"
     ]
    }
   ],
   "source": [
    "# Sum of first 2 Fibonaccis\n",
    "print(fib(1) + fib(2))\n",
    "\n",
    "# Sum of first 3 Fibonaccis\n",
    "print(fib(1) + fib(2) + fib(3))\n",
    "\n",
    "# Sum of first 4 Fibonaccis\n",
    "print(fib(1) + fib(2) + fib(3) + fib(4))\n",
    "\n",
    "# Sum of first 5 Fibonaccis\n",
    "print(fib(1) + fib(2) + fib(3) + fib(4) + fib(5))\n",
    "\n",
    "# Sum of first 6 Fibonaccis\n",
    "print(fib(1) + fib(2) + fib(3) + fib(4) + fib(5) + fib(6))"
   ]
  },
  {
   "cell_type": "code",
   "execution_count": 8,
   "metadata": {
    "collapsed": false
   },
   "outputs": [
    {
     "data": {
      "text/plain": [
       "5"
      ]
     },
     "execution_count": 8,
     "metadata": {},
     "output_type": "execute_result"
    }
   ],
   "source": [
    "fib(4) + fib(3)"
   ]
  },
  {
   "cell_type": "markdown",
   "metadata": {
    "button": false,
    "deletable": true,
    "new_sheet": false,
    "run_control": {
     "read_only": false
    }
   },
   "source": [
    "At this point you may notice a pattern. If not, add up a few more (the first 7, the first 8, the first 9...) Modify the code to make this process easier. \n",
    "\n",
    "If you're not seeing a pattern yet or you want to see it a little more clearly, look at the Fibonacci numbers themselves starting at $f_4$: "
   ]
  },
  {
   "cell_type": "code",
   "execution_count": null,
   "metadata": {
    "button": false,
    "collapsed": false,
    "deletable": true,
    "new_sheet": false,
    "run_control": {
     "read_only": false
    }
   },
   "outputs": [],
   "source": [
    "print(fib(4))\n",
    "print(fib(5))\n",
    "print(fib(6))\n",
    "print(fib(7))\n",
    "print(fib(8))"
   ]
  },
  {
   "cell_type": "markdown",
   "metadata": {
    "button": false,
    "deletable": true,
    "new_sheet": false,
    "run_control": {
     "read_only": false
    }
   },
   "source": [
    "Let's see if you can formulate this into a conjecture. Fill in the blank (in your notes): \n",
    "\n",
    ">For any positive integer $n$, we have $f_1 + f_2 + f_3 + \\cdots + f_n = $ _______. \n",
    "\n",
    "Note that regardless of how you fill in the blank, this conjecture is a proposition that asserts that a predicate (which in this case is the equation you see) is true for all positive integers. That means that once we figure out what should go in the blank, if we wanted to _prove_ that this conjecture is really true, we might use mathematical induction. \n",
    "\n",
    "We'll discuss your answers and the next steps as part of the debrief of this Guided Practice. \n",
    "\n",
    "### Video\n",
    "\n",
    "None this time. \n",
    "\n",
    "### Exercises \n",
    "\n",
    "1. At the submission form, type in what you put into the blank above. Use the `_` symbol for subscripts, for example `f_n` for $f_n$. \n",
    "2. For the Homework A for part 8 of this lesson, you are given the (true) proposition that __For every natural number $k$, $f(4k)$ is a multiple of 3.__ That is, every Fibonacci number in a position that is a multiple of 4 ($f_4$, $f_8$, $f_{12}$, etc.) is divisible by 3. Suppose we wanted to prove this by mathematical induction. What is the base case? \n",
    "3. For the proposition in the previous question, what is the induction hypothesis? \n",
    "4. For the proposition in question 2, what would you need to prove having assumed the induction hypothesis? \n",
    "\n",
    "Submit your responses here: http://bit.ly/1kmZyKv"
   ]
  }
 ],
 "metadata": {
  "kernelspec": {
   "display_name": "Python 3",
   "language": "python",
   "name": "python3"
  },
  "language_info": {
   "codemirror_mode": {
    "name": "ipython",
    "version": 3
   },
   "file_extension": ".py",
   "mimetype": "text/x-python",
   "name": "python",
   "nbconvert_exporter": "python",
   "pygments_lexer": "ipython3",
   "version": "3.5.0"
  }
 },
 "nbformat": 4,
 "nbformat_minor": 0
}
