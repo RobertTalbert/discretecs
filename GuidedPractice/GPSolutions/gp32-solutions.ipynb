{
 "cells": [
  {
   "cell_type": "markdown",
   "metadata": {},
   "source": [
    "# Guided Practice 3.2 Solutions\n",
    "\n",
    "1. There should be 0 in both rows. \n",
    "2. This makes common sense because the statement is $p \\wedge \\neg p$, or \"$p$ and not $p$\". It's impossible for a logical proposition (like $p$) to be both true and not true, or false and not false, at the same time -- so this statement should never be true. \n",
    "3. There should be 011 in the second row, 101 in the third row, and 110 in the fourth. "
   ]
  },
  {
   "cell_type": "code",
   "execution_count": null,
   "metadata": {
    "collapsed": true
   },
   "outputs": [],
   "source": []
  }
 ],
 "metadata": {
  "kernelspec": {
   "display_name": "Python 3",
   "language": "python",
   "name": "python3"
  },
  "language_info": {
   "codemirror_mode": {
    "name": "ipython",
    "version": 3
   },
   "file_extension": ".py",
   "mimetype": "text/x-python",
   "name": "python",
   "nbconvert_exporter": "python",
   "pygments_lexer": "ipython3",
   "version": "3.5.0"
  }
 },
 "nbformat": 4,
 "nbformat_minor": 0
}
