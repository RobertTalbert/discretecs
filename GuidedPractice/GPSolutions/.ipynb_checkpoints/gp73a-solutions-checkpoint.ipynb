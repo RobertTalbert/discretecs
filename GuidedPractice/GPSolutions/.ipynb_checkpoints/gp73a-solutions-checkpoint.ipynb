{
 "cells": [
  {
   "cell_type": "markdown",
   "metadata": {
    "button": false,
    "deletable": true,
    "run_control": {
     "read_only": false
    }
   },
   "source": [
    "# Guided Practice 7.3a Solutions\n",
    "\n",
    "__Question 1:__ The compositions are: \n",
    "$$(f \\circ g)(10) = f(g(10)) = f(\\lfloor 10 \\rfloor) = f(10) = \\sqrt{10}$$\n",
    "and\n",
    "$$(g \\circ f)(10) = g(f(10)) = g(\\sqrt{10}) = \\lfloor \\sqrt{10} \\rfloor = 3$$\n",
    "Note that these are different. \n",
    "\n",
    "Side note: If you wanted to do these right here in Python, here is the code: "
   ]
  },
  {
   "cell_type": "code",
   "execution_count": 2,
   "metadata": {
    "button": false,
    "collapsed": false,
    "deletable": true,
    "run_control": {
     "read_only": false
    }
   },
   "outputs": [
    {
     "name": "stdout",
     "output_type": "stream",
     "text": [
      "3.1622776601683795\n",
      "3\n"
     ]
    }
   ],
   "source": [
    "from math import sqrt, floor\n",
    "\n",
    "# Defining f:\n",
    "def f(x): \n",
    "    return sqrt(x)\n",
    "\n",
    "# Defining g:\n",
    "def g(x): \n",
    "    return floor(x)\n",
    "\n",
    "# Computation: \n",
    "print(f(g(10)))\n",
    "print(g(f(10)))"
   ]
  },
  {
   "cell_type": "markdown",
   "metadata": {
    "button": false,
    "collapsed": true,
    "deletable": true,
    "run_control": {
     "read_only": false
    }
   },
   "source": [
    "__Question 2:__ For this one, you don't have to program anything, but since we are in Python, here is how you would write these functions using Python. First of all, Python has a built-in `max` and `len` functions so we don't have to write those. But here are the others, and if you download and put this notebook in SageMath Cloud then you can play with the code. "
   ]
  },
  {
   "cell_type": "code",
   "execution_count": 3,
   "metadata": {
    "button": false,
    "collapsed": true,
    "deletable": true,
    "run_control": {
     "read_only": false
    }
   },
   "outputs": [],
   "source": [
    "def prod(L):\n",
    "    product = 1 \n",
    "    for i in range(len(L)):\n",
    "        product = product * L[i]\n",
    "    return product\n",
    "\n",
    "def head(L):\n",
    "    return L[0]\n",
    "\n",
    "def init(L):\n",
    "    return L[:-1]\n",
    "\n",
    "def reverse(L):\n",
    "    return L.reverse()  # reverse is a METHOD in Python but not a function. "
   ]
  },
  {
   "cell_type": "markdown",
   "metadata": {
    "button": false,
    "deletable": true,
    "run_control": {
     "read_only": false
    }
   },
   "source": [
    "For questions 2 and 3 we can reason the answer without the code: \n",
    "\n",
    "+ `len . reverse` can be computed. It reverses the list, then finds its length. \n",
    "+ `reverse . len` cannot be computed. It first finds the length of a list which is a number, but then it's nonsense to reverse a number. \n",
    "+ `max . prod` cannot be computed, because `prod` produces a number but `max` requires a list for input. \n",
    "+ `prod . init` can be computed. The composition strips off the last element of the list, then finds the product of the result. \n",
    "+ `head . len` cannot be computed. It first finds the length of a list which is a number, but then it's nonsense to find the head of a number. \n",
    "+ `len . head` cannot be computed. It finds the head of a list, but it doesn't make sense to find the length of a number. \n",
    "+ `len . prod` cannot be computer because again, first we take a product which is a number, but it doesn't make sense to find the length of a number. \n",
    "+ `prod . init` can be computed. First we strip off the last element, then find the product of the rest. \n",
    "\n",
    "Let's check some of these with the code. "
   ]
  },
  {
   "cell_type": "code",
   "execution_count": 4,
   "metadata": {
    "button": false,
    "collapsed": false,
    "deletable": true,
    "run_control": {
     "read_only": false
    }
   },
   "outputs": [
    {
     "data": {
      "text/plain": [
       "144"
      ]
     },
     "execution_count": 4,
     "metadata": {},
     "output_type": "execute_result"
    }
   ],
   "source": [
    "gpList = [3, 6, 8, 1, 2]\n",
    "prod(init(gpList))"
   ]
  },
  {
   "cell_type": "code",
   "execution_count": 5,
   "metadata": {
    "button": false,
    "collapsed": false,
    "deletable": true,
    "run_control": {
     "read_only": false
    }
   },
   "outputs": [
    {
     "ename": "TypeError",
     "evalue": "'int' object is not iterable",
     "output_type": "error",
     "traceback": [
      "\u001b[0;31m---------------------------------------------------------------------------\u001b[0m",
      "\u001b[0;31mTypeError\u001b[0m                                 Traceback (most recent call last)",
      "\u001b[0;32m<ipython-input-5-8fc3cafb9dc4>\u001b[0m in \u001b[0;36m<module>\u001b[0;34m()\u001b[0m\n\u001b[0;32m----> 1\u001b[0;31m \u001b[0mmax\u001b[0m\u001b[0;34m(\u001b[0m\u001b[0mprod\u001b[0m\u001b[0;34m(\u001b[0m\u001b[0mgpList\u001b[0m\u001b[0;34m)\u001b[0m\u001b[0;34m)\u001b[0m\u001b[0;34m\u001b[0m\u001b[0m\n\u001b[0m",
      "\u001b[0;31mTypeError\u001b[0m: 'int' object is not iterable"
     ]
    }
   ],
   "source": [
    "max(prod(gpList))"
   ]
  },
  {
   "cell_type": "markdown",
   "metadata": {
    "button": false,
    "deletable": true,
    "run_control": {
     "read_only": false
    }
   },
   "source": [
    "__Question 4:__ The composition does the following things in order: \n",
    "\n",
    "1. First sort the list. \n",
    "2. Then remove the last element (which would be the largest element, since it's sorted). \n",
    "3. Then reverse again. \n",
    "4. Then remove the last element (which will now be the smallest element). \n",
    "\n",
    "So in other words, this four-fold composition removes the smallest and largest elements of a list of integers. That's something that could be useful in statistics, by removing outliers from a set of data. "
   ]
  }
 ],
 "metadata": {
  "kernelspec": {
   "display_name": "Python 3",
   "language": "python",
   "name": "python3"
  },
  "language_info": {
   "codemirror_mode": {
    "name": "ipython",
    "version": 3
   },
   "file_extension": ".py",
   "mimetype": "text/x-python",
   "name": "python",
   "nbconvert_exporter": "python",
   "pygments_lexer": "ipython3",
   "version": "3.5.0"
  }
 },
 "nbformat": 4,
 "nbformat_minor": 0
}
