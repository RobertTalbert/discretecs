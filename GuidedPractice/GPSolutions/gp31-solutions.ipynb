{
 "cells": [
  {
   "cell_type": "markdown",
   "metadata": {},
   "source": [
    "# Guided Practice 3.1 Solutions\n",
    "\n",
    "1. $d \\wedge c$\n",
    "2. If I like discrete structures, then I will pass the class and I will complete this assignment. \n",
    "3. The converse is: _If I pass this class, I will complete this assignment._ The contrapositive is: _If I do not pass this class, I will not complete this assignment._\n",
    "4. The statement would be false if you completed the assignment but then did not pass the class. \n",
    "5. There are many such examples. Here are two, one from math and the other not: \n",
    "\n",
    "+ _If an integer is divisible by 10, then it is divisible by 5._ This is a true statement, but its converse says: _If an integer is divisible by 5, then it is divisible by 10_ which is false because the number 25 would be a counterexample. (It's divisible by 5 but not by 10.) \n",
    "+ _If the temperature outside is 20 degrees, then water outside will freeze._ This is true, but its converse says: _If the water outside freezes, the temperature outside is 20 degrees._ That's not true necessarily because water can freeze at other temperatures besides 20 degrees. "
   ]
  }
 ],
 "metadata": {
  "kernelspec": {
   "display_name": "Python 3",
   "language": "python",
   "name": "python3"
  },
  "language_info": {
   "codemirror_mode": {
    "name": "ipython",
    "version": 3
   },
   "file_extension": ".py",
   "mimetype": "text/x-python",
   "name": "python",
   "nbconvert_exporter": "python",
   "pygments_lexer": "ipython3",
   "version": "3.5.0"
  }
 },
 "nbformat": 4,
 "nbformat_minor": 0
}
