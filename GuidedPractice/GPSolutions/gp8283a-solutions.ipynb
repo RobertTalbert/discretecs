{
 "cells": [
  {
   "cell_type": "markdown",
   "metadata": {},
   "source": [
    "# Guided Practice 8.2/8.3a Solutions\n",
    "\n",
    "__Question 1:__ We know $S(0) = 3$ and $S(1) = 11$. Since $S(k) = 10 S(k-1) - 9 S(k-2)$ for $k > 1$, this gives\n",
    "\n",
    "$$\\begin{align*}\n",
    "S(2) &= 10 S(1) - 9 S(0) = 10(11) - 9(3) = 83 \\\\\n",
    "S(3) &= 10 S(2) - 9 S(1) = 10(83) - 9(11) = 731 \\\\\n",
    "S(4) &= 10 S(3) - 9 S(2) = 10(731) - 9(83) = 6563 \\\\\n",
    "S(5) &= 10 S(4) - 9 S(3) = 10(6563) - 9(731) = 59051\n",
    "\\end{align*}$$\n",
    "\n",
    "Here is a short recursive function in Python that implements this recurrence relation:"
   ]
  },
  {
   "cell_type": "code",
   "execution_count": 1,
   "metadata": {
    "collapsed": false
   },
   "outputs": [
    {
     "data": {
      "text/plain": [
       "[3, 11, 83, 731, 6563, 59051, 531443, 4782971, 43046723, 387420491]"
      ]
     },
     "execution_count": 1,
     "metadata": {},
     "output_type": "execute_result"
    }
   ],
   "source": [
    "def S(k):\n",
    "    if k == 0: return 3\n",
    "    if k == 1: return 11\n",
    "    else: \n",
    "        return 10*S(k-1) - 9*S(k-2)\n",
    "    \n",
    "# List of the first 10 values of S:\n",
    "[S(i) for i in range(0, 10)]"
   ]
  },
  {
   "cell_type": "markdown",
   "metadata": {},
   "source": [
    "__Question 2:__ The recurrence relation is order 2. \n",
    "\n",
    "__Question 3:__ Computations in Python: "
   ]
  },
  {
   "cell_type": "code",
   "execution_count": 3,
   "metadata": {
    "collapsed": false
   },
   "outputs": [
    {
     "data": {
      "text/plain": [
       "[3, 11, 83, 731, 6563, 59051]"
      ]
     },
     "execution_count": 3,
     "metadata": {},
     "output_type": "execute_result"
    }
   ],
   "source": [
    "def F(k):\n",
    "    return 9**k + 2\n",
    "\n",
    "[F(i) for i in range(0, 6)]"
   ]
  },
  {
   "cell_type": "markdown",
   "metadata": {},
   "source": [
    "This suggests that $S$ and $F$ generate the same sequence, which means $F$ would be a __solution__ for the recurrence relation for $S$. \n",
    "\n",
    "__Question 4:__ No, because we only know that these match for six terms. What about the terms we didn't compute? No finite list of matching terms would constitute a proof that $F$ is a solution for the recurrence relation; we would need to show that $F$ and $S$ match on _all_ terms. "
   ]
  }
 ],
 "metadata": {
  "kernelspec": {
   "display_name": "Python 3",
   "language": "python",
   "name": "python3"
  },
  "language_info": {
   "codemirror_mode": {
    "name": "ipython",
    "version": 3
   },
   "file_extension": ".py",
   "mimetype": "text/x-python",
   "name": "python",
   "nbconvert_exporter": "python",
   "pygments_lexer": "ipython3",
   "version": "3.3.5"
  }
 },
 "nbformat": 4,
 "nbformat_minor": 0
}
