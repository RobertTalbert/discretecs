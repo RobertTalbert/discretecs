{
 "cells": [
  {
   "cell_type": "markdown",
   "metadata": {},
   "source": [
    "# Guided Practice 8.1 Solutions\n",
    "\n",
    "__Question 1:__ The first 13 Fibonacci numbers are: \n",
    "\n",
    "$$1, 1, 2, 3, 5, 8, 13, 21, 34, 55, 89, 144, 233$$\n",
    "\n",
    "__Question 2:__ The recursive algorithm would proceed as follows: \n",
    "\n",
    "1. Start with `L = [a,b,c,d]`. Since `L` is nonempty, `len(L)` is `1 + len([b,c,d])`. \n",
    "2. Since `[b,c,d]` is nonempty, `len([b,c,d])` is `1 + len([c,d])`. \n",
    "3. Since `[c,d]` is nonempty, `len([c,d])` is `1 + len([d])`. \n",
    "4. Since `[d]` is nonempty, `len([d]) = 1 + len([ ])`. \n",
    "5. Since `[ ]` is empty, `len([ ]) = 0`. \n",
    "6. Therefore `len(L) = 1 + (1 + (1 + (1 + 0)))"
   ]
  },
  {
   "cell_type": "code",
   "execution_count": null,
   "metadata": {
    "collapsed": true
   },
   "outputs": [],
   "source": []
  }
 ],
 "metadata": {
  "kernelspec": {
   "display_name": "Python 3",
   "language": "python",
   "name": "python3"
  },
  "language_info": {
   "codemirror_mode": {
    "name": "ipython",
    "version": 3
   },
   "file_extension": ".py",
   "mimetype": "text/x-python",
   "name": "python",
   "nbconvert_exporter": "python",
   "pygments_lexer": "ipython3",
   "version": "3.3.5"
  }
 },
 "nbformat": 4,
 "nbformat_minor": 0
}
