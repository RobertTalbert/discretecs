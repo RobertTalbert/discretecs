{
 "cells": [
  {
   "cell_type": "markdown",
   "metadata": {
    "collapsed": false
   },
   "source": [
    "# Guided Practice 3.3 Solutions\n",
    "\n",
    "1. The propositions $p \\rightarrow q$ and $\\neg q \\rightarrow \\neg p$ are equivalent, and the propositions $\\neg p \\leftrightarrow q$ and $p \\leftrightarrow \\neg q$ are equivalent. But neither of the propositions in the first group ($p \\rightarrow q$ and $\\neg q \\rightarrow \\neg p$) is equivalent to either propositions in the second group ($\\neg p \\leftrightarrow q$ and $p \\leftrightarrow \\neg q$). Truth tables are not shown here; if you need to see those, please ask.\n",
    "\n",
    "2. Here is the truth table:\n",
    "\n",
    "| $p$ | $\\neg p$ || $p \\vee \\neg p$ |\n",
    "| :---: | :---------:|| :----------------:|\n",
    "|  1  |     0    ||        1        |\n",
    "|  0  |     1    ||        1        |\n",
    "Since the proposition is always true, it's a tautology. This makes common sense because $p \\vee \\neg p$ is saying \"either $p$ or not $p$\" -- that is, either the proposition $p$ is true or it is false. That's the case for every proposition; it's either true or false, not both and not something else.\n",
    "\n",
    ".3. Here is the truth table:\n",
    "\n",
    "| $p$ | $q$ || $p \\rightarrow q$ || $\\neg q$ | $p \\wedge \\neg q$ || $(p \\rightarrow q) \\wedge (p \\wedge \\neg q)$ |\n",
    "|:----:|:----:||:----:||:----:|:----:||\n",
    "|  1   | 1   ||  1 || 0 | 0 || 0 |\n",
    "|  1   | 0   ||  0 || 1 | 1 || 0 |\n",
    "|  0   | 1   ||  1 || 0 | 0 || 0 |\n",
    "|  0   | 0   ||  1 || 1 | 0 || 0 |\n",
    "\n",
    "Since this statement is never true, it's a contradiction. This makes sense because we are given $p \\rightarrow q$ but also $p$ and $\\neg q$. But $p \\rightarrow q$ is false precisely when $p$ and $\\neg q$ are true and vice versa, so to join $p \\rightarrow q$ and $p \\wedge \\neg q$ with \"and\" is to say that two mutually exclusive statements are simultaneously true, which is impossible.\n"
   ]
  }
 ],
 "metadata": {
  "kernelspec": {
   "display_name": "Python 2",
   "language": "python",
   "name": "python2"
  },
  "language_info": {
   "codemirror_mode": {
    "name": "ipython",
    "version": 2
   },
   "file_extension": ".py",
   "mimetype": "text/x-python",
   "name": "python",
   "nbconvert_exporter": "python",
   "pygments_lexer": "ipython2",
   "version": "2.7.9"
  },
  "name": "gp33-solutions.ipynb"
 },
 "nbformat": 4,
 "nbformat_minor": 0
}
