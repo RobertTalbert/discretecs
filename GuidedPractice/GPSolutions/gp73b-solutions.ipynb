{
 "cells": [
  {
   "cell_type": "markdown",
   "metadata": {
    "button": false,
    "deletable": true,
    "run_control": {
     "read_only": false
    }
   },
   "source": [
    "# Guided Practice 7.3b Solutions\n",
    "\n",
    "__Question 1:__ No, they are not the same because the domains are different. \n",
    "\n",
    "__Question 2:__ Composing the two in different orders: \n",
    "$$(h \\circ k)(x) = h(k(x)) = h(\\sqrt[3]{x-5}) = (\\sqrt[3]{x-5})^3 + 5 = x - 5 + 5 = x$$\n",
    "Likewise: \n",
    "$$(k \\circ h)(x) = k(h(x)) = k(x^3 + 5) = \\sqrt[3]{(x^3 + 5) - 5} = \\sqrt[3]{x^3} = x$$\n",
    "Since the compositions in both ordered gives the identity function $y = x$, it means $h$ and $k$ are inverses.\n",
    "\n",
    "__Question 3:__ \n",
    "\n",
    "+ `firstthree` is not injective, because the strings `hello` and `helicopter` would map to the same string. It is also not surjective, because a string with four letters in it would not be an output of the function. Because the function is neither injective or surjective, it does not have an inverse. \n",
    "+ `lowercase` is also neither injective nor surjective. It's not injective because `HELLO` and `hello` map to the same string. It's not surjective because strings in the codomain that have uppercase letters will not have corresponding inputs. Because the function is neither injective or surjective, it does not have an inverse. \n",
    "+ `switchcase` is _both_ injective _and_ surjective. Because of this, `switchcase` has an inverse -- and that inverse happens to be `switchcase`. "
   ]
  }
 ],
 "metadata": {
  "kernelspec": {
   "display_name": "Python 3",
   "language": "python",
   "name": "python3"
  },
  "language_info": {
   "codemirror_mode": {
    "name": "ipython",
    "version": 3
   },
   "file_extension": ".py",
   "mimetype": "text/x-python",
   "name": "python",
   "nbconvert_exporter": "python",
   "pygments_lexer": "ipython3",
   "version": "3.5.0"
  }
 },
 "nbformat": 4,
 "nbformat_minor": 0
}
