{
 "cells": [
  {
   "cell_type": "markdown",
   "metadata": {
    "button": false,
    "deletable": true,
    "new_sheet": false,
    "run_control": {
     "read_only": false
    }
   },
   "source": [
    "# MTH 225: Methods of Proof\n",
    "\n",
    "## Part 3: Proof by Contraposition\n",
    "\n",
    "### Overview \n",
    "\n",
    "In the last lesson we learned about _direct proof of conditional statements_. These are proofs of propositions of the form \"If $A$ then $B$\". Direct proofs have a distinctive structure: \n",
    "\n",
    "1. First assume the hypothesis (i.e. assume $A$ is true). \n",
    "2. Use a sequence of definitions, prior knowledge, computation, or other logical steps to rewrite and work with the statement $A$. \n",
    "3. In the end, the sequence of steps should arrive at $B$ (that is, we should conclude that $B$ is true). \n",
    "\n",
    "This lesson discusses a slight variation on the notion of direct proof. In some cases, propositions we wish to prove are given as conditional statements but as stated, it is hard to implement step 2 above -- the hypothesis may be hard to work with. But in some of those cases, the __contrapositive__ of the statement might be easier to work with. Since a conditional statement and its contrapositive are logically equivalent, proving one will prove the other. Taking a conditional statement and providing a direct proof of its contrapositive is called __proof by contraposition__ and this is the subject of this lesson. \n",
    "\n",
    "### Learning Objectives \n",
    "\n",
    "__Basic:__\n",
    "\n",
    "+ Given a conditional statement, state its contrapositive. \n",
    "+ State the assumption and desired conclusion of a proof by contraposition of a conditional statement. \n",
    "+ Identify situations in which proving the contrapositive of a statement might be easier or clearer than proving the statement itself. \n",
    "\n",
    "__Advanced:__\n",
    "\n",
    "+ Critique a complete proof by contraposition, finding all errors and points at which it could be improved. \n",
    "+ Construct a complete and correct proof by contraposition of a conditional statement. \n",
    "\n",
    "### Background\n",
    "\n",
    "Recall that the __contrapositive__ of the conditional statement $p \\rightarrow q$ is the statement \n",
    "$$ \\neg q \\rightarrow \\neg p$$\n",
    "Back in the Logic unit we proved, using a truth table, that $p \\rightarrow q$ is logically equivalent to its contrapositive. Therefore if we are given a conditional statement to prove, we could prove its contrapositive instead and it would constitute a proof of the original statement. \n",
    "\n",
    "Why would anybody ever do this? Why not just use a direct proof like we learned last time? Well, consider the following conditional statement as an example: \n",
    "\n",
    ">For all integers $n$, if $n^2$ is odd, then $n$ is odd. \n",
    "\n",
    "First let's check that this statement actually is true. This code snippet runs $n$ from 1 to 20 and if $n^2$ is odd, it prints off $n^2$ and $n$ side by side. You can alter any part of the code you wish. "
   ]
  },
  {
   "cell_type": "code",
   "execution_count": 4,
   "metadata": {
    "button": false,
    "collapsed": false,
    "deletable": true,
    "new_sheet": false,
    "run_control": {
     "read_only": false
    }
   },
   "outputs": [
    {
     "name": "stdout",
     "output_type": "stream",
     "text": [
      "1 1\n",
      "9 3\n",
      "25 5\n",
      "49 7\n",
      "81 9\n",
      "121 11\n",
      "169 13\n",
      "225 15\n",
      "289 17\n",
      "361 19\n"
     ]
    }
   ],
   "source": [
    "for n in range(1, 20):\n",
    "    if (n**2) % 2 == 1:\n",
    "        print(n**2, n)"
   ]
  },
  {
   "cell_type": "markdown",
   "metadata": {
    "run_control": {}
   },
   "source": [
    "So the proposition seems legit -- whenever $n^2$ is odd in the left column, $n$ itself is odd in the right column. But as we've seen, this doesn't constitute a proof because it doesn't check _all positive integers_. \n",
    "\n",
    "However, since this is a conditional statement, we have seen a method of proof in the form of a _direct proof_. Let's break down how a direct proof would go: \n",
    "\n",
    "1. First assume the hypothesis, so suppose $n$ is an integer such that $n^2$ is odd. \n",
    "2. Next it helps to state what we are going to prove: We would like to prove that $n$ is odd. \n",
    "3. Now we should use definitions, prior knowledge, etc. to work forward from the hypothesis. Well... we assumed that $n^2$ is odd. So that means there exists an integer $k$ such that $n^2 = 2k + 1$. \n",
    "\n",
    "At this point things get a little tricky. We are trying to conclude something about $n$, namely that $n$ is odd. But how are we going to get from $n^2 = 2k+1$, to saying something about $n$? The only obvious route is to take the square root of both sides: \n",
    "$$n = \\sqrt{2k+1}$$\n",
    "but this is really inconclusive -- $\\sqrt{2k+1}$ need not even be an _integer_, much less an odd integer. It seems like a dead end to try to work forward from here to show $n$ is odd, and there are no other obvious routes to take. \n",
    "\n",
    "This is where the contrapositive might be handy. The contrapositive of the statement we're asked to prove is\n",
    "\n",
    ">For all integers $n$, if $n$ is even, then $n^2$ is even. \n",
    "\n",
    "This is a much simpler statement to prove, and it's logically equivalent to the original statement that we got stuck on, because every conditional statement is logically equivalent to its contrapositive. In fact we already proved this in Part 2 of this unit! So go back and review that proof to see how simple it is. \n",
    "\n",
    "A proof by contraposition is still a direct proof and it uses the same overall framework as we saw in Part 2. It's just a direct proof of a different, but logicalyl equivalent statement. \n",
    "\n",
    "Proofs by contraposition are often very useful when proving a proposition that is phrased \"in the negative\" -- for example if you are trying to prove that two things are _not_ equal, or that something _does not exist_, or something _fails to have_ a certain property. Example: \n",
    "\n",
    "__Theorem:__ Suppose $x,y \\in \\mathbb{Z}$. If $5$ does not divide $xy$, then $5$ does not divide $x$ and $5$ does not divide $y$. \n",
    "\n",
    "__Proof:__ We will prove the contrapositive instead, which says: \n",
    "\n",
    ">If $5$ divides $x$ or $5$ divides $y$, then $5$ divides $xy$. \n",
    "\n",
    "_[Question for you: Why is it an \"or\" in the contrapositive?]_ So we will proceed with a direct proof of this statement. To this end, first assume that either $5$ divides $x$ or $5$ divides $y$. We are assuming that one of two possible cases is true, so take the proof one case at a time. \n",
    "\n",
    "__Case 1: $5$ divides $x$.__ In this case, there is an integer $q$ such that $x = 5q$. We want to show that $5$ divides $xy$, so substitute $x = 5q$ into $xy$ to get $xy = 5qy$. Since $q$ and $y$ are integers, so is $qy$; therefore $xy = 5(qy)$ which shows that $xy$ is an integer multiple of $5$. Hence $5$ divides $xy$ which was what we wanted to show. \n",
    "\n",
    "__Case 2: $5$ divides $y$.__ In this case, there is an integer $q'$ such that $y = 5q'$. We want to show that $5$ divides $xy$, so substitute $y = 5q'$ into $xy$ to get $xy = x(5q')$. The commutatitive and associate properties of multiplication allow us to rearrange the right-hand side to $5(xq')$. Since $q'$ and $x$ are integers, so is $xq'$; therefore $xy = 5(xq')$ which shows that $xy$ is an integer multiple of $5$. Hence $5$ divides $xy$ which was what we wanted to show. \n",
    "\n",
    "We have proven the result in both possible cases, so the proof is done. $\\square$\n",
    "\n",
    "### Video supplements\n",
    "\n",
    "For more direct instruction, here are some videos on this subject: \n",
    "\n",
    "+ [Proof by contraposition](https://youtu.be/hAFpc9abNFc) (6:49) \n",
    "+ [Proof by contraposition part 2](https://youtu.be/3ORYou8dc0s) (6:47) \n",
    "\n",
    "### Exercises \n",
    "\n",
    "For questions 1--4, consider the statement: For all $a,b \\in \\mathbb{Z}$ and $n \\in \\mathbb{P}$, if $n$ does not divide $12a - 12b$ then $n$ does not divide $12$. \n",
    "\n",
    "1. Which would you use in a proof of this statement: Direct proof, or proof by contrapositive? Why? \n",
    "2. If you were to use a proof by contrapositive, what would be the initial assumption(s) you would make? Clearly state all assumptions. \n",
    "3. If you were to use a proof by contrapositive, what would you wish to prove, having made the initial assumptions? \n",
    "4. What would be a \"forward\" step you could take in a proof by contrapositive, having made the initial assumptions? \n",
    "5. _(This question does not pertain to the statement you were examining in questions 1--4.)_ At the submission form are several mathematical propositions. For each one, determine whether a _direct proof_ or a _proof by contraposition_ would be the more appropriate method to use. Be ready to discuss your reasoning in class. \n",
    "\n",
    "### Submission \n",
    "\n",
    "Put in your answers to the exercises here: http://bit.ly/1GQUGlK"
   ]
  },
  {
   "cell_type": "code",
   "execution_count": null,
   "metadata": {
    "collapsed": true,
    "run_control": {}
   },
   "outputs": [],
   "source": []
  }
 ],
 "metadata": {
  "kernelspec": {
   "display_name": "Python 3",
   "language": "python",
   "name": "python3"
  },
  "language_info": {
   "codemirror_mode": {
    "name": "ipython",
    "version": 3
   },
   "file_extension": ".py",
   "mimetype": "text/x-python",
   "name": "python",
   "nbconvert_exporter": "python",
   "pygments_lexer": "ipython3",
   "version": "3.5.0"
  }
 },
 "nbformat": 4,
 "nbformat_minor": 0
}
