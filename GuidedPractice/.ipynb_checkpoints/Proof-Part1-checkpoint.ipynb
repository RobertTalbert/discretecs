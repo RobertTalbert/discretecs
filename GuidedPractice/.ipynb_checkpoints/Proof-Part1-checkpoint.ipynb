{
 "cells": [
  {
   "cell_type": "markdown",
   "metadata": {
    "button": false,
    "deletable": true,
    "new_sheet": false,
    "run_control": {
     "read_only": false
    }
   },
   "source": [
    "# MTH 225: Methods of Proof\n",
    "\n",
    "## Part 1: How mathematical knowledge is created \n",
    "\n",
    "### Overview \n",
    "\n",
    "You may not realize it, but mathematics is a rapidly-evolving and fast-expanding subject in which new knowledge is being discovered every day. How do mathematicians discover new knowledge and then add it to the overall knowledge base of the discipline? The answer to this question, which we will be exploring in eight separate lessons over the next few weeks, will center on three main activities: \n",
    "\n",
    "1. Making observations about quantitative phenomena, especially using computers to explore those phenomena; then \n",
    "2. Trying to discern patterns within our observations that lead us to make _conjectures_ about what we are seeing; and finally\n",
    "3. Making _arguments_ to explain why the patterns we observe don't depend on the specific observations we made. These arguments are called _proofs_. \n",
    "\n",
    "Mathematical proofs are the basic currency in which mathematical knowledge is expressed, and an understanding of methods of proof is an essential component of every computer scientist's intellectual arsenal. \n",
    "\n",
    "In Part 1 of this unit, you will look at the first two steps of this process, using computation to gather data and then using our brains to look for patterns in the data. Then you'll explore what a mathematical proof is, and what _isn't_ a mathematical proof, before we delve into specific proof methods in later parts. \n",
    "\n",
    "### Learning Objectives for Part 1\n",
    "\n",
    "__Basic learning objectives:__\n",
    "\n",
    "+ Explain the four phases of _computational thinking_.\n",
    "+ Use a computer to generate data related to a specific mathematical question. \n",
    "+ Make a reasonable conjecture about patterns within data. \n",
    "+ Make a preliminary judgment about the truth of a conjecture -- deciding the conjecture is false by finding a specific counterexample, or deciding that the conjecture is possibly true. \n",
    "+ Explain why a list of examples cannot serve as a proof to a general mathematical proposition. \n",
    "\n",
    "__Advanced learning objectives:__\n",
    "\n",
    "+ Critique mathematical conjectures on the basis of clarity and accuracy and suggest improvements.\n",
    "+ Explain the _Specifications for Student Work_ requirements for correct mathematical proofs. \n",
    "\n",
    "\n",
    "### Background reading and/or viewing\n",
    "\n",
    "#### Computational Thinking\n",
    "\n",
    "_Computational thinking_ refers to a way of approaching problem-solving that involves four phases: \n",
    "\n",
    "1. _Decomposition_ of the problem: Breaking down the problem into simpler parts, or perhaps collecting example data on the problem. \n",
    "2. _Pattern recognition_: Observing patterns and regularities in the data and the parts of the problem. \n",
    "3. _Abstraction_: Identifying the general principles at work in your observations that unify and tie together all the data. \n",
    "4. _Algorithm design_: Devising a process for solving the problem and others like it. In a coding problem, this looks like a computer algorithm or a code project. In mathematics, this can be an algorithm or a rigorous mathematical explanation that uses sound logic and does not depend on specific data. \n",
    "\n",
    "Let's engage in some computational thinking by playing with a particular problem. \n",
    "\n",
    "__Question:__ The _Fibonacci sequence_ is the following sequence of integers: \n",
    "$$1, 1, 2, 3, 5, 8, 13, 21, 34, 55, 89, \\dots$$\n",
    "The rule for generating this sequence is the following: The first two elements of the sequence are 1 and 1. Then every element starting at the third one is the sum of the previous two. Based on this definition, which of the Fibonacci numbers are even? \n",
    "\n",
    "To help us play with the Fibonacci numbers, here is a Python function that will generate the $n$th Fibonacci number. If you are viewing this document as a Jupyter or iPython notebook (for example, in SageMath Cloud) put your cursor in the code block and execute it. You can change the `n` on the last line to calculate other Fibonacci numbers. (For example, `f(10)` would compute the 10th Fibonacci number. If you are not viewing this in a way that lets you run the code, you can copy and paste the code into a Sage cell at [https://sagecell.sagemath.org/](https://sagecell.sagemath.org/) and then run it. "
   ]
  },
  {
   "cell_type": "code",
   "execution_count": 14,
   "metadata": {
    "button": false,
    "collapsed": false,
    "deletable": true,
    "new_sheet": false,
    "run_control": {
     "read_only": false
    }
   },
   "outputs": [
    {
     "data": {
      "text/plain": [
       "3"
      ]
     },
     "execution_count": 14,
     "metadata": {},
     "output_type": "execute_result"
    }
   ],
   "source": [
    "def f(n):  # Computes the nth Fibonacci number. \n",
    "    a, b = 1, 1\n",
    "    for i in range(1, n):\n",
    "        a, b = b, a + b\n",
    "    return a\n",
    "\n",
    "f(4)   # This is the 4th number in the list of Fibonacci numbers. "
   ]
  },
  {
   "cell_type": "markdown",
   "metadata": {
    "run_control": {}
   },
   "source": [
    "Let's look at how we might approach this problem using computational thinking. \n",
    "\n",
    "_Decomposition:_ Of the Fibonacci numbers in the sample list above, which ones are even? (This is decomposition because it's taking a more general question, \"Which Fibonacci numbers are even?\", and breaks it down into the same question but in a simpler setting, \"Which Fibonacci numbers _in the short list_ are even?\") __Answer:__ That would be 2, 8, and 34. \n",
    "\n",
    "_Pattern recognition:_ Do you notice any patterns or regularities in your observations? __Answer:__ There could be more than one thing to notice, but I noticed that the even ones appear very regularly -- the third, sixth, and ninth elements in the list are even. \n",
    "\n",
    "_Abstraction:_ Can you identify a general principle at work that would unify and express the pattern you're seeing? __Answer:__ Based on the evidence, I would guess that __every third Fibonacci number is even__. \n",
    "\n",
    "A few remarks about the step just completed: \n",
    "\n",
    "1. The statement \"Every third Fibonacci number is even\" is an \"abstraction\" in the sense that __it doesn't refer to just a list of examples__. It not only explains the examples we do have, it predicts the examples we _don't_ have. We say that the statement is _general_ (as opposed to \"specific\"). \n",
    "2. A general mathematical statement that attempts to give precise phrasing to an abstraction of our observations is called a __conjecture__. \n",
    "3. __Just because I noticed a pattern among my data and made a nice conjecture about it, doesn't mean that my conjecture is true.__ There could very well be a Fibonacci number that my conjecture would _predict_ would be even, that turns out not to be. I know that the third, sixth, and ninth Fibonacci numbers are even and my conjecture predicts that the 12th, 15th, etc. will be even as well -- but we do not _know_ this will be the case with just a handful of examples. Even if I extended the list out to include the first 1000 Fibonacci numbers and noticed that every third one of that 1000-element list is even, this would not be sufficient to establish the truth of the conjecture. This is because the conjecture states that __every__ third Fibonacci number is even. A finite list of examples will never prove that the pattern persists throughout __all__ the Fibonacci numbers. We need something more, at this point, than just a long list of examples. \n",
    "4. Here is a slightly more mathematically precise way of phrasing my conjecture: __If $n = 3k$ for some positive integer $k$, then $f(n)$ is even.__ It's more precise because it states what we mean by \"every third Fibonacci number\". Here's another: __The Fibonacci number $f(3k)$ is even for all $k \\in \\mathbb{P}$.__ Do any of these look better to you than the others? What are the tradeoffs of using more precision in the conjecture statement? \n",
    "\n",
    "The third point above is worth reiterating: __A finite list of examples, no matter how lengthy, will never prove beyond a doubt that a mathematical conjecture is true if the conjecture refers to an infinite list or set.__ \n",
    "\n",
    "However: After making an abstract conjecture, it's good practice to __test it__ to see if it predicts things correctly. For example, use the code cell below to see if the conjecture seems to work. For example, try `f(12)`. What other numbers could you plug in? "
   ]
  },
  {
   "cell_type": "code",
   "execution_count": 17,
   "metadata": {
    "collapsed": false
   },
   "outputs": [
    {
     "data": {
      "text/plain": [
       "144"
      ]
     },
     "execution_count": 17,
     "metadata": {},
     "output_type": "execute_result"
    }
   ],
   "source": [
    "f(12)"
   ]
  },
  {
   "cell_type": "markdown",
   "metadata": {
    "run_control": {}
   },
   "source": [
    "(Note that you need to execute the code block above in which `f` is defined before this code block will execute. If you are viewing this in a non-interactive environment, use the code block above in a Sage Cell.) \n",
    "\n",
    "If we happened to find a multiple of 3 that we plugged in and _didn't_ get an even number out, then the conjecture is __definitely false__ because we would have found a __counterexample__. Finding a counterexample often means \"back to the drawing board\" but other times it means that our conjecture is too broad -- there needs to be a restriction or condition added to the conjecture to make it true. However, in this case you should be finding (as long as you are plugging in the right numbers) that the conjecture holds up. \n",
    "\n",
    "However, again: __Just because the conjecture holds up for a bunch of test cases, does not mean the conjecture is always true.__ Because maybe we just picked good test cases; or the counterexample to the conjecture is one more test case away. \n",
    "\n",
    "The last step in computational thinking is _algorithm design_. We won't dwell on that here -- that's what the other seven lessons are for -- but in this stage we would want to find __some way of explaining exactly why every third Fibonacci number will be even__. Such an explanation -- a convincing and persuasive argument that explains exactly why a general, abstracted conjecture is always true -- is called a __proof__. \n",
    "\n",
    "### Exercises \n",
    "\n",
    "Work through these exercises and put your results on the submission form linked below. Again, if you are viewing this notebook in an interactive environment, you can play with the code directly. Otherwise copy and paste into a Sage worksheet or Sage Cell.\n",
    "\n",
    "1. Use the computer code in this document to generate a list of the first 20 Fibonacci numbers. Paste the result into the submission form for this item. It needs to be in the form of a list: `[1,1,2,3,5]` would be a list of the first five. \n",
    "2. Which of the Fibonacci numbers are divisible by 3? Come up with a conjecture that answers this question in generality -- that is, it's an abstract statement that explains the examples you have and predicts the examples you don't have yet. \n",
    "3. Which of the Fibonacci numbers are prime numbers? Come up with a conjecture that answers this question in generality -- that is, it's an abstract statement that explains the examples you have and predicts the examples you don't have yet. It might be helpful to have this list of prime numbers handy: https://primes.utm.edu/lists/small/1000.txt\n",
    "4. Go back to the conjecture that every third Fibonacci number is even. Suppose someone gave you the following code. This Python function takes in a number `k` and checks through each Fibonacci number in a multiple-of-3 position to see if that number is even. For example, `evenFibCheck(10)` goes through the Fibonacci numbers in positions 3, 6, 9, 12, 15, 18, 21, 24, 27, and 30 and checks for evenness. If every number in a multiple-of-3 position even, it prints a message to this effect. If it finds a number in such a position that's odd -- i.e. if it finds a counterexample to the conjecture -- it prints a message to that effect as well. You can play with the code below, specifically by changing the `10` in `f(10)` to a different integer. "
   ]
  },
  {
   "cell_type": "code",
   "execution_count": 25,
   "metadata": {
    "collapsed": true,
    "run_control": {}
   },
   "outputs": [],
   "source": [
    "def evenFibCheck(k):\n",
    "    allEven = True\n",
    "    for i in range(1,k):\n",
    "        if f(3*i) % 2 != 0: # If the remainder obtained when dividing by 2 is 1, it's odd. \n",
    "            allEven = False\n",
    "    if allEven:\n",
    "        print('Every element of the list of third Fibonacci numbers up to your cutoff is even.')\n",
    "    else:\n",
    "        print('We found a Fibonacci number in an every-third position that was odd.')\n",
    "        \n",
    "evenFibCheck(10)"
   ]
  },
  {
   "cell_type": "markdown",
   "metadata": {
    "run_control": {}
   },
   "source": [
    "So this code allows you to check the conjecture for truth up to any distance in the list of Fibonacci numbers you wish. _Question:_ Can this code be used to prove the conjecture? "
   ]
  },
  {
   "cell_type": "markdown",
   "metadata": {
    "run_control": {}
   },
   "source": [
    "### Submission\n",
    "\n",
    "Submit your responses at the form located at: http://bit.ly/1jmFAzy"
   ]
  }
 ],
 "metadata": {
  "kernelspec": {
   "display_name": "Python 3",
   "language": "python",
   "name": "python3"
  },
  "language_info": {
   "codemirror_mode": {
    "name": "ipython",
    "version": 3
   },
   "file_extension": ".py",
   "mimetype": "text/x-python",
   "name": "python",
   "nbconvert_exporter": "python",
   "pygments_lexer": "ipython3",
   "version": "3.5.0"
  }
 },
 "nbformat": 4,
 "nbformat_minor": 0
}
