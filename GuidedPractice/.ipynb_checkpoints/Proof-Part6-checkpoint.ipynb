{
 "cells": [
  {
   "cell_type": "markdown",
   "metadata": {
    "button": false,
    "deletable": true,
    "new_sheet": false,
    "run_control": {
     "read_only": false
    }
   },
   "source": [
    "# MTH 225: Methods of Proof \n",
    "\n",
    "## Part 6: Mathematical Induction 1\n",
    "\n",
    "### Overview \n",
    "\n",
    "Our final topic in mathematical proof techniques is arguably the most important and common proof technique used in computer science, the technique of _mathematical induction_. Proof by mathematical induction is a technique used when trying to prove that a [predicate](https://en.wikipedia.org/wiki/Predicate_(mathematical_logic), whose domain is the set of natural numbers, is true. Our treatment of mathematical induction comes in two parts. This part will introduce you to the concept of induction, the structure of an induction proof, and baby steps at constructing a proof by induction. The second part will focus more on the analysis and construction of induction proofs in various contexts. \n",
    "\n",
    "### Learning Objectives \n",
    "\n",
    "__Basic:__\n",
    "\n",
    "+ Explain the overall strategy of a proof by induction. \n",
    "+ Determine the base case for a proof by induction and then prove that the base case holds. \n",
    "+ State the induction hypothesis that would be used in a proof by induction. \n",
    "+ State the proposition that needs to be proven in a proof by mathematical induction, following the induction hypothesis. \n",
    "\n",
    "__Advanced:__\n",
    "\n",
    "+ Outline and write a draft of a proof by mathematical induction for a simple proposition involving sums or inequalities. \n",
    "\n",
    "\n",
    "### Background\n",
    "\n",
    "Let's suppose I gave you the following way of defining a sequence of integers: \n",
    "\n",
    "+ The first integer in this sequence is 1. \n",
    "+ The second integer in this sequence is 3. \n",
    "+ Each integer in this sequence, from the third one on, is defined to be __the sum of the previous two integers__. \n",
    "\n",
    "So the sequence is $1, 3, 4, 7, 11, 18, 29, 47, \\dots$. \n",
    "\n",
    "Now let's suppose I wanted to test you, to see if you really understood that sequence and how it works. I would like for you to _prove_ to me that you understand this sequence. How would you do that? Here are two possibilities. \n",
    "\n",
    "One possibility is this: I call you into the office and have you start listing the elements of the sequence in order, starting at the beginning and continuing until you have listed them all. Then I'll be happy. Except I won't be happy, because there are infinitely many numbers in the sequence and you and I will both be dead long before you get to \"the end\" of the sequence. \n",
    "\n",
    "Fortunately, I didn't say I needed to _see_ the entire sequence. I just need to be convinced that you _know how_ to write the entire sequence, and there are other ways to provide conclusive proof of your abilities without actually writing the entire list. \n",
    "\n",
    "So here are two questions for you. Cover up everything above this sentence and see if you can answer. \n",
    "\n",
    "1. What are the first two elements of the sequence? \n",
    "2. Here are the third through eighth elements of the sequence. Fill in the blank at the end: 3, 4, 7, 11, 18, 29, 47, ____. \n",
    "\n",
    "So, if you were able to answer both of those questions correctly, then it would demonstrate that you understand this sequence and how it works because \n",
    "\n",
    "+ You know how the sequence _begins_, and \n",
    "+ If I assume that you know the first eight elements of the sequence, you have proven you know how to get to the next one. \n",
    "\n",
    "If you can demonstrate knowledge of just these two points, it proves that you could generate _the entire sequence_ if you needed to. Here's why: If you could answer the first question correctly, then you know the sequence starts with 1 and 3. So you can get the sequence started. Then if you could answer the second question correctly, you know that the ninth element in the list is the eighth plus the seventh -- and generally speaking you know that an element of the sequence is the sum of the two that came before it. \n",
    "\n",
    "Putting that knowledge together means that you could take your starting points for the sequence -- 1 and 3 -- and get the third one, 4. Then you can get the fourth one, 7. Then you could get the fifth one, 11. And so on. If you can prove that you know __how to get started__ and then __how to go from one arbitrary point in the sequence to the next__ then this is enough to create the whole sequence. And it doesn't take infinite time. \n",
    "\n",
    "This is the essential structure of a __proof by mathematical induction__. Proof by mathematical induction is a technique of proof that is typically used when trying to prove that a predicate is true for all positive integers. Remember a _predicate_ is a function that takes in a variable and produces `True` or `False` as a result. Here's an example: \n",
    "\n",
    ">Let $P(n)$ be the predicate (whose universal set is $\\mathbb{P}$) that states that $n^2 \\geq 2^n$. \n",
    "\n",
    "This is a predicate because it has no definite truth value until we plug in a value for the variable. If we do plug in a value, we get not a predicate but a _proposition_ that has a definite truth value. For example, if we plug in $n = 5$, we get the proposition $5^2 \\geq 2^5$. Note that this is a `False` statement. On the other hand if we plug in $n=4$, we get $4^2 \\geq 2^4$, which is a `True` statement. \n",
    "\n",
    "So, predicates can be true for some variable values and false for others. That's what makes them predicates. What about predicates that seem to be _always_ true? For example, check out the predicate $Q(n)$ whose universal set is again equal to $\\mathbb{P}$ that states that: \n",
    "\n",
    ">$Q(n)$ is the statement that $1 + 2 + 3 + 4 + \\cdots + n = \\frac{n(n+1)}{2}$.\n",
    "\n",
    "Let's plug in $n=2$ and see if the statement is true. Plugging in $n=2$ gives us: \n",
    "$$1 + 2 = \\frac{2(2+1)}{2}$$\n",
    "Just because there's an = sign doesn't mean that this equation is `True`. To know whether this equation is `True` we need to evaluate the left side and the right side independently and see if they really are equal. Well, \n",
    "\n",
    "+ The left side evaluates to $1 + 2 = 3$. \n",
    "+ The right side evaluates to $\\frac{2(2+1)}{2} = \\frac{6}{2} = 3$. \n",
    "\n",
    "These are equal, of course, so $Q(2)$ is `True`. \n",
    "\n",
    "Is $Q(n)$ ever false? Let's run some code to experiment. Run the block below (you'll need to upload this file to SageMath Cloud, or copy the code and put it in a Sage or Jupyter notebook in SMC, to run it -- or write your own in your favorite language) and it will do the calcuations for us. Change the \"20\" in the `for` loop to any positive integer you want. "
   ]
  },
  {
   "cell_type": "code",
   "execution_count": null,
   "metadata": {
    "button": false,
    "collapsed": false,
    "deletable": true,
    "new_sheet": false,
    "run_control": {
     "read_only": false
    }
   },
   "outputs": [],
   "source": [
    "for n in range(1,20):\n",
    "    left_hand_side = sum(range(1,n+1))  # Sum of 1, 2, ..., n. \n",
    "    right_hand_side = (n*(n+1))/2\n",
    "    print(\"Left hand side = %d, Right hand side = %d\" % (left_hand_side, right_hand_side)) "
   ]
  },
  {
   "cell_type": "markdown",
   "metadata": {
    "run_control": {}
   },
   "source": [
    "So it certainly _looks_ like $Q(n)$ is true for all positive integers. Of course this list of examples is nothing more than moral support for this idea -- we cannot definitively prove that a predicate is true for _all_ positive integers by proving it is true for _some_ positive integers. __A finite list of examples is not a proof.__ \n",
    "\n",
    "We need a proof, but our usual methods of proof (direct, contrapositive, contradiction) don't apply here because we're not proving a conditional statement! So we turn to a new technique. __Mathematical induction__ is that technique, and like direct proof it follows a distinct framework of logic. \n",
    "\n",
    "In mathematical induction, we assume we are trying to prove that a predicate $P(n)$ is true for all positive integers. (We'll modify this later, for predicates that appear to be true for a subset of the positive integers.) \n",
    "\n",
    "1. First we prove that the predicate is true for the initial case. That is, prove $P(1)$ is true. The proposition $P(1)$ is called the __base case__. \n",
    "2. Then we _assume that the predicate is true_ for some arbitrary positive integer, $k$. We always make certain assumptions in proofs, and this is the assumption we make for an induction proof. It is referred to as the __induction hypothesis__. \n",
    "3. Having assumed the induction hypothesis, we then _prove that the predicate is true for the next case_, that is, prove $P(k+1)$ is true. \n",
    "\n",
    "This should sound like the oral exam for earlier, about the integer sequence. To prove to me you understood that sequence, you had to tell me how the sequence started (the base case), and then assuming you knew the first eight elements in the sequence (induction hypothesis), you then show me you can get the ninth element. \n",
    "\n",
    "At this point it's time to see mathematical induction in action, so here are videos to watch and follow along with. The videos will go into depth on the actual practice of outlining and constructing a proof by induction, and include numerous examples, so make sure to watch and take notes and ask questions. \n",
    "\n",
    "### Video \n",
    "\n",
    "This is a lot of video. But you're not expected to watch all of it right now, and it's better have more than you need than less than you need. __Definitely watch the first four now__, then try the exercise, then come back and sample from the rest. \n",
    "\n",
    "+ [The Traveler and the Strange Staircase](https://youtu.be/9LwAtbXSB3A) (3:18)\n",
    "+ [Mathematical induction, part 1](https://www.youtube.com/watch?v=JTj6ID4-084) (5:22)\n",
    "+ [Mathematical induction, part 2](https://www.youtube.com/watch?v=1H0gg3fMYVA) (6:16)\n",
    "+ [Mathematical induction: Example with integer division](https://www.youtube.com/watch?v=ayX6PxB3z40&list=PL2419488168AE7001&index=55) (7:05)\n",
    "+ [Mathematical induction: Example with inequality](https://www.youtube.com/watch?v=upzROTcbAnk&list=PL2419488168AE7001&index=56) (4:45)\n",
    "+ [Mathematical induction: Example with calculus](https://www.youtube.com/watch?v=GQ9fUZxmN8I&list=PL2419488168AE7001&index=57) (8:27)\n",
    "+ [The Extended Principle of Mathematical Induction](https://www.youtube.com/watch?v=9PMvJn-J608&list=PL2419488168AE7001&index=58) (9:16)\n",
    "+ [Extended Principle of Mathematical Induction: Example from computational geometry](https://www.youtube.com/watch?v=Z9sYIWHIvNc&list=PL2419488168AE7001&index=59) (7:56)\n",
    "\n",
    "### Exercises\n",
    "\n",
    "Consider the predicate from above: \n",
    "\n",
    "$$1 + 2 + 3 + \\cdots + n = \\frac{n(n+1)}{2}$$\n",
    "\n",
    "We suspect this predicate is true for all $n$, so let's outline a proof by mathematical induction. \n",
    "\n",
    "1. Give a precise statement of the _base case_ in a proof by mathematical induction. \n",
    "2. Is the base case true? Explain how you know. \n",
    "3. Give a precise statement of the _induction hypothesis_ that would be assumed in a proof by induction. Make sure to get the quantifier exactly right. \n",
    "4. Once you've assumed the induction hypothesis, what would you then go on to prove to complete the proof by induction? You don't need to actually prove this statement, just state it. \n",
    "\n",
    "Submit your work here: [http://bit.ly/1NGllqp](http://bit.ly/1NGllqp)"
   ]
  }
 ],
 "metadata": {
  "kernelspec": {
   "display_name": "Python 3",
   "language": "python",
   "name": "python3"
  },
  "language_info": {
   "codemirror_mode": {
    "name": "ipython",
    "version": 3
   },
   "file_extension": ".py",
   "mimetype": "text/x-python",
   "name": "python",
   "nbconvert_exporter": "python",
   "pygments_lexer": "ipython3",
   "version": "3.4.3"
  }
 },
 "nbformat": 4,
 "nbformat_minor": 0
}
