{
 "cells": [
  {
   "cell_type": "code",
   "execution_count": null,
   "metadata": {
    "collapsed": false
   },
   "outputs": [],
   "source": [
    "# Sample 1\n",
    "\n",
    "for a in range(1, 10):\n",
    "    for b in range(1,10):\n",
    "        for c in range(1,10):\n",
    "            if (b*c % a == 0) and (b % a != 0 and c % a != 0):\n",
    "                print(\"The proposition is false with counterexample a = %d, b = %d, c = %d.\" % (a,b,c))\n",
    "            "
   ]
  },
  {
   "cell_type": "code",
   "execution_count": null,
   "metadata": {
    "collapsed": false
   },
   "outputs": [],
   "source": [
    "# Sample 2\n",
    "\n",
    "for n in range(2, 50):\n",
    "    inequality_holds = 2**n > 1+n\n",
    "    print(\"For n = %d, the proposition is %s.\" % (n, inequality_holds))"
   ]
  },
  {
   "cell_type": "code",
   "execution_count": null,
   "metadata": {
    "collapsed": false
   },
   "outputs": [],
   "source": [
    "# Sample 3 -- Hard to check iteratively, so here are a couple of irrational numbers, and\n",
    "# let's multiply by integers to see what happens. \n",
    "\n",
    "irrational_1 = sqrt(2)\n",
    "irrational_2 = exp(1)  # The number \"e\"\n",
    "\n",
    "# Now multiply by a range of integers \n",
    "\n",
    "for m in range(0,6):\n",
    "    print(m*irrational_1)\n",
    "    print(m*irrational_2)"
   ]
  }
 ],
 "metadata": {
  "kernelspec": {
   "display_name": "Sage 6.9",
   "language": "",
   "name": "sage_6_9"
  },
  "language_info": {
   "codemirror_mode": {
    "name": "ipython",
    "version": 2
   },
   "file_extension": ".py",
   "mimetype": "text/x-python",
   "name": "python",
   "nbconvert_exporter": "python",
   "pygments_lexer": "ipython2",
   "version": "2.7.9"
  }
 },
 "nbformat": 4,
 "nbformat_minor": 0
}
