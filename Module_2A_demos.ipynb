{
  "nbformat": 4,
  "nbformat_minor": 0,
  "metadata": {
    "colab": {
      "name": "Module 2A demos.ipynb",
      "provenance": [],
      "authorship_tag": "ABX9TyO8mVfkmQehDJIBcLXYV94K",
      "include_colab_link": true
    },
    "kernelspec": {
      "name": "python3",
      "display_name": "Python 3"
    }
  },
  "cells": [
    {
      "cell_type": "markdown",
      "metadata": {
        "id": "view-in-github",
        "colab_type": "text"
      },
      "source": [
        "<a href=\"https://colab.research.google.com/github/RobertTalbert/discretecs/blob/master/Module_2A_demos.ipynb\" target=\"_parent\"><img src=\"https://colab.research.google.com/assets/colab-badge.svg\" alt=\"Open In Colab\"/></a>"
      ]
    },
    {
      "cell_type": "markdown",
      "metadata": {
        "id": "TKmuXeG7tBHi",
        "colab_type": "text"
      },
      "source": [
        "# The shift (Caesar) cipher \n"
      ]
    },
    {
      "cell_type": "markdown",
      "metadata": {
        "id": "TQ-GhZbHjaHE",
        "colab_type": "text"
      },
      "source": [
        "## Background \n",
        "\n",
        "- Words and other text objects are called \"strings\"\n",
        "- Strings are lists of characters. If `s` is a string then `s[i]` is the i-th character, e.g. if `x = \"Hello\"` then `x[0] = \"H\"`, `x[2] = \"l\"`\n",
        "- If `char` is a single character, `char.isupper()` returns `TRUE` if it's uppercase, `FALSE` otherwise \n",
        "- Keyboard characters are [represented in a computer using ASCII](https://www.w3schools.com/charsets/ref_html_ascii.asp) See also http://www.unit-conversion.info/texttools/ascii/ \n",
        "- `ord(c)` returns the ASCII decimal number for the character `c`; `chr(n)` does the opposite (takes an integer, returns the character) \n",
        "- For any Python string or list `L` the `+` operator means \"add to the end of the list\". For example `hello ` + `world` = `hello world`. The symbol `+=` means \"add to the list and set equal to the result\". \n",
        "\n",
        "**Credit**: This code was found at https://www.tutorialspoint.com/cryptography_with_python/cryptography_with_python_caesar_cipher.htm. "
      ]
    },
    {
      "cell_type": "code",
      "metadata": {
        "id": "V6XipZWVltOb",
        "colab_type": "code",
        "colab": {}
      },
      "source": [
        "# NOTE: Both the encrypt and decrypt functions below only work on lower-case letters. \n",
        "\n",
        "def encrypt(text,s):\n",
        "  # Start with empty string as the ciphertext\n",
        "  result = \"\"\n",
        "\n",
        "  # go through each letter in the plain text, pop off the letter, and encrypt \n",
        "  for i in range(len(text)):\n",
        "      char = text[i]\n",
        "      result += chr((ord(char) + s - 97) % 26 + 97)\n",
        "        \n",
        "  return result"
      ],
      "execution_count": 18,
      "outputs": []
    },
    {
      "cell_type": "code",
      "metadata": {
        "id": "x2II2NEnlesd",
        "colab_type": "code",
        "colab": {}
      },
      "source": [
        "def decrypt(text,s):\n",
        "  # Start with empty string as the ciphertext\n",
        "  result = \"\"\n",
        "\n",
        "  # go through each letter in the plain text, pop off the letter, and decrypt \n",
        "  for i in range(len(text)):\n",
        "      char = text[i]\n",
        "      result += # WHAT GOES HERE? \n",
        "        \n",
        "  return result"
      ],
      "execution_count": 17,
      "outputs": []
    },
    {
      "cell_type": "markdown",
      "metadata": {
        "id": "xIYVOSRGmep1",
        "colab_type": "text"
      },
      "source": [
        "## Question\n",
        "\n",
        "Why don't we use the shift cipher for all our deep secrets? "
      ]
    },
    {
      "cell_type": "markdown",
      "metadata": {
        "id": "EQM0tpqim_S6",
        "colab_type": "text"
      },
      "source": [
        "# The multiplicative (decimation) cipher \n",
        "\n",
        "Just like the shift cipher, except multiply by the key. "
      ]
    },
    {
      "cell_type": "code",
      "metadata": {
        "id": "bRzWh29lnI6m",
        "colab_type": "code",
        "colab": {}
      },
      "source": [
        "# NOTE: Both the encrypt and decrypt functions below only work on lower-case letters. \n",
        "\n",
        "def mult_encrypt(text,s):\n",
        "  # Start with empty string as the ciphertext\n",
        "  result = \"\"\n",
        "\n",
        "  # go through each letter in the plain text, pop off the letter, and encrypt \n",
        "  for i in range(len(text)):\n",
        "      char = text[i]\n",
        "      result += chr(((ord(char) -97) * s ) % 26 + 97)\n",
        "        \n",
        "  return result"
      ],
      "execution_count": 27,
      "outputs": []
    },
    {
      "cell_type": "code",
      "metadata": {
        "id": "xqE8SltbqE8s",
        "colab_type": "code",
        "colab": {}
      },
      "source": [
        ""
      ],
      "execution_count": null,
      "outputs": []
    },
    {
      "cell_type": "markdown",
      "metadata": {
        "id": "jlycYFoGqEN9",
        "colab_type": "text"
      },
      "source": [
        "## What's good/bad about the multiplicative cipher\n",
        "\n",
        "Good: \n",
        "\n",
        "+ Less susceptible to brute force attack \n",
        "+ Like a shift but not all letters shift the same amount\n",
        "\n",
        "Bad: \n",
        "\n",
        "+ Try encrypting with key = 13 \n",
        "+ **Decryption is complicated:** Suppose we encrypt `h` (position 7) with key 5: \n",
        "\n",
        "$$(7 \\times 5) \\,  \\% \\, 26 = 35 \\, \\% \\, 26 = 9 \\rightarrow \\texttt{j}$$\n",
        "\n",
        "But we can't just divide to undo this: \n",
        "\n",
        "$$\\left(\\frac{9}{5}\\right)  \\, \\% \\, 26 = ???$$\n",
        "\n",
        "We need a number $a$ that \"acts like $1/5$\" --- i.e. $5a \\, \\% \\, 26 = 1$. "
      ]
    },
    {
      "cell_type": "code",
      "metadata": {
        "id": "Cjiuu6U-pmCl",
        "colab_type": "code",
        "colab": {}
      },
      "source": [
        "# Brute force way of solving this equation: \n",
        "\n",
        "a = 1\n",
        "while (5*a) % 26 != 1:\n",
        "  a += 1\n",
        "print(a)"
      ],
      "execution_count": null,
      "outputs": []
    },
    {
      "cell_type": "markdown",
      "metadata": {
        "id": "Mz-BowCAsQ83",
        "colab_type": "text"
      },
      "source": [
        "But there's got to be a better way to find that \"reciprocal\"... right?\n"
      ]
    }
  ]
}