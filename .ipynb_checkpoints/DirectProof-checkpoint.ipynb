{
 "cells": [
  {
   "cell_type": "markdown",
   "metadata": {
    "button": false,
    "deletable": true,
    "new_sheet": false,
    "run_control": {
     "read_only": false
    }
   },
   "source": [
    "# The concept of a proof; Direct proof of conditional statements \n",
    "\n",
    "## MTH 225: Discrete Structures for Computer Science 1\n",
    "\n",
    "### How new knowledge is created in computer science \n",
    "\n",
    "The first two sentences on the syllabus for this course comprise a statement well worth considering: \n",
    "\n",
    ">**Computer science isn’t just about programming.** It’s about framing and solving problems in a certain kind of way.\n",
    "\n",
    "Think about this for a minute. You can _write code_ but not really be a computer scientist. Lots of people, even children, write code today; but to be a computer scientist requires more than just skill with writing computer programs. It takes in-depth knowledge about _computing itself_ and, on a professional level, the ability to use and even contribute new items to this base of knowledge that can then be used in practical applications. It's _computer science_ not _coding_. \n",
    "\n",
    "So that should make you ask: **Where does this new knowledge come from? Who came up with all the ideas that I use when I write programs, and how did they do it?** The answer to this question takes us back into _mathematics_, because before there was computer science, there was the mathematical study of computation. And this relationship between computer science and math still lives on. \n",
    "\n",
    "You may not realize it, but mathematics is a rapidly-evolving and fast-expanding subject in which new knowledge is being discovered every day. How do mathematicians discover new knowledge and then add it to the overall knowledge base of the discipline? This is a complex question and the answer isn't simple, but if you looked at the way professional mathematicians and computer scientists work, you'd see a fairly clear pattern of work emerge: \n",
    "\n",
    "1. They **make observations** about quantitative phenomena, especially using computers to explore those phenomena; then \n",
    "2. They **discern patterns within the observations** that lead to _conjectures_ about what we are seeing; and finally\n",
    "3. They make **arguments_**to explain why the patterns we observe don't depend on the specific observations we made. These arguments are called **proofs**. \n",
    "\n",
    "Mathematical proofs are the basic currency in which mathematical knowledge is expressed, and an understanding of methods of proof is an essential component of every computer scientist's intellectual arsenal. That's why we are going to spend several class days getting familiar with the idea of proof; and then in MTH 325, the sequel for this course, we'll take the idea of proof even further. \n",
    "\n",
    "### What is a proof? \n",
    "\n",
    "Recall that we have a phrase we've used before to describe the knowledge-creation process we described above: **computational thinking**. _Computational thinking_ refers to a way of approaching problem-solving that involves four phases: \n",
    "\n",
    "1. _Decomposition_ of the problem: Breaking down the problem into simpler parts, or perhaps collecting example data on the problem. \n",
    "2. _Pattern recognition_: Observing patterns and regularities in the data and the parts of the problem. \n",
    "3. _Abstraction_: Identifying the general principles at work in your observations that unify and tie together all the data. \n",
    "4. _Algorithm design_: Devising a process for solving the problem and others like it. In a coding problem, this looks like a computer algorithm or a code project. In mathematics, this can be an algorithm or a rigorous mathematical explanation that uses sound logic and does not depend on specific data. \n",
    "\n",
    "Let's engage in some computational thinking by playing with a particular problem. \n",
    "\n",
    "__Question:__ The _Fibonacci sequence_ is the following sequence of integers: \n",
    "$$1, 1, 2, 3, 5, 8, 13, 21, 34, 55, 89, \\dots$$\n",
    "The rule for generating this sequence is the following: The first two elements of the sequence are 1 and 1. Then every element starting at the third one is the sum of the previous two. Based on this definition, which of the Fibonacci numbers are even? \n",
    "\n",
    "We can't really address this question without playing with the Fibonacci numbers, so we can experiment and make an educated guess (a conjecture) about which Fibonacci numbers are even. The tool we use in math and CS for experimentation is the computer itself. Here is a Python function that will generate the n-th Fibonacci number. "
   ]
  },
  {
   "cell_type": "code",
   "execution_count": 1,
   "metadata": {
    "button": false,
    "collapsed": false,
    "deletable": true,
    "new_sheet": false,
    "run_control": {
     "read_only": false
    }
   },
   "outputs": [
    {
     "data": {
      "text/plain": [
       "3"
      ]
     },
     "execution_count": 1,
     "metadata": {},
     "output_type": "execute_result"
    }
   ],
   "source": [
    "def f(n):  # Computes the nth Fibonacci number. \n",
    "    a, b = 1, 1\n",
    "    for i in range(1, n):\n",
    "        a, b = b, a + b\n",
    "    return a\n",
    "\n",
    "f(4)   # This is the 4th number in the list of Fibonacci numbers. "
   ]
  },
  {
   "cell_type": "code",
   "execution_count": 4,
   "metadata": {
    "button": false,
    "collapsed": false,
    "deletable": true,
    "new_sheet": false,
    "run_control": {
     "read_only": false
    }
   },
   "outputs": [
    {
     "data": {
      "text/plain": [
       "[1, 1, 2, 3, 5, 8, 13, 21, 34, 55, 89, 144, 233, 377, 610]"
      ]
     },
     "execution_count": 4,
     "metadata": {},
     "output_type": "execute_result"
    }
   ],
   "source": [
    "[f(n) for n in range(1,16)]    # List comprehension that generates the first 15 Fibonaccis. Index starts at 1. "
   ]
  },
  {
   "cell_type": "markdown",
   "metadata": {
    "button": false,
    "deletable": true,
    "new_sheet": false,
    "run_control": {
     "read_only": false
    }
   },
   "source": [
    "In a separate Jupyter notebook, copy and paste the code above and play with the Fibonaccis to see if you can form a conjecture about which ones are even. Do this before going any further!\n",
    "\n",
    "-----\n",
    "\n",
    "Let's look at how we might approach this problem using computational thinking. \n",
    "\n",
    "_Decomposition:_ When you make a list of Fibonacci numbers (like in the list comprehension above) which ones are even?  (This is decomposition because it's taking a more general question, \"Which Fibonacci numbers are even?\", and breaks it down into the same question but in a simpler setting, \"Which Fibonacci numbers _in the short list_ are even?\") __Answer:__ It depends on how long you make the list, but in the list comprehension above that prints off the first 15 Fibonaccis, the ones that are even are the third, sixth, ninth, twelfth, and fifteenth ones. Generating a longer list would provide more data to observe. \n",
    "\n",
    "_Pattern recognition:_ Do you notice any patterns or regularities in your observations? __Answer:__ It looks like the pattern is that the third, sixth, ninth, twelfth, and fifteenth ones are always even, and if I make a longer list the eighteenth, twenty-first, etc. ones are even. \n",
    "\n",
    "_Abstraction:_ Can you identify a general principle at work that would unify and express the pattern you're seeing? __Answer:__ Based on the evidence, I would guess that __every third Fibonacci number is even__. \n",
    "\n",
    "A few remarks about the step just completed: \n",
    "\n",
    "1. The statement \"Every third Fibonacci number is even\" is an \"abstraction\" in the sense that __it doesn't refer to just a list of examples__. It explains the examples we do have, but it also predicts the examples we _don't_ have. We say that the statement is _general_ (as opposed to \"specific\"). \n",
    "2. A general mathematical statement that attempts to give precise phrasing to an abstraction of our observations is called a __conjecture__. \n",
    "3. __Just because I noticed a pattern among my data and made a nice conjecture about it, doesn't mean that my conjecture is true.__ There could very well be a Fibonacci number that my conjecture would _predict_ would be even, that turns out not to be. I know that the third, sixth, and ninth Fibonacci numbers are even and my conjecture predicts that the 12th, 15th, etc. will be even as well -- but we do not _know_ this will be the case with just a handful of examples. Even if I extended the list out to include the first 1000 Fibonacci numbers and noticed that every third one of that 1000-element list is even, this would not be sufficient to establish the truth of the conjecture. This is because the conjecture states that __every__ third Fibonacci number is even. A finite list of examples will never prove that the pattern persists throughout __all__ the Fibonacci numbers. We need something more, at this point, than just a long list of examples. \n",
    "4. Here is a slightly more mathematically precise way of phrasing my conjecture: __If $n = 3k$ for some positive integer $k$, then $f(n)$ is even.__ It's more precise because it states what we mean by \"every third Fibonacci number\". Here's another: __The Fibonacci number $f(3k)$ is even for all positive integers $k$.__ Do any of these look better to you than the others? What are the tradeoffs of using more precision in the conjecture statement? \n",
    "\n",
    "The third point above is worth reiterating: __A finite list of examples, no matter how lengthy, will prove beyond a doubt that a mathematical conjecture is true if the conjecture refers to an infinite list or set.__ \n",
    "\n",
    "Once we have made a conjecture, what we need to do is **test** the conjecture with more specific examples to see if we can find a place where it fails. If we happened to find a multiple of 3 that we plugged in to the Fibonacci function and _didn't_ get an even number out, then the conjecture is __definitely false__ because we would have found a __counterexample__. Finding a counterexample often means \"back to the drawing board\" but other times it means that our conjecture is too broad -- there needs to be a restriction or condition added to the conjecture to make it true. However, in this case you should be finding (as long as you are plugging in the right numbers) that the conjecture holds up. \n",
    "\n",
    "However, again: __Just because the conjecture holds up for a bunch of test cases, does not mean the conjecture is always true.__ Because maybe we just picked good test cases; or the counterexample to the conjecture is one more test case away. \n",
    "\n",
    "But suppose you test and test, and no matter how many tests you run, it still seems that $f(3k)$ is always even when $k$ is a positive integer. Although repeated testing proves nothing, it does make you more and more sure that your conjecture is right. What would need to do now is find __some way of explaining exactly why every third Fibonacci number will be even__. Such an explanation -- a convincing and persuasive argument that explains exactly why a general, abstracted conjecture is always true -- is called a __proof__. \n",
    "\n",
    "Somewhat more formally, we'll define this idea as follows: \n",
    "\n",
    ">**Definition:** A **proof** of a proposition is a clearly expressed, mathematically correct, logically sound and persuasive argument that the proposition is true for each instance in which it is claimed to be true. \n",
    "\n",
    "Your previous exposure to proof probably came in your high school geometry or trigonometry classes, where you were given some kind of identity to prove and went about it through a strict, purely symbolic computation. If this is your experience, then the first thing to realize is that this is not how mathematicians and computer scientists think about proofs. Proofs can look like many different things, and the same proposition can have many different proofs. The Pythagorean Theorem, for example, has at least 118 different proofs, all given at [this website](http://www.cut-the-knot.org/pythagoras/). A proof is not a mathematically cut-and-dry concept, either --- mathematicians and computer scientists often wage pitched battles with each other over whether a given argument is a correct proof for a proposition. When you engage in proof, you are leaving the realm of \"one right answer\"-style mathematics from high school and entering into the messy arena of mathematical knowledge in the real world. \n",
    "\n",
    "However, although proofs can look like many different things, they all have certain characteristics more or less in common: \n",
    "\n",
    "+ They are _arguments_, meaning that they have clearly-defined **assumptions** or premises, and a clearly-defined **conclusion**. The best proofs clearly state their assumptions and their conclusion up front and in unambiguous terms. \n",
    "+ Once the assumptions are stated, proofs **proceed from the assumptions using small steps that are justified by previously-known facts**. Those known facts can be definitions, previous-proven propositions, or some other factual information. \n",
    "+ The steps that the proof takes are taken specifically to **drive the argument toward the conclusion**, and the conclusion is eventually arrived at via the steps. There are no gaps and nothing left up to the reader. \n",
    "+ To reiterate the last point, **proofs do not require the reader to do unnecessary work or leaps of faith**. The best proofs are self-contained and only require the reader to recall the factual information that might be needed to justify a step. \n",
    "+ Finally, a proof has to be **clearly communicated**. This means that correct English (or whatever language is appropriate) is used to _persuade_ and _explain_ the logic underlying the argument. **A proof almost never consists of just mathematical computations with no narrative text to accompany it.** The best proofs use a mix of computation and written narrative, with the computation serving to support the argument --- but the argument doesn't _consist of_ just computation. \n",
    "\n",
    "Writing a good proof is hard work and it takes years to learn the craft. We're not going to try to become experts at it in this class. Rather, our goals are to be able to outline proofs and to analyze proofs for quality. To be able to do this analysis, we need knowledge about _techniques_ for proof that are sometimes used. \n",
    "\n",
    "When you learn chess or football, you have to learn some of the major _strategies_ of the game in order to be able to play. The same is true for learning proof. Let's start with one of the most important strategies in proof. "
   ]
  },
  {
   "cell_type": "markdown",
   "metadata": {
    "button": false,
    "deletable": true,
    "new_sheet": false,
    "run_control": {
     "read_only": false
    }
   },
   "source": [
    "### What is a direct proof? \n",
    "\n",
    "Consider this conjecture: \n",
    "\n",
    ">**Conjecture:** For every $n \\in \\mathbb{Z}$, if $n$ is even then $n^2$ is even. \n",
    "\n",
    "In other words, whenever you square an even number, the result is also even. This is a special kind of proposition because it is a __conditional statement__ or \"if-then\" statement. These are very common in mathematics and in CS, and we can use some of our logic knowledge to help in constructing a proof. \n",
    "\n",
    "First, recall that the __hypothesis__ of a conditional statement is the \"if\" part; and the \"then\" part is called the __conclusion__. Here, \"$n$ is even\" is the hypothesis and \"$n^2$ is even\" is the conclusion. \n",
    "\n",
    "Second, recall the truth table of a conditional statement \"If $p$, then $q$\": \n",
    "\n",
    "| $p$ | $q$ | $p \\rightarrow q$ | \n",
    "|:--: |:--:| :-----------------:|\n",
    "|  1  |  1 |  1 | \n",
    "|  1  |  0 |  0 | \n",
    "|  0  |  1 |  1 | \n",
    "|  0  |  0 |  1 | \n",
    "\n",
    "Conditional statements are true in two kinds of circumstances, according to this truth table: When the hypothesis is false, and when both the hypothesis and conclusion are true. Said differently, **conditional statements are false only when the hypothesis is true but the conclusion is false**. \n",
    "\n",
    "So if we were to attempt to _prove_ that the conjecture above is true, how might we proceed? What assumptions do we make, and what conclusion do we try to draw from the assumptions? Well, _if we are trying to prove that a conditional statement is true, we can ignore any situation in which the hypothesis is false_ because the conditional statement is true automatically in that case. That is: __We can assume that the hypothesis is true__ when proving a conditional statement. \n",
    "\n",
    "A proof of a conditional statement can therefore proceed as follows: \n",
    "\n",
    "1. Assume that the hypothesis is true. \n",
    "2. Proceed from the assumptions using small steps, each justified by previously-known facts, toward the conclusion. \n",
    "3. Continue to use definitions and prior results to rewrite expressions in different forms and use logic to arrive at the conclusion. \n",
    "\n",
    "An argument of this form is called a __direct proof__ of a conditional statement because we assume the hypothesis and then proceed \"directly\" to the conclusion. To summarize the above: \n",
    "\n",
    ">**Definition:** A **direct proof** is a proof constructed for a conditional statement in which the first step is to assume the hypotheses of the conditional statement, and then proceed through logical steps to arrive at the conclusion fo the conditional statement.\n",
    "\n",
    "We're going to look at a direct proof of that conjecture above, but first we need to make an important definition: \n",
    "\n",
    ">**Definition:** An integer $n$ is **even** if there is some other integer, $k$, such that $n = 2k$. \n",
    "\n",
    "We need a definition of \"even number\" because we are about to prove something about even numbers, and that proof will go nowhere if we don't have a rigorous mathematical definition of the concept. This definition says that an even number is an integer that can be written as 2 times some other integer (which may not be even). For example, the even number 22 is even because there is an integer,$k$, such that $22 = 2k$. (In this case, that $k$ equals 11.) Likewise $-24$ is even because $-24$ can be written as $2$ times an integer, namely $-24 = 2(-12)$. Also, 0 is even because $0$ is $2$ times an integer, namely $2$ times $0$. However 25 is not even because 25 cannot be written as 2 times an integer. \n",
    "\n",
    "Notice we do not say \"25 cannot be written as 2 times _a number_\", because that would be false --- $25$ _can_ be written \"2 times a number\", namely $25 = 2 \\times \\frac{25}{2}$. The word \"integer\" in the definition is necessary, not just verbal window-dressing. \n",
    "\n",
    "With that definition, here is a proof of the conjecture, broken up line by line with justification provided for each line so you can see the flow of the argument. \n",
    "\n",
    "__Theorem:__ For every $n \\in \\mathbb{Z}$, if $n$ is even then $n^2$ is even. \n",
    "\n",
    "__Proof:__\n",
    "\n",
    "1. Assume that $n$ is an even integer. [_Justification: Assuming the hypothesis_] \n",
    "2. Then there is an integer $k$ such that $n = 2k$. [_Justification: Definition of \"even\"_]\n",
    "3. Squaring $n$ gives $n^2 = (2k)(2k)$. [_Justification: Squaring both sides of $n = 2k$. We are doing this step because we want to conclude something about $n^2$._]\n",
    "4. Therefore $n^2 = 4k^2$. [_Justification: Basic algebra on the right side of step 3._]\n",
    "5. This can be written as $2(2k^2)$. [_Justification: Factoring out a 2. We do this because we are trying to show $n^2$ is even._]\n",
    "6. Since $k$ is an integer, $2k^2$ is also an integer. [_Justification: Basic arithmetic -- the \"closure property\" to be exact._]\n",
    "7. Therefore we have written $n^2$ as an integer multiple of $2$, so $n^2$ is even. [_Justification: Definition of \"even\"_]\n",
    "\n",
    "What makes this a correct proof? \n",
    "\n",
    "+ The assumptions are clearly stated. \n",
    "+ The proof proceeds from the assumptions using small steps that are each justified by facts or definitions. \n",
    "+ There are no gaps, mathematical errors, or unwarranted assumptions being used in the proof. For example if we had assumed that $n$ was positive in the proof above, that would be unwarranted -- what allows me to make such an assumption? Nothing. \n",
    "+ The steps in the proof drive toward the desired conclusion and do in fact arrive at the conclusion in time. \n",
    "+ The argument is written in complete sentences, and is not just computation -- it's a mix of English and math in which the math _supports_ the argument but doesn't try to _be_ the argument. \n",
    "\n",
    "Before we end, let's suppose we wanted to set up a direct proof of the conjecture we made earlier: \n",
    "\n",
    ">**Conjecture:** Let $F(n)$ be the $n$th Fibonacci number ($n \\geq 1$). Then for all positive integers $k$, $F(3k)$ is even. \n",
    "\n",
    "At first this may seem like a bad candidate for a direct proof because this doesn't appear to be a conditional statement. Where's the \"if\" and the \"then\"? Indeed, this isn't in the classic if-then format. But it can be rewritten: \n",
    "\n",
    ">If $k$ is a positive integer, then $F(3k)$ is even. \n",
    "\n",
    "So _now_ this looks like a conditional statement. With that, it's easy to set up the outline for a direct proof: \n",
    "\n",
    "+ We would begin the proof by assuming the hypothesis: **Assume that $k$ is a positive integer.**\n",
    "+ We would eventually want to prove that **$F(3k)$ is even.**\n",
    "+ To do this, we would start from our assumption that $k$ is a positive integer and take small steps forward from here to show that $F(3k)$ is even. \n",
    "\n",
    "It's not completely clear how this proof would look, but if we wanted to do a direct proof, this is the correct outline for it. \n",
    "\n",
    "(Spoiler: Actually a direct proof is not the best choice for this conjecture --- since the Fibonacci numbers have a natural recursive structure, _Mathematical Induction_ is a better choice. Can you think about how _that_ proof would proceed?) "
   ]
  },
  {
   "cell_type": "code",
   "execution_count": null,
   "metadata": {
    "button": false,
    "collapsed": true,
    "deletable": true,
    "new_sheet": false,
    "run_control": {
     "read_only": false
    }
   },
   "outputs": [],
   "source": []
  }
 ],
 "metadata": {
  "anaconda-cloud": {},
  "kernelspec": {
   "display_name": "Python 3",
   "language": "python",
   "name": "python3"
  },
  "language_info": {
   "codemirror_mode": {
    "name": "ipython",
    "version": 3
   },
   "file_extension": ".py",
   "mimetype": "text/x-python",
   "name": "python",
   "nbconvert_exporter": "python",
   "pygments_lexer": "ipython3",
   "version": "3.5.0"
  }
 },
 "nbformat": 4,
 "nbformat_minor": 1
}
