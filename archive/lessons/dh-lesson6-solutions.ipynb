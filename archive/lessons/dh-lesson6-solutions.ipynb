{
 "cells": [
  {
   "cell_type": "markdown",
   "metadata": {},
   "source": [
    "# Solutions for Lesson 6 Daily Homework\n",
    "\n",
    "## Question 1\n",
    "\n",
    "A little bit of examination should reveal to you that the third term is the sum of the previous two, same for the fourth and subsequent terms. So a recursive definition (i.e. recurrence relation + initial conditions) would be: \n",
    "\n",
    "$$a_0 = 2, a_1 = 4 \\ \\text{and} \\ a_n = a_{n-1} + a_{n-2} \\ \\text{for} \\ n \\geq 2$$\n",
    "\n",
    "Ie. this is the Fibonacci sequence with the initial conditions tweaked. \n",
    "\n",
    "\n",
    "## Question 2\n",
    "\n",
    "Let's write a quick recursive Python function to generate this for us. "
   ]
  },
  {
   "cell_type": "code",
   "execution_count": 5,
   "metadata": {
    "collapsed": true
   },
   "outputs": [],
   "source": [
    "def question2(n):\n",
    "    if n == 0: return 1     # Initial condition\n",
    "    elif n == 1: return 2   # Initial condition\n",
    "    else: \n",
    "        return 5*question2(n-1) - 6*question2(n-2)    # Recursion step"
   ]
  },
  {
   "cell_type": "markdown",
   "metadata": {},
   "source": [
    "Now a list comprehension will be a quick way to generate a bunch of elements of the sequence: "
   ]
  },
  {
   "cell_type": "code",
   "execution_count": 9,
   "metadata": {
    "collapsed": false
   },
   "outputs": [
    {
     "data": {
      "text/plain": [
       "[1, 2, 4, 8, 16, 32, 64, 128, 256, 512, 1024, 2048, 4096, 8192, 16384]"
      ]
     },
     "execution_count": 9,
     "metadata": {},
     "output_type": "execute_result"
    }
   ],
   "source": [
    "[question2(n) for n in range(15)]"
   ]
  },
  {
   "cell_type": "markdown",
   "metadata": {},
   "source": [
    "If we had to guess, a smart guess would be the simple exponential function $a(n) = 2^n$. "
   ]
  },
  {
   "cell_type": "markdown",
   "metadata": {},
   "source": [
    "## Question 3\n",
    "\n",
    "Modify the Python function above to change the initial conditions: "
   ]
  },
  {
   "cell_type": "code",
   "execution_count": 12,
   "metadata": {
    "collapsed": false
   },
   "outputs": [
    {
     "data": {
      "text/plain": [
       "[1,\n",
       " 3,\n",
       " 9,\n",
       " 27,\n",
       " 81,\n",
       " 243,\n",
       " 729,\n",
       " 2187,\n",
       " 6561,\n",
       " 19683,\n",
       " 59049,\n",
       " 177147,\n",
       " 531441,\n",
       " 1594323,\n",
       " 4782969]"
      ]
     },
     "execution_count": 12,
     "metadata": {},
     "output_type": "execute_result"
    }
   ],
   "source": [
    "def question3(n):\n",
    "    if n == 0: return 1    \n",
    "    elif n == 1: return 3   # NEW Initial condition\n",
    "    else: \n",
    "        return 5*question3(n-1) - 6*question3(n-2)   \n",
    "    \n",
    "[question3(n) for n in range(15)]"
   ]
  },
  {
   "cell_type": "markdown",
   "metadata": {},
   "source": [
    "If I were a betting man, I'd bet this is $a(n) = 3^n$. \n",
    "\n",
    "__BONUS QUESTION:__ In general, what's the pattern here?"
   ]
  },
  {
   "cell_type": "markdown",
   "metadata": {},
   "source": [
    "## Question 4\n",
    "\n",
    "Here's a short Python script to generate the first five terms along with a Python function for $a(n) = 2 \\cdot 4^n$:"
   ]
  },
  {
   "cell_type": "code",
   "execution_count": 2,
   "metadata": {
    "collapsed": false
   },
   "outputs": [],
   "source": [
    "def recurrence(n):\n",
    "    if n == 0: return 2    # Initial condition\n",
    "    else: \n",
    "        return 4*recurrence(n-1)   # Recursion step\n",
    "    \n",
    "# A function for the closed formula: \n",
    "def a(n):\n",
    "    return 2*4**n"
   ]
  },
  {
   "cell_type": "markdown",
   "metadata": {},
   "source": [
    "Now we can check that the sequences match by using list comprehensions: "
   ]
  },
  {
   "cell_type": "code",
   "execution_count": 4,
   "metadata": {
    "collapsed": false
   },
   "outputs": [
    {
     "name": "stdout",
     "output_type": "stream",
     "text": [
      "[8, 32, 128, 512, 2048]\n",
      "[8, 32, 128, 512, 2048]\n"
     ]
    }
   ],
   "source": [
    "# Recurrence relation\n",
    "print([recurrence(n) for n in range(1,6)])   # The print command is here so that both lists print. \n",
    "\n",
    "# Closed formula\n",
    "print([a(n) for n in range(1,6)])"
   ]
  },
  {
   "cell_type": "markdown",
   "metadata": {},
   "source": [
    "Hooray, they agree for $n=1$ to $n=5$. Now let's check using math that they will _continue_ to agree. \n",
    "\n",
    "Letting $a(n) = 2 \\cdot 4^n$, we get $a(n-1) = 2 \\cdot 4^{n-1}$. Substitute in for the right side of the recurrence relation to get $4 \\cdot 4^{n-1}$. This equals $4^n$ so the recurrence relation is satisfied by the closed formula. Also note that the initial condition is satisfied: $a(0) = 2 \\cdot 4^0 = 2$. "
   ]
  },
  {
   "cell_type": "code",
   "execution_count": null,
   "metadata": {
    "collapsed": true
   },
   "outputs": [],
   "source": []
  }
 ],
 "metadata": {
  "kernelspec": {
   "display_name": "Python 3",
   "language": "python",
   "name": "python3"
  },
  "language_info": {
   "codemirror_mode": {
    "name": "ipython",
    "version": 3
   },
   "file_extension": ".py",
   "mimetype": "text/x-python",
   "name": "python",
   "nbconvert_exporter": "python",
   "pygments_lexer": "ipython3",
   "version": "3.4.4"
  }
 },
 "nbformat": 4,
 "nbformat_minor": 0
}
