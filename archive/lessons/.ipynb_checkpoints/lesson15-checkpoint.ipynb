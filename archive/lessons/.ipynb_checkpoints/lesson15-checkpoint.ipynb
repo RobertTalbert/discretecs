{
 "cells": [
  {
   "cell_type": "markdown",
   "metadata": {
    "button": false,
    "deletable": true,
    "new_sheet": false,
    "run_control": {
     "read_only": false
    }
   },
   "source": [
    "# Lesson 15: Representation of graphs\n",
    "\n",
    "## Overview \n",
    "\n",
    "__Summary:__ In the last lesson we introduced the concept of the graph and related ideas and terminology. In this lesson we will discuss different ways to _represent_ graphs and how to make and manipulate them in Sage. We will focus on representing graphs as _lists of pairs_, as _Python dictionaries_, and as _adjacency matrices_ just as we did with directed graphs. And we'll look at a few Sage methods for working with graphs.\n",
    "\n",
    "This lesson addresses the following learning targets: \n",
    "\n",
    "+ __GT.2:__ I can represent a directed or undirected graph as a list of tuples, an adjacency matrix, a directed graph, or a Python dictionary and convert from one representation to another.\n",
    "\n",
    "__Note:__ To get the most out of this set of notes, please download the Jupyter notebook (either from nbviewer or from the Lessons and Learning Targets card) and open it in SageMath Cloud using the SageMath kernel. \n",
    "\n",
    "## Background\n",
    "\n",
    "Last time we introduced the concept of the _(undirected) graph_ and defined like this: \n",
    "\n",
    ">__Definition:__ A __graph__ $G$ consists of two sets: A finite, nonempty set $V$ of objects called __nodes__ or __vertices__; and a set $E$ of 2-element subsets of $V$ called __edges__. These two sets are called the _vertex set_ and _edge set_ of the graph, respectively. \n",
    "\n",
    "This definition is abstract, meaning that it does not depend on any particular way of representing a graph visually or as a data structure. Abstraction gives us choice in how we choose to represent graphs. We've seen that we can represent a graph as a visual diagram of points (nodes) and line segments (edges). In this lesson we will look at three other representations, focusing on how Sage represents and works with graphs. \n",
    "\n",
    "### Representing graphs as lists of tuples\n",
    "\n",
    "The fundamental way that Sage represents graphs is as __lists of pairs__. This is also how Sage represents _directed_ graphs. For example, here is a very simple graph on four nodes numbered 0 through 3. Study the syntax to see how Sage does it. Then execute the code cell to see the result. "
   ]
  },
  {
   "cell_type": "code",
   "execution_count": null,
   "metadata": {
    "button": false,
    "collapsed": false,
    "deletable": true,
    "new_sheet": false,
    "run_control": {
     "read_only": false
    }
   },
   "outputs": [],
   "source": [
    "new_graph = Graph([(0,1), (0,2), (1,2), (1,3), (3,2)])\n",
    "new_graph.show()"
   ]
  },
  {
   "cell_type": "markdown",
   "metadata": {
    "button": false,
    "deletable": true,
    "new_sheet": false,
    "run_control": {
     "read_only": false
    }
   },
   "source": [
    "The basic process is: \n",
    "\n",
    "1. Write the graph as a list (not a set) of pairs, with each pair representing an edge. \n",
    "2. Create the graph using the `Graph` command, and plug in the list of edges. \n",
    "\n",
    "The graph is actually created once you execute the `Graph` command. To see it, use the `.show()` method just like you did with directed graphs. \n",
    "\n",
    "You might wonder how Sage knows to create undirected edges instead of directed edges, since the syntax for creating the graph is exactly the same as for directed graphs. The answer is in the `Graph` constructor. Using `Graph` tells Sage to create an undirected graph. If we wanted a directed graph using the same information, we would have used `DiGraph` instead. \n",
    "\n",
    "Go back to that code block above and play with it to answer the following questions: \n",
    "\n",
    "1. Notice that the last edge was given \"out of order\", `(3,2)` instead of `(2,3)`. What happens if you replace `(3,2)` with `(2,3)`? Do you get a different looking graph, an error message, or what?\n",
    "2. Since we have an edge `(0,1)`, do we also need to add an edge `(1,0)` to indicate that the direction is two-directional? What happens if you add in `(1,0)` to the edge list above and try to construct the graph? \n",
    "3. Suppose we wanted to add a node \"4\" to this graph that is _isolated_, that is, there is no edge with 4? How would you change the list of pairs? Is it even possible? \n",
    "\n",
    "To sum up: We can represent a graph in Sage (and outside of Sage, if we wanted to write it on paper) as a list of tuples, each tuple representing an edge of the graph. This is similar to the definition in which the graph is defined in terms of a set of nodes and a set of two-element subsets of the vertex set. "
   ]
  },
  {
   "cell_type": "markdown",
   "metadata": {
    "button": false,
    "deletable": true,
    "new_sheet": false,
    "run_control": {
     "read_only": false
    }
   },
   "source": [
    "### Representing graphs as dictionaries\n",
    "\n",
    "Just like with directed graphs, we can represent graphs as dictionaries. Here is an example. Again, study the syntax first and predict what the graph should look like. Then run the code to see if you're right. "
   ]
  },
  {
   "cell_type": "code",
   "execution_count": null,
   "metadata": {
    "button": false,
    "collapsed": false,
    "deletable": true,
    "new_sheet": false,
    "run_control": {
     "read_only": false
    }
   },
   "outputs": [],
   "source": [
    "second_graph = Graph({0:[1,2], 1:[2], 2:[3,4], 3:[4], 4:[0,1]})\n",
    "second_graph.show()"
   ]
  },
  {
   "cell_type": "markdown",
   "metadata": {
    "button": false,
    "deletable": true,
    "new_sheet": false,
    "run_control": {
     "read_only": false
    }
   },
   "source": [
    "The dictionary that represents the graph here uses the nodes of the graph as the keys, and the list of values attached to each key shows the nodes to which the key is adjacent. For example, node 2 is adjacent to nodes 3 and 4. It also says that node 2 is adjacent to node 0 and node 1 because node 2 shows up in the list of values for those keys. \n",
    "\n",
    "Once the dictionary representing the graph is made up, the process of constructing the graph is exactly the same as if we were using lists of pairs. \n",
    "\n",
    "Play with the code block above to answer the following questions about this method of representing graphs: \n",
    "\n",
    "1. The value 3 is in the list of values for the key 2, (`2:[3,4]`) so this tells us 2 and 3 are adjacent. Do we need to also put 2 in the list of values for 3? Try it -- see what happens if you change `3:[4]` to `3:[2,4]`. \n",
    "2. Try to enter in a different dictionary that produces the same graph as the above. (Yes, this can be done. So the dictionary representation for a graph is not \"unique\".) \n",
    "3. Same question as the last one in the previous section: What if we wanted to add a node to this graph (node 5, this time) that has no edges incident to it? Is it possible? How would we do it? \n",
    "\n",
    "To sum up: We can represent a graph as a dictionary in which the keys are the nodes, and a value shows up in the value list for a node if the value is adjacent to the key. "
   ]
  },
  {
   "cell_type": "markdown",
   "metadata": {
    "button": false,
    "deletable": true,
    "new_sheet": false,
    "run_control": {
     "read_only": false
    }
   },
   "source": [
    "### Representing graphs as matrices\n",
    "\n",
    "In Sage, a matrix is represented as a list whose elements are also lists: The interior lists represent the rows of the matrix. We use the `Matrix` constructor to tell Sage the data we are feeding it is to be used to construct an instance of the `Matrix` class. For example, here is a simple $3 \\times 3$ matrix:"
   ]
  },
  {
   "cell_type": "code",
   "execution_count": 8,
   "metadata": {
    "button": false,
    "collapsed": false,
    "deletable": true,
    "new_sheet": false,
    "run_control": {
     "read_only": false
    }
   },
   "outputs": [
    {
     "data": {
      "text/html": [
       "<html><script type=\"math/tex; mode=display\">\\newcommand{\\Bold}[1]{\\mathbf{#1}}\\left(\\begin{array}{rrr}\n",
       "1 & 2 & 3 \\\\\n",
       "8 & 9 & 10 \\\\\n",
       "-1 & -2 & -3\n",
       "\\end{array}\\right)</script></html>"
      ],
      "text/plain": [
       "[ 1  2  3]\n",
       "[ 8  9 10]\n",
       "[-1 -2 -3]"
      ]
     },
     "metadata": {},
     "output_type": "display_data"
    }
   ],
   "source": [
    "M = Matrix([[1,2,3], [8,9,10], [-1, -2, -3]])\n",
    "show(M)"
   ]
  },
  {
   "cell_type": "markdown",
   "metadata": {
    "button": false,
    "deletable": true,
    "new_sheet": false,
    "run_control": {
     "read_only": false
    }
   },
   "source": [
    "We can represent graphs in Sage as adjacency matrices just as we did with directed graphs. If the graph has $n$ nodes, then its adjacency matrix is an $n \\times n$ matrix in which there is a 1 in row $i$ column $j$ if and only if $i$ is adjacent to $j$, and the $ij$-entry is 0 otherwise. \n",
    "\n",
    "Constructing a graph using matrix data is exactly the same process as constructing it with list or dictionary data. Try this code block for instance: "
   ]
  },
  {
   "cell_type": "code",
   "execution_count": null,
   "metadata": {
    "button": false,
    "collapsed": false,
    "deletable": true,
    "new_sheet": false,
    "run_control": {
     "read_only": false
    }
   },
   "outputs": [],
   "source": [
    "M = Matrix([[1,1,1], [1,0,0], [1,0,1]])\n",
    "third_graph = Graph(M, loops=True)\n",
    "third_graph.show()"
   ]
  },
  {
   "cell_type": "markdown",
   "metadata": {
    "button": false,
    "deletable": true,
    "new_sheet": false,
    "run_control": {
     "read_only": false
    }
   },
   "source": [
    "Here is what the matrix looks like, for reference: "
   ]
  },
  {
   "cell_type": "code",
   "execution_count": 11,
   "metadata": {
    "button": false,
    "collapsed": false,
    "deletable": true,
    "new_sheet": false,
    "run_control": {
     "read_only": false
    }
   },
   "outputs": [
    {
     "data": {
      "text/html": [
       "<html><script type=\"math/tex; mode=display\">\\newcommand{\\Bold}[1]{\\mathbf{#1}}\\left(\\begin{array}{rrr}\n",
       "1 & 1 & 1 \\\\\n",
       "1 & 0 & 0 \\\\\n",
       "1 & 0 & 1\n",
       "\\end{array}\\right)</script></html>"
      ],
      "text/plain": [
       "[1 1 1]\n",
       "[1 0 0]\n",
       "[1 0 1]"
      ]
     },
     "metadata": {},
     "output_type": "display_data"
    }
   ],
   "source": [
    "show(M)"
   ]
  },
  {
   "cell_type": "markdown",
   "metadata": {
    "button": false,
    "deletable": true,
    "new_sheet": false,
    "run_control": {
     "read_only": false
    }
   },
   "source": [
    "Note we put some loop edges on this graph this time, so we need to put in `loops = True` into the constructor. \n",
    "\n",
    "Play with the code block above to answer the following questions: \n",
    "\n",
    "1. What happens if the matrix is not \"symmetric\", that is, the $ij$ entry is not the same as the $ji$ entry? To see, go to the code block and change the `1` that is in the third row, first column to a `0` to that it's now no longer equal to the entry in the first row, third column. \n",
    "2. What would the adjacency matrix look like if you deleted all the edges that are incident to a given node? To see, go to the code block and flip all the 1's that correspond to node 2 to 0's. \n",
    "\n",
    "To sum up: We can represent a graph as an adjacency matrix that is basically a checklist of which nodes are adjacent. Matrices in Sage are represented as lists of lists. Once the matrix is constructed, using the matrix data to construct the graph is exactly the same process as using lists or dictionaries. "
   ]
  },
  {
   "cell_type": "markdown",
   "metadata": {
    "button": false,
    "deletable": true,
    "new_sheet": false,
    "run_control": {
     "read_only": false
    }
   },
   "source": [
    "### Using Sage to change graph representations\n",
    "\n",
    "While you will need to eventually learn how to take one representation for a graph and switch it to other representations without computer assistance, Sage makes it very easy to do this in situations where a computer can be used. \n",
    "\n",
    "Let's re-use the graph from the second example above: "
   ]
  },
  {
   "cell_type": "code",
   "execution_count": null,
   "metadata": {
    "button": false,
    "collapsed": false,
    "deletable": true,
    "new_sheet": false,
    "run_control": {
     "read_only": false
    }
   },
   "outputs": [],
   "source": [
    "second_graph = Graph({0:[1,2], 1:[2], 2:[3,4], 3:[4], 4:[0,1]})\n",
    "second_graph.show()"
   ]
  },
  {
   "cell_type": "markdown",
   "metadata": {
    "button": false,
    "deletable": true,
    "new_sheet": false,
    "run_control": {
     "read_only": false
    }
   },
   "source": [
    "#### Switching to a dictionary\n",
    "\n",
    "Any time we have a graph defined, we can get its dictionary by using the `.to_dictionary()` method. Execute the code block below: "
   ]
  },
  {
   "cell_type": "code",
   "execution_count": null,
   "metadata": {
    "button": false,
    "collapsed": false,
    "deletable": true,
    "new_sheet": false,
    "run_control": {
     "read_only": false
    }
   },
   "outputs": [],
   "source": [
    "second_graph.to_dictionary()"
   ]
  },
  {
   "cell_type": "markdown",
   "metadata": {
    "button": false,
    "deletable": true,
    "new_sheet": false,
    "run_control": {
     "read_only": false
    }
   },
   "source": [
    "Note that if we started by defining the graph as a dictionary (as we did here) then the dictionary we get back from this method may not be 100% the same as the one we started with. But it will generate the same graph. "
   ]
  },
  {
   "cell_type": "markdown",
   "metadata": {
    "button": false,
    "deletable": true,
    "new_sheet": false,
    "run_control": {
     "read_only": false
    }
   },
   "source": [
    "#### Switching to an adjacency matrix\n",
    "\n",
    "Getting the adjacency matrix for a graph is similarly easy using the `.adjacency_matrix()` method:"
   ]
  },
  {
   "cell_type": "code",
   "execution_count": null,
   "metadata": {
    "button": false,
    "collapsed": false,
    "deletable": true,
    "new_sheet": false,
    "run_control": {
     "read_only": false
    }
   },
   "outputs": [],
   "source": [
    "second_graph.adjacency_matrix()"
   ]
  },
  {
   "cell_type": "markdown",
   "metadata": {
    "button": false,
    "deletable": true,
    "new_sheet": false,
    "run_control": {
     "read_only": false
    }
   },
   "source": [
    "This can be made to look prettier by wrapping it inside the `show()` command: "
   ]
  },
  {
   "cell_type": "code",
   "execution_count": null,
   "metadata": {
    "button": false,
    "collapsed": false,
    "deletable": true,
    "new_sheet": false,
    "run_control": {
     "read_only": false
    }
   },
   "outputs": [],
   "source": [
    "show(second_graph.adjacency_matrix())"
   ]
  },
  {
   "cell_type": "markdown",
   "metadata": {
    "button": false,
    "collapsed": false,
    "deletable": true,
    "new_sheet": false,
    "run_control": {
     "read_only": false
    }
   },
   "source": [
    "(Note that in this case `show()` is a _function_, not a _method_ like we use for displaying graphs. \n",
    "\n",
    "#### Switching to a list of pairs \n",
    "\n",
    "Converting to a list of pairs is a little bit trickier. The basic method is to use the `.edges()`  method which returns a list of edges: "
   ]
  },
  {
   "cell_type": "code",
   "execution_count": null,
   "metadata": {
    "button": false,
    "collapsed": false,
    "deletable": true,
    "new_sheet": false,
    "run_control": {
     "read_only": false
    }
   },
   "outputs": [],
   "source": [
    "second_graph.edges()"
   ]
  },
  {
   "cell_type": "markdown",
   "metadata": {
    "button": false,
    "deletable": true,
    "new_sheet": false,
    "run_control": {
     "read_only": false
    }
   },
   "source": [
    "But you'll notice that these are ordered _triples_ with the word `None` in the third coordinate. This is because Sage defaults to thinking that the graph is a _weighted_ graph (see Lesson 14 for a definition), and because we have not defined weights for the edges, Sage attaches a weight of `None` to each edge. We would like not to have the third coordinate at all. In order to eliminate that third coordinate, we have to pass `labels = False` into the `.edges()` method like so: "
   ]
  },
  {
   "cell_type": "code",
   "execution_count": null,
   "metadata": {
    "button": false,
    "collapsed": false,
    "deletable": true,
    "new_sheet": false,
    "run_control": {
     "read_only": false
    }
   },
   "outputs": [],
   "source": [
    "second_graph.edges(labels=False)"
   ]
  },
  {
   "cell_type": "markdown",
   "metadata": {
    "button": false,
    "deletable": true,
    "new_sheet": false,
    "run_control": {
     "read_only": false
    }
   },
   "source": [
    "Now we have a list of pairs (edges) like we want. This is annoying, but we live with it. "
   ]
  },
  {
   "cell_type": "markdown",
   "metadata": {
    "button": false,
    "deletable": true,
    "new_sheet": false,
    "run_control": {
     "read_only": false
    }
   },
   "source": [
    "### Other things we can do with graphs in Sage\n",
    "\n",
    "The list of methods we can employ with graphs in Sage is seemingly bottomless. Here is just a sample of things that we can and will do. \n",
    "\n",
    "__Generate random graphs:__ This is very handy for making up examples to work with. There are several methods for creating random graphs, two of which we will focus on here. `RandomGNP` creates a graph with a specified number of nodes and a probability that any pair of nodes is adjacent. For example: "
   ]
  },
  {
   "cell_type": "code",
   "execution_count": null,
   "metadata": {
    "button": false,
    "collapsed": false,
    "deletable": true,
    "new_sheet": false,
    "run_control": {
     "read_only": false
    }
   },
   "outputs": [],
   "source": [
    "g = graphs.RandomGNP(10, 0.3)\n",
    "g.show()"
   ]
  },
  {
   "cell_type": "markdown",
   "metadata": {
    "button": false,
    "deletable": true,
    "new_sheet": false,
    "run_control": {
     "read_only": false
    }
   },
   "source": [
    "This generates a random graph on 10 nodes with a 30% chance of any pair of nodes being connected. Re-run the code block to generate a new graph. \n",
    "\n",
    "The `RandomGMN` method creates a graph with a specified number of nodes and edges. For example, here is a random graph with 20 nodes and 35\n",
    "edges: "
   ]
  },
  {
   "cell_type": "code",
   "execution_count": null,
   "metadata": {
    "button": false,
    "collapsed": false,
    "deletable": true,
    "new_sheet": false,
    "run_control": {
     "read_only": false
    }
   },
   "outputs": [],
   "source": [
    "g2 = graphs.RandomGNM(20, 35)\n",
    "g2.show()"
   ]
  },
  {
   "cell_type": "markdown",
   "metadata": {
    "button": false,
    "deletable": true,
    "new_sheet": false,
    "run_control": {
     "read_only": false
    }
   },
   "source": [
    "And then we can see this as a dictionary, for example: "
   ]
  },
  {
   "cell_type": "code",
   "execution_count": null,
   "metadata": {
    "button": false,
    "collapsed": false,
    "deletable": true,
    "new_sheet": false,
    "run_control": {
     "read_only": false
    }
   },
   "outputs": [],
   "source": [
    "g2.to_dictionary()"
   ]
  },
  {
   "cell_type": "markdown",
   "metadata": {
    "button": false,
    "deletable": true,
    "new_sheet": false,
    "run_control": {
     "read_only": false
    }
   },
   "source": [
    "Try generating the adjacency matrix for this one. \n",
    "\n",
    "__Getting information about graphs:__ Check out the following methods for graphs, applied to the graphs `g` and `g2` above: "
   ]
  },
  {
   "cell_type": "code",
   "execution_count": null,
   "metadata": {
    "button": false,
    "collapsed": false,
    "deletable": true,
    "new_sheet": false,
    "run_control": {
     "read_only": false
    }
   },
   "outputs": [],
   "source": [
    "g.vertices()  # Returns a list of nodes"
   ]
  },
  {
   "cell_type": "code",
   "execution_count": null,
   "metadata": {
    "button": false,
    "collapsed": false,
    "deletable": true,
    "new_sheet": false,
    "run_control": {
     "read_only": false
    }
   },
   "outputs": [],
   "source": [
    "g.num_verts()   # Returns the number of nodes"
   ]
  },
  {
   "cell_type": "code",
   "execution_count": null,
   "metadata": {
    "button": false,
    "collapsed": false,
    "deletable": true,
    "new_sheet": false,
    "run_control": {
     "read_only": false
    }
   },
   "outputs": [],
   "source": [
    "g.num_edges()   # Returns the number of edges"
   ]
  },
  {
   "cell_type": "code",
   "execution_count": null,
   "metadata": {
    "button": false,
    "collapsed": false,
    "deletable": true,
    "new_sheet": false,
    "run_control": {
     "read_only": false
    }
   },
   "outputs": [],
   "source": [
    "g2.degree(9)   # Returns the degree of a specified node "
   ]
  },
  {
   "cell_type": "code",
   "execution_count": null,
   "metadata": {
    "button": false,
    "collapsed": false,
    "deletable": true,
    "new_sheet": false,
    "run_control": {
     "read_only": false
    }
   },
   "outputs": [],
   "source": [
    "g2.degree_sequence()   # Returns a list of the degrees of nodes in a graph -- unfortunately in decreasing order and NOT \n",
    "                       # in order of the nodes themselves. "
   ]
  },
  {
   "cell_type": "markdown",
   "metadata": {
    "button": false,
    "deletable": true,
    "new_sheet": false,
    "run_control": {
     "read_only": false
    }
   },
   "source": [
    "It would be nice if `.degree_sequence()` gave the degree sequence in order of the nodes -- the degree of node 0, then the degree of node 1, and so on. It doesn't do this, but since Sage is built on Python, we can easily write a short script to do what we want: "
   ]
  },
  {
   "cell_type": "code",
   "execution_count": null,
   "metadata": {
    "button": false,
    "collapsed": false,
    "deletable": true,
    "new_sheet": false,
    "run_control": {
     "read_only": false
    }
   },
   "outputs": [],
   "source": [
    "better_degree_sequence = [ ]\n",
    "for v in g2.vertices():                           # Loop through the vertices and add the degree of each one, one at a time\n",
    "    better_degree_sequence.append(g2.degree(v))   \n",
    "    \n",
    "print(better_degree_sequence)"
   ]
  },
  {
   "cell_type": "markdown",
   "metadata": {
    "button": false,
    "deletable": true,
    "new_sheet": false,
    "run_control": {
     "read_only": false
    }
   },
   "source": [
    "Or we can do this in one line with a list comprehension: "
   ]
  },
  {
   "cell_type": "code",
   "execution_count": null,
   "metadata": {
    "button": false,
    "collapsed": false,
    "deletable": true,
    "new_sheet": false,
    "run_control": {
     "read_only": false
    }
   },
   "outputs": [],
   "source": [
    "even_better = [g2.degree(v) for v in g2.vertices()]\n",
    "\n",
    "print(even_better)"
   ]
  },
  {
   "cell_type": "markdown",
   "metadata": {
    "button": false,
    "deletable": true,
    "new_sheet": false,
    "run_control": {
     "read_only": false
    }
   },
   "source": [
    "The upshot here is that we can bring together the scripting language Python provides us, with the mathematical capabilities of Sage to do some pretty awesome things. \n",
    "\n",
    "\n",
    "To see a complete list of graph methods, enter in the name of the graph followed by a dot (.) and hit tab. For example, hit tab in the code block below: "
   ]
  },
  {
   "cell_type": "code",
   "execution_count": null,
   "metadata": {
    "button": false,
    "collapsed": true,
    "deletable": true,
    "new_sheet": false,
    "run_control": {
     "read_only": false
    }
   },
   "outputs": [],
   "source": [
    "g2."
   ]
  },
  {
   "cell_type": "markdown",
   "metadata": {
    "button": false,
    "deletable": true,
    "new_sheet": false,
    "run_control": {
     "read_only": false
    }
   },
   "source": [
    "You can then select from the list. If you enter a question mark (?) instead of the parentheses for a method, you will get the help documentation on that method. For example, execute the code block below to get the help documentation on the `.chromatic_number` method: "
   ]
  },
  {
   "cell_type": "code",
   "execution_count": null,
   "metadata": {
    "button": false,
    "collapsed": true,
    "deletable": true,
    "new_sheet": false,
    "run_control": {
     "read_only": false
    }
   },
   "outputs": [],
   "source": [
    "g2.chromatic_number?"
   ]
  },
  {
   "cell_type": "markdown",
   "metadata": {
    "button": false,
    "deletable": true,
    "new_sheet": false,
    "run_control": {
     "read_only": false
    }
   },
   "source": [
    "## Preview Activities \n",
    "\n",
    "Found here on Formative: https://goformative.com/student/#/assignments/NMKC434 \n",
    "\n",
    "## Daily Homework \n",
    "\n",
    "1. Consider the graph pictured [here](https://goo.gl/EisdOK). Write (by hand) this graph as a list of pairs, a dictionary, and an adjacency matrix. \n",
    "2. Consider the graph given by the dictionary `{0: [1, 2, 5], 1: [0, 3, 4, 5], 2: [0, 5], 3: [1, 4], 4: [1, 3], 5: [0, 1, 2]}`. Draw this graph (by hand first, then check with Sage) and represent is as a list of pairs and as an adjacency matrix (again, by hand first and then check with Sage). \n",
    "3. Suppose you are given the adjacency matrix for a graph and you want to know the degree of a particular node. How can you do this without switching the representation of the graph to a list, a dictionary, or a visual diagram? Explain. \n",
    "3. Suppose we are given a graph in Sage and a node from that graph, and we want Sage to find all edges that are incident with that node. Either find a Sage method that does this, or write a short script that will do it. For instance in the `second_graph` that is featured above, the edges incident with node 3 are `(3,4)` and `(2,3)`. \n"
   ]
  },
  {
   "cell_type": "code",
   "execution_count": null,
   "metadata": {
    "button": false,
    "collapsed": true,
    "deletable": true,
    "new_sheet": false,
    "run_control": {
     "read_only": false
    }
   },
   "outputs": [],
   "source": []
  }
 ],
 "metadata": {
  "kernelspec": {
   "display_name": "Local Python",
   "language": "python",
   "name": "local"
  },
  "language_info": {
   "codemirror_mode": {
    "name": "ipython",
    "version": 2
   },
   "file_extension": ".py",
   "mimetype": "text/x-python",
   "name": "python",
   "nbconvert_exporter": "python",
   "pygments_lexer": "ipython2",
   "version": "2.7.10"
  },
  "name": "lesson15.ipynb"
 },
 "nbformat": 4,
 "nbformat_minor": 0
}
