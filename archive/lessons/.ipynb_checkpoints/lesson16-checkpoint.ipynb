{
 "cells": [
  {
   "cell_type": "markdown",
   "metadata": {
    "button": false,
    "collapsed": false,
    "deletable": true,
    "new_sheet": false,
    "run_control": {
     "read_only": false
    }
   },
   "source": [
    "# Lesson 16: Special graphs and their properties\n",
    "\n",
    "## Overview\n",
    "\n",
    "__Summary:__ Within the study of graphs there are special types of graphs that appear frequently in applications and as examples. In this lesson we will meet those graphs: the _complete_ graphs, _cycle_ graphs, _wheel_ graphs, _cube_ graphs, and _bipartite_ graphs (include the _complete bipartite_ graphs). We'll also learn how to generate these and other special graph types using Sage, and explore some mathematical properties of these graphs which we will study further in our class meeting. \n",
    "\n",
    "This lesson addresses the following learning targets: \n",
    "\n",
    "+ __GT.1:__ I can give examples of graphs having combinations of various graph properties (directed, undirected, simple graph, multigraph) and instances of graphs of special types (complete, wheel, cycle, cube, bipartite, complete bipartite).\n",
    "+ __GT.3:__ Given a directed or undirected graph in any representation, I can determine information about the graph as a whole and information about individual nodes and edges using both practical and theoretical methods.\n",
    "\n",
    "__Note:__ Please download this Jupyter notebook and upload it to SageMath Cloud, and be sure to change to the SageMath kernel. All of the code blocks below need to be evaluated. \n",
    "\n",
    "## Background\n",
    "\n",
    "In this lesson we are going to define several special classes of graphs and explore their properties. \n",
    "\n",
    "### Complete graphs\n",
    "\n",
    "The __complete graph__ on $n$ nodes is the graph in which every pair of distinct (different) nodes has an edge between them. The complete graph on $n$ nodes is usually denoted $K_n$. For example, here are $K_4$ and $K_{10}$: \n",
    "\n",
    "\n",
    "<div id=\"image-table\">\n",
    "    <table>\n",
    "        <tr>\n",
    "            <td style=\"padding:10px\">\n",
    "                <img src=\"k4.png\">\n",
    "              </td>\n",
    "            <td style=\"padding:10px\">\n",
    "                <img src=\"k10.png\">\n",
    "             </td>\n",
    "        </tr>\n",
    "    </table>\n",
    "</div>\n",
    "\n",
    "Complete graphs, like all the special graphs we will see in this lesson, are -- well -- _special_, and so they are built in to Sage for easy use. Here, for example, is how to generate $K_4$: "
   ]
  },
  {
   "cell_type": "code",
   "execution_count": null,
   "metadata": {
    "button": false,
    "collapsed": true,
    "deletable": true,
    "new_sheet": false,
    "run_control": {
     "read_only": false
    }
   },
   "outputs": [],
   "source": [
    "k4 = graphs.CompleteGraph(4)"
   ]
  },
  {
   "cell_type": "markdown",
   "metadata": {
    "button": false,
    "deletable": true,
    "new_sheet": false,
    "run_control": {
     "read_only": false
    }
   },
   "source": [
    "You can now work with `k4` like any other graph. For example, `k4.show()` will display the graph. Or we can use any of the methods we learned in Lesson 15. Execure the following code blocks to see: "
   ]
  },
  {
   "cell_type": "code",
   "execution_count": null,
   "metadata": {
    "button": false,
    "collapsed": false,
    "deletable": true,
    "new_sheet": false,
    "run_control": {
     "read_only": false
    }
   },
   "outputs": [],
   "source": [
    "k4.adjacency_matrix()"
   ]
  },
  {
   "cell_type": "code",
   "execution_count": null,
   "metadata": {
    "button": false,
    "collapsed": false,
    "deletable": true,
    "new_sheet": false,
    "run_control": {
     "read_only": false
    }
   },
   "outputs": [],
   "source": [
    "k4.to_dictionary()"
   ]
  },
  {
   "cell_type": "code",
   "execution_count": null,
   "metadata": {
    "button": false,
    "collapsed": false,
    "deletable": true,
    "new_sheet": false,
    "run_control": {
     "read_only": false
    }
   },
   "outputs": [],
   "source": [
    "k4.edges(labels=False)"
   ]
  },
  {
   "cell_type": "code",
   "execution_count": null,
   "metadata": {
    "button": false,
    "collapsed": false,
    "deletable": true,
    "new_sheet": false,
    "run_control": {
     "read_only": false
    }
   },
   "outputs": [],
   "source": [
    "# You don't have to define the graph as a variable in order to do these things; just chain methods together like this: \n",
    "graphs.CompleteGraph(12).num_edges()   # Gives the number of edges in K_12"
   ]
  },
  {
   "cell_type": "markdown",
   "metadata": {
    "button": false,
    "deletable": true,
    "new_sheet": false,
    "run_control": {
     "read_only": false
    }
   },
   "source": [
    "### Cycle graphs\n",
    "\n",
    "For $n \\geq 3$, the __cycle graph__, denoted $C_n$, consists of $n$ vertices $v_1, v_2, \\dots, v_n$ and edges $\\{v_1, v_2\\}, \\{v_2, v_3\\}, \\dots, \\{v_{n-1}, v_n\\}$ and $\\{v_n, v_1\\}$. The cycle graph isn't defined for 2 or fewer nodes. \n",
    "\n",
    "For example, here is $C_5$. Note the Sage command to generate it: "
   ]
  },
  {
   "cell_type": "code",
   "execution_count": null,
   "metadata": {
    "button": false,
    "collapsed": false,
    "deletable": true,
    "new_sheet": false,
    "run_control": {
     "read_only": false
    }
   },
   "outputs": [],
   "source": [
    "graphs.CycleGraph(5).show()"
   ]
  },
  {
   "cell_type": "markdown",
   "metadata": {
    "button": false,
    "deletable": true,
    "new_sheet": false,
    "run_control": {
     "read_only": false
    }
   },
   "source": [
    "And here is $C_{15}$: "
   ]
  },
  {
   "cell_type": "code",
   "execution_count": null,
   "metadata": {
    "button": false,
    "collapsed": false,
    "deletable": true,
    "new_sheet": false,
    "run_control": {
     "read_only": false
    }
   },
   "outputs": [],
   "source": [
    "graphs.CycleGraph(15).show()"
   ]
  },
  {
   "cell_type": "markdown",
   "metadata": {
    "button": false,
    "deletable": true,
    "new_sheet": false,
    "run_control": {
     "read_only": false
    }
   },
   "source": [
    "### Wheel graphs\n",
    "\n",
    "The __wheel graph__, denoted $W_n$, is the cycle graph $C_{n-1}$ with an additional vertex that is connected to all $n-1$ nodes in $C_{n-1}$. We usually draw $W_n$ with the extra vertex situated in the middle so that the extra edges look like spokes on a wheel. \n",
    "\n",
    "Here is $W_5$ for example: "
   ]
  },
  {
   "cell_type": "code",
   "execution_count": null,
   "metadata": {
    "button": false,
    "collapsed": false,
    "deletable": true,
    "new_sheet": false,
    "run_control": {
     "read_only": false
    }
   },
   "outputs": [],
   "source": [
    "graphs.WheelGraph(5).show()  # It's C4 with an extra fifth node in the middle. "
   ]
  },
  {
   "cell_type": "markdown",
   "metadata": {
    "button": false,
    "deletable": true,
    "new_sheet": false,
    "run_control": {
     "read_only": false
    }
   },
   "source": [
    "And $W_{10}$, which looks a little more wheel-like: "
   ]
  },
  {
   "cell_type": "code",
   "execution_count": null,
   "metadata": {
    "button": false,
    "collapsed": false,
    "deletable": true,
    "new_sheet": false,
    "run_control": {
     "read_only": false
    }
   },
   "outputs": [],
   "source": [
    "graphs.WheelGraph(10).show()  # It's C9 with an extra tenth node in the middle. "
   ]
  },
  {
   "cell_type": "markdown",
   "metadata": {
    "button": false,
    "deletable": true,
    "new_sheet": false,
    "run_control": {
     "read_only": false
    }
   },
   "source": [
    "## Cube graphs\n",
    "\n",
    "The __$n$-cube graph__, denoted $Q_n$, is very useful in computing applications and is a little more complicated than the special graphs we've seen up to this point. Let's define it carefully. For a positive integer $n$, we define $Q_n$ to be the graph where: \n",
    "\n",
    "+ The nodes of the graph are all the possible bit strings of length $n$. For example the nodes of $Q_3$ are `000`, `001`, `010`, `011`, `100`, `101`, `110`, and `111`. (Therefore there are $2^n$ nodes in $Q_n$.) \n",
    "+ Given two nodes, there is an edge incident with them if and only if the bitstrings differ by exactly one bit. For example, in $Q_3$ there would be an edge connecting `100` and `000`, also `100` and `101`; but no edge connecting `000` and `101`. \n",
    "\n",
    "Here are drawings of $Q_1$ through $Q_4$:"
   ]
  },
  {
   "cell_type": "code",
   "execution_count": null,
   "metadata": {
    "button": false,
    "collapsed": false,
    "deletable": true,
    "new_sheet": false,
    "run_control": {
     "read_only": false
    }
   },
   "outputs": [],
   "source": [
    "graphs.CubeGraph(1).show()"
   ]
  },
  {
   "cell_type": "code",
   "execution_count": null,
   "metadata": {
    "button": false,
    "collapsed": false,
    "deletable": true,
    "new_sheet": false,
    "run_control": {
     "read_only": false
    }
   },
   "outputs": [],
   "source": [
    "graphs.CubeGraph(2).show()"
   ]
  },
  {
   "cell_type": "code",
   "execution_count": null,
   "metadata": {
    "button": false,
    "collapsed": false,
    "deletable": true,
    "new_sheet": false,
    "run_control": {
     "read_only": false
    }
   },
   "outputs": [],
   "source": [
    "graphs.CubeGraph(3).show(layout=\"spring\")"
   ]
  },
  {
   "cell_type": "markdown",
   "metadata": {
    "button": false,
    "deletable": true,
    "new_sheet": false,
    "run_control": {
     "read_only": false
    }
   },
   "source": [
    "Note on $Q_3$ above: In this drawing you can see why it's called a \"cube\" graph. Also please note the `layout=\"spring\"` setting. Without this additional parameter for $Q_3$, Sage will draw the graph with the `001` and `110` nodes on top of each other, and you can't tell they are two separate nodes. \n",
    "\n",
    "Here is $Q_4$:"
   ]
  },
  {
   "cell_type": "code",
   "execution_count": null,
   "metadata": {
    "button": false,
    "collapsed": false,
    "deletable": true,
    "new_sheet": false,
    "run_control": {
     "read_only": false
    }
   },
   "outputs": [],
   "source": [
    "graphs.CubeGraph(4).show()"
   ]
  },
  {
   "cell_type": "markdown",
   "metadata": {
    "button": false,
    "deletable": true,
    "new_sheet": false,
    "run_control": {
     "read_only": false
    }
   },
   "source": [
    "We can also define $Q_n$ recursively, as follows: \n",
    "\n",
    "+ Define $Q_1$ to be the graph whose nodes are two bits `0` and `1` and there is only one edge, a single edge between the two nodes. \n",
    "+ Once $Q_n$ has been defined, construct $Q_{n+1}$ as follows: Make two copies of $Q_n$. Then, append all the nodes in one copy of $Q_n$ with a `0` bit on the left, and append all nodes in the other copy of $Q_n$ with a `1` bit on the left. Then add new edges between any two nodes that differ only in the _first_ (left most) bit. The resulting graph is $Q_{n+1}$. \n",
    "\n",
    "[Here is a one-minute video that shows this process in action](https://goo.gl/cbcyfb), constructing $Q_3$ from $Q_2$. \n",
    "\n",
    "### Bipartite graphs\n",
    "\n",
    "The last class of special graphs we will study are the __bipartite graphs__, and we'll set up the definition of those graphs with an example. \n",
    "\n",
    "Suppose that a software project team is being formed from a group of three programmers (Alice, Bob, and Chuck) and four user-experience designers (Maude, Neil, Orson, and Peter). The project manager wants the team to split up into pairs consisting of one programmer and one user-experience designer. There cannot be any pairs of two programmers or two user-experience designers. Furthermore, the manager knows that Alice and Peter have worked together before and not gotten along, so those two cannot be paired off; and Bob and Maude can't be paired off because their schedules don't align. \n",
    "\n",
    "We can draw a graph that visualizes all the possible pairings. The nodes of the graph are the seven people on the team; and an edge connects two nodes if the two people can be put into a pair. That graph would look like this: "
   ]
  },
  {
   "cell_type": "code",
   "execution_count": null,
   "metadata": {
    "button": false,
    "collapsed": false,
    "deletable": true,
    "new_sheet": false,
    "run_control": {
     "read_only": false
    }
   },
   "outputs": [],
   "source": [
    "team_dictionary = {'Alice': ['Maude', 'Neil', 'Orson'],\n",
    "                   'Bob': ['Neil', 'Orson', 'Peter'],\n",
    "                   'Chuck': ['Maude', 'Neil', 'Orson', 'Peter']}\n",
    "teams = Graph(team_dictionary)\n",
    "teams.show()"
   ]
  },
  {
   "cell_type": "markdown",
   "metadata": {
    "button": false,
    "deletable": true,
    "new_sheet": false,
    "run_control": {
     "read_only": false
    }
   },
   "source": [
    "The graph is a little more evocative if it's laid out like this: "
   ]
  },
  {
   "cell_type": "code",
   "execution_count": null,
   "metadata": {
    "button": false,
    "collapsed": false,
    "deletable": true,
    "new_sheet": false,
    "run_control": {
     "read_only": false
    }
   },
   "outputs": [],
   "source": [
    "teams.show(layout='graphviz')"
   ]
  },
  {
   "cell_type": "markdown",
   "metadata": {
    "button": false,
    "deletable": true,
    "new_sheet": false,
    "run_control": {
     "read_only": false
    }
   },
   "source": [
    "There are two properties about the nodes and edges of this graph that jump out from this visual: \n",
    "\n",
    "1. The nodes can be separated into two disjoint parts. (In this case, one part is the set of programmers and the other part is the set of UX designers.) \n",
    "2. If there is an edge in the graph, it has to go from one \"part\" to the other -- there are no edges within the parts. \n",
    "\n",
    "This kind of graph we will call __bipartite__ (\"two parts\"). Here is the formal definition: \n",
    "\n",
    ">__Definition:__ A graph $G$ is called __bipartite__ if its vertex set $V$ can be partitioned into two disjoint sets $V_1$ and $V_2$ such that every edge in the graph connects a node in $V_1$ to a node in $V_2$. The pair of sets $(V_1, V_2)$ is called a _bipartition_ of the vertex set of $G$. \n",
    "\n",
    "Some of the graphs we've already seen are bipartite. For example $C_6$ is bipartite because we can split the nodes of $C_6$ up into two disjoint parts -- the nodes 0, 2, 4 and the nodes 1, 3, 5 -- so that the edges only go between the parts, never within them. Here's the standard picture of $C_6$: "
   ]
  },
  {
   "cell_type": "code",
   "execution_count": null,
   "metadata": {
    "button": false,
    "collapsed": false,
    "deletable": true,
    "new_sheet": false,
    "run_control": {
     "read_only": false
    }
   },
   "outputs": [],
   "source": [
    "graphs.CycleGraph(6).show()"
   ]
  },
  {
   "cell_type": "markdown",
   "metadata": {
    "button": false,
    "deletable": true,
    "new_sheet": false,
    "run_control": {
     "read_only": false
    }
   },
   "source": [
    "You can see the bipartition from this picture -- nodes 0, 2, 4 are not connected by edges and neither are nodes 1, 3, 5 -- and the edges only go from one partition to the other. \n",
    "\n",
    "On the other hand, $C_5$ is _not_ bipartite: "
   ]
  },
  {
   "cell_type": "code",
   "execution_count": null,
   "metadata": {
    "button": false,
    "collapsed": false,
    "deletable": true,
    "new_sheet": false,
    "run_control": {
     "read_only": false
    }
   },
   "outputs": [],
   "source": [
    "graphs.CycleGraph(5).show()"
   ]
  },
  {
   "cell_type": "markdown",
   "metadata": {
    "button": false,
    "deletable": true,
    "new_sheet": false,
    "run_control": {
     "read_only": false
    }
   },
   "source": [
    "How do we know that $C_5$ is not bipartite? Well, suppose that $C_5$ _were_ bipartite. The node 0 has to belong to one of the two partitions, and nodes 1 and 4 have to belong to the other since there are edges incident with nodes 0 and 1, and with 0 and 4. Now node 2 has to be in a different partition than 1 since there is an edge between 1 and 2. Since there are only two partitions, that means that 0 and 2 are in the same partition. Likewise, node 3 cannot be in the same partition as node 4, so it has to be in the partition including 0 and 2. However... this can't happen. Nodes 2 and 3 have to belong to different partitions because they are connected with an edge. We have arrived at a contradiction, and so $C_5$ is not bipartite. \n",
    "\n",
    "\n",
    "Note that bipartite graphs don't have to make _all possible_ connections from one part to the other. For example above, Alice and Peter aren't connected. If we have a bipartite graph in which there is an edge between _each_ pair of nodes from different parts, then this is called the __complete bipartite graph__. If there are $m$ nodes in one part and $n$ nodes in the other, the complete bipartite graph on those $n + m$ nodes is denoted $K_{m,n}$. \n",
    "\n",
    "For example here is a drawing of $K_{3,3}$: "
   ]
  },
  {
   "cell_type": "code",
   "execution_count": null,
   "metadata": {
    "button": false,
    "collapsed": false,
    "deletable": true,
    "new_sheet": false,
    "run_control": {
     "read_only": false
    }
   },
   "outputs": [],
   "source": [
    "graphs.CompleteBipartiteGraph(3,3).show()"
   ]
  },
  {
   "cell_type": "markdown",
   "metadata": {
    "button": false,
    "deletable": true,
    "new_sheet": false,
    "run_control": {
     "read_only": false
    }
   },
   "source": [
    "And here is $K_{3,4}$ -- note that this is not the same as the project team graph above because this one has more edges. "
   ]
  },
  {
   "cell_type": "code",
   "execution_count": null,
   "metadata": {
    "button": false,
    "collapsed": false,
    "deletable": true,
    "new_sheet": false,
    "run_control": {
     "read_only": false
    }
   },
   "outputs": [],
   "source": [
    "graphs.CompleteBipartiteGraph(3,4).show()"
   ]
  },
  {
   "cell_type": "markdown",
   "metadata": {
    "button": false,
    "deletable": true,
    "new_sheet": false,
    "run_control": {
     "read_only": false
    }
   },
   "source": [
    "It's important to keep in mind the difference between the _complete graph_ $K_n$ and the _complete bipartite graph_ $K_{m,n}$. They are not the same nor really even related to each other. "
   ]
  },
  {
   "cell_type": "markdown",
   "metadata": {
    "button": false,
    "deletable": true,
    "new_sheet": false,
    "run_control": {
     "read_only": false
    }
   },
   "source": [
    "## Preview Activities \n",
    "\n",
    "Found here on Formative: https://goformative.com/student/#/assignments/EAUU474\n",
    "\n",
    "\n",
    "## Daily Homework \n",
    "\n",
    "The daily homework questions this time around are _questions_ that start with specific computations that you can do on Sage, followed with questions that ask you to _make a conjecture_ about the behavior of a graph in general. What you are expected to do is perform the specific computations using Sage (or by hand), record your answers, and then make a guess as to what the general result is. Bring your results into class, and we will spend the post-homework time in class thinking about one or more of your conjectures. \n",
    "\n",
    "1. How many edges does $K_3$ have? How many edges do the graphs $K_4$, $K_5$, $K_6$, $K_7$, and $K_8$ have? In general: How many edges does $K_n$ have, where $n$ is a positive integer? Make a conjecture (educated guess) based on the specific computations you did. \n",
    "2. What is the degree of each vertex in $Q_2$? What is the degree of each vertex in the graphs $Q_3, Q_4, Q_5$, and $Q_6$? In general: What is the degree of each vertex in $Q_n$ for any positive integer $n$? Make a conjecture (educated guess) based on the specific computations you did. (Bonus question: How do we know that each node in $Q_n$ has the same degree?) \n",
    "3. We saw above that $C_6$ is bipartite but $C_5$ is not. Look at the graphs $C_3, C_4, C_7, C_8, C_9, C_{10}$ and determine which ones are bipartite. (Hint: There's a Sage method for almost everything.) In general: Under what condition or conditions on $n$ will $C_n$ be bipartite? Make a conjecture (educated guess) based on the specific computations you did. \n",
    "4. How many edges does the complete bipartite graph $K_{2,2}$ have? How many edges do the following graphs have: $K_{2,3}, K_{2,4}, K_{3,3}, K_{3,4}, K_{3,5}, K_{4,3}$? In general: How many edges does $K_{m,n}$ have where $m,n$ are positive integers? Make a conjecture (educated guess) based on the specific computations you did. "
   ]
  },
  {
   "cell_type": "code",
   "execution_count": null,
   "metadata": {
    "button": false,
    "collapsed": true,
    "deletable": true,
    "new_sheet": false,
    "run_control": {
     "read_only": false
    }
   },
   "outputs": [],
   "source": []
  }
 ],
 "metadata": {
  "kernelspec": {
   "display_name": "SageMath 6.10",
   "language": "",
   "name": "sagemath"
  },
  "language_info": {
   "codemirror_mode": {
    "name": "ipython",
    "version": 2
   },
   "file_extension": ".py",
   "mimetype": "text/x-python",
   "name": "python",
   "nbconvert_exporter": "python",
   "pygments_lexer": "ipython2",
   "version": "2.7.10"
  },
  "name": "lesson16.ipynb"
 },
 "nbformat": 4,
 "nbformat_minor": 0
}
