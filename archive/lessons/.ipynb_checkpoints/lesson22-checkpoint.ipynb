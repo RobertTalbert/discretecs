{
 "cells": [
  {
   "cell_type": "markdown",
   "metadata": {
    "button": false,
    "deletable": true,
    "new_sheet": false,
    "run_control": {
     "read_only": false
    }
   },
   "source": [
    "# Lesson 22: Spanning trees\n",
    "\n",
    "## Overview\n",
    "\n",
    "__Summary:__ In this lesson we introduce the final big concept of MTH 325, the concept of the __tree__. A tree is a special kind of graph, and we will introduce trees by way of a problem that involves graphs: How do we find a \"minimal\" structure within a graph that serves as a kind of \"backbone\" for the graph? After introducing the concept of the __weighted graph__, we'll learn the concept of a __spanning tree__ and study two algorithms for constructing a spanning tree -- __Kruskal's Algorithm__ and __Prim's Algorithm__. \n",
    "\n",
    "This lesson addresses the following learning targets: \n",
    "\n",
    "+ __GT.8:__ I can construct a spanning tree for a connected graph and a minimal spanning tree for a weighted connected graph using either Prim’s Algorithm or Kruskal’s algorithm.\n",
    "\n",
    "## Background\n",
    "\n",
    "### Part 1: Trees \n",
    "\n",
    "A very special kind of graph shows up in applications that involve _organizing things_ and _making decisions about things_. For example, the [organizational chart](https://en.wikipedia.org/wiki/Organizational_chart) for a company is a kind of graph: \n",
    "\n",
    "<img src=\"https://www.gliffy.com/_ui/images/examples/example_orgchart_company_large.png\">\n",
    "\n",
    "An org chart shows a \"chain of command\" within a company, with the nodes being individual people (or offices) and there is an edge between two nodes if one node reports directly to another (or is reported to by another). Org charts are also frequently used in governments and military organizations. \n",
    "\n",
    "Here's a similar kind of graph that shows how a person might troubleshoot a TV set that's acting up: \n",
    "\n",
    "<img src=\"http://www.sfs.uni-tuebingen.de/~vhenrich/ss12/java/homework/hw7/tvTree.jpg\" height=600 width=600>\n",
    "\n",
    "It's like a [flowchart](https://en.wikipedia.org/wiki/Flowchart) that one often uses for designing software. Each node is either a question or an action; and the edges \"flow\" from one node to the next. One would use this graph to make decisions about what's wrong with one's TV. \n",
    "\n",
    "From the standpoint of graphs, there are two characteristics that these diagrams and others like them have, that make them special: \n",
    "\n",
    "1. __There are no cycles in the graph.__ For example, in an org chart, you typically do not have a large circuit of people reporting to each other (otherwise decisions would never get made!). In the flowchart example above, there are no feedback loops that require you to go back and do something over and over again. This is not the case for _all_ flowcharts; just the one above. \n",
    "2. __The graphs are connected__, which means that the graph is in \"one piece\" -- there is a path from any node to any other node. \n",
    "\n",
    "It turns out that these kinds of graphs are of central importance in computer science. \n",
    "\n",
    ">__Definition:__ A graph is said to be a __tree__ if it is connected and contains no cycles. \n",
    "\n",
    "Here are several examples of trees: \n",
    "\n",
    "<img src=\"treeexamples.png\">\n",
    "\n",
    "\n",
    "We call these graphs trees because they visually resemble real trees:\n",
    "\n",
    "<img src=\"https://www.sciencenews.org/sites/default/files/main/articles/112015_cs_amazon-tree-main_free.jpg\" height=600 width=600>\n",
    "\n",
    "The exception is that we usually draw trees with the \"root\" at the top rather than at the bottom, unlike natural trees. \n",
    "\n",
    "__The final three lessons of this course are all about trees.__ They are the third of the three big characters in MTH 325 along with relations and graphs. We will have a lot more to say about them but for now, suffice to say that they are one of the most common discrete structures used in all of computer science and mathematics. \n",
    "\n",
    "### Part 2: Spanning trees\n",
    "\n",
    "The main problem for this lesson is illustrated by the following example. Suppose there is a network of eight towns (numbered 0 through 7) connected by 12 roads: \n",
    "\n",
    "<img src=\"roads.png\">\n",
    "\n",
    "The local government wants to construct bike paths that connect all eight of the towns. That is, a person in any of these towns should be able to bike to any of the other towns without leaving the bike path. We _could_ do this by simply putting down 12 bike paths, each of which runs parallel to one of the roads. However, this is a lot more construction than is strictly necessary. For example if we built bike paths directly linking towns 0, 4, and 5, it would be redundant because all we really need to connect is 0 to 4 and 0 to 5. That third bike path from 4 to 5 is not necessary. \n",
    "\n",
    "What the planners would want to know is, _what is the least amount of construction we need to do in order to be able to bike to any of the other towns?_ This would minimize cost and labor, without sacrificing bike access. \n",
    "\n",
    "Well, here is one possible answer to this question: Construct the paths along the red-colored edges: \n",
    "\n",
    "<img src=\"roads_mst.png\">\n",
    "\n",
    "Notice that all the towns are included in this red subgraph, so it's possible to get from any one town to any of the others via the bike path -- although it may not be a direct route. Also, notice that there are _no cycles_ in the red subgraph. As you might have noticed above, cycles in a graph are a source of redundancy -- in this problem they are an unnecessary extra cost. We didn't need the direct route from 4 to 5, because there was already  a sequence of edges from 4 to 0 then 0 to 5. \n",
    "\n",
    "In other words, the structure that minimizes the cost here is a __tree__ -- a connected graph with no cycles -- that lives inside the original graph and that includes all the nodes of the original graph but without all the edges. \n",
    "\n",
    "That idea has a name: \n",
    "\n",
    ">__Definition:__ Let $G$ be any graph. A subgraph $H$ of $G$ is called a __spanning tree__ if $H$ is a tree that includes all the nodes of $G$. \n",
    "\n",
    "The red graph above is a spanning tree for the road network graph. Note that graphs can have many different spanning trees. Here's another for the road/bike path network, for example: \n",
    "\n",
    "<img src=\"roads_mst2.png\">\n",
    "\n",
    "The big question for this lesson is how to construct a spanning tree for an arbitrary graph. But first, we will introduce one other new idea. \n",
    "\n",
    "\n",
    "### Part 3: Weighted graphs\n",
    "\n",
    "Going back to the towns and bike paths example, we assumed that minimizing cost of construction of the bike paths meant simply finding a spanning tree for the graph. But this makes an assumption that _the cost is the same no matter which two towns we connect_. That might not be the case in real life. For example maybe town 1 is 100 miles from any of the other towns, but the remaining towns are close together. In that case we would want to have as few paths going through town 1 as possible. Or, perhaps the road from town 2 to town 3 goes around a steep and curving mountainside and it would be significantly more expensive to create the bike path. There's a lot of information that this road graph is _not_ showing. \n",
    "\n",
    "\n",
    "Suppose after some further study, the road engineers are able to estimate the cost of constructing a bike path between any pair of cities: \n",
    "\n",
    "| Pair of cities | Cost (in $10K increments) |\n",
    "|:-------------: | :-----------------------: |\n",
    "| 0, 2 | 1 \n",
    "| 0, 3 | 6\n",
    "| 0, 4 | 6 \n",
    "| 0, 5 | 7 \n",
    "| 0, 7 | 10 \n",
    "| 1, 2 | 8 \n",
    "| 1, 5 | 6\n",
    "| 2, 3 | 5\n",
    "| 2, 6 | 6 \n",
    "| 3, 5 | 6\n",
    "| 3, 6 | 1\n",
    "| 4, 5 | 2\n",
    "\n",
    "(For example, it costs $50000 to build the bike path from town 2 to town 3.) We could attach this data to the edges of the graph like so: \n",
    "\n",
    "<img src=\"roads_weighted.png\">\n",
    "\n",
    "(We change the layout here so the edge labels can be seen more easily.) \n",
    "\n",
    "When we create a graph like this with numerical values attached to each of the edges, it's called a __weighted graph__. The edge labels are called the _weights_. Of course these don't necessarily mean literally weight, but the numbers could represent anything -- cost, distance, etc. \n",
    "\n",
    "A question we want to ask about weighted graphs is the _total weight of a subgraph_. For example if you look at the path from 2 to 5, its total weight is $8 + 6 = 14$. It would cost $140,000 just to build a bike path along that path. And if all we care about is getting from 2 to 5, then there is a \"cheaper\" way to do it: 2, to 0, to 5 which has a total weight of just 8. \n",
    "\n",
    "This brings us around to spanning trees again. This road graph could have many different spanning trees; we saw two different ones a little earlier. But they may not all _cost_ the same. For example: \n",
    "\n",
    "+ The first spanning tree given above with edges {0,2}, {0,3}, {0,4}, {0,5}, {0,7}, {1,2}, and {2,6} has a total weight of $1 + 6 + 6 + 7 + 10 + 8 + 6 = 44$. \n",
    "+ The second spanning tree with edges {0,2}, {0,4}, {0,5}, {0,7}, {1,2}, {2,6}, {2,3} has a total weight of $1+6+7+10+8+6+5 = 43$. It would cost $10,000 less to build the second bike path network than it would the first one. \n",
    "\n",
    "So _not all spanning trees of a weighted graph will have the same total weight_. A question that we would want to ask, and that the local authorities would definitely want to ask is: \n",
    "\n",
    ">__What spanning tree for a weighted graph has the _smallest possible_ total weight?__\n",
    "\n",
    "In other words, we have not examined all the possible spanning trees for the road network here; it could very well be the case that there is an even cheaper spanning tree stil out there to be discovered. How do we find it, apart from brute force? \n",
    "\n",
    "That's the question we will answer next. But first let's define the object we are talking about: \n",
    "\n",
    ">__Definition:__ Let $G$ be a weighted graph. Then a subgraph $H$ of $G$ is said to be a __minimum spanning tree__ of $G$ if $H$ is a spanning tree, and if $K$ is any other spanning tree, then $K$ has a total weight that is greater than or equal to that of $H$. \n",
    "\n",
    "In other words a minimum spanning tree for a weighted graph is a spanning tree (connected, no cycles, contains all of $G$'s nodes) that has the smallest total weight of any spanning tree of $G$. \n",
    "\n",
    "\n",
    "### Part 4: Prim's Algorithm\n",
    "\n",
    "Finding a minimum spanning tree for a weighted graph is an extremely important problem in real life and in computer sciece. It turns out there are very good ways of doing so, and we now introduce two different algorithms for constructing the minimum spanning tree of a weighted graph. \n",
    "\n",
    "The first algorithm for finding a minimal spanning tree for a weighted graph is called __Prim's Algorithm__. To learn this algorithm, please watch the following 7-minute video: \n",
    "\n",
    "https://www.youtube.com/watch?v=YyLaRffCdk4\n",
    "\n",
    "\n",
    "\n",
    "### Part 5: Kruskal's Algorithm\n",
    "\n",
    "The first algorithm for finding a minimal spanning tree for a weighted graph is called __Prim's Algorithm__. To learn this algorithm, please watch the following 5-minute video: \n",
    "\n",
    "https://www.youtube.com/watch?v=rcJTZXZJVUs\n",
    "\n",
    "Note some of the differences between these algorithms: \n",
    "\n",
    "+ Prim's Algorithm starts by choosing a random node to initialize the tree. Kruskal's Algorithm starts with no such choice; instead we first sort the edges by weight. \n",
    "+ Prim's Algorithm grows the tree incrementally, one edge at a time, and it's always a tree at every stage of the algorithm. In Kruskal's algorithm we could add an edge that is not even connected to the other edges, and it just comes together \"magically\" in the end. \n",
    "\n",
    "Also note that sometimes both algorithms could require arbitrary choices of nodes or edges. This is OK; we may end up with different spanning trees based on those choices but they will all have the same weight, which will be the lowest possible. (Why is that true?) \n",
    "\n",
    "\n",
    "### Where we are going from here\n",
    "\n",
    "In this reading you've learned about \n",
    "\n",
    "+ Trees\n",
    "+ Spanning trees for a graph\n",
    "+ Weighted graphs\n",
    "+ Minimum spanning trees for a weighted graph\n",
    "+ Two algorithms for constructing a minimum spanning tree\n",
    "\n",
    "What's next is to practice with using those two algorithms, and taking a look at some more applications of this idea. \n",
    "\n",
    "---\n",
    "\n",
    "## Preview Activities \n",
    "\n",
    "Here are the Preview Activities: https://goformative.com/student/#/assignments/QPTK294 \n",
    "\n",
    "\n",
    "## Daily Homework \n",
    "\n",
    "\n",
    "1. Explain how Prim's and Kruskal's Algorithm can be used to find a spanning tree of an _unweighted_ graph. Then use either one (or both!) to find a spanning tree of the following graph found here. \n",
    "2. Read the Appendix below for how to use Sage with this section, particularly the part about how Sage works with weighted graphs. Then [click here](https://gist.github.com/RobertTalbert/9f0879e5ed4b4297fc5f) to get a code snippet that will generate a random weighted graph in Sage. Generate a random weighted graph in Sage with 12 nodes and a 0.6666 probability of connection, and weights between 5 and 20; then save it to the variable `wg` and display it in Sage. (You can keep regenerating it or experiment with layouts if it becomes hard to see the edge weights; or do `wg.edges()` to print off the edges with weights if you can't see them on the visual drawing.) Then use both Prim's Algorithm by hand and then Kruskal's Algorithm by hand to find a minimum spanning tree for the graph. Use `wg.min_spanning_tree()` to check your work. \n",
    "\n",
    "\n",
    "---\n",
    "\n",
    "## Appendix: Using Sage with this lesson\n",
    "\n",
    "This appendix is interactive. Please download the Jupyter notebook (click on the download icon in the top-right, or get it from the Lesson 22 card on the Lessons and Learning Targets board) and open it in SageMath Cloud to follow along. \n",
    "\n",
    "\n",
    "### Using Sage to generate and display a spanning tree for a graph\n",
    "\n",
    "Let's begin by generating a random graph and calling it `g`:"
   ]
  },
  {
   "cell_type": "code",
   "execution_count": null,
   "metadata": {
    "button": false,
    "collapsed": false,
    "deletable": true,
    "new_sheet": false,
    "run_control": {
     "read_only": false
    }
   },
   "outputs": [],
   "source": [
    "g = graphs.RandomGNP(12, 0.4)\n",
    "g.show(layout='circular')"
   ]
  },
  {
   "cell_type": "markdown",
   "metadata": {
    "button": false,
    "deletable": true,
    "new_sheet": false,
    "run_control": {
     "read_only": false
    }
   },
   "source": [
    "It would be nice if there were a `spanning_tree` function or method that would produce a spanning tree for the graph. Unfortunately there isn't. However, there is something that is more useful: The method `.min_spanning_tree()` which as you probably can guess creates a minimum spanning tree. Normally we only do minimum spanning trees for _weighted_ graphs, but it turns out this method works OK on unweighted graphs too: "
   ]
  },
  {
   "cell_type": "code",
   "execution_count": null,
   "metadata": {
    "button": false,
    "collapsed": false,
    "deletable": true,
    "new_sheet": false,
    "run_control": {
     "read_only": false
    }
   },
   "outputs": [],
   "source": [
    "g.min_spanning_tree()"
   ]
  },
  {
   "cell_type": "markdown",
   "metadata": {
    "button": false,
    "deletable": true,
    "new_sheet": false,
    "run_control": {
     "read_only": false
    }
   },
   "source": [
    "The output of this method is a list of edges of a spanning tree. Notice that unlike what we've seen before, these edges are ordered _triples_ instead of ordered pairs. In a _weighted_ graph, the first two coordinates represent the two nodes the edge connects, and the third coordinate represents the weight of the edge. Since we are working with an unweighted graph, there are no weights and so there is a `None` in the third coordinate. \n",
    "\n",
    "If you want to display the spanning tree on the graph itself, do this (which we first saw in Lesson 20):"
   ]
  },
  {
   "cell_type": "code",
   "execution_count": null,
   "metadata": {
    "button": false,
    "collapsed": false,
    "deletable": true,
    "new_sheet": false,
    "run_control": {
     "read_only": false
    }
   },
   "outputs": [],
   "source": [
    "mst = g.min_spanning_tree()  # Assign the list of edges to a variable name; optional but saves space\n",
    "g.show(edge_colors={'red':mst}, layout='circular')"
   ]
  },
  {
   "cell_type": "markdown",
   "metadata": {
    "button": false,
    "deletable": true,
    "new_sheet": false,
    "run_control": {
     "read_only": false
    }
   },
   "source": [
    "### Using Sage to define and display weighted graphs\n",
    "\n",
    "To define a weighted graph in Sage, first of all we need to give a list of weighted edges. As discussed above, in this case edge is an ordered triple with the first two coordinates giving the nodes and the third coordinate giving the weight. For example here is a simple weighted graph using some Michigan cities, with the weight of an edge connecting two cities indicating the driving distance between the cities: "
   ]
  },
  {
   "cell_type": "code",
   "execution_count": null,
   "metadata": {
    "button": false,
    "collapsed": false,
    "deletable": true,
    "new_sheet": false,
    "run_control": {
     "read_only": false
    }
   },
   "outputs": [],
   "source": [
    "driving = [('Detroit', 'GR', 140),\n",
    "('Cadillac', 'Detroit', 208),\n",
    "('Cadillac', 'GR', 96),\n",
    "('GR', 'Lansing', 68),\n",
    "('Lansing', 'Detroit', 90),\n",
    "('GR', 'Holland', 30)]"
   ]
  },
  {
   "cell_type": "markdown",
   "metadata": {
    "button": false,
    "deletable": true,
    "new_sheet": false,
    "run_control": {
     "read_only": false
    }
   },
   "source": [
    "To make a weighted graph out of these edges, we use the usual `Graph` constructor and an additional parameter, `weighted=True`:"
   ]
  },
  {
   "cell_type": "code",
   "execution_count": null,
   "metadata": {
    "button": false,
    "collapsed": false,
    "deletable": true,
    "new_sheet": false,
    "run_control": {
     "read_only": false
    }
   },
   "outputs": [],
   "source": [
    "mi_driving = Graph(driving, weighted=True)"
   ]
  },
  {
   "cell_type": "markdown",
   "metadata": {
    "button": false,
    "deletable": true,
    "new_sheet": false,
    "run_control": {
     "read_only": false
    }
   },
   "source": [
    "We didn't ask Sage to display the graph, so nothing displays following the execution of the cell. If we just use the regular `.show()` method, the edge weights won't show up: "
   ]
  },
  {
   "cell_type": "code",
   "execution_count": null,
   "metadata": {
    "button": false,
    "collapsed": false,
    "deletable": true,
    "new_sheet": false,
    "run_control": {
     "read_only": false
    }
   },
   "outputs": [],
   "source": [
    "mi_driving.show()"
   ]
  },
  {
   "cell_type": "markdown",
   "metadata": {
    "button": false,
    "deletable": true,
    "new_sheet": false,
    "run_control": {
     "read_only": false
    }
   },
   "source": [
    "So we have to give `.show()` an additional parameter too, namely `edge_labels = True`:"
   ]
  },
  {
   "cell_type": "code",
   "execution_count": null,
   "metadata": {
    "button": false,
    "collapsed": false,
    "deletable": true,
    "new_sheet": false,
    "run_control": {
     "read_only": false
    }
   },
   "outputs": [],
   "source": [
    "mi_driving.show(edge_labels = True)"
   ]
  },
  {
   "cell_type": "markdown",
   "metadata": {
    "button": false,
    "collapsed": false,
    "deletable": true,
    "new_sheet": false,
    "run_control": {
     "read_only": false
    }
   },
   "source": [
    "### Using Sage to generate and display a minimum spanning tree for a graph\n",
    "\n",
    "Finally, to get a minimum spanning tree for a weighted graph, we've already met the `.min_spanning_tree()` method and that is what we will use here. For example, in our weighted graph of Michigan cities: "
   ]
  },
  {
   "cell_type": "code",
   "execution_count": null,
   "metadata": {
    "button": false,
    "collapsed": false,
    "deletable": true,
    "new_sheet": false,
    "run_control": {
     "read_only": false
    }
   },
   "outputs": [],
   "source": [
    "mi_driving.min_spanning_tree()"
   ]
  },
  {
   "cell_type": "markdown",
   "metadata": {
    "button": false,
    "collapsed": true,
    "deletable": true,
    "new_sheet": false,
    "run_control": {
     "read_only": false
    }
   },
   "source": [
    "As we've seen, we can also display this spanning tree on the weighted graph: "
   ]
  },
  {
   "cell_type": "code",
   "execution_count": null,
   "metadata": {
    "button": false,
    "collapsed": false,
    "deletable": true,
    "new_sheet": false,
    "run_control": {
     "read_only": false
    }
   },
   "outputs": [],
   "source": [
    "mst_driving = mi_driving.min_spanning_tree()\n",
    "mi_driving.show(edge_labels = True, edge_colors={'red':mst_driving})"
   ]
  },
  {
   "cell_type": "markdown",
   "metadata": {
    "button": false,
    "deletable": true,
    "new_sheet": false,
    "run_control": {
     "read_only": false
    }
   },
   "source": [
    "In case you were wondering, `.min_spanning_tree()` uses Prims's algorithm to generate the tree by default, and you can change the algorithm to Kruskal or a handful of other algorithms by passing the algorithm as a parameter. [See here for more.](http://doc.sagemath.org/html/en/reference/graphs/sage/graphs/generic_graph.html#sage.graphs.generic_graph.GenericGraph.min_spanning_tree)"
   ]
  }
 ],
 "metadata": {
  "kernelspec": {
   "display_name": "SageMath 6.10",
   "language": "",
   "name": "sagemath"
  },
  "language_info": {
   "codemirror_mode": {
    "name": "ipython",
    "version": 2
   },
   "file_extension": ".py",
   "mimetype": "text/x-python",
   "name": "python",
   "nbconvert_exporter": "python",
   "pygments_lexer": "ipython2",
   "version": "2.7.10"
  }
 },
 "nbformat": 4,
 "nbformat_minor": 0
}
