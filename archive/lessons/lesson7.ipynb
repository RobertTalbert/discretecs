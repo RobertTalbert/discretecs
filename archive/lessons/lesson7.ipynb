{
 "cells": [
  {
   "cell_type": "markdown",
   "metadata": {
    "button": false,
    "deletable": true,
    "new_sheet": false,
    "run_control": {
     "read_only": false
    }
   },
   "source": [
    "# Lesson 7: Solving linear homogeneous recurrence relations\n",
    "\n",
    "## Overview \n",
    "\n",
    "__Summary:__ In the previous lesson we learned a little more about recurrence relations and what it means to _solve_ a recurrence relation. We also saw how to take a _closed formula_ and check to see if it is a solution to a recurrence relation. What we have not discussed yet is how to find closed-formula solutions in the first place. This turns out to be a very hard problem, but in some special cases -- in particular, the case of _first- and second-order linear homogeneous_ recurrence relations, we can use high school algebra to find solutions. That's the main focus of this lesson. \n",
    "\n",
    "This lesson addresses the following learning target(s):\n",
    "\n",
    "+ __RI.4:__ I can solve a first- or second-order linear homogeneous recurrence relation by hand.\n",
    "\n",
    "---\n",
    "\n",
    "## Background \n",
    "\n",
    "Most of your background for this lesson will come from three videos posted below. Here is the takeaway: \n",
    "\n",
    "+ Solving recurrence relations in general is an interesting and hard mathematical problem. But when the recurrence relation is __first- or second-order, linear,__ and __homogeneous__, there's a method using basic high school algebra that will yield a solution. \n",
    "+ Remember that _order_ refers to the number of steps we have to go back in the recurrence relation. For example $a_n = 3a_{n-1} - 2a_{n-2}$ is second-order, and $b_n = b_{n-3}$ is third-order. \n",
    "+ _Linear_ means that the only operations being performed on the sequence elements in the recurrence relation is multiplication by a constant (a fixed number). For example $a_n = 3a_{n-1} - 2a_{n-2}$ is linear, while $a_n = n^2a_{n-1} - 2a_{n-2}$ is not. \n",
    "+ _Homogeneous_ means that every term in the recurrence relation has a term of the sequence attached to it. For example $a_n = 3a_{n-1} - 2a_{n-2}$ is homogeneous but $a_n = 3a_{n-1} - 2a_{n-2} + 5$ is not. \n",
    "+ First- and second-order linear homogeneous recurrence relations have a technique for solution that involves finding the __characteristic equation__ for the recurrence relation, solving it to get the __characteristic roots__, and then using the __initial conditions__ and high school algebra to find a closed-formula solution. \n",
    "\n",
    "The details are in the videos. \n",
    "\n",
    "This first video (running time 2:09) explains more about the terminology and how to know when a recurrence relation is first- or second order linear and homogeneous. (Direct link: https://www.youtube.com/watch?v=4c6Bg2GJvQw) "
   ]
  },
  {
   "cell_type": "code",
   "execution_count": 1,
   "metadata": {
    "button": false,
    "collapsed": false,
    "deletable": true,
    "new_sheet": false,
    "run_control": {
     "read_only": false
    }
   },
   "outputs": [
    {
     "data": {
      "text/html": [
       "\n",
       "        <iframe\n",
       "            width=\"400\"\n",
       "            height=\"300\"\n",
       "            src=\"https://www.youtube.com/embed/4c6Bg2GJvQw\"\n",
       "            frameborder=\"0\"\n",
       "            allowfullscreen\n",
       "        ></iframe>\n",
       "        "
      ],
      "text/plain": [
       "<IPython.lib.display.YouTubeVideo at 0x1043220f0>"
      ]
     },
     "execution_count": 1,
     "metadata": {},
     "output_type": "execute_result"
    }
   ],
   "source": [
    "from IPython.display import YouTubeVideo\n",
    "YouTubeVideo(\"4c6Bg2GJvQw\")"
   ]
  },
  {
   "cell_type": "markdown",
   "metadata": {
    "button": false,
    "deletable": true,
    "new_sheet": false,
    "run_control": {
     "read_only": false
    }
   },
   "source": [
    "The second video (running time 3:49) explains the _characteristic equation_ and _characteristic roots_ of a recurrence relation and how to find them. (Direct link: https://www.youtube.com/watch?v=GvOBBcnIjlw) "
   ]
  },
  {
   "cell_type": "code",
   "execution_count": 2,
   "metadata": {
    "button": false,
    "collapsed": false,
    "deletable": true,
    "new_sheet": false,
    "run_control": {
     "read_only": false
    }
   },
   "outputs": [
    {
     "data": {
      "text/html": [
       "\n",
       "        <iframe\n",
       "            width=\"400\"\n",
       "            height=\"300\"\n",
       "            src=\"https://www.youtube.com/embed/GvOBBcnIjlw\"\n",
       "            frameborder=\"0\"\n",
       "            allowfullscreen\n",
       "        ></iframe>\n",
       "        "
      ],
      "text/plain": [
       "<IPython.lib.display.YouTubeVideo at 0x1043224a8>"
      ]
     },
     "execution_count": 2,
     "metadata": {},
     "output_type": "execute_result"
    }
   ],
   "source": [
    "from IPython.display import YouTubeVideo\n",
    "YouTubeVideo(\"GvOBBcnIjlw\")"
   ]
  },
  {
   "cell_type": "markdown",
   "metadata": {
    "button": false,
    "deletable": true,
    "new_sheet": false,
    "run_control": {
     "read_only": false
    }
   },
   "source": [
    "The third and final video (running time 5:45) shows how to use the characteristic roots of a linear homogeneous first- or second-order recurrence relation to construct a closed-formula solution, which is the ultimate learning goal for this lesson. (Direct link: https://www.youtube.com/watch?v=Rwm-NW9Y5iM)"
   ]
  },
  {
   "cell_type": "code",
   "execution_count": 3,
   "metadata": {
    "button": false,
    "collapsed": false,
    "deletable": true,
    "new_sheet": false,
    "run_control": {
     "read_only": false
    }
   },
   "outputs": [
    {
     "data": {
      "text/html": [
       "\n",
       "        <iframe\n",
       "            width=\"400\"\n",
       "            height=\"300\"\n",
       "            src=\"https://www.youtube.com/embed/Rwm-NW9Y5iM\"\n",
       "            frameborder=\"0\"\n",
       "            allowfullscreen\n",
       "        ></iframe>\n",
       "        "
      ],
      "text/plain": [
       "<IPython.lib.display.YouTubeVideo at 0x104322550>"
      ]
     },
     "execution_count": 3,
     "metadata": {},
     "output_type": "execute_result"
    }
   ],
   "source": [
    "from IPython.display import YouTubeVideo\n",
    "YouTubeVideo(\"Rwm-NW9Y5iM\")"
   ]
  },
  {
   "cell_type": "markdown",
   "metadata": {
    "button": false,
    "deletable": true,
    "new_sheet": false,
    "run_control": {
     "read_only": false
    }
   },
   "source": [
    "# Preview Activities\n",
    "\n",
    "Please complete all the activities on the Formative assignment found here: https://goformative.com/student/#/assignments/CQUK724\n",
    "\n",
    "These are due no later than one hour before your class time. \n",
    "\n",
    "# Daily Homework \n",
    "\n",
    "For each of the following recurrence relations, use the characteristic root method to find a closed-formula solution. Remember you can check your work on Wolfram|Alpha by entering the recurrence relation and the initial conditions -- [here's an example](http://bit.ly/1PMUOWE) using $a_n = a_{n-1} + 2a_{n-2}$ with $a_0 = 2$ and $a_1 = 7$. \n",
    "\n",
    "1. $a_n = 5a_{n-1}$ with $a_0 = 2$\n",
    "2. $a_n = a_{n-1} + 6a_{n-2}$ with $a_0 = 3$, $a_1 = 6$\n",
    "3. $a_n = 7a_{n-1} - 10a_{n-2}$ with $a_0 = 2$, $a_1 = 1$\n",
    "4. $a_n = 4a_{n-2}$ with $a_0 = 1$, $a_1 = 4$\n"
   ]
  },
  {
   "cell_type": "code",
   "execution_count": null,
   "metadata": {
    "button": false,
    "collapsed": true,
    "deletable": true,
    "new_sheet": false,
    "run_control": {
     "read_only": false
    }
   },
   "outputs": [],
   "source": [
    "g"
   ]
  }
 ],
 "metadata": {
  "kernelspec": {
   "display_name": "Python 3",
   "language": "python",
   "name": "python3"
  },
  "language_info": {
   "codemirror_mode": {
    "name": "ipython",
    "version": 3
   },
   "file_extension": ".py",
   "mimetype": "text/x-python",
   "name": "python",
   "nbconvert_exporter": "python",
   "pygments_lexer": "ipython3",
   "version": "3.5.0"
  }
 },
 "nbformat": 4,
 "nbformat_minor": 0
}
