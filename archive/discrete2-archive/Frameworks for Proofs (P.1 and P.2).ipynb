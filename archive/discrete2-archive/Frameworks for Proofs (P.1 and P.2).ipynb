{
 "cells": [
  {
   "cell_type": "markdown",
   "metadata": {
    "button": false,
    "deletable": true,
    "new_sheet": false,
    "run_control": {
     "read_only": false
    }
   },
   "source": [
    "# Lesson: Frameworks for Proofs \n",
    "\n",
    "__MTH 325: Discrete Structures for CS 2__, Winter 2017\n",
    "\n",
    "## Overview \n",
    "\n",
    "This lesson is part of a review of __proof__, a concept first encountered in MTH 225. In this lesson we discuss: \n",
    "\n",
    "+ What a proof is, and why proofs are essential to computer science \n",
    "+ What we mean by a \"framework\" for a proof\n",
    "+ Conditional statements and their contrapositives, and when conditional statements are true\n",
    "+ _Direct proofs_ of conditional statements and their frameworks\n",
    "+ _Proofs by contraposition_ and their frameworks \n",
    "+ _Proofs by contradiction_ and their frameworks\n",
    "\n",
    "## What is a proof and why do we need them? \n",
    "\n",
    "_Proofs_ are essential for a real understanding of computer science, and hopefully you had a solid grounding in proof in your MTH 225 class. If not, you'll need to review, but let's all start with a basic understanding of what they are, and why they are important. \n",
    "\n",
    "In computer science we are always needing to __explain why something always works__. For example, say you've written some code that does something neat with user input. It works fine on the test cases you've tried. But, how do you know that it _always works_? How can you convince someone like a professor or employer or friend that your code _always works_, not just on your test cases --- which might be very small in number, poorly chosen, or biased --- but on _any_ test case that could _possibly_ be thrown at it? \n",
    "\n",
    "In mathematics, too, we have to do this. Mathematics isn't about computation but about _patterns_ --- finding them, perfecting them, and explaining them. That last part, explaining, usually involves _explaining why something always works_. \n",
    "\n",
    "When we have to explain why something _sometimes_ works, this is easy. Just show some examples of where it works. But when we have to go beyond \"sometimes\" to explaining why your algorithm, solution, formula, etc. _always_ works, we're no longer in the realm of examples. Even if you gave a million examples where your stuff works, it doesn't rule out the possibility that it fails to work on the million-and-first example. \n",
    "\n",
    "So to explain why something _always_ works, we need to put examples aside. They won't help. Instead what we need is: \n",
    "\n",
    "+ An explanation that is __clearly stated__ so that the intended audience can understand what you are saying. \n",
    "+ An explanation that is __complete__, with no major items left out, so that the intended audience doesn't have to fill in the blanks. \n",
    "+ An explanation that is __correct__, containing no logical, mathematical, semantic or syntax errors. In other words  the text language, the symbolic language, and the logical chain of reasoning are all error-free. \n",
    "+ An explanation that is __convincing__. Being clear, complete, and correct is all for nothing if we don't succeed in _actually explaining_ to the audience why the thing we are explaining always works. And being clear, complete, and correct is not always enough. \n",
    "\n",
    "For our purposes a __proof__ is exactly this. It is a __clear, complete, correct, and convincing argument__ that __explains why the subject of the argument is always true, or always works__. \n",
    "\n",
    "A single mathematical or computer science proposition could have many different proofs. For example, [this website](http://www.cut-the-knot.org/pythagoras/) contains 118 different proofs just of the Pythagorean Theorem. Each one is a clear, complete, correct, and convincing explanation of why a particular statement --- that $a^2 + b^2 = c^2$ where $a$ and $b$ are sides of a right triangle and $c$ is the hypotenuse --- is always true. So proofs leave a great amount of room for creativity and different approaches. \n",
    "\n",
    "However there are some things that proofs NEVER contain: \n",
    "\n",
    "+ __Specific examples.__ No amount of specific instances of the proposition being proved will ever constitute a sufficient proof. This is because proofs attempt to explain why something is _always_ true --- not _sometimes_. Proofs that are based on showing 3-5 examples (or 300-500 examples!) and then asking the reader to \"see that the pattern continues\" are automatically wrong because the job of the proof is to _explain why_ the pattern continues. Otherwise it's not convincing. \n",
    "+ __Unwarranted assumptions.__ Proofs must operate within their own sets of assumptions (something we discuss below) and not introduce new ones that change the rules. For example, if you are trying to prove the Pythagorean Theorem, you are not allowed to assume that the triangle is isosceles (that is, $a=b$). \n",
    "+ __Significant errors.__ Just as with any problem solution, errors in logic, math, or language derail the argument. \n",
    "+ __Unclear language.__ A proof cannot just consist of a page full of equations, and it cannot deliberately use language in an unclear way. A proof is an _explanation_, which means that most of the best proofs have actually very little mathematical notation in them; they are mostly words, _supported by_ notation when it helps. \n",
    "\n",
    "Constructing correct proofs is part science and part art, possibly part magic, and it takes many years to master. You are just at the beginning of that journey. For now, a good starting point is to understand how to construct a __framework__ for a proof. \n"
   ]
  },
  {
   "cell_type": "markdown",
   "metadata": {
    "button": false,
    "deletable": true,
    "new_sheet": false,
    "run_control": {
     "read_only": false
    }
   },
   "source": [
    "## What is a framework for a proof? \n",
    "\n",
    "In order for a proof to fulfill its mission of being a _complete, clear, correct, and convincing_ argument for why a proposition is always true, it first of all must be _clearly worded and easy to understand_. In any attempt to convince someone of anything, this requires that two special parts of the argument be made crystal-clear and explicit: \n",
    "\n",
    "1. The __assumptions__ that are being made in the argument, and \n",
    "2. The __desired conclusions__ that the argument is attempting to arrive at. \n",
    "\n",
    "Let's see why this is important using a real-life example of an argument to convince someone of something. Suppose Alice, Bob, and Chuck are friends and want to go to dinner together, but they can't agree on where to eat. Alice strongly wants to go to the local brewpub. Bob wants to go to a Thai restaurant. And Chuck doesn't care --- he's up for anything. So, Alice and Bob are going to try to convince Chuck to choose _their_ restaurant as the place to go. Their arguments go like this: \n",
    "\n",
    "+ Alice explains that the food at the brewpub is tasty and inexpensive. But lots of restaurants, including Bob's Thai restaurant, might also be tasty and inexpensive, so she needs something more to be convincing. She does so by laying out the _assumptions_: For example, she assumes that we want to go someplace within easy driving distance and where the parking is good, and she assumes that they may want to get beer while they eat. Moreover, she also clearly states the _desired conclusions_ for her argument, namely that the three friends would enjoy their meal and have a good time without spending too much. This statement of _assumptions_ and _conclusions_ won't by themselves convince Chuck to go to the brewpub, but they __frame__ the rest of the argument that Alice may give. Chuck may not end up _agreeing_ with Alice, but he _understands_ Alice's argument and he isn't in the dark about the purpose or logic of her argument. \n",
    "+ Bob, on the other hand, takes no such measures. He just says that Thai food is awesome and that we should all go there now. It may be the case that Thai food is awesome, although this is not something we can objectively verify --- and anyway it's difficult to see why Bob is pushing this Thai restaurant so much. What assumptions motivate his reasoning? What conclusion is he trying to draw? We don't know, and so it's hard to understand Bob's idea, and therefore hard to be convinced by it. \n",
    "\n",
    "So in order to have a convincing and persuasive argument for _anything_, whether a mathematical proposition or a decision on where to eat dinner, __that argument must clearly disclose its assumptions and desired conclusions__. This pair of disclosures is what we call the __framework__ for a proof. \n",
    "\n",
    ">Definition: A __framework__ for a proof is a statement of the _assumptions_ being made in the proof along with a statement of the _conclusion_ of the proof (that is, a statement of what we are trying to prove). \n",
    "\n",
    "## What is a conditional statement, and when is a conditional statement true? \n",
    "\n",
    "Before we look at frameworks for actual proofs, let's review the concept of a _conditional statement_, which is central to, and found all throughout computer science. \n",
    "\n",
    "First, here's a review of a basic definition:\n",
    "\n",
    ">Definition: A __proposition__ is a complete, well-formed sentence that has a definite truth value of _True_ or _False_. \n",
    "\n",
    "Propositions are the building blocks of logic, and therefore both math and computer science. Here are some examples of propositions: \n",
    "\n",
    "+ January is the first month of the year. \n",
    "+ Every even integer is divisible by 2. \n",
    "+ There are only finitely many multiples of 5. \n",
    "\n",
    "All of these are complete, well-formed sentences that are definitely either true or false. The last one is false; the first two are true. The fact that we can easily determine this, means that they are propositions. \n",
    "\n",
    "Here are some examples of statements that are _not_ propositions: \n",
    "\n",
    "+ Thai food is awesome. (This is an opinion, not a true/false statement.)\n",
    "+ $\\sqrt{k}$ (This is not a sentence. Read it aloud: \"the square root of $k$\")\n",
    "+ Suppose $n$ is an even number. (This is a sentence but it's more like a command or suggestion, not a declarative statement with a true/false value)\n",
    "+ $1 + 2 + 3 + \\cdots + n = \\frac{n(n+1)}{2}$ \n",
    "\n",
    "About that last one: This is not a proposition because it has an _unquantified variable_ in it, $n$. If we plugged in a _specific value_ of $n$ to both sides of that statement, it would become a proposition. For example, \n",
    "\n",
    "$$1 + 2 + 3 + \\cdots + 10 = \\frac{10(11)}{2}$$\n",
    "\n",
    "is a statement that we can definitively verify as being true or false. In fact let's do that right now using Python. If you've downloaded this lesson as a Jupyter notebook, you can place your cursor in the code cell and execute it. "
   ]
  },
  {
   "cell_type": "code",
   "execution_count": null,
   "metadata": {
    "button": false,
    "collapsed": false,
    "deletable": true,
    "new_sheet": false,
    "run_control": {
     "read_only": false
    }
   },
   "outputs": [],
   "source": [
    "1+2+3+4+5+6+7+8+9+10 == 10*(11)/2  # Note the double ==. How is this different from = ? "
   ]
  },
  {
   "cell_type": "markdown",
   "metadata": {
    "button": false,
    "deletable": true,
    "new_sheet": false,
    "run_control": {
     "read_only": false
    }
   },
   "source": [
    "By setting $n=10$ we have \"quantified\" the variable and so we can tell if the statement is true. Without quantification, we can't say whether the statement is true --- it might be true for some values of $n$ and not true for others. What would happen if you replace the \"10\" above with the letter \"n\" (and not setting `n` equal to anything first)? \n",
    "\n",
    "Statements that involve variables like this are called __predicates__ and we will deal with those in an upcoming lesson. \n",
    "\n",
    "Now that we've reviewed what a proposition is, let's look at our main idea: \n",
    "\n",
    ">Definition: Let $A$ and $B$ be statements. A __conditional statement__ is a proposition that says \"If $A$, then $B$\". In notation we write $A \\rightarrow B$ and sometimes say \"$A$ implies $B$\". Also the proposition $A$ (the \"if\" part) is called the **hypothesis** of the conditional statement, and the proposition $B$ is called the **conclusion** of the statement.  \n",
    "\n",
    "Conditional statements are the backbone of our reality. In computer science specifically we are constantly using conditional statements when we use `if-then` or `if-then-else` statements. Here are some basic examples: \n",
    "\n",
    "+ \"If $n$ is even, then $n^2$ is even.\" The hypothesis is \"$n$ is even\". The conclusion is \"$n^2$ is even\". \n",
    "+ \"If $f$ is a differentiable function, then $f$ is continuous.\" The hypothesis is \"$f$ is a differentiable function\". The conclusion is \"$f$ is continuous\". Notice: You don't need to understand the meaning of the terms in order to be able to figure out the hypothesis and conclusion.  \n",
    "+ \"Every odd number is a prime number.\" This doesn't _look_ like a conditional statement but it actually is saying: \"_If_ $x$ is an odd number, _then_ $x$ is a prime number.\" Every \"universally quantified\" statement like this is really a conditional statement. Here, the hypothesis is \"$x$ is an odd number\" and the conclusion is \"$x$ is a prime number\". \n",
    "\n",
    "Conditional statements are propositions in the sense that they can be _true_ or they can be _false_. To think about _when_ a conditional statement is true or false, let's play with the following code snippet. "
   ]
  },
  {
   "cell_type": "code",
   "execution_count": null,
   "metadata": {
    "button": false,
    "collapsed": false,
    "deletable": true,
    "new_sheet": false,
    "run_control": {
     "read_only": false
    }
   },
   "outputs": [],
   "source": [
    "n = 12\n",
    "if n > 10:\n",
    "    print(\"That number is bigger than 10\")"
   ]
  },
  {
   "cell_type": "markdown",
   "metadata": {
    "button": false,
    "deletable": true,
    "new_sheet": false,
    "run_control": {
     "read_only": false
    }
   },
   "source": [
    "Now in the Jupyter notebook, execute that cell. (Or try to reason through it if you have not yet set up your Jupyter environment.) Since `n` is set equal to 12 at the beginning, it should print off \"That number is bigger than 10\". This is how conditional statements are supposed to work: When the hypothesis is true, the conclusion should follow. \n",
    "\n",
    "However, also try this: Go to the first line of that snippet and change `n` to 5 or any other number less than 10. Then run the code. What happens? \n",
    "\n",
    "You should see that _nothing happens_. Does this mean that the code has a bug? Of course not! It's doing exactly what it is told to do: If the input is bigger than 10, print the statement. __There are no instructions for what to do if the input is less than (or equal to) 10__ and so it does nothing. The code works! We might even say that the code is \"true\". \n",
    "\n",
    "Now suppose that you had a similar code snippet that said \n",
    "\n",
    "    if n < 25:\n",
    "        print(\"That number is too small!\") \n",
    "        \n",
    "And then suppose you set `n = 12` and run the code... but nothing happens. What would you conclude? \n",
    "\n",
    "Well, you'd have to conclude that __something is wrong__ because the value of `n` you have declared does satisfy or trigger the `if` statement, but the following `print` statement doesn't execute. So in this case, there's a bug and the `if` statement you have isn't working. We might say that the code is \"false\". \n",
    "\n",
    "This example illustrates **three extremely important points about conditional statements**: \n",
    "\n",
    "1. A conditional statement is True when the hypothesis (\"if\" part) is true and the conclusion (\"then\" part) is also true. \n",
    "2. **But this is not the only condition under which a conditional statement is true: It's also true in any situation where the hypothesis is False.**\n",
    "3. The **only** condition under which a conditional statement is False, is when the hypothesis is true but the conclusion is false. \n",
    "\n",
    "In your earlier studies of logic, you summarized these three points by way of a **truth table** where the component propositions are listed in columns and the statement is given in another column, and there is one row for each possible combination of true/false of the basic propositions. For the conditional statement $A \\rightarrow B$, the truth table looks like this: \n",
    "\n",
    "| $A$ | $B$ | $A \\rightarrow B$ | \n",
    "| :--:|:--: | :----------------:|\n",
    "| True | True | True | \n",
    "| True | False | False | \n",
    "| False | True | True | \n",
    "| False | False | True | \n",
    "\n",
    "You might abbreviate \"True\" and \"False\" with \"T\" and \"F\" or maybe 1 and 0. \n",
    "\n",
    "Now we can talk about how to prove that a conditional statement is true. There are three major methods for proving a conditional statement is true: _direct proof_, _proof by contrapositive_, and _proof by contradiction_. \n",
    "\n"
   ]
  },
  {
   "cell_type": "markdown",
   "metadata": {
    "button": false,
    "deletable": true,
    "new_sheet": false,
    "run_control": {
     "read_only": false
    }
   },
   "source": [
    "## What is the framework for a direct proof? \n",
    "\n",
    "In a _direct proof_ of a conditional statement, the argument is structured like this: \n",
    "\n",
    "1. First __assume that the hypothesis of the conditional statement is true__. \n",
    "2. Then, use small and justifiable \"forward steps\" to proceed from the assumption. \n",
    "3. The steps should lead through a logical chain of reasoning that ends in the __conclusion__ of the conditional statement. \n",
    "\n",
    "Here is an example of a direct proof: \n",
    "\n",
    "__Proposition:__ If $n$ and $m$ are even integers, then $n+m$ is even. \n",
    "\n",
    "__Proof:__ Assume that $n$ and $m$ are even integers. By the definition of \"even\", there are two integers $p$ and $q$ such that $n = 2p$ and $m = 2q$. Adding these together gives $n+m = 2p + 2q$. Factoring out 2 on the right gives $2(p+q)$. So now we have $m+n = 2(p+q)$. Since the right side is an integer multiple of 2, we conclude that $m+n$ is even. \n",
    "\n",
    "You might or might not understand every step of the argument here, and you might need to look up definitions. But notice two things in particular: \n",
    "\n",
    "+ The assumptions in the proof are made clear from the start: \"Assume that $n$ and $m$ are even integers.\"\n",
    "+ The conclusion in the proof is also clear: \"...we conclude that $m+n$ is even.\"\n",
    "\n",
    "This is the _framework_ for this direct proof. In short, the framework for a direct proof is: \n",
    "\n",
    "+ A statement of the __hypothesis__, and \n",
    "+ A statement of the __conclusion__. \n",
    "\n",
    "Setting up a framework for a direct proof is easy: Just find the hypothesis and conclusion of the statement and state them. \n",
    "\n",
    "\n",
    "## What is the framework for a proof by contrapositive? \n",
    "\n",
    "Here's an important logical construction using conditional statements: \n",
    "\n",
    ">Definition: The __contrapositive__ of the conditional statement \"If $A$, then $B$\" is the conditional statement \"If not $B$, then not $A$\". Notationally, the contrapositive of $A \\rightarrow B$ is $(\\neg B) \\rightarrow (\\neg A)$.\n",
    "\n",
    "What you've learned earlier in your study of discrete mathematics is that __a conditional statement and its contrapositive are logically equivalent__. That is, they are true and false under the exact same conditions. The contrapositive of a conditional statement is essentially a rephrasing of the original statement, which in some cases may make the statement easier to understand or reason through. \n",
    "\n",
    "In a _proof by contrapositive_ of a conditional statement, we do the following: \n",
    "\n",
    "1. Take the conditional statement to be proved and replace it with its contrapositive. \n",
    "2. Then do a direct proof of the contrapositive. \n",
    "\n",
    "So, the framework for a proof by contrapositive for the conditional statement $A \\rightarrow B$ would consist of: \n",
    "\n",
    "+ Assume $\\neg B$ (the negation of $B$). \n",
    "+ Prove (or conclude) $\\neg A$ (the negation of $A$). \n",
    "\n",
    "Here's an example: \n",
    "\n",
    "__Proposition:__ If $n^2$ is an even integer then $n$ is even. \n",
    "\n",
    "Note that the contrapositive would say: \"If $n$ is odd (\"not even\") then $n^2$ is odd.\" \n",
    "\n",
    "__Framework__ (for contrapositive): \n",
    "\n",
    "+ Assume that $n$ is odd. \n",
    "+ Prove (conclude) that $n^2$ is odd. \n",
    "\n",
    "Why would anyone ever use a proof by contrapositive? Well, sometimes when we are proving a conditional statement, a direct proof --- though easy to set up --- may be very hard to execute, and the forward steps from the assumption may be unclear. In the above proposition, the framework for a _direct_ proof would say that we are to assume that $n^2$ is even, and the desired conclusion is that $n$ is even. But how would you step forward from an assumption that $n^2$ is even, toward the conclusion that $n$ is even? The only obvious choice is to start with $n^2 = 2q$ for some integer $q$ and then take the square root of both sides to get \n",
    "\n",
    "$$n = \\sqrt{2q}$$\n",
    "\n",
    "But now we have to argue that $\\sqrt{2q}$ is an even integer. But this isn't clear at all. In fact it seems hard to believe that such a thing is an integer in the first place! \n",
    "\n",
    "But in a proof by contrapositive, we assume that $n$ is odd, and then go on to prove something about $n^2$. This seems much easier --- for example, write $n = 2q+1$ for some integer $q$ and then square both sides and then argue that the result is odd. \n",
    "\n",
    "\n",
    "## What is the framework for a proof by contradiction? \n",
    "\n",
    "A _proof by contradiction_ is perhaps the strangest of all these proof techniques. In a proof by contradiction: \n",
    "\n",
    "1. We first assume the _negation_ of the proposition we are actually proving. \n",
    "2. Then we make small, justifiable forward steps from those assumptions. \n",
    "3. Eventually our steps lead us to a contradiction --- some statement that cannot possibly be true. \n",
    "4. We conclude that since the negation of the original proposition _cannot_ be true, the original proposition _must_ be true. \n",
    "\n",
    "We won't attempt to give a full recap of proof by contradiction here; instead consult your MTH 225 notes and the internet for a trove of examples. We are only focusing on the framework -- the assumptions, and the desired conclusion. \n",
    "\n",
    "In a contradiction proof, the assumptions in the framework come from the _negation_ of the original statement. So if we are proving $A \\rightarrow B$, we need to know what the negation of that statement is. You learned the following in MTH 225: \n",
    "\n",
    ">The negation of the conditional statement $A \\rightarrow B$ is the statement $A \\wedge (\\neg B)$ (that is, \"$A$ and not $B$\"). \n",
    "\n",
    "Note that __the negation of a conditional statement is not another conditional statement__. It's an \"and\" statement. So in a proof by contradiction of $A \\rightarrow B$, we assume a \"both-and\" statement --- _two_ things rather than one. \n",
    "\n",
    "What about the \"desired conclusion\"? Simple: __In a contradiction proof, the desired conclusion is always to show that the negation of the original statement leads to a contradiction.__ How this happens depends on the proposition being proved, but this is always the end goal. \n",
    "\n",
    "Here's an example: \n",
    "\n",
    "__Proposition:__ If $n^2$ is an even integer then $n$ is even. \n",
    "\n",
    "__Framework:__\n",
    "\n",
    "+ Assume that $n^2$ is even _and that $n$ is odd_. (Note the \"both-and\" form.) \n",
    "+ Conclude that \"$n^2$ is even and that $n$ is odd\" leads to a contradiction. \n"
   ]
  },
  {
   "cell_type": "code",
   "execution_count": null,
   "metadata": {
    "button": false,
    "collapsed": true,
    "deletable": true,
    "new_sheet": false,
    "run_control": {
     "read_only": false
    }
   },
   "outputs": [],
   "source": []
  }
 ],
 "metadata": {
  "anaconda-cloud": {},
  "kernelspec": {
   "display_name": "Python 3",
   "language": "python",
   "name": "python3"
  },
  "language_info": {
   "codemirror_mode": {
    "name": "ipython",
    "version": 3
   },
   "file_extension": ".py",
   "mimetype": "text/x-python",
   "name": "python",
   "nbconvert_exporter": "python",
   "pygments_lexer": "ipython3",
   "version": "3.5.0"
  }
 },
 "nbformat": 4,
 "nbformat_minor": 2
}
