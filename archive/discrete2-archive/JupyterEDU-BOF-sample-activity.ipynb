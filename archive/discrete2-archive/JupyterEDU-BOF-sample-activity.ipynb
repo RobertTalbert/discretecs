{
 "cells": [
  {
   "cell_type": "markdown",
   "metadata": {},
   "source": [
    "# Information for JupyterCon BOF participants\n",
    "\n",
    "This is a sample activity created for discussion purposes at the Jupyter in Education BOF session, at JupyterCon in NYC 2017-08-24. \n",
    "\n",
    "**This activity is not necessarily complete or well written. And we are not providing all the details about this activity or the course in which it is deployed.** However, we can tell you: \n",
    "\n",
    "- The activity is intended for students in a high school algebra course or its \"College Algebra\" equivalent. \n",
    "- The activity is intended to be done in small groups during class time, and students will submit results in a Jupyter notebook (either for grading or at a screen for presentation). \n",
    "- The activity is intended to help students discover the meaning of the parameters in the formula for a parabola in [vertex form](http://www.mathwarehouse.com/geometry/parabola/standard-and-vertex-form.php), $y = a(x-b)^2 + c$. \n",
    "- You can assume that students have learned all the math leading up to a lesson on standard and vertex form of a parabola, but have never seen standard or vertex form. \n",
    "- You can also assume that students are comfortable with using Jupyter notebooks.\n",
    "\n",
    "All other details are left hidden intentionally, to prompt your questions. In your small groups, discuss this activity (you can work through it if you want) and generate questions that would be important for designing similar activities for your own students. You might particularly focus on: \n",
    "\n",
    "1. What elements of this activity seem to be well designed?\n",
    "2. What elements could be improved? \n",
    "3. In general, what does a \"well-designed\" Jupyter activity look like? \n",
    "\n",
    "-----\n",
    "\n",
    "# Introduction for students\n",
    "\n",
    "In this activity you will explore the **vertex form** of a parabola. We have already learned that the **standard form** of a parabola looks like \n",
    "\n",
    "$$y = ax^2 + bx + c$$\n",
    "\n",
    "If we take the standard form of a parabola and complete the square, we get an equation of the form\n",
    "\n",
    "$$y = a(x-b)^2 + c$$\n",
    "\n",
    "This is what's known as the **vertex form** of the parabola. Why is it called that? We will find out in this activity. __Please note that the $a$, $b$, and $c$ in the standard form are not the same $a$, $b$, and $c$ in the vertex form!__ These are just placeholders or \"parameters\" that stand for specific numbers.  \n",
    "\n",
    "Those numbers have special meanings to them, and the purpose of this activity is to explore and discover what those meanings are. \n",
    "\n",
    "**Instructions:** \n",
    "\n",
    "- In each of the sections below, change the code in the code block according to the instructions. \n",
    "- Then run the code block, observe what happens, and take notes on the side. \n",
    "- Then, in the \"Conjecture\" section, state what you think is happening. \n",
    "\n",
    "\n",
    "## Part 1\n",
    "\n",
    "Start by looking at the graph of the function $y = 3(x-2)^2 + 1$ which is a parabola in vertex form ($y = a(x-b)^2 + c$) with $a=3$, $b=2$, and $c = 1$:"
   ]
  },
  {
   "cell_type": "code",
   "execution_count": 11,
   "metadata": {},
   "outputs": [
    {
     "data": {
      "image/png": "[encoded data removed]",
      "text/plain": [
       "<matplotlib.figure.Figure at 0x10d23b080>"
      ]
     },
     "metadata": {},
     "output_type": "display_data"
    }
   ],
   "source": [
    "# Don't change these lines! \n",
    "import matplotlib.pyplot as plt\n",
    "import numpy as np\n",
    "\n",
    "x = np.arange(-5.0, 5.0, 0.01)\n",
    "y = 3*(x-2)**2 + 1\n",
    "plt.plot(x, y)\n",
    "plt.grid(True)\n",
    "plt.show()"
   ]
  },
  {
   "cell_type": "markdown",
   "metadata": {},
   "source": [
    "### Experiment\n",
    "\n",
    "What does the parameter $a$ do to the graph? In the code block, **change the 3 in line 4 to a different number, run the code block, compare to the original graph above, and observe what happens to the graph**. Take notes on what you see. "
   ]
  },
  {
   "cell_type": "code",
   "execution_count": null,
   "metadata": {},
   "outputs": [],
   "source": [
    "x = np.arange(-5.0, 5.0, 0.01)\n",
    "\n",
    "# Change the 3 and then run the code block:\n",
    "y = 3*(x-2)**2 + 1\n",
    "\n",
    "plt.plot(x, y)\n",
    "plt.grid(True)\n",
    "plt.show()"
   ]
  },
  {
   "cell_type": "markdown",
   "metadata": {},
   "source": [
    "### Conjecture\n",
    "\n",
    "In the Markdown block below, answer the question: \n",
    "\n",
    "**When I change the parameter $a$, the graph of the parabola changes by...**"
   ]
  },
  {
   "cell_type": "markdown",
   "metadata": {},
   "source": [
    "_(double click to edit this block)_"
   ]
  },
  {
   "cell_type": "markdown",
   "metadata": {},
   "source": [
    "## Part 2\n",
    "\n",
    "Now look back at $y = 3(x-2)^2 + 1$:"
   ]
  },
  {
   "cell_type": "code",
   "execution_count": 12,
   "metadata": {},
   "outputs": [
    {
     "data": {
      "image/png": "[encoded data removed]",
      "text/plain": [
       "<matplotlib.figure.Figure at 0x10d348ba8>"
      ]
     },
     "metadata": {},
     "output_type": "display_data"
    }
   ],
   "source": [
    "x = np.arange(-5.0, 5.0, 0.01)\n",
    "y = 3*(x-2)**2 + 1\n",
    "plt.plot(x, y)\n",
    "plt.grid(True)\n",
    "plt.show()"
   ]
  },
  {
   "cell_type": "markdown",
   "metadata": {},
   "source": [
    "Now let's focus on the parameter $b$, which is the number being subtracted from $x$. In this case $b = 2$. What happens when we change it? **Change the 2 in line 4 to a different number, run the code block, compare to the original graph above, and observe what happens to the graph**. Take notes on what you see. "
   ]
  },
  {
   "cell_type": "code",
   "execution_count": null,
   "metadata": {},
   "outputs": [],
   "source": [
    "x = np.arange(-5.0, 5.0, 0.01)\n",
    "\n",
    "# Change the 2 and then run the code block:\n",
    "y = 3*(x-2)**2 + 1\n",
    "\n",
    "plt.plot(x, y)\n",
    "plt.grid(True)\n",
    "plt.show()"
   ]
  },
  {
   "cell_type": "markdown",
   "metadata": {},
   "source": [
    "### Conjecture\n",
    "\n",
    "In the Markdown block below, answer the question: \n",
    "\n",
    "**When I change the parameter $a$, the graph of the parabola changes by...**"
   ]
  },
  {
   "cell_type": "markdown",
   "metadata": {},
   "source": [
    "_(double click to edit this block)_"
   ]
  },
  {
   "cell_type": "markdown",
   "metadata": {},
   "source": [
    "## Part 3 \n",
    "\n",
    "Look back one more time at $y = 3(x-2)^2 + 1$:"
   ]
  },
  {
   "cell_type": "code",
   "execution_count": 13,
   "metadata": {},
   "outputs": [
    {
     "data": {
      "image/png": "[encoded data removed]",
      "text/plain": [
       "<matplotlib.figure.Figure at 0x10d4559e8>"
      ]
     },
     "metadata": {},
     "output_type": "display_data"
    }
   ],
   "source": [
    "x = np.arange(-5.0, 5.0, 0.01)\n",
    "y = 3*(x-2)**2 + 1\n",
    "plt.plot(x, y)\n",
    "plt.grid(True)\n",
    "plt.show()"
   ]
  },
  {
   "cell_type": "markdown",
   "metadata": {},
   "source": [
    "Now let's focus on the parameter $c$, which is the number being added at the end. In this case $c = 1$. What happens when we change it? **Change the 1 in line 4 to a different number, run the code block, compare to the original graph above, and observe what happens to the graph**. Take notes on what you see. "
   ]
  },
  {
   "cell_type": "code",
   "execution_count": null,
   "metadata": {},
   "outputs": [],
   "source": [
    "x = np.arange(-5.0, 5.0, 0.01)\n",
    "\n",
    "# Change the 1 and then run the code block:\n",
    "y = 3*(x-2)**2 + 1\n",
    "\n",
    "plt.plot(x, y)\n",
    "plt.grid(True)\n",
    "plt.show()"
   ]
  },
  {
   "cell_type": "markdown",
   "metadata": {},
   "source": [
    "### Conjecture\n",
    "\n",
    "In the Markdown block below, answer the question: \n",
    "\n",
    "**When I change the parameter $a$, the graph of the parabola changes by...**"
   ]
  },
  {
   "cell_type": "markdown",
   "metadata": {},
   "source": [
    "_(double click to edit this block)_"
   ]
  }
 ],
 "metadata": {
  "kernelspec": {
   "display_name": "Python [default]",
   "language": "python",
   "name": "python3"
  },
  "language_info": {
   "codemirror_mode": {
    "name": "ipython",
    "version": 3
   },
   "file_extension": ".py",
   "mimetype": "text/x-python",
   "name": "python",
   "nbconvert_exporter": "python",
   "pygments_lexer": "ipython3",
   "version": "3.5.4"
  }
 },
 "nbformat": 4,
 "nbformat_minor": 2
}
