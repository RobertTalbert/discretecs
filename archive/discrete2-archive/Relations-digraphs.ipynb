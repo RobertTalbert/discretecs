{
 "cells": [
  {
   "cell_type": "markdown",
   "metadata": {},
   "source": [
    "# Relations and directed graphs\n",
    "\n",
    "## MTH 325, Grand Valley State University, Fall 2016\n",
    "\n",
    "## Overview \n",
    "\n",
    "__Summary:__ This lesson begins a new module for our class in which we will study one of the three main _discrete structures_ of this course, namely the idea of a __relation__. Relations are quite simple to grasp, and this will be our first order of business. Then we will spend a good amount of time discussing how to _represent_ relations as _data structures_ as _lists of tuples_, as _directed graphs_, as _matrices_, and as _Python dictionaries_ with the ultimate goal of being able to switch from one to the other. We'll also take time to see how we can work with relations in Python. \n",
    "\n",
    "Note that none of this material appears in our usual textbook. \n",
    "\n",
    "This lesson addresses the following learning target(s):\n",
    "\n",
    "+ __Learning Target 3.2:__ Represent a relation on a set as a list of tuples, an adjacency matrix, a directed graph, or a Python dictionary and convert from one representation to another. \n",
    "\n",
    "---\n",
    "\n",
    "## Background\n",
    "\n",
    "### Part 1: Relations\n",
    "\n",
    "Suppose a Mathematics Department consists of five faculty members: Alice, Bob, Chuck, Dave, and Ed. There are three committees in the department: the Curriculum Committee, the Student Affairs Committee, and the Advisory Committee. The table below shows the committees to which each member belongs: \n",
    "\n",
    "| Faculty | Committees this faculty member belongs to | \n",
    "|:------- | :---------------------------------------- |\n",
    "| Alice   | Advisory, Student Affairs                 |\n",
    "| Bob     | Advisory                                  | \n",
    "| Chuck   | Curriculum                                | \n",
    "| Dave    | Curriculum, Student Affairs               | \n",
    "| Ed      | Curriculum                                |\n",
    "\n",
    "This is like a little database, and it could be useful if, for example, we were thinking about asking one of these faculty members to join a new committee -- we could look them up in this database and see the committees they already belong to, and this could help our decision making. \n",
    "\n",
    "In other words what this table does is _relate_ two things: The first \"thing\" is a faculty member and the second \"thing\" is a committee. Alice is \"related to\" both the Advisory and Student Affairs committees. Chuck is \"related to\" Curriculum. Here we are using the phrase \"related to\" as a way of saying \"is a member of\". \n",
    "\n",
    "If this is useful then it's worth thinking about how we might represent this table in a computer. Tables themselves are not really computer-friendly. Here is one way: _Store the table as a list of ordered pairs or \"tuples\"._ For example, the table above would be: \n",
    "\n",
    "    [(Alice, Advisory), (Alice, Student Affairs), (Bob, Advisory), (Chuck, Curriculum), (Dave, Curriculum), \n",
    "    (Dave, Student Affairs), (Ed, Curriculum)]\n",
    "    \n",
    "This has the advantage that it's easy to iterate over the list and, for example, find all the pairs that have Alice in the \"first coordinate\" and then return the \"second coordinate\". This would print off the committees that Alice belongs to.\n",
    "\n",
    "Here's another database-like structure that could be useful. Suppose we have five students: Ronald, Scott, Trish, Uriah, and Victoria. These students have joined a new social network called ChapSnat. In ChapSnat, user \"follow\" other users by clicking a button. _This relationship does not have to go both ways_ -- one user can follow another without the other user following back. Here is a table like the one above that shows the state of affairs on ChapSnat: \n",
    "\n",
    "| User | Follows these users:             | \n",
    "|:---  | :------------------------------  | \n",
    "| Ronald | Scott, Trish                   |\n",
    "| Scott  | Uriah, Trish                   |\n",
    "| Trish  | (nobody)                       | \n",
    "| Uriah  | Ronald, Scott, Trish, Victoria | \n",
    "| Victoria | Uriah, Scott                 | \n",
    "\n",
    "Here too, this table is like a database that \"relates\" two things -- this time each \"thing\" is a user. Ronald is \"related to\" Scott  in the sense of \"related to\" = \"follows\". Ronald is also \"related to\" and Trish. Trish is related to nobody. And so on. \n",
    "\n",
    "As a list of tuples, this table would look like this: \n",
    "\n",
    "    [(Ronald, Scott), (Ronald, Trish), (Scott, Uriah), (Scott, Trish), (Uriah, Ronald), (Uriah, Scott), \n",
    "    (Uriah, Trish), (Uriah, Victoria), (Victoria, Uriah), (Victoria, Scott)]\n",
    "\n",
    "Notice there are no pairs starting with Trish, because Trish doesn't follow anyone. \n",
    "\n",
    "What we are seeing here are two instances of a general, abstracted mathematical idea that has great power: \n",
    "\n",
    ">__Definition:__ A _relation_ from a set $A$ to a set $B$ is a set of ordered pairs $(a,b)$ with $a \\in A$ and $b \\in B$. That is, a relation from $A$ to $B$ is a subset of the cartesian product $A \\times B$. \n",
    "\n",
    "[Click here for a quick review of the cartesian product](http://study.com/academy/lesson/how-to-find-the-cartesian-product.html) if this term is unfamiliar. \n",
    "\n",
    "So in the first example above, the table that shows the faculty and committees is a relation from the set $A = \\{ \\text{Alice, Bob, Chuck, Dave, Ed}\\}$ to the set $B = \\{\\text{Advisory, Student Affairs, Curriculum}\\}$. Just like our list of ordered pairs, a relation is a _set_ whose elements consist of ordered pairs or \"tuples\" where the first coordinate comes from $A$ and the second one comes from $B$. It doesn't consist of _all possible_ pairs of this form; just the ones specified by the table. \n",
    "\n",
    "In the second example above, for ChapSnat, this is a relation from $A = \\{\\text{Ronald, Scott, Trish, Uriah, Victoria}\\}$ to $B = \\{\\text{Ronald, Scott, Trish, Uriah, Victoria}\\}$. Of course the sets $A$ and $B$ are the same this time as you can see. In other words, ChapSnat is a relation from $A$ __to itself__. Relations where the first and second sets are the same are very important for us, for example they model social networks. We have this definition for these kinds of relations where the two sets being related are the same: \n",
    "\n",
    ">__Definition:__ A relation from a set $A$ to itself is called a _relation on $A$_.\n",
    "\n",
    "In this language, ChapSnat is a relation on the set $\\{\\text{Ronald, Scott, Trish, Uriah, Victoria}\\}$. And again, this means that the relation is a set of tuples where the first coordinate comes from this set and so does the second coordinate. \n",
    "\n",
    "### Part 2: Representing Relations\n",
    "\n",
    "We are mostly going to be concerned with relations on a single set, like ChapSnat. There are at least four different ways we can represent a relation on a set. \n",
    "\n",
    "First: We can represent the relation __as a list of tuples.__ This is how we did the ChapSnat relation above and it's very true to the definition of relation as a subset of $A \\times A$. Note: We can't use any of these representations if we are working with a relation from $A$ to $B$ where these two sets are different. We'll talk about representations of relations where the two sets are different in our class meeting. \n",
    "\n",
    "Another way to represent the relation is as a __matrix__. In mathematics/CS language a _matrix_ is a rectangular array with _rows_ and _columns_. Here are two short videos that go over the basic notions of rows, columns, elements, and notation for matrices. If you are familiar with matrices (e.g. from MTH 227 or an advanced high school algebra course) you can skip these. Otherwise, watch both: \n",
    "\n",
    "+ [Matrices introduction](https://www.youtube.com/watch?v=0ntqagJP7Jc) (running time 6:09) \n",
    "+ [Matrix terminology](https://www.youtube.com/watch?v=mk_Pd3g4riA) (running time 3:17)\n",
    "\n",
    "We can construct a matrix that represents a relation on a set $A$ like this: \n",
    "\n",
    "1. Create one row and one column for each element of $A$. \n",
    "2. If the element in row $i$ is related to the element in row $j$, put a 1 in the row $i$, column $j$ entry of the matrix. Otherwise put a 0. \n",
    "\n",
    "For example, here is the matrix for the ChapSnat relation, assuming the first row and column represent Ronald, the second row and second column represent Scott, and so on: \n",
    "\n",
    "<img src=\"bookfacematrix.png\" height=200 width=200>\n",
    "\n",
    "This is called the _adjacency matrix_ for the relation. It's basically a binary array that shows \"1\" or \"True\" where one element is related to another. \n",
    "\n",
    "A third way of representing a relation is _visually_ as follows. \n",
    "\n",
    "1. Create a circle or dot for each element in $A$, the set that the relation is working on. \n",
    "2. If $i, j \\in A$ and $i$ is related to $j$, then draw an arrow from $i$ to $j$. \n",
    "\n",
    "Here is the picture for ChapSnat. The names are there but a little hard to read. \n",
    "\n",
    "<img src=\"bfgraph.png\">\n",
    "\n",
    "This kind of construction is called a __directed graph__. We briefly discussed directed graphs earlier in the course. These are just like undirected graphs as we have studied all semester, except here the edges aren't line segments but _arrows_ -- each edge has an _initial vertex_ and a _terminal vertex_ and we speak of an edge _starting at_ a vertex and _ending at_ a vertex. Each user in ChapSnat is a node and the relationship is visualized by drawing an arrow from node 1 to node 2 if node 1 follows node 2. \n",
    "\n",
    "Note that sometimes the term \"directed graph\" is abbreviated as \"digraph\". \n",
    "\n",
    "Finally, a fourth way to represent a relation on a set $A$ is using Python syntax, namely the __dictionary__. A dictionary representation of a relation has the points of $A$ as the keys, and then the list of values following a key are the points to which the key is related. For example here is ChapSnat as a dictionary: \n",
    "\n",
    "    {'Ronald': ['Trish', 'Scott'],\n",
    "     'Scott': ['Trish', 'Uriah'],\n",
    "     'Trish': [],\n",
    "     'Uriah': ['Ronald', 'Trish', 'Scott', 'Victoria'],\n",
    "     'Victoria': ['Uriah', 'Scott']}\n",
    "     \n",
    "(The names are in quotes now because they are strings, and we need to remember to work with them as strings if we are going to do computer stuff with them.) The dictionary form is nice because basically it looks exactly like the original table. \n",
    "\n",
    "An important learning target for us early on in our study of relations is to be able to represent any given relation on a set in all four of these formats. As we will see below, the computer will help us greatly. \n",
    "\n",
    "\n",
    "---\n",
    "\n",
    "To sum up parts 1 and 2: \n",
    "\n",
    "+ A relation from $A$ to $B$ is a set, consisting of ordered pairs drawn from the cartesian product $A \\times B$. \n",
    "+ If $A$ and $B$ are the same then we just talk about a \"relation on $A$\". \n",
    "+ A relation encapsulates the idea of \"relationships\" in real life by pairing off items in one set with related items in another. Think: Databases. \n",
    "+ Relations can be represented in four ways: as _lists of tuples_, as _adjacency matrices_, as _directed graphs_, and as _Python dictionaries_. \n",
    "\n",
    "\n",
    "### Part 3: Directed graphs in Python\n",
    "\n",
    "Creating directed graphs in Python is only a little different than creating undirected graphs. Here's an example for you to study. "
   ]
  },
  {
   "cell_type": "code",
   "execution_count": 1,
   "metadata": {
    "collapsed": true
   },
   "outputs": [],
   "source": [
    "import networkx as nx\n",
    "import matplotlib.pyplot as plt"
   ]
  },
  {
   "cell_type": "code",
   "execution_count": 2,
   "metadata": {
    "collapsed": false
   },
   "outputs": [
    {
     "data": {
      "image/png": "[encoded data removed]",
      "text/plain": [
       "<matplotlib.figure.Figure at 0x10c54a7b8>"
      ]
     },
     "metadata": {},
     "output_type": "display_data"
    }
   ],
   "source": [
    "# Let's first set up the edge list for our relation. \n",
    "\n",
    "chapsnat_edges = [('Ronald', 'Scott'), ('Ronald', 'Trish'), ('Scott', 'Uriah'), ('Scott', 'Trish'), \n",
    "                  ('Uriah', 'Ronald'), ('Uriah', 'Scott'), ('Uriah', 'Trish'), ('Uriah', 'Victoria'), \n",
    "                  ('Victoria', 'Uriah'), ('Victoria', 'Scott')]\n",
    "\n",
    "# Here's how to tell networkX you have a directed graph.\n",
    "# It's exactly the same process as undirected graphs except you use DiGraph intead of Graph. \n",
    "\n",
    "chapsnat = nx.DiGraph(chapsnat_edges)\n",
    "\n",
    "# Once we have this defined, we can visualize using Matplotlib: \n",
    "\n",
    "nx.draw_circular(chapsnat, with_labels = True, node_size = 1000)\n",
    "plt.show()"
   ]
  },
  {
   "cell_type": "markdown",
   "metadata": {},
   "source": [
    "Note that Matplotlib draw the edges in a way you might not expect. Instead of an arrowhead at the terminal end of an edge, the \"head\" is just a darkened part of the edge. \n",
    "\n",
    "You can work with digraphs in basically the same way we work with undirected graphs, including changing representations. Here's how to convert to a dictionary: "
   ]
  },
  {
   "cell_type": "code",
   "execution_count": 3,
   "metadata": {
    "collapsed": false
   },
   "outputs": [
    {
     "data": {
      "text/plain": [
       "{'Ronald': ['Trish', 'Scott'],\n",
       " 'Scott': ['Trish', 'Uriah'],\n",
       " 'Trish': [],\n",
       " 'Uriah': ['Trish', 'Victoria', 'Ronald', 'Scott'],\n",
       " 'Victoria': ['Scott', 'Uriah']}"
      ]
     },
     "execution_count": 3,
     "metadata": {},
     "output_type": "execute_result"
    }
   ],
   "source": [
    "nx.to_dict_of_lists(chapsnat)"
   ]
  },
  {
   "cell_type": "markdown",
   "metadata": {},
   "source": [
    "If you wanted to convert a graph to an edge list, do this: "
   ]
  },
  {
   "cell_type": "code",
   "execution_count": 4,
   "metadata": {
    "collapsed": false
   },
   "outputs": [
    {
     "data": {
      "text/plain": [
       "[('Victoria', 'Scott'),\n",
       " ('Victoria', 'Uriah'),\n",
       " ('Ronald', 'Trish'),\n",
       " ('Ronald', 'Scott'),\n",
       " ('Uriah', 'Trish'),\n",
       " ('Uriah', 'Victoria'),\n",
       " ('Uriah', 'Ronald'),\n",
       " ('Uriah', 'Scott'),\n",
       " ('Scott', 'Trish'),\n",
       " ('Scott', 'Uriah')]"
      ]
     },
     "execution_count": 4,
     "metadata": {},
     "output_type": "execute_result"
    }
   ],
   "source": [
    "chapsnat.edges()"
   ]
  },
  {
   "cell_type": "markdown",
   "metadata": {},
   "source": [
    "If you want to convert to an adjacency matrix... it's a little complicated. There _is_ an `.adjacency_matrix()` method available, but it doesn't work the way you think it does: "
   ]
  },
  {
   "cell_type": "code",
   "execution_count": 5,
   "metadata": {
    "collapsed": false
   },
   "outputs": [
    {
     "data": {
      "text/plain": [
       "<5x5 sparse matrix of type '<class 'numpy.int64'>'\n",
       "\twith 10 stored elements in Compressed Sparse Row format>"
      ]
     },
     "execution_count": 5,
     "metadata": {},
     "output_type": "execute_result"
    }
   ],
   "source": [
    "nx.adjacency_matrix(chapsnat)"
   ]
  },
  {
   "cell_type": "markdown",
   "metadata": {},
   "source": [
    "If you try printing this: "
   ]
  },
  {
   "cell_type": "code",
   "execution_count": 6,
   "metadata": {
    "collapsed": false
   },
   "outputs": [
    {
     "name": "stdout",
     "output_type": "stream",
     "text": [
      "  (1, 3)\t1\n",
      "  (1, 4)\t1\n",
      "  (2, 0)\t1\n",
      "  (2, 4)\t1\n",
      "  (3, 0)\t1\n",
      "  (3, 1)\t1\n",
      "  (3, 2)\t1\n",
      "  (3, 4)\t1\n",
      "  (4, 0)\t1\n",
      "  (4, 3)\t1\n"
     ]
    }
   ],
   "source": [
    "print(nx.adjacency_matrix(chapsnat))"
   ]
  },
  {
   "cell_type": "markdown",
   "metadata": {},
   "source": [
    "This is storing the matrix as a \"sparse matrix\" which means \"0\" entries aren't stored at all -- only the \"1\" entries. Anyway, it's not what we normally think of as a matrix. An earlier programming problem from the course would be handy here. "
   ]
  },
  {
   "cell_type": "code",
   "execution_count": null,
   "metadata": {
    "collapsed": true
   },
   "outputs": [],
   "source": []
  }
 ],
 "metadata": {
  "anaconda-cloud": {},
  "kernelspec": {
   "display_name": "Python [conda root]",
   "language": "python",
   "name": "conda-root-py"
  },
  "language_info": {
   "codemirror_mode": {
    "name": "ipython",
    "version": 3
   },
   "file_extension": ".py",
   "mimetype": "text/x-python",
   "name": "python",
   "nbconvert_exporter": "python",
   "pygments_lexer": "ipython3",
   "version": "3.4.5"
  }
 },
 "nbformat": 4,
 "nbformat_minor": 1
}
