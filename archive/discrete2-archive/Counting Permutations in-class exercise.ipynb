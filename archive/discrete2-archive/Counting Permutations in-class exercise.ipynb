{
 "cells": [
  {
   "cell_type": "markdown",
   "metadata": {},
   "source": [
    "# How many permutations? \n",
    "\n",
    "## MTH 225: Discrete Structures for Computer Science \n",
    "\n",
    "**Goal of this exercise:** Find a rule for determining the number of permutations of a string of length $n$, even if there are repeated characters. \n",
    "\n",
    "### Review from Guided Inquiry \n",
    "\n",
    "+ A *permutation* of a string is a rearrangement of the characters in a different order. \n",
    "+ The ordering of a permutation matters. For example the string \"LOL\" and the string \"LLO\" are considered different. \n",
    "+ *Solution to exercise*: There are six permutations of the string \"XYZ\": `XYZ`, `XZY`, `YXZ`, `YZX`, `ZXY`, and `ZYX`. \n",
    "\n",
    "## Warmup \n",
    "\n",
    "Write down all the permutations of the string `HECK`: \n",
    "\n",
    "\n",
    "Write down all the permutations of the string `HELL`. There should be *fewer* of these than \"HECK\". (Why?) \n",
    "\n",
    "## Counting permutations part 1\n",
    "\n",
    "Let's focus on finding a rule for determining **the number of permutations of a string in which there are *no* repeated characters,** like \"HECK\". \n",
    "\n",
    ">The Python library `itertools` has a number of great built-in functions for enumerating permutations. In particular, the function `permutations()` takes a list or a string and produces an iterable consisting of all the permutations of that list or string. The output isn't a list itself, so it's often useful to wrap it in `list()`."
   ]
  },
  {
   "cell_type": "code",
   "execution_count": null,
   "metadata": {},
   "outputs": [],
   "source": [
    "# Loading the packages: \n",
    "from itertools import permutations\n",
    "import numpy as np"
   ]
  },
  {
   "cell_type": "code",
   "execution_count": null,
   "metadata": {},
   "outputs": [],
   "source": [
    "# Example of use of permutations(): \n",
    "print(list(permutations(\"XYZ\")))"
   ]
  },
  {
   "cell_type": "markdown",
   "metadata": {},
   "source": [
    "Now let's experiment and try to make a conjecture. The contents of the string or list don't matter as long as there are no repeated characters, so we'll just work with the lists `[0,1,..., n-1]` for different values of $n$. "
   ]
  },
  {
   "cell_type": "code",
   "execution_count": null,
   "metadata": {},
   "outputs": [],
   "source": [
    "# Experimentation: \n",
    "\n",
    "# In this space, write a `for` loop that prints off the number of permutations of a list of \n",
    "# length n, for n = 1..10. Don't print off the permutations themselves, just the number. \n"
   ]
  },
  {
   "cell_type": "markdown",
   "metadata": {},
   "source": [
    "Now fill in the conjecture: \n",
    "\n",
    ">Let $n$ be any positive integer. The number of permutations of a list or string of length $n$ is...\n",
    "\n",
    "Now test your conjecture by having Python create permutations of strings. If you find that your conjecture didn't work on a test case, go back and adjust the conjecture. "
   ]
  },
  {
   "cell_type": "code",
   "execution_count": null,
   "metadata": {},
   "outputs": [],
   "source": [
    "# Testing the conjecture \n",
    "\n",
    "s = # Put your favorite string here, but make sure there are NO REPEATED LETTERS\n",
    "\n",
    "# Python creates an iterable with all its permutations\n",
    "perms = permutations(s)\n",
    "\n",
    "# Now put code below that determines the number of permutations: \n"
   ]
  },
  {
   "cell_type": "markdown",
   "metadata": {},
   "source": [
    "In your groups, come up with a reasonable explanation for why your conjecture is true. "
   ]
  },
  {
   "cell_type": "markdown",
   "metadata": {},
   "source": [
    "## Counting permutations part 2\n",
    "\n",
    "Try out your conjecture on a string that *does* have repeated characters. "
   ]
  },
  {
   "cell_type": "code",
   "execution_count": null,
   "metadata": {},
   "outputs": [],
   "source": [
    "# Using Python to count the permutations \n",
    "\n",
    "s = # Replace with a string that has repeats\n",
    "perms = permutations(s)\n",
    "\n",
    "# Copy/paste your code from above to make Python count the number of permutations"
   ]
  },
  {
   "cell_type": "markdown",
   "metadata": {},
   "source": [
    "Now use the formula from your conjecture to count the permutations. Are they the same? Why not? \n",
    "\n",
    "Let's see if we can adjust the conjecture to handle repeated characters. First, experiment: "
   ]
  },
  {
   "cell_type": "markdown",
   "metadata": {},
   "source": [
    ">In the code block below, write a function `distinct_perms` that will take a string or list, even if it has repeats, and produce a list or iterable consisting of only the *distinct* permutations of that string or list. Example: \n",
    "\n",
    "    distinct_perms([1,1,2]) \n",
    "    > [(1,1,2), (1,2,1), (2,1,1)]"
   ]
  },
  {
   "cell_type": "code",
   "execution_count": null,
   "metadata": {},
   "outputs": [],
   "source": [
    "# distinct_perms here"
   ]
  },
  {
   "cell_type": "markdown",
   "metadata": {},
   "source": [
    "> Now write another function called `how_many_perms` that accepts a string or list and prints off two things: The number of permutations of the string or list, including repetitions; and the number of distinct permutations of the string or list. Example: \n",
    "\n",
    "    how_many_perms([1,1,2])\n",
    "    > The number of permutations is 6. \n",
    "    > The number of distinct permutations is 3. "
   ]
  },
  {
   "cell_type": "markdown",
   "metadata": {},
   "source": [
    "Now do the following: \n",
    "\n",
    "+ Experiment using `how_many_perms` and several lists or strings to try and see a relationship between the number of permutations and the number of _distinct_ permutations. Formalize your observations into a mathematically precise conjecture. \n",
    "+ Test the conjecture out on more examples. \n",
    "+ Write an outline of an argument that explains why your conjecture is always true. "
   ]
  },
  {
   "cell_type": "code",
   "execution_count": null,
   "metadata": {},
   "outputs": [],
   "source": []
  }
 ],
 "metadata": {
  "kernelspec": {
   "display_name": "Python 3",
   "language": "python",
   "name": "python3"
  },
  "language_info": {
   "codemirror_mode": {
    "name": "ipython",
    "version": 3
   },
   "file_extension": ".py",
   "mimetype": "text/x-python",
   "name": "python",
   "nbconvert_exporter": "python",
   "pygments_lexer": "ipython3",
   "version": "3.6.6"
  }
 },
 "nbformat": 4,
 "nbformat_minor": 2
}
