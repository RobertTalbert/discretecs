{
 "cells": [
  {
   "cell_type": "code",
   "execution_count": null,
   "metadata": {
    "collapsed": true
   },
   "outputs": [],
   "source": [
    "# Ignore this; it suppresses system warnings. \n",
    "\n",
    "import warnings\n",
    "warnings.filterwarnings('ignore')"
   ]
  },
  {
   "cell_type": "markdown",
   "metadata": {},
   "source": [
    "# Reference guide for networkX\n",
    "\n",
    "This notebook is a reference for using networkX and matplotlib to do basic graph constructions and manipulations in Python. \n",
    "\n",
    "## Loading the necessary packages "
   ]
  },
  {
   "cell_type": "code",
   "execution_count": null,
   "metadata": {
    "collapsed": true
   },
   "outputs": [],
   "source": [
    "# Include these two lines whenever you want to work with graphs in Python. \n",
    "# The first line loads networkx, and gives it the nickname \"nx\". \n",
    "# The second loads matplotlib's plotting library, and gives it the nickname \"plt\". \n",
    "# Pro tip: Save these commands as a text snippet or in a text file for easy access. \n",
    "\n",
    "import networkx as nx\n",
    "import matplotlib.pyplot as plt"
   ]
  },
  {
   "cell_type": "markdown",
   "metadata": {},
   "source": [
    "## Creating graphs"
   ]
  },
  {
   "cell_type": "code",
   "execution_count": null,
   "metadata": {
    "collapsed": true
   },
   "outputs": [],
   "source": [
    "# Create from an edge list. \n",
    "# Note the nx. and the capital \"G\". \n",
    "\n",
    "g1 = nx.Graph([(0,1), (0,2), (0,3), (1,2), (1,3)])"
   ]
  },
  {
   "cell_type": "code",
   "execution_count": null,
   "metadata": {
    "collapsed": true
   },
   "outputs": [],
   "source": [
    "# Create from a dictionary. \n",
    "\n",
    "g2 = nx.Graph({'a': ['b', 'c', 'd', 'e'], 'b': ['c','e'], 'c': ['a', 'd'], 'd': ['e']})"
   ]
  },
  {
   "cell_type": "markdown",
   "metadata": {},
   "source": [
    "## Two ways of working with graphs in networkX\n",
    "\n",
    "There are two basic ways that you can work with graphs in networkX: Using methods applied to specific graphs, or using functions that apply more generally or to more than one graph at a time. \n",
    "\n",
    "Generally speaking, if what you want to do is an action that is performed on a single graph `g`, then you will perform it as a **method** using the format `g.method_name(arguments)`. \n",
    "\n",
    "On the other hand if what you want to do is more general, or requires more than one graph, then this is usually done using a **function** drawn from networkX's libraries. Such commands usually have the syntax `nx.function_name(arguments)`. \n",
    "\n",
    "You'll see a mix of each of these below. \n",
    "\n",
    "## Getting information about a single graph"
   ]
  },
  {
   "cell_type": "code",
   "execution_count": null,
   "metadata": {
    "collapsed": false
   },
   "outputs": [],
   "source": [
    "# Counting the number of nodes or edges in a graph: \n",
    "\n",
    "g1.number_of_nodes()"
   ]
  },
  {
   "cell_type": "code",
   "execution_count": null,
   "metadata": {
    "collapsed": false
   },
   "outputs": [],
   "source": [
    "g2.number_of_edges()"
   ]
  },
  {
   "cell_type": "code",
   "execution_count": null,
   "metadata": {
    "collapsed": false
   },
   "outputs": [],
   "source": [
    "# Getting a list of the nodes or edges in a graph\n",
    "\n",
    "g1.nodes()"
   ]
  },
  {
   "cell_type": "code",
   "execution_count": null,
   "metadata": {
    "collapsed": false
   },
   "outputs": [],
   "source": [
    "g2.edges() "
   ]
  },
  {
   "cell_type": "code",
   "execution_count": null,
   "metadata": {
    "collapsed": false
   },
   "outputs": [],
   "source": [
    "# Getting the degree of a node \n",
    "\n",
    "g1.degree(1)"
   ]
  },
  {
   "cell_type": "code",
   "execution_count": null,
   "metadata": {
    "collapsed": false
   },
   "outputs": [],
   "source": [
    "g2.degree('b')"
   ]
  },
  {
   "cell_type": "code",
   "execution_count": null,
   "metadata": {
    "collapsed": false
   },
   "outputs": [],
   "source": [
    "# Getting the degree sequence of a graph: Same command but leave the argument off. \n",
    "\n",
    "g1.degree()"
   ]
  },
  {
   "cell_type": "markdown",
   "metadata": {},
   "source": [
    "However note that the result isn't quite what we expected. It gives a _dictionary_ whose keys are the nodes, and the value for each node is its degree. "
   ]
  },
  {
   "cell_type": "code",
   "execution_count": null,
   "metadata": {
    "collapsed": false
   },
   "outputs": [],
   "source": [
    "g2.degree()"
   ]
  },
  {
   "cell_type": "markdown",
   "metadata": {},
   "source": [
    "Once we have information from a graph, we can do things with it. For example, here we can loop over the list of nodes in a graph and print off the label and degree of each one: "
   ]
  },
  {
   "cell_type": "code",
   "execution_count": null,
   "metadata": {
    "collapsed": false
   },
   "outputs": [],
   "source": [
    "for node in g2.nodes():\n",
    "    print(\"The degree of node %s is %d.\" % (node, g2.degree(node)))"
   ]
  },
  {
   "cell_type": "markdown",
   "metadata": {},
   "source": [
    "## Using the networkX library to generate named graphs\n",
    "\n",
    "networkX comes pre-loaded with the ability to generate instances of hundreds of different named graphs. These all use _functions_ from the networkX library: "
   ]
  },
  {
   "cell_type": "code",
   "execution_count": null,
   "metadata": {
    "collapsed": true
   },
   "outputs": [],
   "source": [
    "# Generate the complete graph on 7 nodes:\n",
    "\n",
    "k7 = nx.complete_graph(7)"
   ]
  },
  {
   "cell_type": "code",
   "execution_count": null,
   "metadata": {
    "collapsed": false
   },
   "outputs": [],
   "source": [
    "# Now check to see if it worked: \n",
    "\n",
    "print(k7.nodes())\n",
    "print(k7.number_of_edges())\n",
    "print(k7.degree())"
   ]
  },
  {
   "cell_type": "code",
   "execution_count": null,
   "metadata": {
    "collapsed": false
   },
   "outputs": [],
   "source": [
    "# Generate the complete bipartite graph K_{3,4}:\n",
    "\n",
    "k34 = nx.complete_bipartite_graph(3,4)\n",
    "k34.edges()"
   ]
  },
  {
   "cell_type": "code",
   "execution_count": null,
   "metadata": {
    "collapsed": false
   },
   "outputs": [],
   "source": [
    "# Generate the path graph P_6:\n",
    "\n",
    "p6 = nx.path_graph(6)\n",
    "p6.nodes()"
   ]
  },
  {
   "cell_type": "code",
   "execution_count": null,
   "metadata": {
    "collapsed": false
   },
   "outputs": [],
   "source": [
    "# Generate the cycle graph C_{10}:\n",
    "c10 = nx.cycle_graph(10)\n",
    "c10.degree()"
   ]
  },
  {
   "cell_type": "markdown",
   "metadata": {},
   "source": [
    "## Using the networkX library to generate random graphs\n",
    "\n",
    "Generating random graphs is a great way to test out your hypotheses about graphs and to practice working with graphs yourself. For example you can generate limitless numbers of practice examples for your Learning Target assessments and practice them by hand, then check the answers in networkX. \n",
    "\n",
    "There are two basic ways to create a random graph in networkX: \n",
    "\n",
    "1. Specify the number of nodes and the number of edges you want; networkX then randomly selects a graph from its libraries that has those specifications. \n",
    "2. Specify the number of nodes and a probability between 0 and 1 of two nodes being connected. networkX then constructs the graph. \n",
    "\n",
    "Both of these require using two levels of library calls. "
   ]
  },
  {
   "cell_type": "code",
   "execution_count": null,
   "metadata": {
    "collapsed": false
   },
   "outputs": [],
   "source": [
    "# Specify number of nodes and edges: This is called a \"GMN\" graph. \n",
    "# Note that we have to go into networkX, then a library for random graphs and pull a function out. \n",
    "\n",
    "my_random = nx.random_graphs.gnm_random_graph(5,10)\n",
    "my_random.edges()"
   ]
  },
  {
   "cell_type": "code",
   "execution_count": null,
   "metadata": {
    "collapsed": false
   },
   "outputs": [],
   "source": [
    "# Specify number of nodes and a probability value: This is called a \"GNP\" graph. \n",
    "\n",
    "another_random = nx.random_graphs.gnp_random_graph(10, 0.55)\n",
    "another_random.degree()"
   ]
  },
  {
   "cell_type": "markdown",
   "metadata": {},
   "source": [
    "## Changing the representation of a graph\n",
    "\n",
    "**Convert to an edge list:** Just use `.edges()`: "
   ]
  },
  {
   "cell_type": "code",
   "execution_count": null,
   "metadata": {
    "collapsed": false
   },
   "outputs": [],
   "source": [
    "k5 = nx.complete_graph(5) # Complete graph K_5\n",
    "k5.edges()"
   ]
  },
  {
   "cell_type": "markdown",
   "metadata": {},
   "source": [
    "**Convert to a dictionary:** Use the networkX function `nx.to_dict_of_lists(graph)`:"
   ]
  },
  {
   "cell_type": "code",
   "execution_count": null,
   "metadata": {
    "collapsed": false
   },
   "outputs": [],
   "source": [
    "nx.to_dict_of_lists(k5)"
   ]
  },
  {
   "cell_type": "markdown",
   "metadata": {},
   "source": [
    "**Convert to adjacency matrix:** There is a function for this, but unfortunately it works strangely. Check it out: "
   ]
  },
  {
   "cell_type": "code",
   "execution_count": null,
   "metadata": {
    "collapsed": false
   },
   "outputs": [],
   "source": [
    "nx.adjacency_matrix(k5)"
   ]
  },
  {
   "cell_type": "markdown",
   "metadata": {},
   "source": [
    "We'll deal with this behavior in an upcoming Challenge Problem. "
   ]
  },
  {
   "cell_type": "markdown",
   "metadata": {},
   "source": [
    "## Visualizing graphs\n",
    "\n",
    "Visualizing graphs in networkX is more complicated than you expect because networkX isn't built to _visualize_ graphs but rather to _analyze_ them. Visualizing graphs is fun, but it often leads nowhere because of the visual complexity of large graphs. But, we can still do it if we pull in `matplotlib`, which is the generic package that Python uses to plot things. \n",
    "\n",
    "There is a three-step process to visualizing graphs in Python/networkX: \n",
    "\n",
    "1. Somewhere in your document load the library `matplotlib.pyplot` by typing `import matplotlib.pyplot as plt`. You only have to do this once per document. This document did it in the first code block. \n",
    "2. To draw the graph `g`, use the command: `nx.draw(g)`. There are some options we can pass to this function that we'll describe later. This doesn't actually draw the graph, despite the name.\n",
    "3. Then, type `plt.show()`. (Notice there is nothing plugged into the parentheses.) This now draws the graph. \n",
    "\n",
    "You can do all this at once using the following block: \n",
    "\n",
    "    import matplotlib.pyplot as plt\n",
    "    nx.draw(g)\n",
    "    plt.show()\n",
    "    \n",
    "Again, though, the first line only needs to be entered once. "
   ]
  },
  {
   "cell_type": "code",
   "execution_count": null,
   "metadata": {
    "collapsed": false
   },
   "outputs": [],
   "source": [
    "# Example: Drawing the graph g1 from earlier \n",
    "\n",
    "nx.draw(g1)\n",
    "plt.show()"
   ]
  },
  {
   "cell_type": "markdown",
   "metadata": {},
   "source": [
    "Notice there are no vertex labels. To get those, we enter in an option to the `.draw()` function:"
   ]
  },
  {
   "cell_type": "code",
   "execution_count": null,
   "metadata": {
    "collapsed": false
   },
   "outputs": [],
   "source": [
    "nx.draw(g1, with_labels=True)\n",
    "plt.show()"
   ]
  },
  {
   "cell_type": "code",
   "execution_count": null,
   "metadata": {
    "collapsed": false
   },
   "outputs": [],
   "source": [
    "# Another example: g2\n",
    "# We'll add options to change the color of the nodes and the thickness of the edges\n",
    "\n",
    "nx.draw(g2, with_labels=True, node_color=\"yellow\", width=3)\n",
    "plt.show()"
   ]
  },
  {
   "cell_type": "code",
   "execution_count": null,
   "metadata": {
    "collapsed": false
   },
   "outputs": [],
   "source": [
    "# Example: Visualizing K_{3,7} with gray nodes and thin dashed edges\n",
    "\n",
    "k37 = nx.complete_bipartite_graph(3,7)\n",
    "nx.draw(k37, with_labels=True, node_color=\"gray\", width=0.5, style=\"dashed\")\n",
    "plt.show()"
   ]
  },
  {
   "cell_type": "markdown",
   "metadata": {},
   "source": [
    "networkX choose a random layout for the nodes each time the graph is visualized. You can change this or control this in a number of ways. The easiest is to use a variation on the `nx.draw()` function: "
   ]
  },
  {
   "cell_type": "code",
   "execution_count": null,
   "metadata": {
    "collapsed": false
   },
   "outputs": [],
   "source": [
    "# Example: Using a \"circular\" layout to plot K_{3,7}\n",
    "# This uses the function nx.draw_circular(): \n",
    "\n",
    "nx.draw_circular(k37, with_labels=True, node_color=\"gray\", width=0.5, style=\"dashed\")\n",
    "plt.show()"
   ]
  },
  {
   "cell_type": "code",
   "execution_count": null,
   "metadata": {
    "collapsed": false
   },
   "outputs": [],
   "source": [
    "# Example: Same thing but using g2 from earlier\n",
    "\n",
    "nx.draw_circular(g2, with_labels=True, node_color=\"#f442e8\", width = 4, style=\"dotted\")\n",
    "plt.show()"
   ]
  },
  {
   "cell_type": "markdown",
   "metadata": {},
   "source": [
    "Other layouts are available; see the networkX documentation. You can even specify the coordinates of each node by hand if you want. \n",
    "\n",
    "For a final example, a medium-large randomly generated graph with more visual effects: "
   ]
  },
  {
   "cell_type": "code",
   "execution_count": null,
   "metadata": {
    "collapsed": false
   },
   "outputs": [],
   "source": [
    "random_g = nx.random_graphs.gnp_random_graph(20, 0.2)\n",
    "nx.draw(random_g, with_labels=True, node_color=\"#42f46e\", width = 2, node_shape=\"s\")\n",
    "plt.show()"
   ]
  },
  {
   "cell_type": "code",
   "execution_count": null,
   "metadata": {
    "collapsed": true
   },
   "outputs": [],
   "source": []
  }
 ],
 "metadata": {
  "kernelspec": {
   "display_name": "Python [default]",
   "language": "python",
   "name": "python3"
  },
  "language_info": {
   "codemirror_mode": {
    "name": "ipython",
    "version": 3
   },
   "file_extension": ".py",
   "mimetype": "text/x-python",
   "name": "python",
   "nbconvert_exporter": "python",
   "pygments_lexer": "ipython3",
   "version": "3.5.2"
  }
 },
 "nbformat": 4,
 "nbformat_minor": 2
}
