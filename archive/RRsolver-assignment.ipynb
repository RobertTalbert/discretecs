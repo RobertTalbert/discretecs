{
 "cells": [
  {
   "cell_type": "markdown",
   "metadata": {},
   "source": [
    "# MTH 225: Discrete Structures for Computer Science 1\n",
    "\n",
    "## Sequences and Induction Programming Problem 1: Linear homogeneous recurrence relation solver\n",
    "\n",
    "### Goal of this problem\n",
    "\n",
    "In this miniproject, you will write a function in Python called `rrsolver` that does the following: \n",
    "\n",
    "+ The function `rrsolver` accepts four numbers, which are the _coefficients_ and _initial conditions_ of a linear second-order homogeneous recurrence relation written in the form\n",
    "$$a_n = c_1a_{n-1} + c_2a_{n-2} \\quad a(0) = A, a(1) = B$$\n",
    "and the input would look like ``rrsolver(c1, c2, A, B)``. For example, if the recurrence relation were\n",
    "$$a_n = a_{n-1} + 6a_{n-2} \\quad a(0) = 3, a(1) = 6$$\n",
    "then the input would be ``rrsolver(1, 6, 3, 6)``. In other words there are four inputs, in this order: The coefficient on $a_{n-1}$, the coefficient on $a_{n-2}$, the value of $a(0)$, and the value of $a(1)$. We assume that the recurrence relation has been written as above, with $a_n$ on the left side and everything else on the right side. We are also assuming for this problem that we are only dealing with second-order equations, not third-order or higher. \n",
    "\n",
    "As you know from class work, linear homogeneous recurrence relations can be solved using the characteristic root method. What the `rrsolver` does with its input depends on how many real-number characteristic roots the recurrence relation has: \n",
    "\n",
    "+ If there are two real-number characteristic roots or one repeated characteristic root, then `rrsolver` prints off a string that represents the formula for the closed formula solution for the recurrence relation using the format shown later below; and\n",
    "+ If there are _no_ real-number characteristic roots, then `rrsolver` simply prints `\"There are no real roots\"`. \n",
    "\n",
    "Here are some examples of how this function should look when called. Especially, note the format of the output when real characteristic roots are encountered: \n",
    "\n",
    "    rrsolver(1,2,2,7)\n",
    "    > a(n) = 3*(2.0)^n + (-1)*(-1.0)^n \n",
    "    \n",
    "The inputs 1,2,2,7 correspond to the recurrence relation $a_n = a_{n-1} + 2a_{n-2}$ with initial conditions $a(0) = 2$ and $a(1) = 7$. Likewise here are some more sample inputs and outputs:\n",
    "    \n",
    "    rrsolver(0,-1,2,3)\n",
    "    > There are no real roots\n",
    "    \n",
    "    rrsolver(0, 1/4, 1, 0)\n",
    "    > a(n) = (0.5)*(0.5)^n + (0.5)*(-0.5)^n\n",
    "    \n",
    "    rrsolver(7, -10, 2, 1) \n",
    "    > a(n) = (-1)*(5.0)^n + (3)*(2.0)^n \n",
    "    \n",
    "    rrsolver(4,-4,6,8)    # This has a repeated root of r = 2\n",
    "    > a(n) = 6*(2.0)^n - 2n*(2.0)^n\n",
    "    \n",
    "(Above, the `>` symbol just represents where the output cell would be in a Jupyter notebook. It's not part of the actual output.) \n",
    "\n",
    "So notice that if there are two distinct real roots `r` and `s`, then the output format is the string \n",
    "\n",
    "    a(n) = x*(r)^n + y*(s)^n\n",
    "    \n",
    "Where `r` and `s` are the roots and `x` and `y` are the coefficients, found in the characteristic root method. If there is only one repeated root `r`, then the output format is the string\n",
    "\n",
    "    a(n) = x*(r)^n + yn*(r)^n \n",
    "    \n",
    "    \n",
    "### Background material\n",
    "\n",
    "To write the `rrsolver` function, it will help to enlist some Python math functions that we've not used up to this point. These are all found in the `math` module, which is a sort of library that contains a lot of basic math functions such as the square root function. Here's an example of using the square root function, for instance: "
   ]
  },
  {
   "cell_type": "code",
   "execution_count": 7,
   "metadata": {
    "collapsed": false
   },
   "outputs": [
    {
     "name": "stdout",
     "output_type": "stream",
     "text": [
      "3.0\n",
      "9.9498743710662\n"
     ]
    }
   ],
   "source": [
    "from math import sqrt\n",
    "\n",
    "print(sqrt(9))\n",
    "print(sqrt(99))"
   ]
  },
  {
   "cell_type": "code",
   "execution_count": 4,
   "metadata": {
    "collapsed": false
   },
   "outputs": [
    {
     "data": {
      "text/plain": [
       "9.433981132056603"
      ]
     },
     "execution_count": 4,
     "metadata": {},
     "output_type": "execute_result"
    }
   ],
   "source": [
    "# Once the sqrt function is imported, it doesn't need to be re-imported: \n",
    "\n",
    "sqrt(89)"
   ]
  },
  {
   "cell_type": "code",
   "execution_count": 5,
   "metadata": {
    "collapsed": false
   },
   "outputs": [
    {
     "ename": "ValueError",
     "evalue": "math domain error",
     "output_type": "error",
     "traceback": [
      "\u001b[0;31m---------------------------------------------------------------------------\u001b[0m",
      "\u001b[0;31mValueError\u001b[0m                                Traceback (most recent call last)",
      "\u001b[0;32m<ipython-input-5-54eb7f119c44>\u001b[0m in \u001b[0;36m<module>\u001b[0;34m()\u001b[0m\n\u001b[1;32m      2\u001b[0m \u001b[0;31m# it throws an error if given negative input:\u001b[0m\u001b[0;34m\u001b[0m\u001b[0;34m\u001b[0m\u001b[0m\n\u001b[1;32m      3\u001b[0m \u001b[0;34m\u001b[0m\u001b[0m\n\u001b[0;32m----> 4\u001b[0;31m \u001b[0msqrt\u001b[0m\u001b[0;34m(\u001b[0m\u001b[0;34m-\u001b[0m\u001b[0;36m1\u001b[0m\u001b[0;34m)\u001b[0m\u001b[0;34m\u001b[0m\u001b[0m\n\u001b[0m",
      "\u001b[0;31mValueError\u001b[0m: math domain error"
     ]
    }
   ],
   "source": [
    "# But beware that the sqrt function doesn't know how to handle complex numbers. Instead,\n",
    "# it throws an error if given negative input:\n",
    "\n",
    "sqrt(-1)"
   ]
  },
  {
   "cell_type": "markdown",
   "metadata": {},
   "source": [
    "There are other math tools available in Python in the **NumPy** library (short for \"Numerical Python\" and pronounced NOOM-pie). In particular, NumPy contains a method for solving linear systems. Here is an example of use. Suppose we have the system of linear equations \n",
    "\n",
    "$$\\begin{align*}\n",
    "3x + 2y &= 4 \\\\\n",
    " x - y  &= 6\n",
    "\\end{align*}$$\n",
    "\n",
    "To use Numpy to solve this system, first load the module: "
   ]
  },
  {
   "cell_type": "code",
   "execution_count": 8,
   "metadata": {
    "collapsed": true
   },
   "outputs": [],
   "source": [
    "import numpy"
   ]
  },
  {
   "cell_type": "markdown",
   "metadata": {},
   "source": [
    "Now enter in the coefficients on the left-hand sides of the system into an array, like this: "
   ]
  },
  {
   "cell_type": "code",
   "execution_count": 10,
   "metadata": {
    "collapsed": true
   },
   "outputs": [],
   "source": [
    "a = [[3,2], [1,-1]]   # Note that this is a list of lists. Technically it's a \"matrix\"."
   ]
  },
  {
   "cell_type": "markdown",
   "metadata": {},
   "source": [
    "Now enter in the right-hand sides as another array:"
   ]
  },
  {
   "cell_type": "code",
   "execution_count": 11,
   "metadata": {
    "collapsed": true
   },
   "outputs": [],
   "source": [
    "b = [4,6]"
   ]
  },
  {
   "cell_type": "markdown",
   "metadata": {},
   "source": [
    "Now we can use the `solve` method which is found inside the `linalg` (for \"linear algebra\") sublibrary:"
   ]
  },
  {
   "cell_type": "code",
   "execution_count": 13,
   "metadata": {
    "collapsed": false
   },
   "outputs": [
    {
     "data": {
      "text/plain": [
       "array([ 3.2, -2.8])"
      ]
     },
     "execution_count": 13,
     "metadata": {},
     "output_type": "execute_result"
    }
   ],
   "source": [
    "numpy.linalg.solve(a,b)"
   ]
  },
  {
   "cell_type": "markdown",
   "metadata": {},
   "source": [
    "This is saying the solution to the system is $x=3.2$ and $y = -2.8$. This `array` object can be treated just like a list, so if you wanted to access just the first element for example, you could do this: "
   ]
  },
  {
   "cell_type": "code",
   "execution_count": 14,
   "metadata": {
    "collapsed": false
   },
   "outputs": [
    {
     "data": {
      "text/plain": [
       "3.2000000000000006"
      ]
     },
     "execution_count": 14,
     "metadata": {},
     "output_type": "execute_result"
    }
   ],
   "source": [
    "soln = numpy.linalg.solve(a,b)\n",
    "soln[0]"
   ]
  },
  {
   "cell_type": "markdown",
   "metadata": {},
   "source": [
    "There's some roundoff error happening because of the numerical methods used by NumPy. This can be ignored for now. "
   ]
  },
  {
   "cell_type": "markdown",
   "metadata": {},
   "source": [
    "### Notes\n",
    "\n",
    "**Assumptions to make:** As mentioned above, assume that the only kind of recurrence relation we are considering are linear, homogeneous, second-order equations. Also assume that the user enters in four numbers correctly. \n",
    "\n",
    "Some of the roots you may find to a characteristic equation will be decimals that are somewhat lengthy. This is OK. \n",
    "\n",
    "**Tools you can use:** Any math function found in the `math` module is something you can use. The `sqrt` is the one you might need the most, but if you find something else that helps, go for it. You may also use the `solve` method in NumPy as described above. \n",
    "\n",
    "**Restrictions to follow:** You are not allowed to use any tools in any other library or any other tools besides `solve` in NumPy. Also, note that unlike previous functions you've written for programming problems, this function is not supposed to `return` an output but `print` an output. The final line of the function should involve `print` not `return`. Finally, on that note, please note that **Python 3 does `print` differently than Python 2**; specifically, _in Python 3 you have to enclose the argument of a print statement in parentheses_ whereas this was not the case with Python 2. Examples: \n",
    "\n",
    "    # Correct in Python 3, not correct in Python 2: \n",
    "    print('Hello world') \n",
    "    \n",
    "    # Correct in Python 2, not correct in Python 3: \n",
    "    print 'Hello world'\n",
    "    \n",
    "You're using Python 3 so you need to make sure you use the right syntax for Python 3. This could be an issue if you go online to look for help resources -- if you find an older resources, it's probably using Python 2 which will lead to errors in your work if you try to use it in Python 3. \n",
    "\n",
    "### Submitting your work\n",
    "\n",
    "__What to submit:__ You will submit your work in a Jupyter notebook with each of the functions above appearing in the same code block. So, there should only be one large block of code in your submission. Please __do not include any examples or test cases that you might use.__ (But please _do_ use test cases to check the correctness of your code.) Each function should also be well-documented by including a clear, thorough description that explains in English how the code for each function works. You can put those explanations in a separate cell in your Jupyter notebook as text, or you can include them as comments in your Python code. Also, _please make sure you have given your function the correct names as indicated above._\n",
    "\n",
    "__How to submit your work:__ Go to Blackboard and then to the _Counting module_ area. Click on the link for __Counting Programming Problem 2__. On the page that appears, find where it says \"Attach a file\" and click the button that says __Upload from computer__. Then locate the Jupyter notebook on your computer and select it. The name of the file should then appear below where you were clicking. _Then click the **Submit** button that appears at the bottom-right of the page. PLEASE NOTE THAT YOUR WORK HAS NOT BEEN SUBMITTED UNTIL YOU CLICK THE \"SUBMIT\" BUTTON._\n",
    "\n",
    "__When to submit your work:__ Programming problems do not have fixed deadlines. Simply work on this until you are certain it's ready to be submitted, then submit it. However, please remember __you may only submit two items per week__ and __no submissions may be made after 11:59pm Eastern time on Friday, December 9__. \n",
    "\n",
    "### Grading criteria\n",
    "\n",
    "Your functions will be tested using a collection of pre-made test cases that I will create. Your grade will be based on how often your code produces correct results and on the quality of your descriptions you provided. \n",
    "\n",
    "Remember that your work on programming problems is graded using the EMRN scale discussed in the syllabus. \n",
    "\n",
    "| Grade | Description |\n",
    "|:----- | :---------- |\n",
    "| E | The functions produce correct output on all (100%) of the test cases. Also, each function has an English description that provides a clear explanation of how each function works. | \n",
    "| M | The functions produce correct output on at least 3/4 of the test cases. Also, each function has an English description that explains how the code works. |\n",
    "| R | There are no syntax errors in the code but correct output is produced on less than 75% of the test cases. Or, the explanations are provided but are not clear or do not explain how all parts of the code work. |\n",
    "| N | There is a syntax error produced when the code is executed; or there is at least one explanation missing; or the code uses external libraries; or the code has systemic flaws. |\n",
    "\n",
    "__Please note:__ You are expected to test your code thoroughly before submitting it. Make sure you do the following:\n",
    "\n",
    "+ Before you submit, put your code in a notebook and run it one last time to make sure it does not produce errors when the code is executed. If the submission throws an error when I execute it, the grade on the work will automatically be N, because debugging your code is your responsibility. \n",
    "+ Before you submit, test your code with several diverse test cases to make sure it is producing the correct output each time. Use a wide variety of test cases for maximum certainty that you've solved the problem. \n",
    "\n",
    "The best way to check your work is to __just pick four random numbers and make up a recurrence relation with those parameters, then solve using Wolfram|Alpha and then run those parameters through your code.__ For example, suppose you pick the numbers 2, -5, 3, and 1. Make a recurrence relation out of that: \n",
    "\n",
    "$$a_n = 2a_{n-1} + 2a_{n-2}, \\quad a(0) = 3, a(1) = 12$$\n",
    "\n",
    "Now solve with Wolfram|Alpha: https://goo.gl/K1TypU Note that this has complex number roots, so when you execute `rrsolver(2,-5,3,1)` it needs to print off `\"There are no real roots\"`. Keep checking in this way until you are convinced all bugs have been squashed. "
   ]
  },
  {
   "cell_type": "code",
   "execution_count": null,
   "metadata": {
    "collapsed": true
   },
   "outputs": [],
   "source": []
  }
 ],
 "metadata": {
  "anaconda-cloud": {},
  "kernelspec": {
   "display_name": "Python [conda root]",
   "language": "python",
   "name": "conda-root-py"
  },
  "language_info": {
   "codemirror_mode": {
    "name": "ipython",
    "version": 3
   },
   "file_extension": ".py",
   "mimetype": "text/x-python",
   "name": "python",
   "nbconvert_exporter": "python",
   "pygments_lexer": "ipython3",
   "version": "3.5.2"
  }
 },
 "nbformat": 4,
 "nbformat_minor": 1
}
