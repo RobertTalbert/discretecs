{
 "cells": [
  {
   "cell_type": "markdown",
   "metadata": {
    "button": false,
    "collapsed": false,
    "deletable": true,
    "new_sheet": false,
    "run_control": {
     "read_only": false
    }
   },
   "source": [
    "# Miniproject 13: Station identification\n",
    "\n",
    "## Overview\n",
    "\n",
    "In this miniproject you will determine the number of channels needed for a collection of radio stations that are all vying for the same air space. \n",
    "\n",
    "## Tasks \n",
    "\n",
    "The city of Great Rapids has six FM radio stations that are all competing for air space. Their call signs are WARC, WLOL, WWTF, WOOP, WUTT, and WIMP. \n",
    "\n",
    "The FCC has determined that two stations cannot use the same FM channel if they are within a certain distance of each other. The distance between the 10 radio stations (in miles) is given in the table: \n",
    "\n",
    "|      | WARC | WLOL | WWTF | WOOP | WUTT | WIMP | \n",
    "|:----:|:----:|:----:|:----:|:----:|:----:|:----:|\n",
    "| WARC | -    | 85   | 175  | 200  | 50   | 100  | \n",
    "| WLOL | 85   | -    | 125  | 175  | 100  | 160  |\n",
    "| WWTF | 175  | 125  | -    | 100  | 200  | 250  |\n",
    "| WOOP | 200  | 175  | 100  | -    | 210  | 220  |\n",
    "| WUTT | 50   | 100  | 200  | 210  | -    | 100  | \n",
    "| WIMP | 100  | 160  | 250  | 220  | 100  | -    |\n",
    "\n",
    "With this information, use a graph to answer the following. \n",
    "\n",
    "1. How many different channels are needed if two stations cannot use the same channel if they are less than or equal to 150 miles of each other? \n",
    "2. How many different channels are needed if two stations cannot use the same channel if they are less than or equal to 100 miles of each other? \n",
    "3. How many different channels are needed if two stations cannot use the same channel if they are less than or equal to 75 miles of each other? \n",
    "\n",
    "## Submission instructions\n",
    "\n",
    "A complete submission for this miniproject will consist of a Jupyter notebook that has all of the following: \n",
    "\n",
    "+ A brief report, addressed to the local government committee in charge of assigning the radio stations, that explains how you solved the problem. This narrative report should consist of at least one paragraph and should explain the method you used without using a lot of jargon; it should also summarize your findings. \n",
    "+ Complete, clear, and correct solutions to the three computational questions above. __The solutions should use graphs in some way.__ This means that if you use code, you need to be sure to switch the kernel to Sage. \n",
    "+ The entire package needs to be professionally presented using an appropriate combination of Markdown and Sage code. \n",
    "\n",
    "Post a PDF of your Jupyter notebook to Blackboard and save the Jupyter notebook itself to your Dropbox folder. \n",
    "\n",
    "The grading rubric is as follows: \n",
    "\n",
    "+ E = The writeup is professionally presented and has an appropriate, visually appealing mixture of code and formatted text. The solutions are clear and correct and use graphs as a central part of the solution. The written report is addressed to the right audience and is given an an appropriate level, and is clear and informative, detailed without using much technical jargon. \n",
    "+ M = The writeup uses a combination of code and formatted text. The solutions are correct and use graphs as the central part of the solution. The written report is addressed to the right audience and is clear and informative. \n",
    "+ R = There are errors in the solution; or there are significant deficiencies in the quality of the Jupyter notebook or the writing. Especially, writing that is not clear or not addressed to the right audience will receive R. \n",
    "+ F = A significant portion of the miniproject is missing; or there are significant and repeated issues with correctness, clarity, and/or communication. "
   ]
  },
  {
   "cell_type": "code",
   "execution_count": null,
   "metadata": {
    "button": false,
    "collapsed": true,
    "deletable": true,
    "new_sheet": false,
    "run_control": {
     "read_only": false
    }
   },
   "outputs": [],
   "source": []
  }
 ],
 "metadata": {
  "kernelspec": {
   "display_name": "Local Python",
   "language": "python",
   "name": "local"
  },
  "language_info": {
   "codemirror_mode": {
    "name": "ipython",
    "version": 2
   },
   "file_extension": ".py",
   "mimetype": "text/x-python",
   "name": "python",
   "nbconvert_exporter": "python",
   "pygments_lexer": "ipython2",
   "version": "2.7.10"
  }
 },
 "nbformat": 4,
 "nbformat_minor": 0
}
