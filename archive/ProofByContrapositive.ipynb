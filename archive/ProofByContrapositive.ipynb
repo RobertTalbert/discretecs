{
 "cells": [
  {
   "cell_type": "markdown",
   "metadata": {},
   "source": [
    "# Proof by contraposition\n",
    "\n",
    "## MTH 225: Discrete Structures for Computer Science 1\n",
    "\n",
    "### Review\n",
    "\n",
    "In the last lesson we learned about _direct proof of conditional statements_. These are proofs of propositions of the form \"If $A$ then $B$\". Direct proofs have a distinctive structure: \n",
    "\n",
    "1. First assume the hypothesis (i.e. assume $A$ is true). \n",
    "2. Use a sequence of definitions, prior knowledge, computation, or other logical steps to rewrite and work with the statement $A$. \n",
    "3. In the end, the sequence of steps should arrive at $B$ (that is, we should conclude that $B$ is true). \n",
    "\n",
    "This lesson discusses a slight variation on the notion of direct proof. In some cases, propositions we wish to prove are given as conditional statements but as stated, it is hard to implement step 2 above -- the hypothesis may be hard to work with. But in some of those cases, the __contrapositive__ of the statement might be easier to work with. Since a conditional statement and its contrapositive are logically equivalent, proving one will prove the other. Taking a conditional statement and providing a direct proof of its contrapositive is called __proof by contraposition__ and this is the subject of this lesson. \n",
    "\n",
    "### Contrapositives\n",
    "\n",
    "Recall that the __contrapositive__ of the conditional statement $p \\rightarrow q$ is the statement \n",
    "$$ (\\neg q) \\rightarrow (\\neg p)$$\n",
    "Back in the Logic module we proved, using a truth table, that $p \\rightarrow q$ is logically equivalent to its contrapositive. Therefore **if we are given a conditional statement to prove, we could prove its contrapositive instead and it would constitute a proof of the original statement**. \n",
    "\n",
    "Why would anybody ever do this? Why not just use a direct proof like we learned last time? Well, consider the following conditional statement as an example: \n",
    "\n",
    ">For all integers $n$, if $n^2$ is odd, then $n$ is odd. \n",
    "\n",
    "First let's check that this statement actually is true. This code snippet runs $n$ from 1 to 20 and if $n^2$ is odd, it prints off $n^2$ and $n$ side by side. "
   ]
  },
  {
   "cell_type": "code",
   "execution_count": 1,
   "metadata": {
    "collapsed": false
   },
   "outputs": [
    {
     "name": "stdout",
     "output_type": "stream",
     "text": [
      "1 1\n",
      "9 3\n",
      "25 5\n",
      "49 7\n",
      "81 9\n",
      "121 11\n",
      "169 13\n",
      "225 15\n",
      "289 17\n",
      "361 19\n"
     ]
    }
   ],
   "source": [
    "for n in range(1, 20):\n",
    "    if (n**2) % 2 == 1:\n",
    "        print(n**2, n)"
   ]
  },
  {
   "cell_type": "markdown",
   "metadata": {},
   "source": [
    "So the proposition seems legit -- whenever $n^2$ is odd in the left column, $n$ itself is odd in the right column. But as we've seen, this doesn't constitute a proof because it is merely a collection of examples and it doesn't check _all positive integers_. If we think that the conditional statement \"If $n^2$ is odd, then $n$ is odd\" is true, we need a proof. \n",
    "\n",
    "This is a conditional statement, and we have seen a method of proof in the form of a _direct proof_ that provides a simple framework for proving the result. Let's break down how a direct proof would go: \n",
    "\n",
    "1. First assume the hypothesis, so suppose $n$ is an integer such that $n^2$ is odd. \n",
    "2. Next it helps to state what we are going to prove: We would like to prove that $n$ is odd. \n",
    "3. Now we should use definitions, prior knowledge, etc. to work forward from the hypothesis in small steps that are all justified. \n",
    "4. Eventually, those steps should arrive at the conclusion, namely that $n$ is odd. \n",
    "\n",
    "So start off the proof by saying: _Suppose $n$ is an integer and $n^2$ is odd. We would like to prove that $n$ is odd._ Now let's go to the assumption ($n^2$ is odd) and take the small step of rewriting this assumption using the definitions of odd and even we've learned: Since $n^2$ is odd, it means there exists an integer $k$ such that $n^2 = 2k + 1$. \n",
    "\n",
    "At this point things get a little tricky. We are trying starting from the statement that $n^2 = 2k+1$ for some integer $k$, to conclude something about $n$, namely that $n$ is odd. But how are we going to get from $n^2 = 2k+1$, to saying something about $n$? The only obvious route is to take the square root of both sides: \n",
    "$$n = \\sqrt{2k+1}$$\n",
    "but this is really inconclusive -- $\\sqrt{2k+1}$ need not even be an _integer at all_, much less an odd integer. It seems like a dead end to try to work forward from here to show $n$ is odd, and there are no other obvious routes to take. \n",
    "\n",
    "**This is where the contrapositive might be handy.** The contrapositive of the statement we're asked to prove is\n",
    "\n",
    ">For all integers $n$, if $n$ is even, then $n^2$ is even. \n",
    "\n",
    "This is a much simpler statement to prove, and it's logically equivalent to the original statement that we got stuck on, because every conditional statement is logically equivalent to its contrapositive. In fact we already proved this in the previous lesson! So go back and review that proof to see how simple it is. \n",
    "\n",
    "A proof by contraposition is still a direct proof and it uses the same overall framework as we saw in Part 2. It's just a direct proof of a different, but logically equivalent statement. \n",
    "\n",
    "Proofs by contraposition are often very useful when proving a proposition that is phrased \"in the negative\" -- for example if you are trying to prove that two things are _not_ equal, or that something _does not exist_, or something _fails to have_ a certain property. Example: \n",
    "\n",
    ">__Proposition:__ Suppose $x,y \\in \\mathbb{Z}$. If $5$ does not divide $xy$, then $5$ does not divide $x$ and $5$ does not divide $y$. \n",
    "\n",
    "If we were to use a direct proof on this, we would start by assuming that $5$ _does not_ divide $xy$ and then try to prove that $5$ _does not_ divide $x$ and _does not_ divide $y$. It seems weird and complicated to prove that one number _doesn't_ divide another, and we would have to prove _two_ things here ($5$ does not divide $x$ AND $5$ does not divide $y$). On the other hand, look at the contrapositive of this proposition: \n",
    "\n",
    ">If $5$ divides $x$ or $5$ divides $y$, then $5$ divides $xy$. \n",
    "\n",
    "Note there's an \"or\" in the hypothesis now, not an \"and\". (Why is that?) \n",
    "\n",
    "Let's proceed with a direct proof of this statement. This is what we mean by a \"proof by contraposition\" --- just giving a direct proof of the contrapositive of a statement instead of a direct proof of the original. \n",
    "\n",
    "**Proof:** Assume that $x,y \\in \\mathbb{Z}$ and that either $5$ divides $x$ or $5$ divides $y$. We are assuming that one of two possible cases is true, so take the proof one case at a time. \n",
    "\n",
    "+ __Case 1: $5$ divides $x$.__ In this case, there is an integer $q$ such that $x = 5q$. We want to show that $5$ divides $xy$, so substitute $x = 5q$ into $xy$ to get $xy = 5qy$. Since $q$ and $y$ are integers, so is $qy$; therefore $xy = 5(qy)$ which shows that $xy$ is an integer multiple of $5$. Hence $5$ divides $xy$ which was what we wanted to show. \n",
    "+ __Case 2: $5$ divides $y$.__ In this case, there is an integer $q'$ such that $y = 5q'$. We want to show that $5$ divides $xy$, so substitute $y = 5q'$ into $xy$ to get $xy = x(5q')$. The commutatitive and associate properties of multiplication allow us to rearrange the right-hand side to $5(xq')$. Since $q'$ and $x$ are integers, so is $xq'$; therefore $xy = 5(xq')$ which shows that $xy$ is an integer multiple of $5$. Hence $5$ divides $xy$ which was what we wanted to show. \n",
    "\n",
    "We have proven the result in both possible cases, so the proof is done. $\\square$\n",
    "\n",
    "The \"$\\square$\" is often placed at the end of a proof to give the reader a clear indication that the proof is done. \n",
    "\n",
    "Questions for you about this proof: \n",
    "\n",
    "+ Can you see the assumption in the proof clearly?\n",
    "+ Can you see the conclusion in the proof clearly? \n",
    "+ Are you convinced? Or is there something in the proof that is unclear or seems wrong or incomplete? \n"
   ]
  },
  {
   "cell_type": "code",
   "execution_count": null,
   "metadata": {
    "collapsed": true
   },
   "outputs": [],
   "source": []
  }
 ],
 "metadata": {
  "anaconda-cloud": {},
  "kernelspec": {
   "display_name": "Python [default]",
   "language": "python",
   "name": "python3"
  },
  "language_info": {
   "codemirror_mode": {
    "name": "ipython",
    "version": 3
   },
   "file_extension": ".py",
   "mimetype": "text/x-python",
   "name": "python",
   "nbconvert_exporter": "python",
   "pygments_lexer": "ipython3",
   "version": "3.4.5"
  }
 },
 "nbformat": 4,
 "nbformat_minor": 1
}
