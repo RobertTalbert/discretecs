{
 "cells": [
  {
   "cell_type": "markdown",
   "metadata": {
    "collapsed": false
   },
   "source": [
    "# Introduction\n",
    "\n",
    "Greetings. This is an example of a Jupyter notebook that has Markdown, LaTeX, and code all in the same place. This document is yours to explore and reverse-engineer. Right now you are reading text that is in a _Markdown cell_. __You can double-click on any Markdown cell to see the code that generated it.__ Go ahead and do that now. Then hit `Shift-Enter` to re-evaluate the cell so it looks like formatted text. \n",
    "\n",
    "\n",
    "## Markdown\n",
    "\n",
    "More examples of Markdown: \n",
    "\n",
    "- This is an unordered list\n",
    "- _This is italics_\n",
    "- __This is bold__ \n",
    "- [Insert links like this](http://giphy.com/gifs/thanksgiving-gif-butter-ipV4E84z5LCRq)\n",
    "\n",
    "You can put any kind of Markdown you want in a Markdown cell. \n",
    "\n",
    "## $\\LaTeX$\n",
    "\n",
    "You can also typeset mathematics in a Markdown cell using basic $\\LaTeX$ syntax. To typeset mathematics inline, enclose it a pair of single-dollar signs `$...$`. For example, $x^2 + y^2 = 1$ is typed in as `$x^2 + y^2 = 1$`. To offset a mathematical expression in its own centered line, use double dollar signs `$$...$$`. For example `$$x^2 + y^2 = 4$$` produces $$x^2 + y^2 = 4$$\n",
    "\n",
    "Here are some basic $\\LaTeX$ forms: \n",
    "\n",
    "|Notation | Example |  $\\LaTeX$ code | \n",
    "|:-----:  |:----------:| :-------------:|\n",
    "| Exponents | $x^2$ | `$x^2$` |\n",
    "| Subscripts | $x_j$ | `$x_j$` |\n",
    "| Fractions | $\\frac{3}{x+1}$ | `$\\frac{3}{x+1}$` |\n",
    "| Square roots | $\\sqrt{x^2 + y^2}$ | `$\\sqrt{x^2 + y^2}$` | \n",
    "| Floor function | $\\lfloor x/2 \\rfloor$ | `$\\lfloor x/2 \\rfloor$` |\n",
    "| Ceiling function | $\\lceil x/2 \\rceil$ | `$\\lceil x/2 \\rceil$` |\n",
    "\n",
    "Note that you can combine these, for example\n",
    "$$\\frac{\\sqrt{\\frac{1}{x} + 1}}{a_1 + a_2 + a_3}$$\n",
    "(Again, double click the cell to see the code.) \n",
    "\n",
    "Also note that if you want an exponent or subscript larger than just a single digit or character, group the entire exponent or subscript in curly braces `{ }` like this: $x_{100} + y^{x+y+z}$. \n",
    "\n",
    "You can learn much more about $\\LaTeX$ syntax at any of the following: \n",
    "\n",
    "- [LaTeX Wiki](https://en.wikibooks.org/wiki/LaTeX/Mathematics)\n",
    "- [Equation Sheet](http://www.equationsheet.com/)\n",
    "- [DeTeXify](http://detexify.kirelabs.org/classify.html) -- lets you draw the symbol you want by hand, then gives you the correct $\\LaTeX$ code. \n",
    "\n",
    "## Python\n",
    "\n",
    "Finally the whole point of Jupyter notebooks is to bring all this formatted text and math together with executable code in the same rich document. Below is a __Code cell__. Put the cursor in it and hit `Shift-Enter` to evaluate: "
   ]
  },
  {
   "cell_type": "code",
   "execution_count": null,
   "metadata": {
    "collapsed": false
   },
   "outputs": [],
   "source": [
    "#  Prints the squares of the first 20 positive integers. \n",
    "\n",
    "for n in range(1,21):\n",
    "    print(n**2)"
   ]
  },
  {
   "cell_type": "markdown",
   "metadata": {},
   "source": [
    "We can follow a code cell with a Markdown cell, so we are able to seamlessly interleave text and code. For example here is a function that accepts an integer as input and finds the perfect square that is closest to that integer. Execute the code, and then create some of your own code cells and play with it. "
   ]
  },
  {
   "cell_type": "code",
   "execution_count": 3,
   "metadata": {
    "collapsed": true
   },
   "outputs": [],
   "source": [
    "\"\"\"Function that accepts an integer input, then finds the closest perfect square to that input. \n",
    "Example: If input = 22, then output should equal 25. \n",
    "Example: If input = 17, then output should equal 16. \n",
    "Example: If input = 36, then output should equal 36.\n",
    "\"\"\"\n",
    "\n",
    "from math import sqrt, floor, ceil\n",
    "\n",
    "def closest_square(n):\n",
    "    if n <= 0:\n",
    "        return 0  # If the input is negative or 0, then the closest perfect square is automatically 0\n",
    "    else:\n",
    "        lower = floor(sqrt(n)) ** 2\n",
    "        upper = ceil(sqrt(n)) ** 2\n",
    "        if n - lower < upper - n: \n",
    "            return lower\n",
    "        else: \n",
    "            return upper\n",
    "        "
   ]
  },
  {
   "cell_type": "code",
   "execution_count": null,
   "metadata": {
    "collapsed": false
   },
   "outputs": [],
   "source": [
    "closest_square(17)"
   ]
  },
  {
   "cell_type": "code",
   "execution_count": null,
   "metadata": {
    "collapsed": true
   },
   "outputs": [],
   "source": [
    "# Try your own examples out here:\n"
   ]
  }
 ],
 "metadata": {
  "kernelspec": {
   "display_name": "Python 3",
   "language": "python",
   "name": "python3"
  },
  "language_info": {
   "codemirror_mode": {
    "name": "ipython",
    "version": 3
   },
   "file_extension": ".py",
   "mimetype": "text/x-python",
   "name": "python",
   "nbconvert_exporter": "python",
   "pygments_lexer": "ipython3",
   "version": "3.4.3"
  },
  "name": "Jupyter example.ipynb"
 },
 "nbformat": 4,
 "nbformat_minor": 0
}
