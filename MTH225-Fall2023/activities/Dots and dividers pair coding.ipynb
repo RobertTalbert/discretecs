{
 "cells": [
  {
   "cell_type": "markdown",
   "metadata": {},
   "source": [
    "# Code for pair-coding activity 2023-10-30\n",
    "\n",
    "## MTH 225\n",
    "\n",
    "**Problem:** Write code that will list all the ways to distribute ten $20 bills to three children, then find the length of the list. \n",
    "\n",
    "*This is a \"brute force\" method of solving a counting problem.* \n",
    "\n",
    "**Approach:** Treat each distribution as an ordered triple. For example `(4,1,5)` means Alice gets 4 bills, Bob gets 1, and Chuck gets 5. A distribution is valid only if the entries add up to 10, since all 10 bills must be given away; and only if the entries in the triple are between 0 and 10 since negative amounts of bills aren't possible, nor is giving away 11 or more. \n",
    "\n",
    "Here are two possible ways to construct the list of all such pairs: "
   ]
  },
  {
   "cell_type": "code",
   "execution_count": null,
   "metadata": {},
   "outputs": [],
   "source": [
    "# With a for loop: \n",
    "\n",
    "## Start with an empty list\n",
    "results = [] \n",
    "\n",
    "## Loop through 0:10 for each kid\n",
    "for a in range(11): \n",
    "    for b in range(11):\n",
    "        for c in range(11):\n",
    "## Then append the triple if the distribution adds up to 10            \n",
    "            if a+b+c == 10:\n",
    "                results.append((a,b,c))\n",
    "\n",
    "# This will print the results\n",
    "print(results)"
   ]
  },
  {
   "cell_type": "code",
   "execution_count": null,
   "metadata": {},
   "outputs": [],
   "source": [
    "# With a list comprehension\n",
    "\n",
    "## This one line of code does the same thing that the FOR loops do\n",
    "\n",
    "results2 = [(a,b,c) for a in range(11) for b in range(11) for c in range(11) if a+b+c == 10]\n",
    "print(results2)"
   ]
  },
  {
   "cell_type": "code",
   "execution_count": null,
   "metadata": {},
   "outputs": [],
   "source": [
    "# Now we can see there are 66 distributions possible: \n",
    "\n",
    "print(len(results))\n",
    "print(len(results2))"
   ]
  }
 ],
 "metadata": {
  "kernelspec": {
   "display_name": "base",
   "language": "python",
   "name": "python3"
  },
  "language_info": {
   "codemirror_mode": {
    "name": "ipython",
    "version": 3
   },
   "file_extension": ".py",
   "mimetype": "text/x-python",
   "name": "python",
   "nbconvert_exporter": "python",
   "pygments_lexer": "ipython3",
   "version": "3.11.5"
  }
 },
 "nbformat": 4,
 "nbformat_minor": 2
}
