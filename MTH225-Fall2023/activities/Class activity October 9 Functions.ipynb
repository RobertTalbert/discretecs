{
 "cells": [
  {
   "cell_type": "markdown",
   "metadata": {},
   "source": [
    "# MTH 225, Class activity for 2023-10-09\n",
    "\n",
    "Below are several Python functions. Your table will be assigned one. Take your function and: \n",
    "\n",
    "1. State its domain\n",
    "2. State its codomain\n",
    "3. Play with the function a little and find several images (outputs) \n",
    "4. Is the range equal to the codomain, or just a subset of it, and how do you know? \n",
    "5. State its range\n",
    "\n",
    "Elect a spokesperson to talk to the rest of the class about your results.\n",
    "\n",
    "You may need to look up some items from the Python documentation. [Click here to go to the search page for the docs](https://docs.python.org/3/search.html), or just Google/ChatGPT it. "
   ]
  },
  {
   "cell_type": "code",
   "execution_count": 1,
   "metadata": {},
   "outputs": [],
   "source": [
    "# Group 1\n",
    "\n",
    "def A(x): \n",
    "    return (x % 10) - 1"
   ]
  },
  {
   "cell_type": "code",
   "execution_count": 2,
   "metadata": {},
   "outputs": [],
   "source": [
    "# Group 2\n",
    "\n",
    "def B(x): \n",
    "    return x.pop()"
   ]
  },
  {
   "cell_type": "code",
   "execution_count": 5,
   "metadata": {},
   "outputs": [],
   "source": [
    "# Group 3\n",
    "\n",
    "def C(x):\n",
    "    return \"Hello world\" * x"
   ]
  },
  {
   "cell_type": "code",
   "execution_count": 12,
   "metadata": {},
   "outputs": [],
   "source": [
    "# Group 4\n",
    "\n",
    "def D(x):\n",
    "    return floor(x)"
   ]
  },
  {
   "cell_type": "code",
   "execution_count": 20,
   "metadata": {},
   "outputs": [],
   "source": [
    "# Group 5\n",
    "\n",
    "# This one requires importing a non-standard function first\n",
    "import math\n",
    "\n",
    "def E(a,b):\n",
    "    return math.gcd(a,b)\n",
    "\n",
    "# Hint: Try E(10,4) and E(10,7). "
   ]
  },
  {
   "cell_type": "code",
   "execution_count": 22,
   "metadata": {},
   "outputs": [],
   "source": [
    "# Group 6\n",
    "\n",
    "def F(x,y):\n",
    "    return x[y]\n",
    "\n",
    "# Hint: If L = [10,11,12,13] then L[1] = 11. "
   ]
  },
  {
   "cell_type": "code",
   "execution_count": 23,
   "metadata": {},
   "outputs": [],
   "source": [
    "# Group 7\n",
    "\n",
    "def G(x):\n",
    "    return [y for y in range(1,x+1) if x % y == 0]\n",
    "\n",
    "# Hint: Try G(10) first. "
   ]
  },
  {
   "cell_type": "code",
   "execution_count": 25,
   "metadata": {},
   "outputs": [],
   "source": [
    "# Group 8\n",
    "\n",
    "def H(x): \n",
    "    return x % 10 in [1,3,5,7,9]"
   ]
  }
 ],
 "metadata": {
  "kernelspec": {
   "display_name": "base",
   "language": "python",
   "name": "python3"
  },
  "language_info": {
   "codemirror_mode": {
    "name": "ipython",
    "version": 3
   },
   "file_extension": ".py",
   "mimetype": "text/x-python",
   "name": "python",
   "nbconvert_exporter": "python",
   "pygments_lexer": "ipython3",
   "version": "3.11.5"
  }
 },
 "nbformat": 4,
 "nbformat_minor": 2
}
