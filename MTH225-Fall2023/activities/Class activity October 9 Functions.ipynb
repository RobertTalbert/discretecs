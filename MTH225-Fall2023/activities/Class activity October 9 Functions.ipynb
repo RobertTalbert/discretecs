{
 "cells": [
  {
   "cell_type": "markdown",
   "metadata": {},
   "source": [
    "# MTH 225, Class activity for 2023-10-09\n",
    "\n",
    "Below are several Python functions. Your table will be assigned one. Take your function and: \n",
    "\n",
    "1. State its domain\n",
    "2. State its codomain\n",
    "3. Play with the function a little and find several images (outputs) \n",
    "4. Is the range equal to the codomain, or just a subset of it, and how do you know? \n",
    "5. State its range\n",
    "\n",
    "Elect a spokesperson to talk to the rest of the class about your results.\n",
    "\n",
    "You may need to look up some items from the Python documentation. [Click here to go to the search page for the docs](https://docs.python.org/3/search.html), or just Google/ChatGPT it. \n",
    "\n",
    "**UPDATED:** Answers below. Can you explain to yourself why these answers are correct? "
   ]
  },
  {
   "cell_type": "code",
   "execution_count": 1,
   "metadata": {},
   "outputs": [],
   "source": [
    "# Group 1\n",
    "\n",
    "def A(x): \n",
    "    return (x % 10) - 1"
   ]
  },
  {
   "cell_type": "markdown",
   "metadata": {},
   "source": [
    "- Domain: The set of all real numbers, $\\mathbb{R}$. Normally the `%` operation is only thought of to work on integers, but in reality Python can compute things like `33.14159 % 10`. \n",
    "- Codomain: The set of all real numbers, $\\mathbb{R}$. Again this is because Python can do `%` with non-integers. \n",
    "- Range: The set $\\{x \\in \\mathbb{R} \\, : \\, -1 \\leq x < 9\\}$. "
   ]
  },
  {
   "cell_type": "code",
   "execution_count": 2,
   "metadata": {},
   "outputs": [],
   "source": [
    "# Group 2\n",
    "\n",
    "def B(x): \n",
    "    return x.pop()"
   ]
  },
  {
   "cell_type": "markdown",
   "metadata": {},
   "source": [
    "- Domain: The set of possible Python lists. \n",
    "- Codomain: The set of possible Python objects (that can be put into a list). There's not a great way to say this. \n",
    "- Range: Same as codomain. "
   ]
  },
  {
   "cell_type": "code",
   "execution_count": 5,
   "metadata": {},
   "outputs": [],
   "source": [
    "# Group 3\n",
    "\n",
    "def C(x):\n",
    "    return \"Hello world\" * x"
   ]
  },
  {
   "cell_type": "markdown",
   "metadata": {},
   "source": [
    "- Domain: The set of all integers, $\\mathbb{Z}$. Negative integers work; you'll get an empty string back. \n",
    "- Codomain: The set of all possible Python strings. \n",
    "- Range: The set {`''`, `Hello world`, `Hello worldHello world`, ...} "
   ]
  },
  {
   "cell_type": "code",
   "execution_count": 1,
   "metadata": {},
   "outputs": [],
   "source": [
    "# Group 4\n",
    "# This one requires importing a non-standard function first\n",
    "import math \n",
    "def D(x):\n",
    "    return math.floor(x)"
   ]
  },
  {
   "cell_type": "markdown",
   "metadata": {},
   "source": [
    "This function takes in a real number as an input, then rounds it down and returns the result. \n",
    "\n",
    "- Domain: The set of all real numbers, $\\mathbb{R}$. \n",
    "- Codomain: The set of all integers, $\\mathbb{Z}$. \n",
    "- Range: Same as codomain. "
   ]
  },
  {
   "cell_type": "code",
   "execution_count": 20,
   "metadata": {},
   "outputs": [],
   "source": [
    "# Group 5\n",
    "\n",
    "# This one requires importing a non-standard function first\n",
    "import math\n",
    "\n",
    "def E(a,b):\n",
    "    return math.gcd(a,b)\n",
    "\n",
    "# Hint: Try E(10,4) and E(10,7). "
   ]
  },
  {
   "cell_type": "markdown",
   "metadata": {},
   "source": [
    "This function takes in a *pair of* integers and returns their [greatest common divisor](https://www.cuemath.com/numbers/greatest-common-divisor-gcd/). \n",
    "\n",
    "- Domain: The set $\\mathbb{Z} \\times \\mathbb{Z}$, which is the set of all ordered pairs of integers. [Click here for a refresher](https://publish.obsidian.md/mth225/Sets+and+Functions/Cartesian+product). \n",
    "- Codomain: The set $\\mathbb{Z}$ of all integers. \n",
    "- Range: The set $\\{1,2,3,4,\\dots\\}$. "
   ]
  },
  {
   "cell_type": "code",
   "execution_count": 22,
   "metadata": {},
   "outputs": [],
   "source": [
    "# Group 6\n",
    "\n",
    "def F(x,y):\n",
    "    return x[y]\n",
    "\n",
    "# Hint: If L = [10,11,12,13] then L[1] = 11. "
   ]
  },
  {
   "cell_type": "markdown",
   "metadata": {},
   "source": [
    "This function takes a list `x` and an integer `y` and returns the object at index `y` in the list. \n",
    "\n",
    "- Domain: The set $L \\times \\mathbb{Z}$ where $L$ is the set of all possible Python lists. See the previous problem for an explainer for the notation. \n",
    "- Codomain: The set of possible Python objects (that can be put into a list). There's not a great way to say this. \n",
    "- Range: Same as codomain. "
   ]
  },
  {
   "cell_type": "code",
   "execution_count": 23,
   "metadata": {},
   "outputs": [],
   "source": [
    "# Group 7\n",
    "\n",
    "def G(x):\n",
    "    return [y for y in range(1,x+1) if x % y == 0]\n",
    "\n",
    "# Hint: Try G(10) first. "
   ]
  },
  {
   "cell_type": "markdown",
   "metadata": {},
   "source": [
    "This function takes a positive integer as an input and produces a list containing all the positive integers that divide the input. Run it on some examples to see. \n",
    "\n",
    "- Domain: The set $\\{1,2,3,4,\\dots\\}$ of all positive integers. \n",
    "- Codomain: The set of all possible Python lists. \n",
    "- Range: Kind of hard to describe. It's a subset of the set of all possible lists, consisting of divisors of positive integers in ascending order. For example `[1,3,9,27]` is in the range (compute `L(27)` to see) but `[9,27]` is not, nor is `[27,9,3,1]`. "
   ]
  },
  {
   "cell_type": "code",
   "execution_count": 25,
   "metadata": {},
   "outputs": [],
   "source": [
    "# Group 8\n",
    "\n",
    "def H(x): \n",
    "    return x % 10 in [1,3,5,7,9]"
   ]
  },
  {
   "cell_type": "markdown",
   "metadata": {},
   "source": [
    "This function takes in an integer and returns `True` if the input is in the list `[1,3,5,7,9]` and `False` otherwise. In other words, it's a [predicate](https://publish.obsidian.md/mth225/Logic/Predicate). \n",
    "\n",
    "- Domain: The set $\\mathbb{Z}$ of all integers. \n",
    "- Codomain: The set {`True`, `False`}. \n",
    "- Range: Same as codomain this time. "
   ]
  },
  {
   "cell_type": "markdown",
   "metadata": {},
   "source": []
  }
 ],
 "metadata": {
  "kernelspec": {
   "display_name": "base",
   "language": "python",
   "name": "python3"
  },
  "language_info": {
   "codemirror_mode": {
    "name": "ipython",
    "version": 3
   },
   "file_extension": ".py",
   "mimetype": "text/x-python",
   "name": "python",
   "nbconvert_exporter": "python",
   "pygments_lexer": "ipython3",
   "version": "3.11.5"
  }
 },
 "nbformat": 4,
 "nbformat_minor": 2
}
