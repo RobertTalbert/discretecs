{
 "cells": [
  {
   "cell_type": "code",
   "execution_count": 4,
   "id": "bf68fb40-ff79-4d69-8df9-4a24251a8150",
   "metadata": {
    "tags": []
   },
   "outputs": [],
   "source": [
    "# Computes the nth Fibonacci number recursively\n",
    "\n",
    "def F(n): \n",
    "    if n == 1 or n == 2: \n",
    "        return 1\n",
    "    else: \n",
    "        return F(n-1) + F(n-2) "
   ]
  },
  {
   "cell_type": "code",
   "execution_count": 9,
   "id": "7e81ecd9-4a3a-4c15-8f85-3ba7e99558f7",
   "metadata": {
    "tags": []
   },
   "outputs": [],
   "source": [
    "# Computes the sum of the first k Fibonacci numbers\n",
    "\n",
    "def sum_fib(k): \n",
    "    return sum([F(i) for i in range(1,k+1)])"
   ]
  }
 ],
 "metadata": {
  "kernelspec": {
   "display_name": "Python 3 (ipykernel)",
   "language": "python",
   "name": "python3"
  },
  "language_info": {
   "codemirror_mode": {
    "name": "ipython",
    "version": 3
   },
   "file_extension": ".py",
   "mimetype": "text/x-python",
   "name": "python",
   "nbconvert_exporter": "python",
   "pygments_lexer": "ipython3",
   "version": "3.10.11"
  }
 },
 "nbformat": 4,
 "nbformat_minor": 5
}
