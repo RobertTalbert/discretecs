{
 "cells": [
  {
   "cell_type": "markdown",
   "metadata": {},
   "source": [
    "# The `itertools` package for Python \n",
    "\n",
    "\n",
    "**What it is:** A library of functions used to create list-like objects that you can iterate over (like with a `for` loop or a list comprehension) that involve permutations and rearrangements. \n",
    "\n",
    "**What you can do with it:** Use it to explicitly enumerate permutations and combinations of things -- useful for exploring combinatorics problems. "
   ]
  },
  {
   "cell_type": "code",
   "execution_count": null,
   "metadata": {},
   "outputs": [],
   "source": [
    "# Pull it into your environment first by importing it: \n",
    "\n",
    "from itertools import *"
   ]
  },
  {
   "cell_type": "markdown",
   "metadata": {},
   "source": [
    "The `itertools` library has lots of useful functions. We'll focus on three in particular. \n",
    "\n",
    "## `product`\n",
    "\n",
    "Takes a list or a string, and gives the [Cartesian product](https://publish.obsidian.md/mth225/Sets+and+Functions/Cartesian+product) of the elements of the input, or the set of all ordered tuples whose coordinates are elements of the list or string. "
   ]
  },
  {
   "cell_type": "code",
   "execution_count": null,
   "metadata": {},
   "outputs": [],
   "source": [
    "# This takes two inputs: The first is the list or string. The second is a natural number that \n",
    "# specifies how many elements in the tuple. The word \"repeat\" has to be typed out. \n",
    "\n",
    "# For example this command produces the set of all ordered pairs from the list [1,2,3]:\n",
    "\n",
    "product([1,2,3,4], repeat = 2)"
   ]
  },
  {
   "cell_type": "markdown",
   "metadata": {},
   "source": [
    "The output of these `itertools` functions is a little different. They do not produce lists -- they produce \"iterables\" which are like lists, but you can't see the contents until you actually iterate over them. We can do this in two different ways: With a `for` loop, or with a [list comprehension](https://www.geeksforgeeks.org/python-list-comprehension/). List comprehensions are preferred because they are shorter. "
   ]
  },
  {
   "cell_type": "code",
   "execution_count": null,
   "metadata": {},
   "outputs": [],
   "source": [
    "p = product([1,2,3,4], repeat = 2)  # <-- This is an \"iterable\" object\n",
    "\n",
    "for i in p: \n",
    "    print(i)"
   ]
  },
  {
   "cell_type": "code",
   "execution_count": null,
   "metadata": {},
   "outputs": [],
   "source": [
    "# This can be done in one line with a list comprehension: \n",
    "\n",
    "[i for i in product([1,2,3,4], repeat = 2)]"
   ]
  },
  {
   "cell_type": "markdown",
   "metadata": {},
   "source": [
    "## `permutations`\n",
    "\n",
    "Takes in a list or string along with an optional integer $k$, and returns an iterable with all the permutations of the list or string of length $k$. "
   ]
  },
  {
   "cell_type": "code",
   "execution_count": null,
   "metadata": {},
   "outputs": [],
   "source": [
    "# This lists all the permutations of the letters in the word \"MATH\"\n",
    "\n",
    "[p for p in permutations(\"MATH\")]"
   ]
  },
  {
   "cell_type": "code",
   "execution_count": null,
   "metadata": {},
   "outputs": [],
   "source": [
    "# Gives all the 2-permutations of [1,2,3,4]\n",
    "\n",
    "perms = permutations([1,2,3,4], 2) \n",
    "\n",
    "for i in perms: print(i)"
   ]
  },
  {
   "cell_type": "markdown",
   "metadata": {},
   "source": [
    "But beware: **If the list or string has repeated elements, `permutations` will produce duplicates:** "
   ]
  },
  {
   "cell_type": "code",
   "execution_count": null,
   "metadata": {},
   "outputs": [],
   "source": [
    "# This has six elements but only three are distinct\n",
    "\n",
    "[p for p in permutations(\"BOB\")]"
   ]
  },
  {
   "cell_type": "markdown",
   "metadata": {},
   "source": [
    "A way around this is to convert the list to a set, which has no duplicates, then convert it back to a set: "
   ]
  },
  {
   "cell_type": "code",
   "execution_count": null,
   "metadata": {},
   "outputs": [],
   "source": [
    "list(set([p for p in permutations(\"BOB\")]))"
   ]
  },
  {
   "cell_type": "markdown",
   "metadata": {},
   "source": [
    "## `combinations`\n",
    "\n",
    "Takes in a list or string and an integer $k$, and returns an iterable whose elements are all the possible $k$-element subsets of the list or string -- without respect to order. \n"
   ]
  },
  {
   "cell_type": "code",
   "execution_count": null,
   "metadata": {},
   "outputs": [],
   "source": [
    "# This for example returns the 2-element subsets of {0,1,2,3,4}\n",
    "# There should be binom(5,2) = 10 of these \n",
    "\n",
    "[s for s in combinations(range(5),2)]"
   ]
  },
  {
   "cell_type": "code",
   "execution_count": null,
   "metadata": {},
   "outputs": [],
   "source": [
    "[s for s in combinations_with_replacement(range(5),2)]"
   ]
  },
  {
   "cell_type": "markdown",
   "metadata": {},
   "source": [
    "## Practice exercises \n",
    "\n",
    "0. (Python review) Suppose you just want to find the length of a list in Python without seeing the contents of the list. (For example maybe the list is so large it would take up multiple screens.) How do you do that? \n",
    "1. How many ways are there to rearrange the letters in the word `remind`? \n",
    "2. How many ways are there to rearrange the letters in the word `permutation`? (How is this different from the first question other than the word length?)\n",
    "3. One hundred students have entered their names into a random drawing for a prize. Three will be selected, and they all three will receive the same prize. How many possible outcomes are there? And, if you are one of the 100 students, what is the probability that you will be selected?\n",
    "\n",
    "*Answers are on the Class Page entry for 2023-10-25.* "
   ]
  }
 ],
 "metadata": {
  "kernelspec": {
   "display_name": "base",
   "language": "python",
   "name": "python3"
  },
  "language_info": {
   "codemirror_mode": {
    "name": "ipython",
    "version": 3
   },
   "file_extension": ".py",
   "mimetype": "text/x-python",
   "name": "python",
   "nbconvert_exporter": "python",
   "pygments_lexer": "ipython3",
   "version": "3.11.5"
  }
 },
 "nbformat": 4,
 "nbformat_minor": 2
}
