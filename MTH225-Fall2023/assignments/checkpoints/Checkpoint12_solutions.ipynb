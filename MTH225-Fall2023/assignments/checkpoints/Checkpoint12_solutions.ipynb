{
 "cells": [
  {
   "cell_type": "markdown",
   "id": "8f68e0a5-3ee5-427f-9f2b-7df7ca0944f3",
   "metadata": {},
   "source": [
    "# Checkpoint 12 Solutions and Common Mistakes \n",
    "\n",
    "## Learning Target 2\n",
    "\n",
    "No attempts on this one this time. \n",
    "\n",
    "## Learning Target 3\n",
    "\n",
    "*\"If that TV is on sale, I'll buy it.\"*\n",
    "\n",
    "1. That TV is on sale\n",
    "2. I'll buy it (the TV) \n",
    "3. If I buy that TV, it's on sale\n",
    "4. If I don't buy that TV, it's not on sale\n",
    "5. If that TV is not on sale, I won't buy it \n",
    "6. The TV was on sale but I didn't buy it\n",
    "\n",
    "**Common errors: None really, almost all attempts were successful this time. :)**\n",
    "\n",
    "---\n"
   ]
  },
  {
   "cell_type": "markdown",
   "id": "4f9bb8e2-fd40-412b-b4a5-8737db3fbf31",
   "metadata": {},
   "source": [
    "## Learning Target 6\n",
    "\n",
    "1. In code: "
   ]
  },
  {
   "cell_type": "code",
   "execution_count": 1,
   "id": "a2a813dc-178a-4245-957c-def0063d730a",
   "metadata": {
    "tags": []
   },
   "outputs": [
    {
     "data": {
      "text/plain": [
       "[8, 21, 55, 144]"
      ]
     },
     "execution_count": 1,
     "metadata": {},
     "output_type": "execute_result"
    }
   ],
   "source": [
    "def a(n): \n",
    "    if n == 0: return 1\n",
    "    elif n == 1: return 3\n",
    "    else: return 3*a(n-1) - a(n-2)\n",
    "\n",
    "[a(i) for i in range(2,6)]"
   ]
  },
  {
   "cell_type": "markdown",
   "id": "9aca3612-3478-4763-8c7e-9ee758390d8c",
   "metadata": {},
   "source": [
    "2. $a_0 = 2$ and for $n > 0$, $a_n = a_{n-1} + 3$"
   ]
  },
  {
   "cell_type": "markdown",
   "id": "2ab3ae4e-d396-4c1d-bf67-238cde755af6",
   "metadata": {},
   "source": [
    "## Learning Target 7\n",
    "\n",
    "1. $P(n)$ is the statement that $n^3 - n$ is divisible by $3$. \n",
    "2. $n=1$\n",
    "3. If $n=1$, then $n^3 - n$ equals $1^3 - 1 = 0$. This is divisible by $3$, so the base case holds. \n",
    "4. Assume that $k^3 - k$ is divisible by $3$ for some $k \\geq 1$. \n",
    "5. Prove that $(k+1)^3 - (k+1)$ is divisible by $3$. \n",
    "\n",
    "### Common errors\n",
    "\n",
    "- **Trying to do more in the inductive hypothesis and inductive step, than simply replace the variable in the predicate with a $k$ or a $k+1$.** (Example: Stating in part 4 that we are assuming that \"$(n+k)^3 - (n+k)$\" is divisible by 3.) All we are doing in the inductive hypothesis is assuming that $P(k)$ is true, and all we are doing in the inductive step is stating that we want to prove that $P(k+1)$ is true. Look to the predicate $P(n)$ that you identified in step 1 and just write out the expressions that result when you find $P(k)$ and $P(k+1)$. "
   ]
  },
  {
   "cell_type": "markdown",
   "id": "ea726ee3-fa53-49f1-a093-83658bf2c004",
   "metadata": {},
   "source": [
    "## Learning Target 8\n",
    "\n",
    "1. (a) $\\{2, 4, 6, 8, 10, 12, 14, 16, 18, 20\\}$ \n",
    "\n",
    "    (b) $\\{1, 4, 7, 10, \\dots \\}$ \n",
    "    \n",
    "    (c) $\\{0, 6, 24, 60\\}$\n",
    "    \n",
    "2. Many different answers, such as \n",
    "\n",
    "- $\\{x \\in \\mathbb{N} \\, : \\, x \\ \\text{is even and} \\ x < 5\\}$\n",
    "- $\\{x-1 \\, : \\{1,3,5\\} \\}$\n",
    "\n",
    "### Common errors\n",
    "\n",
    "- **Stating that one of the parts of part 1 was incorrect syntax:** Remember there are two valid ways to write set-builder notation: A set followed by a predicate, or a formula followed by a set. The first two are sets followed by predicates; the third is a formula followed by a set. *If you are not completely clear on the difference between a formula and a predicate, ask questions NOW about this.* "
   ]
  },
  {
   "cell_type": "markdown",
   "id": "7598818a-89c2-4609-acf2-4119488a0ffe",
   "metadata": {},
   "source": [
    "## Learning Target 9 \n",
    "\n",
    "1. $\\{5,6,8\\}$\n",
    "2. $\\{0,2,5,6,7,8\\}$\n",
    "3. $\\{0,1,3,4\\}$ \n",
    "4. $\\{0,5,6,8\\}$\n",
    "5. $\\{0, 5, 6, 7, 8\\}$ \n",
    "6. $20$ \n",
    "\n"
   ]
  },
  {
   "cell_type": "markdown",
   "id": "2be5c68c-b346-4d70-b963-f8e3b2798d9f",
   "metadata": {},
   "source": [
    "## Learning Target 12\n",
    "\n",
    "1. Two choices per question and 19 questions, so the number of options is $2^{19} = 524288$.\n",
    "2. Every student in the class falls into one of two categories: They either plan on majoring in one or both of these two subjects, or they do not plan on majoring in either one of them. There are 24 students in all, in the class. There are 5 students who do not plan on majoring in either math or CS. So let's determine how many plan on majoring in one or both subjects. That number is the number who plan on majoring in math (14), plus the number who plan on majoring in CS (also 14), minus the number who plan on majoring in both. This last number is what we're looking for; call it $x$. So the number planning on majoring in math or CS is $14 + 14 - x$ or $28-x$. Putting this all together we have \n",
    "\n",
    "$$24 = (28-x) + 5$$ \n",
    "\n",
    "Solving for $x$ gives $x = 9$. \n",
    "\n"
   ]
  },
  {
   "cell_type": "markdown",
   "id": "84a61dad-33e0-4b41-bea0-24c1dab231df",
   "metadata": {},
   "source": [
    "## Learning Target 13 \n",
    "\n",
    "1. (a) $6! = 6 \\times 5 \\times 4 \\times 3 \\times 2 \\times 1 = 720$\n",
    "\n",
    "    (b) $\\binom{20}{18} = \\frac{20!}{18! \\cdot 2!} = \\frac{20 \\cdot 19}{2} = 190$\n",
    "    \n",
    "2. We are just selecting four objects from a group of 16 without caring about the ordering of the selection, so it's $\\binom{16}{4} = 1820$. "
   ]
  },
  {
   "cell_type": "markdown",
   "id": "d3a80f6b-12cd-4906-a04d-439051be4be6",
   "metadata": {},
   "source": [
    "## Learning Target 14\n",
    "\n",
    "| Item | Type | Closed formula | Recurrence relation | \n",
    "| :---: | :----: | :-----------: | :-----------------: | \n",
    "| 1 | Geometric | $a(n) = 3(5)^n$ | $a_n = 5a_{n-1}$ | \n",
    "| 2 | Arithmetic | $a(n) = 50 + 25n$ | $a_n = 25 + a_{n-1}$ | \n",
    "| 3 | Neither | n/a | n/a | "
   ]
  },
  {
   "cell_type": "markdown",
   "id": "087d78ce-b8eb-48d6-b377-35dd092d1823",
   "metadata": {},
   "source": [
    "## Learning Target 15\n",
    "\n",
    "The characteristic equation is $x^2 - 3x - 4 = 0$. This factors into $(x-4)(x+1) = 0$ so the characteristic roots are $x = 4$ and $x = -1$. \n",
    "\n",
    "Therefore the framework for the closed formula is $a(n) = s(4)^n + t(-1)^n$. We use the initial conditions to find the values of $s$ and $t$. \n",
    "\n",
    "Since $a_0 = 2$, we have $s+t = 2$. Since $a_1 = 3$, we have $4s - t = 3$. \n",
    "\n",
    "Adding the two equations ($s+t=2$, $4s-t = 3$) together gives $5s = 5$. Therefore $s = 1$. Since $s+t = 2$, this gives $t =1$. \n",
    "\n",
    "Therefore the closed-form solution is \n",
    "$$a(n) = 1(4)^n + 1(-1)^n \\ \\text{or just} \\ a(n) = 4^n + (-1)^n$$"
   ]
  },
  {
   "cell_type": "code",
   "execution_count": null,
   "id": "04b55e8d-f284-48f6-aeaf-c9668462e380",
   "metadata": {},
   "outputs": [],
   "source": []
  }
 ],
 "metadata": {
  "kernelspec": {
   "display_name": "Python 3 (ipykernel)",
   "language": "python",
   "name": "python3"
  },
  "language_info": {
   "codemirror_mode": {
    "name": "ipython",
    "version": 3
   },
   "file_extension": ".py",
   "mimetype": "text/x-python",
   "name": "python",
   "nbconvert_exporter": "python",
   "pygments_lexer": "ipython3",
   "version": "3.10.13"
  }
 },
 "nbformat": 4,
 "nbformat_minor": 5
}
