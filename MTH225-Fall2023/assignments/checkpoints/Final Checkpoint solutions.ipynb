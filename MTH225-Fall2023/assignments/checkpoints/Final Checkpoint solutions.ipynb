{
 "cells": [
  {
   "cell_type": "markdown",
   "metadata": {},
   "source": [
    "# Final Exam Checkpoint selected solutions and common errors\n",
    "\n",
    "**This solution guide is a lot shorter than earlier ones** since most of the Learning Targets on it only had 1-2 people, if any, attempting the problems. The solutions below are for the Learning Targets that had three or more three students attempting. \n",
    "\n",
    "---\n"
   ]
  },
  {
   "cell_type": "markdown",
   "metadata": {},
   "source": [
    "## Learning Target 4\n",
    "\n",
    "| $p$ | $q$ | $r$ | $p \\vee q$ | $\\neg r$ | $(p \\vee q) \\rightarrow (\\neg r)$ |\n",
    "| ---- | ---- | ---- | ---- | ---- | ---- |\n",
    "| T | T | T | T | F | F |\n",
    "| T | T | F | T | T | T |\n",
    "| T | F | T | T | F | F |\n",
    "| T | F | F | T | T | T |\n",
    "| F | T | T | T | F | F |\n",
    "| F | T | F | T | T | T |\n",
    "| F | F | T | F | F | T |\n",
    "| F | F | F | F | T | T |\n",
    "\n",
    "<br>\n",
    "\n",
    "\n",
    "| $p$ | $q$ | $p \\rightarrow q$ | $\\neg(p \\rightarrow q)$ | $\\neg p$ | $\\neg q$ | $(\\neg p) \\rightarrow (\\neg q)$ |\n",
    "| ---- | ---- | ---- | ---- | ---- | ---- | ---- |\n",
    "| T | T | T | F | F | F | T |\n",
    "| T | F | F | T | F | T | T |\n",
    "| F | T | T | F | T | F | F |\n",
    "| F | F | T | F | T | T | T |\n",
    "\n",
    "So, these two statements ARE NOT logically equivalent. \n",
    "\n",
    "---"
   ]
  },
  {
   "cell_type": "markdown",
   "metadata": {},
   "source": [
    "## Learning Target 5\n",
    "\n",
    "1. (a) True\n",
    "\n",
    "    (b) True\n",
    "\n",
    "    (c) False (for example $11$)\n",
    "\n",
    "    (d) False (there is no number in the domain set with $x + 10>0$)\n",
    "\n",
    "2. A few possible correct negations: \n",
    "    - *All prime numbers are odd.* \n",
    "    - *No prime numbers are even.* \n",
    "    - *All prime numbers fail to be even.* "
   ]
  },
  {
   "cell_type": "markdown",
   "metadata": {},
   "source": [
    "## Learning Target 8\n",
    "\n",
    "1. (a) **Incorrect syntax** because it is a predicate ($4x=8$) followed by a set. Or, as usual for this kind of situation, you can interpret the predicate as a Boolean function, in which case the result is the set {`True`, `False`}. \n",
    "\n",
    "    (b) $\\{0,1,2,3,4,5\\}$\n",
    "\n",
    "\n",
    "    (c) $\\{2,4,8,16,32,64,128,256,512,1024\\}$\n",
    "\n",
    "2. Many different correct answers. \n",
    "\n",
    "### Common errors\n",
    "\n",
    "* **Failing to recognize the incorrect syntax in 1(a)** for example coming up with a result of $\\{2\\}$. This would be $\\{n \\in \\mathbb{N} \\, : \\, 4x = 8\\}$ but that's not the set that's given. \n",
    "* **Using incorrect syntax in part 2**, for example writing the set $\\{1,3,5\\}$ as $\\{x \\in \\{0,1,2\\} \\, : \\, 2x + 1\\}$. This is incorrect because, as we've discussed at length, it is a formula (not a predicate) in the second part. \n",
    "\n",
    "---"
   ]
  },
  {
   "cell_type": "markdown",
   "metadata": {},
   "source": [
    "## Learning Target 13\n",
    "\n",
    "1. (a) $4! = 4\\times 3 \\times 2 \\times 1 = 24$ \n",
    "\n",
    "    (b) $\\displaystyle{\\binom{44}{41} = \\frac{44!}{41! \\cdot 4!} = \\frac{44 \\times 43 \\times 42 \\times 41}{4 \\times 3 \\times 2 \\times 1} = 13244}$ \n",
    "\n",
    "2. We are selecting two people from a pool of 5 people. The order of selection is irrelevant since we are just hiring two people. So the count is $\\binom{5}{2} = 10$. \n",
    "\n",
    "### Common errors \n",
    "\n",
    "- Misstating the formula for the binomial coefficient, for example $\\binom{44}{41} = \\frac{44! 41!}{4!}$ or $\\binom{44}{41} = \\frac{44!}{41!}$. \n",
    "- **Interpreting part 2 as a license plate problem**, that is by saying there are 5 ways to hire the first person and then 4 ways to hire the second person, so $5 \\times 4 = 20$ ways in all. But this overcounts by a factor of 2 because it treats hiring in a different order as a different set of hires. There's nothing in the problem to indicate that the order is important. \n",
    "- **Or interpreting part 2 as a license plate problem with two slots to fill and 5 ways to fill each slot**. This allows for the same person to be hired twice. Misinterpreting the problem this way should lead to a count of $5^2 = 25$ but somehow every time it happened the count was calculated as $2^5 = 32$ instead. So that's another error: $2^5$ is what you get if there are five blanks and two choices per blank, like a 5-bit string.\n",
    "\n",
    "---"
   ]
  },
  {
   "cell_type": "markdown",
   "metadata": {},
   "source": []
  }
 ],
 "metadata": {
  "language_info": {
   "name": "python"
  }
 },
 "nbformat": 4,
 "nbformat_minor": 2
}
