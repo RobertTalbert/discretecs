{
 "cells": [
  {
   "cell_type": "markdown",
   "metadata": {},
   "source": [
    "# Final Exam Checkpoint selected solutions and common errors\n",
    "\n",
    "**This solution guide is a lot shorter than earlier ones** since most of the Learning Targets on it only had 1-2 people, if any, attempting the problems. The solutions below are for the Learning Targets that had three or more three students attempting. Common errors are shown and explained if there were any errors that happened more than a couple of times. \n",
    "\n",
    "---\n"
   ]
  },
  {
   "cell_type": "markdown",
   "metadata": {},
   "source": [
    "## Learning Target 4\n",
    "\n",
    "| $p$ | $q$ | $r$ | $p \\vee q$ | $\\neg r$ | $(p \\vee q) \\rightarrow (\\neg r)$ |\n",
    "| ---- | ---- | ---- | ---- | ---- | ---- |\n",
    "| T | T | T | T | F | F |\n",
    "| T | T | F | T | T | T |\n",
    "| T | F | T | T | F | F |\n",
    "| T | F | F | T | T | T |\n",
    "| F | T | T | T | F | F |\n",
    "| F | T | F | T | T | T |\n",
    "| F | F | T | F | F | T |\n",
    "| F | F | F | F | T | T |\n",
    "\n",
    "<br>\n",
    "\n",
    "\n",
    "| $p$ | $q$ | $p \\rightarrow q$ | $\\neg(p \\rightarrow q)$ | $\\neg p$ | $\\neg q$ | $(\\neg p) \\rightarrow (\\neg q)$ |\n",
    "| ---- | ---- | ---- | ---- | ---- | ---- | ---- |\n",
    "| T | T | T | F | F | F | T |\n",
    "| T | F | F | T | F | T | T |\n",
    "| F | T | T | F | T | F | F |\n",
    "| F | F | T | F | T | T | T |\n",
    "\n",
    "So, these two statements ARE NOT logically equivalent. \n",
    "\n",
    "---"
   ]
  },
  {
   "cell_type": "markdown",
   "metadata": {},
   "source": [
    "## Learning Target 5\n",
    "\n",
    "1. (a) True\n",
    "\n",
    "    (b) True\n",
    "\n",
    "    (c) False (for example $11$)\n",
    "\n",
    "    (d) False (there is no number in the domain set with $x + 10>0$)\n",
    "\n",
    "2. A few possible correct negations: \n",
    "    - *All prime numbers are odd.* \n",
    "    - *No prime numbers are even.* \n",
    "    - *All prime numbers fail to be even.* \n",
    "\n",
    "---"
   ]
  },
  {
   "cell_type": "markdown",
   "metadata": {},
   "source": [
    "## Learning Target 8\n",
    "\n",
    "1. (a) **Incorrect syntax** because it is a predicate ($4x=8$) followed by a set. Or, as usual for this kind of situation, you can interpret the predicate as a Boolean function, in which case the result is the set {`True`, `False`}. \n",
    "\n",
    "    (b) $\\{0,1,2,3,4,5\\}$\n",
    "\n",
    "\n",
    "    (c) $\\{2,4,8,16,32,64,128,256,512,1024\\}$\n",
    "\n",
    "2. Many different correct answers. \n",
    "\n",
    "### Common errors\n",
    "\n",
    "* **Failing to recognize the incorrect syntax in 1(a)** for example coming up with a result of $\\{2\\}$. This would be $\\{n \\in \\mathbb{N} \\, : \\, 4x = 8\\}$ but that's not the set that's given. \n",
    "* **Using incorrect syntax in part 2**, for example writing the set $\\{1,3,5\\}$ as $\\{x \\in \\{0,1,2\\} \\, : \\, 2x + 1\\}$. This is incorrect because, as we've discussed at length, it is a formula (not a predicate) in the second part. \n",
    "\n",
    "---"
   ]
  },
  {
   "cell_type": "markdown",
   "metadata": {},
   "source": [
    "## Learning Target 10 \n",
    "\n",
    "| Item | Function? | Domain | Codomain | Range |\n",
    "| ---- | ---- | ---- | ---- | ---- |\n",
    "| 1 | Yes | {3,0,6,9} | {8,3,7,1} | {8,3,7,1} |\n",
    "| 2 | No | n/a | n/a | n/a |\n",
    "| 3 | Yes | {3,6,9} | {0,8,9} | {0,8} |\n",
    "| 4 | No | n/a | n/a | n/a |\n",
    "| 5 | Yes | {2,4,8,9} | {1,3,5,6} | {1,3,6} |\n",
    "| 6 | No | n/a | n/a | n/a |"
   ]
  },
  {
   "cell_type": "markdown",
   "metadata": {},
   "source": [
    "## Learning Target 10 \n",
    "\n",
    "| Item | Function? | Domain | Codomain | Range |\n",
    "| ---- | ---- | ---- | ---- | ---- |\n",
    "| 1 | Yes | $\\{3,0,6,9\\}$ | $\\{8,3,7,1\\}$ | $\\{8,3,7,1\\}$ |\n",
    "| 2 | No (0 maps to two outputs) | n/a | n/a | n/a |\n",
    "| 3 | Yes | $\\{3,6,9\\}$ | $\\{0,8,9\\}$ | $\\{0,8\\}$ |\n",
    "| 4 | No (4 has no output) | n/a | n/a | n/a |\n",
    "| 5 | Yes | $\\{2,4,8,9\\}$ | $\\{1,3,5,6\\}$ | $\\{1,3,6\\}$ |\n",
    "| 6 | No (7 has no output) | n/a | n/a | n/a |\n",
    "\n",
    "---"
   ]
  },
  {
   "cell_type": "markdown",
   "metadata": {},
   "source": [
    "## Learning Target 11\n",
    "\n",
    "1. Surjective. But not injective because for example `[1,2,3]` and `[4,5,6]` map to the same number. \n",
    "2. (Reminder: $\\mathbb{R}$ is the entire set of all real numbers.) This function is not injective, because for example $g(-1)$ and $g(1)$ both equal $2$. It is also not surjective, because nothing maps to the number $0$. (If a number $x$ in the domain mapped to $0$, then $x^2 + 1 = 0$ but there are no real-number solutions to that equation.)\n",
    "3. This function is not injective, because $2$ and $9$ both map to $6$. It is also not surjective, because nothing maps to $5$. \n",
    "\n",
    "**BONUS:** The `len()` function is surjective because given any point in the codomain ($\\mathbb{N}$) we can find a list that has that number as its length. Here's why: Let $k \\in \\mathbb{N}$ be any random number in the codomain. Then look at the list $[1,2,3,\\dots, k]$. This list maps to $k$. \n",
    "\n",
    "### Common errors\n",
    "\n",
    "- **Not giving specific concrete examples when a function fails to have a property.** This has been pointed out in all past Checkpoints that have contained this Learning Target, and it is stated in the instructions to the problem: \n",
    "\n",
    "![Instructions](https://i.ibb.co/zZwpLby/SCR-20231214-knzo.png)\n",
    "\n",
    "---\n"
   ]
  },
  {
   "cell_type": "markdown",
   "metadata": {},
   "source": [
    "## Learning Target 13\n",
    "\n",
    "1. (a) $4! = 4\\times 3 \\times 2 \\times 1 = 24$ \n",
    "\n",
    "    (b) $\\displaystyle{\\binom{44}{41} = \\frac{44!}{41! \\cdot 4!} = \\frac{44 \\times 43 \\times 42 \\times 41}{4 \\times 3 \\times 2 \\times 1} = 13244}$ \n",
    "\n",
    "2. We are selecting two people from a pool of 5 people. The order of selection is irrelevant since we are just hiring two people. So the count is $\\binom{5}{2} = 10$. \n",
    "\n",
    "### Common errors \n",
    "\n",
    "- Misstating the formula for the binomial coefficient, for example $\\binom{44}{41} = \\frac{44! 41!}{4!}$ or $\\binom{44}{41} = \\frac{44!}{41!}$. \n",
    "- **Interpreting part 2 as a license plate problem**, that is by saying there are 5 ways to hire the first person and then 4 ways to hire the second person, so $5 \\times 4 = 20$ ways in all. But this overcounts by a factor of 2 because it treats hiring in a different order as a different set of hires. There's nothing in the problem to indicate that the order is important. \n",
    "- **Or interpreting part 2 as a license plate problem with two slots to fill and 5 ways to fill each slot**. This allows for the same person to be hired twice. Misinterpreting the problem this way should lead to a count of $5^2 = 25$ but somehow every time it happened the count was calculated as $2^5 = 32$ instead. So that's another error: $2^5$ is what you get if there are five blanks and two choices per blank, like a 5-bit string.\n",
    "\n",
    "---"
   ]
  },
  {
   "cell_type": "markdown",
   "metadata": {},
   "source": [
    "## Learning Target 14\n",
    "\n",
    "| Item | Type | Closed formula | Recurrence relation |\n",
    "| :--: | :--: | :--: | :--: |\n",
    "| 1 | Arithmetic | $a(n) = 4 - 0.1n$ | $a_n = a_{n-1} - 0.1$ |\n",
    "| 2 | Geometric | $a(n) = 5^n$ | $a_n = 5 a_{n-1}$ |\n",
    "| 3 | Arithmetic | $a(n) = 8 - 2n$ | $a_n = a_{n-1} - 2$ |\n",
    "| 4 | Neither | n/a | n/a |\n",
    "\n",
    "---"
   ]
  },
  {
   "cell_type": "markdown",
   "metadata": {},
   "source": [
    "## Learning Target 15\n",
    "\n",
    "The characteristic equation is $x^2 - 6x + 8 = 0$. This can factor into $(x-4)(x-2) = 0$. So the characteristic roots are $x = 2, x = 4$. This gives a general framework for the closed formula solution: \n",
    "$$a(n) = s(2)^n + t(4)^n$$\n",
    "\n",
    "The initial condition $a_0 = 2$ gives the equation $2 = s \\cdot 2^0 + t \\cdot 4^0$ which simplifies to $s + t = 2$. \n",
    "\n",
    "The initial condition $a_1 = 3$ gives the equation $3 = s \\cdot 2^1 + t \\cdot 4^1$ which simplifies to $2s + 4t = 3$.\n",
    "\n",
    "Multiplying the first equation on both sides by $-2$ gives $-2s - 2t = -4$. Adding this to the section equation gives, after cancelling, $2t = -1$. Therefore $t = -1/2$. \n",
    "\n",
    "With $t = -1/2$, we have $s -1/2 = 2$, or $s = 5/2$. \n",
    "\n",
    "Therefore the closed form solution is\n",
    "$$a(n) = \\frac{5}{2} (2)^n - \\frac{1}{2}(4)^n$$\n",
    "\n",
    "It's possible to simplify this some more, but unnecessary so we won't do that here. \n",
    "\n",
    "Checking the solution is not required but it's smart to do it, to probe for errors. Using the original recurrence relation we get this list of the first ten terms: "
   ]
  },
  {
   "cell_type": "code",
   "execution_count": 1,
   "metadata": {},
   "outputs": [
    {
     "data": {
      "text/plain": [
       "[2, 3, 2, -12, -88, -432, -1888, -7872, -32128, -129792]"
      ]
     },
     "execution_count": 1,
     "metadata": {},
     "output_type": "execute_result"
    }
   ],
   "source": [
    "def r(n): \n",
    "    if n == 0: return 2\n",
    "    elif n == 1: return 3\n",
    "    else: return 6*r(n-1) - 8*r(n-2)\n",
    "\n",
    "# First ten terms\n",
    "[r(i) for i in range(10)]\n"
   ]
  },
  {
   "cell_type": "markdown",
   "metadata": {},
   "source": [
    "And if we use the closed formula, we get: "
   ]
  },
  {
   "cell_type": "code",
   "execution_count": 4,
   "metadata": {},
   "outputs": [
    {
     "data": {
      "text/plain": [
       "[2.0, 3.0, 2.0, -12.0, -88.0, -432.0, -1888.0, -7872.0, -32128.0, -129792.0]"
      ]
     },
     "execution_count": 4,
     "metadata": {},
     "output_type": "execute_result"
    }
   ],
   "source": [
    "a = lambda n: 2.5*(2**n) - 0.5*(4**n)\n",
    "[a(i) for i in range(10)]"
   ]
  },
  {
   "cell_type": "markdown",
   "metadata": {},
   "source": [
    "The numbers in the two lists agree. This doesn't prove anything but it gives some evidence that the closed formula is right. "
   ]
  }
 ],
 "metadata": {
  "kernelspec": {
   "display_name": "base",
   "language": "python",
   "name": "python3"
  },
  "language_info": {
   "codemirror_mode": {
    "name": "ipython",
    "version": 3
   },
   "file_extension": ".py",
   "mimetype": "text/x-python",
   "name": "python",
   "nbconvert_exporter": "python",
   "pygments_lexer": "ipython3",
   "version": "3.10.13"
  }
 },
 "nbformat": 4,
 "nbformat_minor": 2
}
