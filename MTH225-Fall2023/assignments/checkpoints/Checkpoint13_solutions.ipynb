{
 "cells": [
  {
   "cell_type": "markdown",
   "id": "6cb30b04-b6fa-41a3-a923-79bac1758e3c",
   "metadata": {},
   "source": [
    "# Checkpoint 13 Solutions and Common Errors \n",
    "\n",
    "**NOTE: From here on out, Learning Targets that have 0-2 students attempting them will not have a solution given here.**\n",
    "\n",
    "## Learning Target 1\n",
    "\n",
    "1. $(572)_8$\n",
    "2. $843$\n",
    "3. $51$\n",
    "4. `1110 0000`\n",
    "---"
   ]
  },
  {
   "cell_type": "markdown",
   "id": "c630fdb4-fd5c-4b28-ad67-6d4ea2edaa3b",
   "metadata": {},
   "source": [
    "## Learning Target 3\n",
    "\n",
    "*If $x = 5$, then print the next line*\n",
    "\n",
    "1. $x = 5$ \n",
    "2. Print the next line\n",
    "3. If I print the next line, then $x = 5$\n",
    "4. If I don't print the next line, then $x \\neq 5$\n",
    "5. If $x \\neq 5$, then don't print the next line\n",
    "6. $x=5$ but the next line isn't printed\n",
    "\n",
    "---\n"
   ]
  },
  {
   "cell_type": "markdown",
   "id": "7b717efa-4eb5-42aa-935a-7b16238af558",
   "metadata": {},
   "source": [
    "## Learning Target 4\n",
    "\n",
    "1.\n",
    "| $p$ | $q$ | $r$ | $p \\vee q$ | $q \\vee (\\neg r)$ | $\\neg r$ | $(p \\vee q) \\rightarrow (q \\vee (\\neg r))$ |\n",
    "| ---- | ---- | ---- | ---- | ---- | ---- | ---- |\n",
    "| T | T | T | T | T | F | T |\n",
    "| T | T | F | T | T | T | T |\n",
    "| T | F | T | T | F | F | F |\n",
    "| T | F | F | T | T | T | T |\n",
    "| F | T | T | T | T | F | T |\n",
    "| F | T | F | T | T | T | T |\n",
    "| F | F | T | F | F | F | T |\n",
    "| F | F | F | F | T | T | T |\n",
    "\n",
    "\n",
    "2. Combined truth table below:\n",
    "| $p$ | $q$ | $p \\wedge q$ | $\\neg(p \\wedge q$) | $\\neg p$ | $\\neg q$ | $(\\neg p) \\wedge (\\neg q)$ |\n",
    "| ---- | ---- | ---- | ---- | ---- | ---- | ---- |\n",
    "| T | T | T | F | F | F | F |\n",
    "| T | F | F | T | F | T | F |\n",
    "| F | T | F | T | T | F | F |\n",
    "| F | F | F | T | T | T | T |\n",
    "\n",
    "So no, these statements are not logically equivalent. \n",
    "\n",
    "### Common errors\n",
    "\n",
    "- **Failing to state whether the two statements in the second part are logically equivalent**. The truth table was constructed but there was no statement about logical equivalence. This is the point of this part of the exercise and indicated in the Success Criteria. \n",
    "\n",
    "---"
   ]
  },
  {
   "cell_type": "markdown",
   "id": "2a0d429f-9390-455c-87b3-d7e2b6194e09",
   "metadata": {},
   "source": [
    "## Learning Target 5\n",
    "\n",
    "1. (a) False\n",
    "\n",
    "   (b) False\n",
    "\n",
    "   (c) True (example: 23)\n",
    "\n",
    "   (d) False (not all natural numbers are such that $x - 10 > 0$, for example $x = 3$)\n",
    "\n",
    "2. \"Some electric cars are not expensive.\" (Other phrasings are possible) \n",
    "\n",
    "\n",
    "---"
   ]
  },
  {
   "cell_type": "markdown",
   "id": "8d3ea045-6390-4a60-8181-6896b0a7a94b",
   "metadata": {},
   "source": [
    "## Learning Target 6\n"
   ]
  },
  {
   "cell_type": "code",
   "execution_count": null,
   "id": "88c6c7e3-5a9b-46af-9b0e-07c0d56c9cf5",
   "metadata": {
    "tags": []
   },
   "outputs": [],
   "source": [
    "def a(n): \n",
    "    if n == 0: return 1\n",
    "    elif n == 1: return 4\n",
    "    else: return -a(n-1) + 2*a(n-2)\n",
    "\n",
    "[a(i) for i in range(2,6)]"
   ]
  },
  {
   "cell_type": "markdown",
   "id": "1908ef52-7c73-4886-ad54-4e71627dce6f",
   "metadata": {},
   "source": [
    "2. $a_n = a_{n-1} + 3$"
   ]
  },
  {
   "cell_type": "markdown",
   "id": "be853309-8e04-40ea-b0d5-611ccfcdce31",
   "metadata": {},
   "source": [
    "## Learning Target 7 \n",
    "\n",
    ">For every integer $n \\geq 5$, $4n < 2^n$.\n",
    "\n",
    "1. $P(n)$ is the statement $4n < 2^n$. \n",
    "2. $n=5$ \n",
    "3. When $n = 5$, on the left side $4n = 20$. On the right side $2^n = 32$. Since $20 < 32$, the base case holds. \n",
    "4. Assume that $4k < 2^k$ for some integer $k > 5$. \n",
    "5. Prove that $4(k+1) < 2^{k+1}$. \n",
    "\n",
    "\n",
    "### Common errors: \n",
    "\n",
    "- **Leaving off parentheses in the inductive step**, by writing $4k+1$ instead of $4(k+1)$.  If the rest of the framework was OK, this was counted as a \"simple\" error but please note! **Parentheses matter!**\n",
    "\n",
    "---"
   ]
  },
  {
   "cell_type": "markdown",
   "id": "55d185b7-63ae-4b00-b3aa-64eb80824be5",
   "metadata": {},
   "source": [
    "## Learning Target 8\n",
    "\n",
    "1. (a) $\\{0, 4, 8, 12, 16, 20, \\dots\\}$\n",
    "\n",
    "    (b) Incorrect syntax ($2^n$ is not a predicate)\n",
    "    \n",
    "    (c) Since \"$x$ is odd\" is a predicate, you can say that this is incorrect syntax. Or view it as a function to get the set {True, False}. \n",
    "    \n",
    "2. Many different correct answers, including \n",
    "\n",
    "- $\\{x \\in \\mathbb{N} \\, : \\, x \\, \\text{is even and} \\, x < 5\\}$\n",
    "- $\\{2x \\, : \\, x \\in \\{0,1,2\\}\\}$\n",
    "\n",
    "---"
   ]
  },
  {
   "cell_type": "markdown",
   "id": "5578730d-4ed3-4cfc-9633-6c9149b1aca9",
   "metadata": {},
   "source": [
    "## Learning Target 9\n",
    "\n",
    "1. $\\{3\\}$\n",
    "2. $\\{1,2,3,5\\}$\n",
    "3. $\\{2\\}$\n",
    "4. $\\{1,3,5\\}$\n",
    "5. $\\{5\\}$\n",
    "6. 3\n",
    "\n",
    "---"
   ]
  },
  {
   "cell_type": "markdown",
   "id": "38e125b4-3375-4209-8b36-8fcbb2258def",
   "metadata": {},
   "source": [
    "## Learning Target 10\n",
    "\n",
    "1. Not a function (3 has no output)\n",
    "2. Not a function (4 has no output)\n",
    "3. Function. Domain = $\\{1,9,7,3,6\\}$, codomain = $\\{4,7,3,8\\}$, range = $\\{4,7,3,8\\}$\n",
    "4. Not a function (8 maps to two outputs)\n",
    "5. Not a function (7 maps to two outputs)\n",
    "6. Function. Domain = $\\{0,1,2\\}$, codomain = $\\{3,8,9,4\\}$, range = $\\{8,9,4\\}$\n",
    "\n",
    "---"
   ]
  },
  {
   "cell_type": "markdown",
   "id": "d50508ed-c764-47a7-ad8d-063f71e694a2",
   "metadata": {},
   "source": [
    "## Learning Target 11\n",
    "\n",
    "1. Bijective\n",
    "2. Injective, but not surjective since for example nothing maps to $1$. (The only number that would map to $1$ with that formula is $-1/3$ but this is not an element of $\\mathbb{N}$)\n",
    "3. Injective, but not surjective since nothing maps to 3.\n",
    "\n",
    "### Common errors: \n",
    "\n",
    "- **Not giving a specific, concrete example if a function fails to have a certain property**. For example, saying for function 3 above that it's not surjective \"because the codomain doesn't equal the range\". This is a true statement but it is not specific; clearly state an example of a point in the codomain that is not in the range. (The only example you can give here is $3$.) Please note, the requirement of a specific concrete example is stated in bold face in the item instructions. \n",
    "- **Stating one of the properties without mentioning the other**. For example, stating that function #3 is injective but saying nothing about whether it is surjective or not. The instructions ask you to categorize each function as one of four things, each of which requires addressing both injectivity and surjectivity. \n",
    "\n",
    "\n",
    "---"
   ]
  },
  {
   "cell_type": "markdown",
   "id": "886b9d45-4437-4f79-8293-c665a253816b",
   "metadata": {},
   "source": [
    "## Learning Target 12\n",
    "\n",
    "1. This is one selection from a collection of disjoint bins so use the Additive Principle: $12 + 5 + 20 = 37$. \n",
    "2. This is a license plate problem with three blanks to fill in, and 5 ways to fill in the first blank, 38 ways for the second, and 10 for the third so use the Multiplicative Principle: $5 \\times 38 \\times 10 = 1900$. \n",
    "\n",
    "\n",
    "---"
   ]
  },
  {
   "cell_type": "markdown",
   "id": "964129e3-a0ac-4bc6-a4d2-0fe0a34d9eb7",
   "metadata": {},
   "source": [
    "## Learning Target 13\n",
    "\n",
    "1. (a) $8! = 8 \\cdot 7 \\cdot 6 \\cdot 5 \\cdot 4 \\cdot 3 \\cdot 2 \\cdot 1 = 40320$. \n",
    "\n",
    "    (b) $\\binom{30}{2} = \\frac{30!}{2! \\cdot 28!} = \\frac{30 \\cdot 29}{2} = 435$. \n",
    "    \n",
    "2. Since \"A\" must be in the set, we are counting the number of ways to select three letters from the six remaining (B,C,D,E,F,G). Ordering is irrelevant since we are just picking sets, not permutations of thigns. The number of ways to select three items from a group of 6 is $\\binom{6}{3} = 20$. \n",
    "---"
   ]
  },
  {
   "cell_type": "markdown",
   "id": "46dd929d-a312-4897-bf91-f4791e183822",
   "metadata": {},
   "source": [
    "## Learning Target 14\n",
    "\n",
    "These solutions assume an initial index of $n = 0$. \n",
    "\n",
    "| Item | Type | Closed formula | Recurrence relation |\n",
    "| :--: | :--: | :--: | :--: |\n",
    "| 1 | Arithmetic | $a(n) = 4 - 0.1n$ | $a_n = a_{n-1} - 0.1$ |\n",
    "| 2 | Geometric | $a(n) = 5^n$ | $a_n = 5 a_{n-1}$ |\n",
    "| 3 | Arithmetic | $a(n) = 8 - 2n$ | $a_n = a_{n-1} - 2$ |\n",
    "| 4 | Neither | n/a | n/a |\n",
    "\n",
    "---"
   ]
  },
  {
   "cell_type": "markdown",
   "id": "a53d8ad1-5c4e-449b-bdcb-31791728c784",
   "metadata": {},
   "source": [
    "## Learning Target 15\n",
    "\n",
    "The characteristic equation is $x^2 + 3x - 10 = 0$. This factors into $(x+5)(x-2) = 0$ so the characteristic roots are $x = -5$ and $x=2$. Therefore the framework for the solution is \n",
    "$$a(n) = s(-5)^n + t(2)^n$$\n",
    "Since $a_0 = 2$ we get the equation $2= s + t$. And since $a_1 = 3$ we get the equation $3 = -5s + 2t$. \n",
    "\n",
    "Multiplying both sides of the first equation by $5$ gives $10 = 5s + 5t$. Adding both sides of this to both sides of $3 = -5s + 2t$ gives $13 = 7t$, so $t = 13/7$. Substituting this back into $2 = s + t$ gives $2 = s+ 13/7$, and solving for $s$ gives $s = 1/7$. \n",
    "\n",
    "**Alternative approach to solving the system:** Solve $s+t=2$ for $s$ to get $s = 2 - t$. Substitute into the second equation to get \n",
    "\n",
    "$$3 = -5(2-t) + 2t$$\n",
    "\n",
    "The left side simplifies to $-10 + 5t + 2t$ or $-10 + 7t$. Now $3 = -10 + 7t$. Solving for $t$ gives $7t = 13$ or $t = 13/7$. Then $s = 1/7$ as above. \n",
    "\n",
    "Therefore the final solution is: \n",
    "$$a(n) = \\frac{1}{7}(-5)^n + \\frac{13}{7}(2)^n$$\n",
    "\n",
    "### Common errors \n",
    "\n",
    "- **Algebra and arithmetic mistakes of various kinds**. For example, rewriting $x^2 = -3x + 10$ as $x^2 -3x + 10 = 0$, or computing $(-5)^0$ to get $-1$.   \n",
    "- **Failure to show work on the nontrivial math steps.** For example, not showing work on the solution to the system of linear equations. Note that all steps must be shown -- this is indicated in bold face in the assignment: https://shottr.cc/s/1nGz/SCR-20231205-jcs.png \n",
    "- **Not checking answers to see if they make sense.** Once you arrive at an answer here, you can detect errors by using the closed formula to generate several terms of the sequence. Do this; then generate several terms of the sequence using the recurrence relation. If you find differences, then something is wrong! Debug it! Checking your answers is not required as part of the success criteria, but you can easily tell if your answer is wrong through a simple check that takes just 1-2 minutes. \n",
    "\n",
    "---"
   ]
  },
  {
   "cell_type": "markdown",
   "metadata": {},
   "source": []
  }
 ],
 "metadata": {
  "kernelspec": {
   "display_name": "Python 3 (ipykernel)",
   "language": "python",
   "name": "python3"
  },
  "language_info": {
   "codemirror_mode": {
    "name": "ipython",
    "version": 3
   },
   "file_extension": ".py",
   "mimetype": "text/x-python",
   "name": "python",
   "nbconvert_exporter": "python",
   "pygments_lexer": "ipython3",
   "version": "3.10.13"
  }
 },
 "nbformat": 4,
 "nbformat_minor": 5
}
