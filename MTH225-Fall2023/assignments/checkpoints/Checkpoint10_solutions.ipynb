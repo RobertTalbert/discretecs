{
 "cells": [
  {
   "cell_type": "markdown",
   "metadata": {},
   "source": [
    "# Checkpoint 10 solutions and common errors\n",
    "\n",
    "## Learning Target 2\n",
    "\n",
    "- Addition: `101110110`\n",
    "- Subtraction: `1110000`\n",
    "- Multiplication: `1010100`\n",
    "- Divsion: `100100` with no remainder \n",
    "\n",
    "\n",
    "## Learning Target 3\n",
    "\n",
    "\"*If the input is greater than 5, print an error statement.*\"\n",
    "\n",
    "1. The input is greater than 5\n",
    "2. Print an error statement\n",
    "3. If we print an error statement, the input is greater than 5\n",
    "4. If no error statement was printed, then the input is less than or equal to 5\n",
    "5. If the input is not greater than 5, then do not print an error statement\n",
    "6. The input is greater than 5, but no error statement was printed\n",
    "\n",
    "### Common errors\n",
    "\n",
    "- Writing the converse as \"*We print an error statement if the input is greater than 5*\". This is the same common error as from Checkpoint 9: It's not the converse, it's just the original conditional statement with the words appearing in different places. The hypothesis (\"the input is greater than 5\") is the same on both, and the conclusion (\"print an error statement\") is the same on both. That makes them the same logical statements. \n",
    "- **Failing to join the two parts of the negation with \"and\".** Variations include \"*The input is greater than 5. No error statement was printed.*\" (that is, making the parts into separate sentences); or \"*The input is greater than 5, no error statement was printed.*\" (using a comma instead of the word \"and\"). **You must use *and* to connect the parts** because the negation of $P \\rightarrow Q$ (\"If $P$, then $Q$\") is $P \\wedge (\\neg Q)$ (\"$P$ and not $Q$\"). Any other formulation is ambiguous. For example the comma in \"*The input is greater than 5, no error statement was printed.*\" could mean \"and\"; but it could also mean \"or\", or \"because\", or \"therefore\". This is why your English teacher warned you about [comma splices](https://www.grammarly.com/blog/comma-splice/). \n",
    "- **Attempting to use \"if\" and \"and\" at the same time in the negation**, like this: *If the input is greater than 5, and don't print an error statement*. This sentence does not make sense. The negation of $P \\rightarrow Q$ (\"If $P$, then $Q$\") is $P \\wedge (\\neg Q)$ (\"$P$ and not $Q$\") --- not \"If $P$ and not $Q$\". \n",
    "\n",
    "## Learning Target 6\n",
    "\n",
    "1. In code: "
   ]
  },
  {
   "cell_type": "code",
   "execution_count": 1,
   "metadata": {},
   "outputs": [
    {
     "data": {
      "text/plain": [
       "[-3, -5, 1, 11]"
      ]
     },
     "execution_count": 1,
     "metadata": {},
     "output_type": "execute_result"
    }
   ],
   "source": [
    "def a(n): \n",
    "    if n == 0: return 2\n",
    "    elif n == 1: return 1\n",
    "    else: return a(n-1) - 2*a(n-2)\n",
    "\n",
    "[a(n) for n in range(2,6)]"
   ]
  },
  {
   "cell_type": "markdown",
   "metadata": {},
   "source": [
    "2. $a_n = 2a_{n-1}$ for $n > 0$  (Typo on the initial condition but it's not relevant to the answer here)\n",
    "\n",
    "\n",
    "### Common errors\n",
    "\n",
    "- **Listing only one side of the recurrence relation in part 2:** That is, putting only $2a_{n-1}$ and not $a_n = 2a_{n-1}$. Without the other side of the equation we do not have a \"recurrence relation\". We do not assume that the missing side is $a_n$, this has to be stated explicitly because it could easily be something else (like $a_{n+1} = 2a_{n-1}$). \n",
    "\n",
    "## Learning Target 7\n",
    "\n",
    "1. The predicate is the statement $1 + 2 + 4 + 8 + \\cdots + 2^n = 2^{n+1} - 1$. \n",
    "2. The base case is $n=1$. \n",
    "3. To show the base case, we evaluate the left side at $n=1$ and the right side at $n=1$ and then see if these two are equal. On the left, $n=1$ gives the sum $1+2$ which equals $3$. On the right, $n=1$ gives $2^2 - 1$ which also equals $3$. These are equal, so the base case holds. \n",
    "4. Assume that for some $k$, $1 + 2 + 4 + 8 + \\cdots + 2^k = 2^{k+1} - 1$.\n",
    "5. Prove that $1 + 2 + 4 + 8 + \\cdots + 2^{k+1} = 2^{k+2} - 1$. \n",
    "\n",
    "## Learning Target 8 \n",
    "\n",
    "1(a). $\\{16\\}$ \n",
    "\n",
    "1(b). **Incorrect syntax** ($x \\, \\% \\, 3$ is a formula, must come first)\n",
    "\n",
    "1(c). $\\{1, 2, 4, 8, 16, 32, \\cdots \\}$\n",
    "\n",
    "2. Multiple correct approaches here. Example: $\\{x \\in \\{\\text{months of the year}\\} \\, : \\, x \\, \\text{comes after July} \\}$\n",
    "\n",
    "\n",
    "## Learning Target 9\n",
    "\n",
    "1. $\\emptyset$ \n",
    "2. $\\{0,2,4,5,6,8\\}$\n",
    "3. $\\{0,2,4,6,8\\}$\n",
    "4. $\\{0,3,5,6,7,9,10\\}$\n",
    "5. $\\{0,2,4,6,8\\}$\n",
    "6. $\\emptyset$ \n",
    "7. 4\n",
    "8. 8\n",
    "\n",
    "## Learning Target 12\n",
    "\n",
    "1. The correct count is (number who play basketball) + (number who play soccer) - (number who play both). So it's $25 + 30 - 20 = 35$. \n",
    "2. Treat it as a license plate problem with six slots to fill. There are 10 ways to fill the first slot (with a digit). There are five ways to fill the second (with a vowel). There are 36 ways to fill each of the remaining four slots. So the count is $10 \\cdot 5 \\cdot 36^4 = 83,980,800$. \n",
    "\n",
    "## Learning Target 13\n",
    "\n",
    "1(a). $9! = 9 \\cdot 8 \\cdot 7 \\cdot 6 \\cdot 5 \\cdot 4 \\cdot 3 \\cdot 2 \\cdot 1 = 362880$\n",
    "\n",
    "1(b). $\\displaystyle{\\binom{20}{18} = \\frac{20!}{18! \\cdot 2!} = \\frac{20 \\cdot 19}{2} = 190}$. \n",
    "\n",
    "2. This is a \"dots and dividers\" problem of counting distributions of identical objects to different people. A single distribution is represented by a dots-and-dividers with 20 dots (one for each candy packet) and 4 dividers (one between each of the five kids). This transforms to a bit string of length 24 and weight 4. The number of those is $\\displaystyle{\\binom{24}{4} = 10,626}$. \n",
    "\n",
    "## Learning Target 14 \n",
    "\n",
    "All recurrence relations below are assumed to be valid for $n > 0$. \n",
    "\n",
    "| Part | Type | Closed formula | Recursive definition | \n",
    "| --- | --- | ---- | ----- | \n",
    "| 1 | Geometric  | $a(n) = 4(1.5)^n$ | $a_0 = 4$ and $a_n = 1.5a_{n-1}$ | \n",
    "| 2 | Arithmetic  | $a(n) = 1 + 4n$ | $a_0 = 1$ and $a_m = a_{n-1} + 4$ | \n",
    "| 3 | Neither | n/a | n/a | \n",
    "| 4 | Arithmetic | $a(n) = 4 + 4n$ | $a_0 = 4$ and $a_n = a_{n-1} + 4$ |\n",
    "\n",
    "### Common errors \n",
    "\n",
    "- **Using a starting index of $n=1$ instead of $n=0$**: The instructions say \"*Assume that the starting index is $0$*\". A number of submissions used a starting index of $1$ instead. If that choice of indexing caused the answers for closed-form and recursive formulas to produce an incorrect sequence, it was considered a non-\"simple\" error. For example in part 1, if you started indexing at $n=1$ and gave $a(n) = 4(1.5)^n$ as the closed formula, this is now an incorrect answer because the sequence that is produced is $6, 9, 13, \\dots$ -- it doesn't have the right first term. However if you changed your formula so that the right sequence is produced, for example $a(n) = 4(1.5)^{n-1}$, then it was considered correct. **To make things simple, make sure to follow directions!** As we do in class, we will assume zero indexing on everything unless stated otherwise. \n",
    "- **Stating that yor starting index is $n=0$ but the formula assumes the starting index is $n=1$**: Related, if it says in your recursive definition that the initial index is $n=0$ but the formulas don't produce the right sequence for $n=0$, this is considered an incorrect formula. For example if you said in part 1 that $a_0 = 4$ (which is stating that the starting index is $0$) but then gave a closed formula of $a(n) = 4(1.5)^{n-1}$, this is incorrect because when evaluated at $n=0$, this gives $a(0) = 4(1.5)^{-1} = \\frac{8}{3}$. **Make sure to check your work using the indices that you said you were using** to make sure the correct sequence is produced. "
   ]
  },
  {
   "cell_type": "markdown",
   "metadata": {},
   "source": []
  }
 ],
 "metadata": {
  "kernelspec": {
   "display_name": "base",
   "language": "python",
   "name": "python3"
  },
  "language_info": {
   "codemirror_mode": {
    "name": "ipython",
    "version": 3
   },
   "file_extension": ".py",
   "mimetype": "text/x-python",
   "name": "python",
   "nbconvert_exporter": "python",
   "pygments_lexer": "ipython3",
   "version": "3.11.5"
  }
 },
 "nbformat": 4,
 "nbformat_minor": 2
}
