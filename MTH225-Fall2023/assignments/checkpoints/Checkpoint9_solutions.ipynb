{
 "cells": [
  {
   "cell_type": "markdown",
   "metadata": {},
   "source": [
    "# Checkpoint 9 answers/solutions"
   ]
  },
  {
   "cell_type": "markdown",
   "metadata": {},
   "source": [
    "## Learning Target 2\n",
    "\n",
    "- Addition: 0101110110\n",
    "- Subtraction: 01110000\n",
    "- Multiplication: 0110111\n",
    "- Division: 1010 with remainder 100\n",
    "\n",
    "\n",
    "---"
   ]
  },
  {
   "cell_type": "markdown",
   "metadata": {},
   "source": [
    "## Learning Target 3\n",
    "\n",
    ">If the store is closed, I will come back tomorrow\n",
    "\n",
    "1. The store is closed\n",
    "2. I will come back tomorrow\n",
    "3. If I come back tomorrrow, then the store is closed \n",
    "4. If I do not come back tomorrow, then the store is not closed\n",
    "5. If the store is not closed, I will not come back tomorrow\n",
    "6. The store is closed, but I won't come back tomorrow. "
   ]
  },
  {
   "cell_type": "markdown",
   "metadata": {},
   "source": [
    "### Common errors: \n",
    "\n",
    "- Writing the converse as \"*I will come back tomorrow if the store is closed*\". This is not a converse, it's the same sentence as the original just written in a different order. **Tip: Do not include the word \"if\" when you write the hypothesis.** (That is, \"If the store is closed\" is not fully correct -- leave \"if\" off.) Doing so might be causing you to include the word \"if\" when you relocate the hypothesis to the end of the sentence, but the result is the same as the original.\n",
    "- Writing the negation as \"*The store is closed, I won't come back tomorrow*\" using a comma instead of the word \"and\" (or \"but\"). **The comma is ambiguous and should not be used.** The comma could mean \"and\", or it could mean \"or\", or it could mean \"therefore\", or \"because\". All four possible interpretations are logically different. **Just use \"and\".** \n",
    "\n",
    "\n",
    "---"
   ]
  },
  {
   "cell_type": "markdown",
   "metadata": {},
   "source": [
    "## Learning Target 6\n",
    "\n",
    "1.\n",
    "> $a_0 = 2, a_1 = 1$, and if $n >1$ $a_n = a_{n-1} + a_{n-2}$"
   ]
  },
  {
   "cell_type": "code",
   "execution_count": 2,
   "metadata": {},
   "outputs": [
    {
     "data": {
      "text/plain": [
       "[3, 4, 7, 11]"
      ]
     },
     "execution_count": 2,
     "metadata": {},
     "output_type": "execute_result"
    }
   ],
   "source": [
    "# Code to generate the results \n",
    "\n",
    "def a(n):\n",
    "    if n == 0: return 2\n",
    "    elif n == 1: return 1\n",
    "    else: return a(n-1) + a(n-2)\n",
    "\n",
    "\n",
    "[a(n) for n in range(2,6)]"
   ]
  },
  {
   "cell_type": "markdown",
   "metadata": {},
   "source": [
    "2.\n",
    "> 3, 8, 13, 18, 23, ...\n",
    "\n",
    "$a_0 = 3$, and for $n > 0$ $a_n = a_{n-1} + 5$\n",
    "\n",
    "---"
   ]
  },
  {
   "cell_type": "markdown",
   "metadata": {},
   "source": [
    "## Learning Target 7\n",
    "\n",
    "> For every integer $n \\geq 1$, $1 + 2 + 3 + \\cdots + n = \\dfrac{n(n+1)}{2}$. \n",
    "\n",
    "1. The predicate is $P(n): 1 + 2 + 3 + \\cdots + n = \\dfrac{n(n+1)}{2}$\n",
    "2. The base case is when $n = 1$ \n",
    "3. To show the base case holds, plug in $n = 1$ on the left and $n = 1$ on the right and let's see if they are equal. On the left, $n=1$ would just produce a single-term \"sum\", the number $1$. On the right, $n=1$ would give $\\frac{1(2)}{2} = 1$. These are equal, so the base case holds. \n",
    "4. Assume that $1 + 2 + 3 + \\cdots + k = \\dfrac{k(k+1)}{2}$ for some $k \\geq 1$. \n",
    "5. Prove that $1 + 2 + 3 + \\cdots + (k+1) = \\dfrac{(k+1)(k+1+1)}{2}$. \n",
    "\n",
    "\n",
    "### Common errors\n",
    "\n",
    "- Including the quantifier \"For every integer $n \\geq 1$\" in the predicate statement. **Including the quantifier is specifically prohibited in the success criteria written underneath the problem!** This is because if you put a quantifier on this, it's not a predicate. \n",
    "- In part 3, showing that the right side of the equation in the predicate equals 1 without talking about why the left side also equals 1. It's not enough just to plug $1$ into $\\frac{n(n+1)}{2}$ and get a correct answer, **you also must explain why the left side gives the same result**. \n",
    "- Failure to use parentheses in step 5, that is, writing the fraction as $\\dfrac{k+1(k+1+1)}{2}$. The parentheses are necessary to make the algebra expression correct, they are not merely decorative!\n",
    "- **Rushing through the response and not writing things out in words.** Don't try to abbreviate everything with mathematical notation -- you should be using English words to explain things that need to be explained. Specific problems this is causing: \n",
    "  - Writing only disconnected equations in part 3. For example giving a response that consists only of: $\\frac{1 \\times 2}{2} = 1$. By itself this means nothing. You are asked to **explain why the predicate is true in the base case** here. Just writing a fraction isn't enough. \n",
    "  - Not writing the word \"assume\" in part 4, but just writing the equation. **This is a critical error** because the reader needs to know what you intend to do here. \n",
    "  - Not writing the word \"prove\" in part 5, also a critical error and for the same reason. \n",
    "\n",
    "---"
   ]
  },
  {
   "cell_type": "markdown",
   "metadata": {},
   "source": [
    "## Learning Target 8\n",
    "\n",
    "1.\n",
    "   (a) $\\{14, 23\\}$ \n",
    "   (b) $\\{0,1\\}$\n",
    "   (c) Incorrect syntax (because it gives a set followed by a function, not followed by a predicate)\n",
    "2. More than one possible right answer here. One example: \n",
    "   $\\{letter \\in \\{a,b,c,\\dots, z\\} \\, : \\, letter \\, \\text{comes after} \\, w\\}$\n",
    "\n",
    "### Common errors\n",
    "\n",
    "- In 1(a), either missing the numbers 14 or 23; or going too far and including numbers such as 32, 41, and 50. The set builder notation states that $x$ only ranges between 1 and 30. \n",
    "- Giving $\\{0,1,0,1,0,1,\\dots\\}$ as the response to 1(b). This is not a valid set because it contains duplicate elements. \n",
    "- Interpreting $x \\, \\% \\, 2$ as \"$x$ divided by 2\" in 1(b) resulting in the set $\\{0,1/2,1,3/2, \\dots\\}$. Not sure where that's coming from but it happened more than once. **Make sure to read the notation carefully!** \"$x \\, \\% \\, 2$\" and \"$x \\div 2$\" mean different things. \n",
    "- Giving the following as a response to part 2: $\\{a \\, : a \\in \\{x,y,z\\}\\}$ this is correct but trivial and does not demonstrate skill on the Learning Target. That's why **this is explicitly ruled out in the Success Criteria printed below the problem statement.**\n",
    "- Using $x$ as the name of the variable that belongs to a set containing the letter \"x\". For example $\\{x \\in \\{a,b,c,\\dots,x,y, z\\} \\, : \\, x \\, \\text{comes after} \\, w\\}$. This doesn't work, because \"$x \\in \\{a,b,c,\\dots,x,y, z\\}$\" is merely a true statement, not a set of elements that we will then filter with a predicate. It also doesn't work because \"$x \\, \\text{comes after} \\, w$\" is simply \"false\", it's not a predicate we can use to filter elements out of a set. **Tip: Just as when writing computer code, avoid using the same variable name in two different contexts.** "
   ]
  },
  {
   "cell_type": "markdown",
   "metadata": {},
   "source": [
    "## Learning Target 9\n",
    "\n",
    ">$A = \\{3, 4, 5, 6\\}$, $B = \\{2, 4, 6, 8\\}$, $C = \\{0, 5\\}$ and   $U = \\{0, 1, 2, \\dots, 10\\}$\n",
    "\n",
    "1. $\\{5\\}$\n",
    "2. $\\{0,2,4,5,6,8\\}$\n",
    "3. $\\{2,8\\}$\n",
    "4. $\\{0,1,2,7,8,9,10\\}$\n",
    "5. $\\{2,4,6,8\\}$ or just $B$\n",
    "6. $\\emptyset$ (any set intersected with $\\emptyset$ is $\\emptyset$, no computation needed)\n",
    "7. $\\{\\emptyset, \\{0\\}, \\{5\\}, \\{0,5\\}\\}$\n",
    "8. 8\n",
    "\n",
    "### Common errors \n",
    "\n",
    "- Not including the empty set in the power set ${\\cal{P}}(C)$. The empty set is a subset of every set, so it is always included in the power set of a set. \n",
    "- Not computing cardinality in part 8 but instead giving $B \\times C$ (which is a set) instead of $|B \\times C|$ (which is a number). \n",
    "- Two errors which are not deal-breakers but could cause problems: \n",
    "  - Not using set brackets around sets, for example giving the answer for part 2 as \"$(0,2,4,5,6,8)$\" (using parentheses instead of braces) or as just \"$0,2,4,5,6,8$\" (as a sequence with no delimiters at all). **Make sure to use correct set notation.**\n",
    "  - Putting set braces around the empty set, like: $\\{\\emptyset\\}$. This is not the empty set; it is a set with one element, namely $\\emptyset$. "
   ]
  },
  {
   "cell_type": "markdown",
   "metadata": {},
   "source": [
    "## Learning Target 12\n",
    "\n",
    "1. Four slots and 36 choices per slot: "
   ]
  },
  {
   "cell_type": "code",
   "execution_count": 3,
   "metadata": {},
   "outputs": [
    {
     "data": {
      "text/plain": [
       "1679616"
      ]
     },
     "execution_count": 3,
     "metadata": {},
     "output_type": "execute_result"
    }
   ],
   "source": [
    "36**4"
   ]
  },
  {
   "cell_type": "markdown",
   "metadata": {},
   "source": [
    "2. First three slots have 36 choices each, last two have just 2 options"
   ]
  },
  {
   "cell_type": "code",
   "execution_count": 4,
   "metadata": {},
   "outputs": [
    {
     "data": {
      "text/plain": [
       "93312"
      ]
     },
     "execution_count": 4,
     "metadata": {},
     "output_type": "execute_result"
    }
   ],
   "source": [
    "36**3 * 2"
   ]
  },
  {
   "cell_type": "markdown",
   "metadata": {},
   "source": [
    "3. To start with $0$ leaves three slots with 36 choices each. To end with an \"o\" does the same. **And, we need to count the overlap:** If a password starts with $0$ and ends in \"o\" then there are two slots with 36 choices each: "
   ]
  },
  {
   "cell_type": "code",
   "execution_count": 5,
   "metadata": {},
   "outputs": [
    {
     "data": {
      "text/plain": [
       "92016"
      ]
     },
     "execution_count": 5,
     "metadata": {},
     "output_type": "execute_result"
    }
   ],
   "source": [
    "starts_with_zero  = 36**3\n",
    "ends_with_o = 36**3\n",
    "overlap = 36**2\n",
    "\n",
    "starts_with_zero + ends_with_o - overlap"
   ]
  },
  {
   "cell_type": "markdown",
   "metadata": {},
   "source": [
    "### Common errors \n",
    "\n",
    "- By far the most common error is **not subtracting out the overlap in the two cases**. Whenever finding the number of things that satisfy an \"either/or\" condition, you'll *always* need to find the number that satisfy \"both/and\" and apply the **Principle of Inclusion and Exclusion**. \n",
    "- In part 3, finding the number of passwords that *both* start with 0 *and* end in \"o\" -- and returning that number ($36^2$) as the answer. It's *involved* in finding the count, but you're asked to count the number that *either* start with 0 *or*  end in \"o\". "
   ]
  },
  {
   "cell_type": "markdown",
   "metadata": {},
   "source": [
    "## Learning Target 13"
   ]
  },
  {
   "cell_type": "code",
   "execution_count": 9,
   "metadata": {},
   "outputs": [
    {
     "name": "stdout",
     "output_type": "stream",
     "text": [
      "6! =  720\n",
      "11 choose 6 =  462\n"
     ]
    }
   ],
   "source": [
    "from math import factorial\n",
    "\n",
    "# 1(a)\n",
    "print(\"6! = \", factorial(6))\n",
    "\n",
    "# 1(b)\n",
    "\n",
    "print(\"11 choose 6 = \", (factorial(11)//(factorial(6) * factorial(5))))"
   ]
  },
  {
   "cell_type": "markdown",
   "metadata": {},
   "source": [
    "2(a). Five books on a shelf, number of arrangements is $5!$"
   ]
  },
  {
   "cell_type": "code",
   "execution_count": 10,
   "metadata": {},
   "outputs": [
    {
     "data": {
      "text/plain": [
       "120"
      ]
     },
     "execution_count": 10,
     "metadata": {},
     "output_type": "execute_result"
    }
   ],
   "source": [
    "factorial(5)"
   ]
  },
  {
   "cell_type": "markdown",
   "metadata": {},
   "source": [
    "2(b). Selecting four books from 10 and then rearranging: Number of arrangements is $P(10,4) = \\frac{10!}{6!}$ (*not* $\\binom{10}{4}$)"
   ]
  },
  {
   "cell_type": "code",
   "execution_count": 11,
   "metadata": {},
   "outputs": [
    {
     "data": {
      "text/plain": [
       "5040"
      ]
     },
     "execution_count": 11,
     "metadata": {},
     "output_type": "execute_result"
    }
   ],
   "source": [
    "factorial(10)//factorial(6)"
   ]
  },
  {
   "cell_type": "markdown",
   "metadata": {},
   "source": [
    "## Common errors \n",
    "\n",
    "- By far the most common is **using the binomial coefficient on 2(b)** and computing the number as $\\binom{10}{4} = 210$. This number, 210, gives the number of ways to select 4 books at random from the group of 10. But this is not the counting situation we're in: We are choosing 4 books from 10 and then putting them on the shelf \"in a specific order\" (as it says in the statement). This is a \"4-permutation\". Or consider it as a [license plate problem](https://publish.obsidian.md/mth225/Combinatorics/License+plate+problem): There are four spots on the bookshelf to fill. There are 10 ways to fill the first slot; then 9 ways to fill the second since the first was already filled; then 8 ways to fill the third; and 7 ways to fill the fourth. Since the choices are in sequence, the total count is $10 \\cdot 9 \\cdot 8 \\cdot 7 = 5040$. Note this is the same as $P(10,4)$; in fact, in class, we derived the formula for $P(n,k)$ by thinking about license plate problems. "
   ]
  },
  {
   "cell_type": "markdown",
   "metadata": {},
   "source": []
  }
 ],
 "metadata": {
  "kernelspec": {
   "display_name": "base",
   "language": "python",
   "name": "python3"
  },
  "language_info": {
   "codemirror_mode": {
    "name": "ipython",
    "version": 3
   },
   "file_extension": ".py",
   "mimetype": "text/x-python",
   "name": "python",
   "nbconvert_exporter": "python",
   "pygments_lexer": "ipython3",
   "version": "3.10.13"
  }
 },
 "nbformat": 4,
 "nbformat_minor": 2
}
