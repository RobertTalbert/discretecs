{
 "cells": [
  {
   "cell_type": "markdown",
   "metadata": {},
   "source": [
    "# Checkpoint 11 answers and common errors \n",
    "\n",
    "## Learning Target 1\n",
    "\n",
    "1. `28E`\n",
    "2. `365`\n",
    "3. 23\n",
    "4. `1110 0000`\n",
    "\n",
    "---\n",
    "\n",
    "## Learning Target 2 \n",
    "\n",
    "1. `100101000`\n",
    "2. `1010`\n",
    "3. `111100`\n",
    "4. `1100` Remainder : `10`\n",
    "\n",
    "\n",
    "---"
   ]
  },
  {
   "cell_type": "markdown",
   "metadata": {},
   "source": [
    "## Learning Target 3\n",
    "\n",
    "*We're having a Checkpoint if it's Wednesday*\n",
    "\n",
    "1. It's Wednesday\n",
    "2. We're having a Checkpoint\n",
    "3. If we're having a Checkpoint, then it's Wednesday \n",
    "4. If we're not having a Checkpoint, then it's not Wednesday \n",
    "5. If it's not Wednesday, then we're not having a Checkpoint\n",
    "6. It's Wednesday but we're not having a Checkpoint\n",
    "\n",
    "\n",
    "### Common errors\n",
    "\n",
    "- **Misidentifying the hypothesis and conclusion** by saying \"We're having a Checkpoint\" is the hypothesis and \"It's Wednesday\" is the conclusion. A conditional statement outlines a \"cause and effect\" relationship with the hypothesis being the \"cause\" and the conclusion is the \"effect\". Often the hypothesis is indicated by \"if\", as with an `if-then-else` loop in a program. **Just because \"it's Wednesday\" occurs at the end of the sentence, it's not automatically the conclusion.** \n",
    "- **Writing the converse as \"If it's Wednesday then we're having a checkpoint\".** As pointed out in the solution guide for Checkpoints 9 and 10 and numerous times in class and on Class Preps, this is the same logical statement as the original because the hypothesis and conclusion are the same. **Simply moving the phrases around does not make the converse.** There has to be an actual reversal of the hypothesis and conclusion, not just in terms of location on the page. \n",
    "\n",
    "\n",
    "---"
   ]
  },
  {
   "cell_type": "markdown",
   "metadata": {},
   "source": [
    "## Learning Target 4\n",
    "\n",
    "1. Truth table below: \n",
    "\n",
    "| $p$ | $q$ | $r$ | $p \\vee q$ | $\\neg r$ | $q \\wedge (\\neg r)$ | $(p \\vee q) \\rightarrow (q \\wedge (\\neg r))$ | \n",
    "| -- | -- | -- | ---- | ---- | ------ | ------- | \n",
    "| T | T | T | T | F | F | T | \n",
    "| T | T | F | T | T | T | T | \n",
    "| T | F | T | T | F | F | F | \n",
    "| T | F | F | T | T | F | T | \n",
    "| F | T | T | T | F | F | T | \n",
    "| F | T | F | T | T | T | T | \n",
    "| F | F | T | F | F | F | T | \n",
    "| F | F | F | F | T | F | T |  \n",
    "\n",
    "2. Truth table below: \n",
    "\n",
    "| $p$ | $q$ | $p \\vee q$ | $\\neg(p \\vee q$) | $\\neg p$ | $\\neg q$ | $(\\neg p) \\wedge (\\neg q)$ |\n",
    "| --- | --- | ---------- | ---------------- | -------- | -------- | -------------------------- |\n",
    "| T   | T   | T          | F                | F        | F        | F                          |\n",
    "| T   | F   | T          | F                | F        | T        | F                          |\n",
    "| F   | T   | T          | F                | T        | F        | F                          |\n",
    "| F   | F   | F          | T                | T        | T        | T                           |\n",
    "\n",
    "Yes, the two statements are logically equivalent. \n",
    "\n",
    "---"
   ]
  },
  {
   "cell_type": "markdown",
   "metadata": {},
   "source": [
    "## Learning Target 5\n",
    "\n",
    "1. (a) True\n",
    "\n",
    "   (b) True\n",
    "\n",
    "   (c) False, for example $P(6)$ is false \n",
    "\n",
    "   (d) False, $Q(n)$ is true for every $n \\in \\mathbb{N}$\n",
    "\n",
    "2. Some problems on this quiz have different answers. \n",
    "\n",
    "---\n",
    "\n",
    "## Learning Target 6 "
   ]
  },
  {
   "cell_type": "code",
   "execution_count": 2,
   "metadata": {},
   "outputs": [
    {
     "data": {
      "text/plain": [
       "[11, 27, 65, 157]"
      ]
     },
     "execution_count": 2,
     "metadata": {},
     "output_type": "execute_result"
    }
   ],
   "source": [
    "def a(n): \n",
    "    if n == 0: return 1\n",
    "    elif n == 1: return 5\n",
    "    else: return 2*a(n-1) + a(n-2) \n",
    "\n",
    "[a(i) for i in range(2,6)]"
   ]
  },
  {
   "cell_type": "markdown",
   "metadata": {},
   "source": [
    "2. $a_0 = 3$ and for $n > 0$, $a_n = a_{n-1} + 3$\n",
    "\n",
    "---"
   ]
  },
  {
   "cell_type": "markdown",
   "metadata": {},
   "source": [
    "## Learning Target 7\n",
    "\n",
    "*For every integer $n \\geq 0$, $11^n - 6$ is divisible by $5$.* \n",
    "\n",
    "1. $P(n): 11^n - 6$ is divisible by $5$\n",
    "2. $n = 0$\n",
    "3. If $n=0$ then $11^n - 6 = 11^0 - 6 = 1-6 = -5$, and this is divisible by 5 because it's a multiple of $5$. So the base case holds. \n",
    "4. **Assume that** $11^k - 6$ is divisible by $5$ for some integer $k$. \n",
    "5. **Prove that** $11^{k+1} - 6$ is divisible by $5$ . \n",
    "\n",
    "### Common errors\n",
    "\n",
    "- **Trying to write \"is divisible by 5\" in math notation by using a fraction:** That is, phrasing \"$11^n - 6$ is divisible by $5$\" as the fraction $\\dfrac{11^n - 6}{5}$. This doesn't make sense because the fraction here is a fraction, not a proposition -- fractions don't have true or false values, they are just numbers or algebraic expressions. It's like saying the fraction $\\frac{20}{5}$ is \"true\"; it's not \"true\", it's a number ($4$). **Don't try to make things shorter by using notation -- just say \"is divisible by\".**\n",
    "- **Not clearly stating *Assume* in the inductive hypothesis**. Don't just state what we are assuming, but also clearly state *that we are assuming it.* Phrase it just as it appears above. \n",
    "- **Using $k+1$ in both the inductive hypothesis and inductive step**: That is, stating that we will assume that $11^k - 6$ is divisible by $5$ for some integer $k$, and then stating that we'll next prove that $11^k - 6$ is divisible by $5$ for some integer $k$. This doesn't make sense because it's the same proposition both times, and it's not logically valid to assume something and then prove that same thing. There's nothing to prove, if you assumed it. \n",
    "\n",
    "\n",
    "---"
   ]
  },
  {
   "cell_type": "markdown",
   "metadata": {},
   "source": [
    "## Learning Target 8\n",
    "\n",
    "1. (a) Incorrect syntax since it begins with a predicate. However, interpreting the predicate a function (that returns `True` if the input is even and `False` otherwise) also works: It would produce the set {True, False}. (But note, {True, False, True, False, True, False, ,...} is incorrect because of the duplicate set values.)\n",
    "   \n",
    "   (b) Incorrect syntax since it involves a mapping (function) but the function is in the wrong place. \n",
    "\n",
    "   (c) $\\{1, 2, 4, 8, 16, 32, \\dots\\}$\n",
    "\n",
    "2. Many different correct responses possible. Examples: \n",
    "- $\\{x \\in \\{0,1,2,3,4,5,6,7,8,9\\} \\, : \\, x > 6\\}$\n",
    "- $\\{x + 1 \\, : \\, \\{6,7,8\\}\\}$\n",
    "- The best one seen in actual student submissions: $\\{x \\in \\mathbb{N} \\, : \\, x \\ \\text{is in the punchline to the joke \"Why was 6 afraid of 7?\"} \\}$. 😂\n",
    "\n",
    "\n",
    "\n",
    "### Common errors \n",
    "\n",
    "- **Giving a response of $\\{0,2,4,6,8,\\dots\\}$ or $\\{2,4,6,8,\\dots\\}$ for 1(a):** This would be a correct roster notation form if the original were $\\{ x \\in \\mathbb{N} \\, : \\, x \\, \\text{is even}\\}$. But that's not what the roster notation says; as mentioned above, the problem statement puts the predicate first, which is either incorrect syntax or produces a completely different set depending on how you look at it. \n",
    "- **Not including $0$ in the set of natural numbers:** Not a huge issue because this isn't universally agreed-upon, but for MTH 225 and in most computer science courses, $0$ is in the natural numbers. Please [refer to the vault](https://publish.obsidian.md/mth225/Computer+Arithmetic/Natural+numbers) (or the textbook). \n",
    "\n",
    "\n",
    "---\n",
    "\n"
   ]
  },
  {
   "cell_type": "markdown",
   "metadata": {},
   "source": [
    "## Learning Target 9 \n",
    "\n",
    "1. $\\emptyset$ \n",
    "2. $\\{0,1,3,5,7,9\\}$\n",
    "3. $\\{1,3,5\\}$\n",
    "4. $\\{0,1,2,3,4,5,6\\}$\n",
    "5. $\\{1,3,5,7,9\\}$\n",
    "6. $\\emptyset$\n",
    "7. $\\{\\emptyset, \\{0\\}, \\{5\\}, \\{0,5\\}\\}$\n",
    "8. $\\{(7,0), (7,5), (8,0), (8,5), (9,0), (9,5), (10,0), (10,5)\\}$\n",
    "\n",
    "### Common errors\n",
    "\n",
    "- Two notational issues that aren't strictly \"errors\" but which can lead to problems later: \n",
    "    - **Writing $\\{\\emptyset\\}$ to mean the empty set:** If you mean the empty set, write $\\emptyset$ -- not $\\{\\emptyset\\}$. The second thing here is not an empty set! It's a set with one element. \n",
    "    - **Writing elements of $B \\times C$ as two-element sets:** For example $\\{7,0\\}$ instead of $(7,0)$. There is a big difference in these: The first one is not ordered, so $\\{7,0\\}$ and $\\{0,7\\}$ are the same. But the second one *is* ordered: $(7,0)$ and $(0,7)$ are different tuples. \n",
    "\n",
    "---\n"
   ]
  },
  {
   "cell_type": "markdown",
   "metadata": {},
   "source": [
    "## Learning Target 10 \n",
    "\n",
    "1. Not a function ($a$ maps to two things)\n",
    "2. Function; Domain = $\\{h,t,r,s\\}$, codomain = $\\{9,6,7\\}$, range = $\\{9,6,7\\}$\n",
    "3. Not a function ($w$ doesn't map to anything)\n",
    "4. Function; Domain = $\\{n,e,d,v\\}$, codomain = $\\{l, p, j, i, n\\}$, range = $\\{l,p,j,n\\}$ \n",
    "5. Not a function ($9$ maps to two things)\n",
    "6. Function; Domain = $\\{1,3,8,4,0\\}$, codomain = $\\{8,0,4,7\\}$, range = $\\{8,0,4,7\\}$\n",
    "---\n"
   ]
  },
  {
   "cell_type": "markdown",
   "metadata": {},
   "source": [
    "## Learning Target 11\n",
    "\n",
    "1. Injective. But not surjective, because nothing above 26 has anything mapping to it. \n",
    "2. Not injective, since for example $199$ and $299$ both map to $99$. And not surjective since the highest output value possible is $99$. \n",
    "3. Surjective. But not injective because $3$ and $4$ both map to $8$. \n",
    "\n",
    "---"
   ]
  },
  {
   "cell_type": "markdown",
   "metadata": {},
   "source": [
    "## Learning Target 12\n",
    "\n",
    "1. There is some overlap in the enrollments, so the correct count would be (number enrolled in math) + (number enrolled in science) - (number enrolled in both math and science). That is 120 + 150 - 80 = 190. \n",
    "2. There are 4 choices for shirt, 3 for pants, and 2 for shoes so $4 \\cdot 3 \\cdot 2 = 24$ outfits. \n",
    "\n",
    "### Common errors: \n",
    "\n",
    "None, almost everyone who attempted did so successfully.\n",
    "\n",
    "---"
   ]
  },
  {
   "cell_type": "markdown",
   "metadata": {},
   "source": [
    "## Learning Target 13\n",
    "\n",
    "1. (a) $5! = 5 \\cdot 4 \\cdot 3 \\cdot 2 \\cdot 1 = 120$. \n",
    "\n",
    "   (b) $\\binom{30}{20} = \\frac{30!}{20! \\cdot 10!} = \\frac{30 \\cdot 29 \\cdot 28 \\cdot \\cdots \\cdot 21}{10 \\cdot 9 \\cdot 8 \\cdot \\cdots \\cdot 2 \\cdot 1} = 30045015$\n",
    "\n",
    "2. Since a different song order constitutes a different performance, we need to compute $P(30,15) = \\frac{30!}{15!} = 202843204931727360000$. Or, treat it like a license plate problem: There are 30 choices for the first song, then 29 for the second, and so on until there are 16 choices for the last song. "
   ]
  },
  {
   "cell_type": "markdown",
   "metadata": {},
   "source": [
    "## Learning Target 14\n",
    "\n",
    "Everything below assumes zero indexing, and recursive formulas hold for $n > 0$. \n",
    "\n",
    "| Item | Type | Closed formula | Recursive formula | \n",
    "| --- | --- | --- | --- | \n",
    "| 1 | Arithmetic | $a(n) = 4 - 0.1n$ | $a_n = a_{n-1} - 0.1$ | \n",
    "| 2 | Geometric | $a(n) = 5^n$ | $a_n = 5a_{n-1}$ | \n",
    "| 3 | Arithmetic | $a(n) = 8 - 2n$ | $a_n = a_{n-1} - 2$ | \n",
    "| 4 | Neither | n/a | n/a | "
   ]
  },
  {
   "cell_type": "markdown",
   "metadata": {},
   "source": [
    "## Learning Target 15\n",
    "\n",
    "The characteristic equation is $x^2 - 3x + 2 = 0$. This factors into $(x-2)(x-1) = 0$ so the characteristic roots are $x = 1, 2$. \n",
    "\n",
    "Therefore the framework for the closed formula is $a(n) = a_1(1)^n + a_2(2)^n$. Since $a_0 = 1$, we have $a(0) = 1 = a_1 + a_2$. Since $a_1 = 2$, we have $a(1) = 2 = a_1 + 2a_2$. That is, we have the system of equations\n",
    "\n",
    "$$a_1 + a_2 = 1 \\qquad a_1 + 2a_2 = 2$$\n",
    "\n",
    "There are a few ways to solve this system; one of them is to solve the first equation for $a_1$, and get $a_1 = 1 - a_2$ and then substitute into the other, and get $(1-a_2) + 2a_2 = 2$. This simplifies to $1 + a_2 = 2$ and so $a_2 = 1$. Now back-substitute to get $a_1 = 1 - a_2 = 1-1 = 0$. \n",
    "\n",
    "Therefore the closed formula for the recurrence relation is: \n",
    "$$a(n) = 0(1)^n + 1(2)^n \\ \\text{or just} \\ a(n) = 2^n$$\n",
    "\n",
    "Checking this is optional but helpful -- notice that the original recurrence relation just produces powers of 2, like the closed formula does: "
   ]
  },
  {
   "cell_type": "code",
   "execution_count": 1,
   "metadata": {},
   "outputs": [
    {
     "data": {
      "text/plain": [
       "[1, 2, 4, 8, 16, 32, 64, 128, 256, 512]"
      ]
     },
     "execution_count": 1,
     "metadata": {},
     "output_type": "execute_result"
    }
   ],
   "source": [
    "def a(n): \n",
    "    if n == 0: return 1\n",
    "    elif n == 1: return 2\n",
    "    else: return 3*a(n-1) - 2*a(n-2)\n",
    "\n",
    "[a(i) for i in range(10)]"
   ]
  }
 ],
 "metadata": {
  "kernelspec": {
   "display_name": "Python 3 (ipykernel)",
   "language": "python",
   "name": "python3"
  },
  "language_info": {
   "codemirror_mode": {
    "name": "ipython",
    "version": 3
   },
   "file_extension": ".py",
   "mimetype": "text/x-python",
   "name": "python",
   "nbconvert_exporter": "python",
   "pygments_lexer": "ipython3",
   "version": "3.10.13"
  }
 },
 "nbformat": 4,
 "nbformat_minor": 4
}
