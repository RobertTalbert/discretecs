{
 "cells": [
  {
   "cell_type": "markdown",
   "metadata": {},
   "source": [
    "# Lesson 1: Recursively Defined Structures \n",
    "\n",
    "## Overview \n",
    "\n",
    "__Summary:__ Blah blah\n",
    "\n",
    "This lesson addresses the following learning target(s): \n",
    "\n",
    "+ __RI.1:__ I can construct several instances of a recursively defined structure, such as integer sequences, graphs, and trees.\n",
    "\n",
    "## Background\n",
    "\n",
    "Text to read and things to do. \n",
    "\n",
    "\n",
    "## Other resources for learning \n",
    "\n",
    "List video content, text, links. \n",
    "\n",
    "## Preview Activities\n",
    "\n",
    "### Activities\n",
    "\n",
    "### Submission instructions\n",
    "\n",
    "\n",
    "## Daily Homework\n",
    "\n"
   ]
  },
  {
   "cell_type": "code",
   "execution_count": null,
   "metadata": {
    "collapsed": true
   },
   "outputs": [],
   "source": []
  }
 ],
 "metadata": {
  "kernelspec": {
   "display_name": "Python 3",
   "language": "python",
   "name": "python3"
  },
  "language_info": {
   "codemirror_mode": {
    "name": "ipython",
    "version": 3
   },
   "file_extension": ".py",
   "mimetype": "text/x-python",
   "name": "python",
   "nbconvert_exporter": "python",
   "pygments_lexer": "ipython3",
   "version": "3.4.3"
  }
 },
 "nbformat": 4,
 "nbformat_minor": 0
}
