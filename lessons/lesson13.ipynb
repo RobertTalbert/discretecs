{
 "cells": [
  {
   "cell_type": "markdown",
   "metadata": {
    "button": false,
    "deletable": true,
    "new_sheet": false,
    "run_control": {
     "read_only": false
    }
   },
   "source": [
    "# Lesson 13: Transitive closure and Warshall's Algorithm\n",
    "\n",
    "## Overview\n",
    "\n",
    "__Summary:__ In this lesson we focus in on an important topic in relations, the __transitive closure__ of a relation. Transitive closures are especially important in modeling networks (social networks, computer networks, etc.) because they describe how to create direct connection between nodes that are distantly connected, like LinkedIn tries to connect you with people who are 5 levels removed. A particular focus here will be __Warshall's algorithm__, a polynomial-time algorithm for computing the adjacency matrix of the transitive closure. \n",
    "\n",
    "This lesson addresses the following learning targets: \n",
    "\n",
    "+ __RE.6:__ I can determine whether two points in a relation belong to the transitive closure of that relation, and I can use Warshall’s Algorithm to find the matrix for the transitive closure of a relation.\n",
    "\n",
    "## Background\n",
    "\n",
    "Your background this time comes in the form of three videos to watch. \n",
    "\n",
    "The first describes the concept of the transitive closure and does a visual example. "
   ]
  },
  {
   "cell_type": "code",
   "execution_count": 1,
   "metadata": {
    "collapsed": false
   },
   "outputs": [
    {
     "data": {
      "text/html": [
       "\n",
       "        <iframe\n",
       "            width=\"400\"\n",
       "            height=\"300\"\n",
       "            src=\"https://www.youtube.com/embed/OO8Jfs9uZnc\"\n",
       "            frameborder=\"0\"\n",
       "            allowfullscreen\n",
       "        ></iframe>\n",
       "        "
      ],
      "text/plain": [
       "<IPython.lib.display.YouTubeVideo at 0x108fdef98>"
      ]
     },
     "execution_count": 1,
     "metadata": {},
     "output_type": "execute_result"
    }
   ],
   "source": [
    "from IPython.display import YouTubeVideo\n",
    "YouTubeVideo(\"OO8Jfs9uZnc\")"
   ]
  },
  {
   "cell_type": "markdown",
   "metadata": {
    "run_control": {}
   },
   "source": [
    "The second and third introduce Warshall's Algorithm. One video discusses the idea behind the algorithm and how it works, and the second walks partially through a small example. "
   ]
  },
  {
   "cell_type": "code",
   "execution_count": 4,
   "metadata": {
    "collapsed": false,
    "run_control": {}
   },
   "outputs": [
    {
     "data": {
      "text/html": [
       "\n",
       "        <iframe\n",
       "            width=\"400\"\n",
       "            height=\"300\"\n",
       "            src=\"https://www.youtube.com/embed/hKCqske0rAE\"\n",
       "            frameborder=\"0\"\n",
       "            allowfullscreen\n",
       "        ></iframe>\n",
       "        "
      ],
      "text/plain": [
       "<IPython.lib.display.YouTubeVideo at 0x109857f28>"
      ]
     },
     "execution_count": 4,
     "metadata": {},
     "output_type": "execute_result"
    }
   ],
   "source": [
    "from IPython.display import YouTubeVideo\n",
    "YouTubeVideo(\"hKCqske0rAE\")"
   ]
  },
  {
   "cell_type": "code",
   "execution_count": 5,
   "metadata": {
    "collapsed": false
   },
   "outputs": [
    {
     "data": {
      "text/html": [
       "\n",
       "        <iframe\n",
       "            width=\"400\"\n",
       "            height=\"300\"\n",
       "            src=\"https://www.youtube.com/embed/BTRssTnhZVU\"\n",
       "            frameborder=\"0\"\n",
       "            allowfullscreen\n",
       "        ></iframe>\n",
       "        "
      ],
      "text/plain": [
       "<IPython.lib.display.YouTubeVideo at 0x109857fd0>"
      ]
     },
     "execution_count": 5,
     "metadata": {},
     "output_type": "execute_result"
    }
   ],
   "source": [
    "from IPython.display import YouTubeVideo\n",
    "YouTubeVideo(\"BTRssTnhZVU\")"
   ]
  },
  {
   "cell_type": "markdown",
   "metadata": {
    "run_control": {}
   },
   "source": [
    "### Other resources for learning\n",
    "\n",
    "There are _lots_ of videos about Warshall's Algorithm on YouTube. If these three aren't enough, go do a simple YouTube query. Also, see the Appendix below for how to generate random directed graphs for practice purposes; generate some random digraphs and find the transitive closure by hand, and then use the code posted at the [GitHub gist](https://gist.github.com/RobertTalbert/99e176d7ea40e77bfe05) to check your work. \n",
    "\n",
    "\n",
    "\n",
    "## Preview Activities\n",
    "\n",
    "Found here on Formative: https://goformative.com/student/#/assignments/APMZ294\n",
    "\n",
    "## Daily Homework \n",
    "\n",
    "1. Here is a relation on the set $\\{0, 1, 2, 3, 4, 5\\}$ as a dictionary: `{0: [4], 1: [2], 2: [3, 4], 3: [], 4: [1, 3, 5], 5: [0, 1, 2]}`. Draw the directed graph for this relation (or use Sage) and then draw -- by hand -- the digraph for the transitive closure. Do not try to use Warshall's Algorithm on this by hand because it requires $6^3 = 216$ iterations! \n",
    "2. Repeat the first question using this relation on $\\{0, 1, 2, 3, 4, 5, 6, 7\\}$:  `{0: [5, 7], 1: [0, 6], 2: [0, 3], 3: [4], 4: [], 5: [3, 7], 6: [1, 3, 5, 7], 7: [5]}`\n",
    "3. Here is a relation on $\\{0, 1, 2,3\\}$: \n",
    "$$\\left(\\begin{array}{rrrr}\n",
    "0 & 1 & 0 & 0 \\\\\n",
    "0 & 0 & 1 & 1 \\\\\n",
    "0 & 0 & 0 & 0 \\\\\n",
    "1 & 1 & 1 & 0\n",
    "\\end{array}\\right)$$\n",
    "Just like in one of the videos, go through the first ten (10) steps of Warshall's Algorithm on this relation. If you feel really motivated, go through a few more steps. If you are a ROCK STAR then go through all $4^3 =64$ steps and then check your work visually. \n",
    "\n",
    "## Appendix: How to create random digraphs on SageMath and get their adjacency matrices\n",
    "\n",
    "It's helpful for practice purposes to be able to generate random direct graphs and then do things with them. For example, if you need more practice with drawing the transitive closure of a digraph, then a smart thing to do is generate some random digraphs, print them off or project them to a whiteboard or copy the image to a paint program, and then start drawing -- then use SageMath to check. \n",
    "\n",
    "There are several methods for generating random digraphs in SageMath. These two are IMO the handiest: \n",
    "\n",
    "+ `g = digraphs.RandomDirectedGNP(6, 0.3)` will generate a random directed graph with 6 nodes (numbered 0 through 5), and for each pair of nodes there is a 0.3 probability of the first node pointing to the second one. Then that graph is stored in the variable `g` and you can view it by entering `g.show()`. Change up the 6 and 0.3 for a different number of nodes and a different probability of connection. For example `g = digraphs.RandomDirectedGNP(20, 0.1)` will create a digraph on 20 nodes but only a 10% chance of two nodes being connected. \n",
    "+ `digraphs.RandomDirectedGNM` is like `.RandomDirectedGNP` except instead of passing it a number of nodes and a probability, you pass it a number of nodes and a number of edges and it randomly picks from among the possible digraphs with that number of nodes and edges. For example `g = digraphs.RandomDirectedGNM(8, 14)` returns a random digraph with 8 nodes and 14 edges. Again, following this with `g.show()` will display the graph. \n",
    "\n",
    "Once you have a graph, you can convert it to its adjacency matrix by entering \n",
    "\n",
    "    g.adjacency_matrix()\n",
    "\n",
    "This produces a text version of the adjacency matrix. Then you can do stuff with it: \n",
    "\n",
    "+ To run it through the Warshall's algorithm code, just save it to a variable like this: `M = g.adjacency_matrix()` and then run the variable through the function like this: `warshall(M)`. (You first have to copy and paste the code into your notebook and execute it, and again remember to change the kernel to SageMath.) \n",
    "+ If you want a nice, pretty version of the matrix: `show(g.adjacency_matrix())`\n",
    "+ To get the LaTeX code for the matrix: `latex(g.adjacency_matrix())` Actually you can get the LaTeX for _anything_ in SageMath by wrapping `latex()` around it. \n",
    "\n",
    "The [SageMath tutorial](http://doc.sagemath.org/html/en/tutorial/tour_linalg.html) has much more on what you can do with matrices especially if you are interested in linear algebra. "
   ]
  },
  {
   "cell_type": "code",
   "execution_count": null,
   "metadata": {
    "collapsed": true,
    "run_control": {}
   },
   "outputs": [],
   "source": []
  }
 ],
 "metadata": {
  "kernelspec": {
   "display_name": "Python 3",
   "language": "python",
   "name": "python3"
  },
  "language_info": {
   "codemirror_mode": {
    "name": "ipython",
    "version": 3
   },
   "file_extension": ".py",
   "mimetype": "text/x-python",
   "name": "python",
   "nbconvert_exporter": "python",
   "pygments_lexer": "ipython3",
   "version": "3.5.0"
  }
 },
 "nbformat": 4,
 "nbformat_minor": 0
}
