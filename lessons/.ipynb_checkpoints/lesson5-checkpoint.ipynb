{
 "cells": [
  {
   "cell_type": "markdown",
   "metadata": {
    "button": false,
    "deletable": true,
    "new_sheet": false,
    "run_control": {
     "read_only": false
    }
   },
   "source": [
    "# Lesson 5: Analysis of induction proofs\n",
    "\n",
    "## Overview \n",
    "\n",
    "__Summary:__ In this lesson we are not going to introduce any new content or ideas. Instead the lesson is all about _analyzing written proofs_. We've been practicing induction proofs, and in Miniprojects you'll be writing some of these on your own. Before you _write_ a proof, you need to build skills in _analyzing_ proofs: Reading them carefully and evaluating the logic, semantics, syntax, and computation that take place in those proofs. In this lesson you'll be presented with some written proofs and asked to \"analyze\" them. The background below is just information on what this means, along with a graphic you can use to help. \n",
    "\n",
    "This lesson addresses the following learning target(s): \n",
    "\n",
    "+ __RI.2:__ I can outline and analyze a mathematical proof using mathematical induction over the positive integers, weak induction, strong induction, and structural induction.\n",
    "+ __RI.3:__ I can construct a correct proof using mathematical induction over the positive integers, weak induction, strong induction, or structural induction. \n",
    "\n",
    "---\n",
    "\n",
    "## Background\n",
    "\n",
    "Writing a correct, well-written, and clearly-explained proof is not easy! It's a process that you will get better at throughout your careers and you are only just now learning how to do it. One helpful stepping-stone on the way to becoming expert proof-writers is learning how to __evaluate written proofs__. Just like you often learn good programming tactics by analyzing someone else's code and learning their tricks -- or by picking their code apart and finding the mistakes -- you can learn a lot about proof by picking apart and weighing the relative plusses and minuses of someone else's proofs. \n",
    "\n",
    "Here is a graphic that explains the process of analyzing proofs: \n",
    "\n",
    "<img src=\"proofanalysis.png\">\n",
    "\n",
    "[Here is a direct link to this graphic in Google Draw.](https://docs.google.com/drawings/d/1Yf6g7e5dPMapfWvhGip4HvxYpDMuuCkhpbaXMw65F6w/edit?usp=sharing) You can also find it linked to the card for Lesson 5. \n",
    "\n",
    "In non-flowchart form, the process goes like this. We are given a proposition and a proposed proof for it. \n",
    "\n",
    "1. Take a look at the proposition itself and test it for several instances. Is the proposition actually true in the first place? If not -- because you found a counterexample -- then demonstrate that counterexample, and we're done. \n",
    "2. If the proposition appears to be true (because we've tried a bunch of instances and the proposition always seems to work), then we then move on to thinking about the proof. Read the proof carefully and look for the four major kinds of error: _logical_, _syntax_, _semantic_, or _computational_ error. \n",
    "3. Based on your reading, is the proof correct? That is, is it free of any \"fatal errors\" that render the proof illegible, illogical, or false? If so, list all the errors you found and explain why they are deal-killers. Then the analysis is done. Otherwise -- if you found only minor errors -- move on. \n",
    "4. Based on your reading, the proposition appears to be true and you didn't find any significant errors. What _minor_ errors did you find? These can be syntax, semantic, computational, or logical errors that don't kill the proof but should still be revised; or they could be stylistic suggestions that would improve the exposition. If you found those, state them along with specific corrections to make. Then you're done. \n",
    "5. Otherwise you're done, because the proof has no significant improvements that can be made. \n",
    "\n",
    "In the class meeting, you're going to get several written proofs that you've never seen before. Some will have flaws -- one or two of them may be \"proofs\" for statements that are not actually true! It will be up to you and your table partners to analyze these and make corrections, if possible, to salvage the proof and make it right. \n",
    "\n",
    "__Final note:__ This analysis process is what _you_ need to be doing with _your own_ work on proofs before you submit any sort of final draft. "
   ]
  },
  {
   "cell_type": "markdown",
   "metadata": {
    "button": false,
    "deletable": true,
    "new_sheet": false,
    "run_control": {
     "read_only": false
    }
   },
   "source": [
    "# Preview Activities\n",
    "\n",
    "The Preview Activities themselves are found on the response form at https://goformative.com/student/#/assignments/QKDQ943. Once again we are using Formative. At the form, you will find a mathematical proposition and a proposed proof by induction. You are asked to analyze it and highlight any errors you find. This time, the right answers are not going to be given on Formative because we want to use this example to launch our in-class activities. \n",
    "\n",
    "There is some kind of glitch with Formative on this that at the time of this writing is cutting off the text that appears at the top of the form. The full text is this: \n",
    "\n",
    ">Your preview activity consists of doing a quick run-through of the proof analysis process as shown in the Lesson notes. Consider the proposition and proposed proof below. There could be errors and it's possible the proposition itself is not even true. Read carefully and then analyze the proposition and its proof using the flowchart from the Lesson notes, then answer the questions below. \n",
    "\n",
    "\n",
    "\n",
    "# Daily Homework \n",
    "\n",
    "There's no Daily Homework this time. "
   ]
  },
  {
   "cell_type": "code",
   "execution_count": null,
   "metadata": {
    "button": false,
    "collapsed": true,
    "deletable": true,
    "new_sheet": false,
    "run_control": {
     "read_only": false
    }
   },
   "outputs": [],
   "source": []
  }
 ],
 "metadata": {
  "kernelspec": {
   "display_name": "Python 3",
   "language": "python",
   "name": "python3"
  },
  "language_info": {
   "codemirror_mode": {
    "name": "ipython",
    "version": 3
   },
   "file_extension": ".py",
   "mimetype": "text/x-python",
   "name": "python",
   "nbconvert_exporter": "python",
   "pygments_lexer": "ipython3",
   "version": "3.5.0"
  }
 },
 "nbformat": 4,
 "nbformat_minor": 0
}
