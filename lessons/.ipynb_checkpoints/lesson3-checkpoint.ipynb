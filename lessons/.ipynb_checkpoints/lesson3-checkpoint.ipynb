{
 "cells": [
  {
   "cell_type": "markdown",
   "metadata": {
    "button": false,
    "deletable": true,
    "new_sheet": false,
    "run_control": {
     "read_only": false
    }
   },
   "source": [
    "# Lesson 3: Strong induction\n",
    "\n",
    "## Overview \n",
    "\n",
    "__Summary:__ In this lesson we will build on what we know about mathematical induction to introduce a variation on mathematical induction called __strong induction__. Strong induction is a proof/argument technique used when the exact form of regular induction is inconvenient or unusable because we cannot use the case of $k-1$ to show the case for $k$. The example we'll see here has to do with factoring integers. \n",
    "\n",
    "This lesson addresses the following learning target(s): \n",
    "\n",
    "+ __RI.2:__ I can outline and analyze a mathematical proof using mathematical induction over the positive integers, weak induction, strong induction, and structural induction.\n",
    "+ __RI.3:__ I can construct a correct proof using mathematical induction over the positive integers, weak induction, strong induction, or structural induction. \n",
    "\n",
    "This lesson focuses particularly on strong induction. \"Weak induction\" is the usual induction process we have already discussed, and \"structural induction\" is the subject of Lesson 4. \n",
    "\n",
    "---\n",
    "\n",
    "## Background\n",
    "\n",
    "In the last lesson we reviewed the __Principle of Mathematical Induction__ which states that if $P(n)$ is a predicate defined over the positive integers and the following two statements are true: \n",
    "\n",
    "1. $P(1)$ is true, and \n",
    "2. Assuming $P(k)$ is true for some positive integer $k$, then $P(k+1)$ is true\n",
    "\n",
    "...then $P(n)$ is true _for all_ positive integers. We also saw some variations on this where a predicate may be true for all positive integers _greater than_ some particular starting value. But all of those induction arguments had something in common: \n",
    "\n",
    ">After proving the base case, you assume that $P(k)$ is true and then prove that $P(k+1)$ is true. \n",
    "\n",
    "That is, you assume that the predicate is true at some \"step\" on the \"staircase\" and then prove you can go to \"the next step\". \n",
    "\n",
    "But there are times when it's easy to show that the _next_ step follows from the _previous_ one. Here is a classic example: \n",
    "\n",
    ">__Proposition:__ Every integer greater than 1 is divisible by a prime number. \n",
    "\n",
    "([Click here](https://en.wikipedia.org/wiki/Prime_number) for a reminder of what a prime number is.) This statement seems obvious, but it's surprisingly not simple to prove. This is a statement that is claimed to be true for all natural numbers greater than 1, so let's try setting up a proof by induction. \n",
    "\n",
    "First of all the _predicate_ involved -- call it $P(n)$ -- would say...\n",
    "\n",
    ">$P(n)$: The integer $n$ is divisible by a prime number. \n",
    "\n",
    "And in this proposition we are claiming that the predicate $P(n)$ is true for all $n > 1$. Sounds like induction so far. Let's keep setting it up. \n",
    "\n",
    "The _base case_ of the induction proof would involve demonstrating that $P(n)$ is true in the smallest possible case for which it's claimed to be true -- that is, for $n= 2$. Is $P(2)$ true? Well, this is what it says: \n",
    "\n",
    ">$P(2)$: The integer $2$ is divisible by a prime number. \n",
    "\n",
    "This is clearly true because $2$ _is_ a prime number and therefore is divisible by a prime number (namely, itself). So far so good. \n",
    "\n",
    "Now we have to make the induction hypothesis, which would say this: \n",
    "\n",
    ">Now assume that $P(k)$ is true for some positive integer $k$. That is, assume that $k$ is divisible by a prime number. \n",
    "\n",
    "And then we need the inductive step: \n",
    "\n",
    ">We will show that $P(k+1)$ is true. That is, we we will show that $k+1$ is divisible by a prime number. \n",
    "\n",
    "Well... this is where it gets cloudy. How do you show that $k+1$ is divisible by a prime number, if all you know is that $k$ is divisible by a prime number? There seems to be no natural connection here between $k$ and $k+1$. Even if you take a step and use the definition of \"divides\" to say\n",
    "\n",
    ">Since $k$ is divisible by a prime number, we can write $k = pq$ where $p$ is prime and $q$ is a positive integer. \n",
    "\n",
    "...then what do you do next? The obvious step would be to substitute this into $k+1$ and get $pq + 1$. But how do we know this number is divisible by a prime? Answer: We dont. Because there is no _natural recursive structure_ to consecutive integers and their prime factors, there is no natural way to proceed with the induction proof. \n",
    "\n",
    "The problem here is that basic mathematical induction forces you to go in _consecutive_ steps in the inductive part of the proof. You have to assume the statement for $k$ and then prove it for $k+1$ -- you are not allowed to make different sized steps or assume anything more. \n",
    "\n",
    "The idea of __Strong Induction__ gets around this difficulty and it is a very handy tool to use when regular induction fails us. Here is how a proof by strong induction is set up. It's almost identical to regular induction -- which we will from this point forward refer to as __weak induction__ (no offense!) -- except for one thing. See if you can spot it. \n",
    "\n",
    "First, suppose $P(n)$ is a predicate defined over all positive integers $n$. \n",
    "\n",
    "+ Base case: First assume that $P(1)$ is true. \n",
    "+ Inductive hypothesis: Assume that $P(1), P(2), P(3), \\dots, P(k)$ are all true for some positive integer $k$. \n",
    "+ Inductive step: We then show that $P(k+1)$ is true. \n",
    "\n",
    "When you see it, it really jumps out at you -- it's the inductive hypothesis. Here we assume a _lot_ more in the inductive hypothesis for strong induction than in weak induction. In weak (regular) induction, we only assume $P(k+1)$ is true. In strong induction, we assume _$P(1)$ all the way up to $P(k)$ are all true_. \n",
    "\n",
    "Let's see how this plays out in our proposition involving prime divisibility. Here is a completed proof by strong induction. \n",
    "\n",
    ">__Proposition:__ Every integer greater than 1 is divisible by a prime number. \n",
    "\n",
    "> __Proof:__ We prove this by strong induction. First to show the base case, we show that $2$ is divisible by a prime number. This is obvious because $2$ is itself a prime number and $2$ divides itself. \n",
    ">\n",
    ">Now for the induction hypothesis, assume that _all_ the integers $2, 3, 4, 5, \\dots, k$ are divisible by prime numbers. We will show that $k+1$ is divisible by a prime number. \n",
    "\n",
    ">There are two possibilities: Either $k+1$ is prime itself, or it isn't. If $k+1$ happens to be prime, then $k+1$ is divisible by a prime since it divides itself. On the other hand, if $k+1$ is _not_ prime, then it is divisible by some smaller positive integer, say $m$ with $m > 1$. Since $m > 1$ and (by what we just said) $m < k+1$, because of the strong induction hypothesis we know that $m$ is divisible by a prime number. Since $m$ is divisible by a prime and $k+1$ is divisible by $m$, then $k+1$ is divisible by a prime (in fact, the same prime that divides $m$). That's what we wanted to show so the proof is done. $\\square$\n",
    "\n",
    "Did you see how this works? We assumed in strong induction that the _entire range of integers up through $k$_ makes the statement true. So if I am trying to show that the statement is true for $k+1$, I don't have to go back only one step to the $k$ case -- I can use any case I want prior to $k+1$. I needed to \"go deeper\" than $k$ this time and strong induction allowed me to do that. \n",
    "\n",
    "Here is another example, this time involving a popular (?) fast food. \n",
    "\n",
    "<img src=\"chicken.jpg\">\n",
    "\n",
    "McDonalds sells Chicken McNuggets in sizes of 4, 6, 9, and 20 piece boxes. Some people don't like those particular sizes and want to have a different number by buying combinations of boxes. For example, if you want 12 nuggets, just buy two 6-pieces. If you want 15 nuggets, buy a 6-piece and a 9-piece. If you want 17 pieces, you're out of luck -- no combination of 4-, 6-, and 9-piece boxes can be made to total up to 17 without throwing some of those pieces away. (Which is a nutritional win, but a financial loss.) \n",
    "\n",
    "But if you want a _lot_ of nuggets, you are in luck:\n",
    "\n",
    ">Proposition: For all $N \\geq 24$, it is possible to order exactly $N$ Chicken McNuggets. \n",
    "\n",
    "Before reading the proof below, try it. To get 25 nuggets for example you order a 4-piece, two 6-pieces and a 9-piece. Can you get 31 McNuggets? What about 99? Or 1024? \n",
    "\n",
    ">__Proof:__ We'll prove this by strong induction. First we show the base case, that it's possible to order exactly 24 nuggets. This can be done by ordering a 20-piece and a 4-piece box. \n",
    "\n",
    ">Now assume that it is possible to get orders of exactly $24, 25, 26, \\dots, k$ nuggets for some positive integer $k$. We want to show that we can get an order of $k+1$ nuggets. Notice that \n",
    "$$k+1 = (k - 3) + 4$$\n",
    "Since $k-3 < k+1$, it is in the list of values for which we have assumed that an exact order is possible. So, to get $k+1$ nuggets, make that order and then order an extra 4-piece box. $\\square$\n",
    "\n",
    "For example, above you were asked to think about whether getting exactly 31 nuggets was possible. In the language of the proof, this 31 is the \"$k+1$\", so $k = 30$. The proof would suggest looking at $k-3$, or $27$ nuggets. This is possible because we can order three 9-piece nuggets. Well, make that order plus an additional 4-piece and we're done. \n",
    "\n",
    "If you're hungry now, I don't blame you, but [have you seen how those things are made?](https://www.youtube.com/watch?v=T67DvoH2H3E) \n",
    "\n",
    "To wrap this up: \n",
    "\n",
    "+ Strong induction is exactly like regular or \"weak\" induction, except in the inductive hypothesis we assume not that the statement is true just when $n = k$ but that the statement is true _for all positive integers up to and including $k$_. It's a \"stronger\" assumption. \n",
    "+ This is useful when you are proving something using induction but it's not easy or straightforward to use just the previous step to prove the $k+1$ case. \n",
    "+ Chicken nuggets are gross. \n",
    "\n",
    "---\n",
    "\n",
    "## Other resources for learning \n",
    "\n",
    "__NOTE:__ The resources below are supplemental, not required. They are here for you to get alternate presentations of concepts and additional examples. Use as many or as few of these as you wish. \n",
    "\n",
    "+ Here's a video from MTH 210 again on strong induction, which sometimes goes by the name of \"The Second Principle of Mathematical Induction\". This is a proof of the [Fundamental Theorem of Arithmetic](http://mathworld.wolfram.com/FundamentalTheoremofArithmetic.html)  which states that every integer bigger than 1 can be factored into a product of primes. (That's a little bit different than the prime number divisibility theorem proven above.) (Direct link: https://www.youtube.com/watch?v=n-bJB_7QbQU)"
   ]
  },
  {
   "cell_type": "code",
   "execution_count": 4,
   "metadata": {
    "button": false,
    "collapsed": false,
    "deletable": true,
    "new_sheet": false,
    "run_control": {
     "read_only": false
    }
   },
   "outputs": [
    {
     "data": {
      "text/html": [
       "\n",
       "        <iframe\n",
       "            width=\"400\"\n",
       "            height=\"300\"\n",
       "            src=\"https://www.youtube.com/embed/n-bJB_7QbQU\"\n",
       "            frameborder=\"0\"\n",
       "            allowfullscreen\n",
       "        ></iframe>\n",
       "        "
      ],
      "text/plain": [
       "<IPython.lib.display.YouTubeVideo at 0x104623358>"
      ]
     },
     "execution_count": 4,
     "metadata": {},
     "output_type": "execute_result"
    }
   ],
   "source": [
    "from IPython.display import YouTubeVideo\n",
    "YouTubeVideo(\"n-bJB_7QbQU\")"
   ]
  },
  {
   "cell_type": "markdown",
   "metadata": {
    "button": false,
    "deletable": true,
    "new_sheet": false,
    "run_control": {
     "read_only": false
    }
   },
   "source": [
    "+ Another video walking through a proof, example similar to the chicken McNugget theorem above. He uses the term \"linear combination\" which just means a sum of multiples of two integers. (Direct link: https://youtu.be/ML-g2xLYruE) "
   ]
  },
  {
   "cell_type": "code",
   "execution_count": 5,
   "metadata": {
    "button": false,
    "collapsed": false,
    "deletable": true,
    "new_sheet": false,
    "run_control": {
     "read_only": false
    }
   },
   "outputs": [
    {
     "data": {
      "text/html": [
       "\n",
       "        <iframe\n",
       "            width=\"400\"\n",
       "            height=\"300\"\n",
       "            src=\"https://www.youtube.com/embed/ML-g2xLYruE\"\n",
       "            frameborder=\"0\"\n",
       "            allowfullscreen\n",
       "        ></iframe>\n",
       "        "
      ],
      "text/plain": [
       "<IPython.lib.display.YouTubeVideo at 0x104623710>"
      ]
     },
     "execution_count": 5,
     "metadata": {},
     "output_type": "execute_result"
    }
   ],
   "source": [
    "from IPython.display import YouTubeVideo\n",
    "YouTubeVideo(\"ML-g2xLYruE\")"
   ]
  },
  {
   "cell_type": "markdown",
   "metadata": {
    "button": false,
    "deletable": true,
    "new_sheet": false,
    "run_control": {
     "read_only": false
    }
   },
   "source": [
    "+ Finally here is a longer video (about 20 minutes) with even more examples. (Direct link: https://youtu.be/6O1s3_GsSHo) "
   ]
  },
  {
   "cell_type": "code",
   "execution_count": 6,
   "metadata": {
    "button": false,
    "collapsed": false,
    "deletable": true,
    "new_sheet": false,
    "run_control": {
     "read_only": false
    }
   },
   "outputs": [
    {
     "data": {
      "text/html": [
       "\n",
       "        <iframe\n",
       "            width=\"400\"\n",
       "            height=\"300\"\n",
       "            src=\"https://www.youtube.com/embed/6O1s3_GsSHo\"\n",
       "            frameborder=\"0\"\n",
       "            allowfullscreen\n",
       "        ></iframe>\n",
       "        "
      ],
      "text/plain": [
       "<IPython.lib.display.YouTubeVideo at 0x104623f98>"
      ]
     },
     "execution_count": 6,
     "metadata": {},
     "output_type": "execute_result"
    }
   ],
   "source": [
    "from IPython.display import YouTubeVideo\n",
    "YouTubeVideo(\"6O1s3_GsSHo\")"
   ]
  },
  {
   "cell_type": "markdown",
   "metadata": {
    "button": false,
    "deletable": true,
    "new_sheet": false,
    "run_control": {
     "read_only": false
    }
   },
   "source": [
    "# Preview Activities\n",
    "\n",
    "__Reminders about Preview Activities:__ \n",
    "\n",
    "+ They are to be done in your notes, then cleaned up, then submitted via the submission form below. \n",
    "+ You should write up your answers in a text editor, then copy-paste into the form so you'll have a record of what you said. \n",
    "+ These are graded Pass/No Pass on the basis of completeness and effort only. Your job is to give a good-faith effort to be right on each item. \n",
    "+ These are due no later than one hour prior to your section's meeting time. \n",
    "\n",
    "### Activities\n",
    "\n",
    "For each of the following statements, suppose we are going to prove them by _strong induction_. Write out: What you would prove in the base case; the _strong induction hypothesis_; and then the _inductive step_ (that is, what you would need to prove once you assume the strong induction hypothesis). _You do not need to give a proof._ You are just \"outlining\" a proof here by stating the base case, strong inductive hypothesis, and inductive step. \n",
    "\n",
    "1. Suppose that $a_n$ is the sequence defined recursively by $a_1 = 1$, $a_2=8$, and $a_n = a_{n-1} + 2a_{n-2}$ for all $n \\geq 3$. Prove that for all positive integers $n$, $a_n = 3 \\cdot 2^{n-1} + 2(-1)^n$. \n",
    "2. Prove that every positive integer $n$ can be represented as a sum of distinct (different) powers of $2$. (A proof here would prove that every positive integer has a _unique_ binary representation.) \n",
    "\n",
    "\n",
    "\n",
    "# Daily Homework\n",
    "\n",
    "__Reminders about Daily Homework:__ \n",
    "\n",
    "+ They are to be worked out in your notes, cleaned up, and then you bring your notes to class where they will be checked for completeness and effort. \n",
    "+ You'll work in groups to correct and annotate your work together, then present solutions at the board. \n",
    "+ These are graded Pass/No Pass on the basis of completeness and effort only. Your job is to give a good-faith effort to be right on each item.\n",
    "\n",
    "\n",
    "Below are several mathematical statements. We will outline and attempt a proof by strong mathematical induction on each one. For each, do the folowing: \n",
    "\n",
    "+ Clearly state and then prove the base case. \n",
    "+ Give a precise statement of the strong inductive hypothesis, including the correct quantifier. \n",
    "+ Give a precise statement of what you would need to prove in the inductive step. \n",
    "+ Attempt a complete and correct proof by strong induction of the statement. Make this legible and neatly written, because we may look at your work in class. \n",
    "\n",
    "\n",
    "1. Suppose that $a_n$ is the sequence defined recursively by $a_1 = 1$, $a_2=8$, and $a_n = a_{n-1} + 2a_{n-2}$ for all $n \\geq 3$. Prove that for all positive integers $n$, $a_n = 3 \\cdot 2^{n-1} + 2(-1)^n$.   (This is the same one as in the Preview Activities, so here you're being asked to actually attempt a proof and not just an outline.) \n",
    "2. Use strong induction to prove that for all natural numbers $n$, $12$ divides $n^4 - n^2$. "
   ]
  },
  {
   "cell_type": "code",
   "execution_count": null,
   "metadata": {
    "button": false,
    "collapsed": true,
    "deletable": true,
    "new_sheet": false,
    "run_control": {
     "read_only": false
    }
   },
   "outputs": [],
   "source": []
  }
 ],
 "metadata": {
  "kernelspec": {
   "display_name": "Python 3",
   "language": "python",
   "name": "python3"
  },
  "language_info": {
   "codemirror_mode": {
    "name": "ipython",
    "version": 3
   },
   "file_extension": ".py",
   "mimetype": "text/x-python",
   "name": "python",
   "nbconvert_exporter": "python",
   "pygments_lexer": "ipython3",
   "version": "3.5.0"
  }
 },
 "nbformat": 4,
 "nbformat_minor": 0
}
