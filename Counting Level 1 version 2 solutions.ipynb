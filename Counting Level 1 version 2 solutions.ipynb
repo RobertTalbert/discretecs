{
 "cells": [
  {
   "cell_type": "markdown",
   "metadata": {
    "button": false,
    "deletable": true,
    "new_sheet": false,
    "run_control": {
     "read_only": false
    }
   },
   "source": [
    "# Couting Level 1 Version 2 solutions\n",
    "\n",
    "## Problem 1\n",
    "\n",
    "Answer is $24$. See the solutions for Counting Level 1 Version 1 for an explanation. \n",
    "\n",
    "## Problem 2\n",
    "\n",
    "### 2(a)\n",
    "\n",
    "Flip the coin 8 times with 2 possible outcomes each time, so $2^8 = 256$ outcomes. \n",
    "\n",
    "### 2(b) \n",
    "\n",
    "We want the number of ways to have heads show up three times chosen out of 8 attempts. That is $\\left( {\\begin{array}{*{20}c} 8 \\\\ 3 \\\\ \\end{array}} \\right)$: "
   ]
  },
  {
   "cell_type": "code",
   "execution_count": 10,
   "metadata": {
    "button": false,
    "collapsed": false,
    "deletable": true,
    "new_sheet": false,
    "run_control": {
     "read_only": false
    }
   },
   "outputs": [
    {
     "data": {
      "text/plain": [
       "56"
      ]
     },
     "execution_count": 10,
     "metadata": {},
     "output_type": "execute_result"
    }
   ],
   "source": [
    "# Define the binomial coefficient in Python to help out\n",
    "from math import factorial\n",
    "\n",
    "def binom(n,k):\n",
    "    return int(factorial(n)/(factorial(n-k) * factorial(k))) \n",
    "    # the \"int\" forces the output into integer format. \n",
    "    # Without it, the result is a floating point decimal. \n",
    "\n",
    "binom(8,3)"
   ]
  },
  {
   "cell_type": "markdown",
   "metadata": {
    "button": false,
    "deletable": true,
    "new_sheet": false,
    "run_control": {
     "read_only": false
    }
   },
   "source": [
    "### 2(c)\n",
    "\n",
    "The easiest way to do this is to take the total number of outcomes (256) and subtract off the number of ways to get _fewer_ than three heads, which is $\\left( {\\begin{array}{*{20}c} 8 \\\\ 0 \\\\ \\end{array}} \\right) + \\left( {\\begin{array}{*{20}c} 8 \\\\ 1 \\\\ \\end{array}} \\right) + \\left( {\\begin{array}{*{20}c} 8 \\\\ 2 \\\\ \\end{array}} \\right)$:"
   ]
  },
  {
   "cell_type": "code",
   "execution_count": 11,
   "metadata": {
    "button": false,
    "collapsed": false,
    "deletable": true,
    "new_sheet": false,
    "run_control": {
     "read_only": false
    }
   },
   "outputs": [
    {
     "data": {
      "text/plain": [
       "219"
      ]
     },
     "execution_count": 11,
     "metadata": {},
     "output_type": "execute_result"
    }
   ],
   "source": [
    "256 - binom(8,0) - binom(8,1) - binom(8,2)"
   ]
  },
  {
   "cell_type": "markdown",
   "metadata": {
    "button": false,
    "deletable": true,
    "new_sheet": false,
    "run_control": {
     "read_only": false
    }
   },
   "source": [
    "### 2(d) \n",
    "\n",
    "This is asking for the number of ways to get 4 heads, which is like part (b), so compute $\\left( {\\begin{array}{*{20}c} 8 \\\\ 4 \\\\ \\end{array}} \\right)$:"
   ]
  },
  {
   "cell_type": "code",
   "execution_count": 12,
   "metadata": {
    "button": false,
    "collapsed": false,
    "deletable": true,
    "new_sheet": false,
    "run_control": {
     "read_only": false
    }
   },
   "outputs": [
    {
     "data": {
      "text/plain": [
       "70"
      ]
     },
     "execution_count": 12,
     "metadata": {},
     "output_type": "execute_result"
    }
   ],
   "source": [
    "binom(8,4)"
   ]
  },
  {
   "cell_type": "markdown",
   "metadata": {
    "button": false,
    "deletable": true,
    "new_sheet": false,
    "run_control": {
     "read_only": false
    }
   },
   "source": [
    "## Problem 3\n",
    "\n",
    "A set with 100 elements has $2^{100}$ subsets. The number of 0-element subsets is 1 (just the empty set). The number of 1-element subsets is 100 (one subset for each element). The number of 2-element subsets is $\\left( {\\begin{array}{*{20}c} 100 \\\\ 2 \\\\ \\end{array}} \\right)$. Therefore the number of subsets with more than two elements is:\n",
    "\n",
    "$$2^{100} - \\left(1 + 100 + \\left( {\\begin{array}{*{20}c} 100 \\\\ 2 \\\\ \\end{array}} \\right) \\right)$$"
   ]
  },
  {
   "cell_type": "code",
   "execution_count": 13,
   "metadata": {
    "button": false,
    "collapsed": false,
    "deletable": true,
    "new_sheet": false,
    "run_control": {
     "read_only": false
    }
   },
   "outputs": [
    {
     "data": {
      "text/plain": [
       "1267650600228229401496703200325"
      ]
     },
     "execution_count": 13,
     "metadata": {},
     "output_type": "execute_result"
    }
   ],
   "source": [
    "2**100 - 1 - 100 - binom(100,2)"
   ]
  },
  {
   "cell_type": "markdown",
   "metadata": {
    "button": false,
    "deletable": true,
    "new_sheet": false,
    "run_control": {
     "read_only": false
    }
   },
   "source": [
    "## Problem 4\n",
    "\n",
    "We just want to find the number of ways to arrange 17 True results among 40 places: \n",
    "\n",
    "$$\\left( {\\begin{array}{*{20}c} 40 \\\\ 17 \\\\ \\end{array}} \\right)$$"
   ]
  },
  {
   "cell_type": "code",
   "execution_count": 14,
   "metadata": {
    "button": false,
    "collapsed": false,
    "deletable": true,
    "new_sheet": false,
    "run_control": {
     "read_only": false
    }
   },
   "outputs": [
    {
     "data": {
      "text/plain": [
       "88732378800"
      ]
     },
     "execution_count": 14,
     "metadata": {},
     "output_type": "execute_result"
    }
   ],
   "source": [
    "binom(40,17)"
   ]
  }
 ],
 "metadata": {
  "kernelspec": {
   "display_name": "Python 3",
   "language": "python",
   "name": "python3"
  },
  "language_info": {
   "codemirror_mode": {
    "name": "ipython",
    "version": 3
   },
   "file_extension": ".py",
   "mimetype": "text/x-python",
   "name": "python",
   "nbconvert_exporter": "python",
   "pygments_lexer": "ipython3",
   "version": "3.5.0"
  }
 },
 "nbformat": 4,
 "nbformat_minor": 0
}
