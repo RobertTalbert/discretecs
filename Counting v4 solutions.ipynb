{
 "cells": [
  {
   "cell_type": "markdown",
   "metadata": {},
   "source": [
    "# Counting version 4 solutions\n",
    "\n",
    "## Level 1\n",
    "\n",
    "### Problem 1\n",
    "\n",
    "The number of outfits that can be made is $3 \\times 2 \\times 3 = 18$ since the outfits are formed by sequentially choosing the shirt, then the belts, then the pants. \n",
    "\n",
    "### Problem 2\n",
    "\n",
    "#### Part a\n",
    "\n",
    "The first three spots are a free choice from 26 letters. The next three spots are a free choice from 10 digits. Therefore the number of license plates that can be made is"
   ]
  },
  {
   "cell_type": "code",
   "execution_count": 1,
   "metadata": {
    "collapsed": false
   },
   "outputs": [
    {
     "data": {
      "text/plain": [
       "17576000"
      ]
     },
     "execution_count": 1,
     "metadata": {},
     "output_type": "execute_result"
    }
   ],
   "source": [
    "26**3 * 10**3"
   ]
  },
  {
   "cell_type": "markdown",
   "metadata": {},
   "source": [
    "#### Part b\n",
    "\n",
    "In this case there are 26 choices for the first letter, 25 for the second, and 24 for the fourth, then a free choice of 10 digits. So that's"
   ]
  },
  {
   "cell_type": "code",
   "execution_count": 2,
   "metadata": {
    "collapsed": false
   },
   "outputs": [
    {
     "data": {
      "text/plain": [
       "15600000"
      ]
     },
     "execution_count": 2,
     "metadata": {},
     "output_type": "execute_result"
    }
   ],
   "source": [
    "26*25*24 * 10**3"
   ]
  },
  {
   "cell_type": "markdown",
   "metadata": {},
   "source": [
    "#### Part c\n",
    "\n",
    "In this case there is a free choice of 26 letters for the first three slots, then 10 for the first digit, 9 for the second, and then 8 for the third, so that's"
   ]
  },
  {
   "cell_type": "code",
   "execution_count": 3,
   "metadata": {
    "collapsed": false
   },
   "outputs": [
    {
     "data": {
      "text/plain": [
       "12654720"
      ]
     },
     "execution_count": 3,
     "metadata": {},
     "output_type": "execute_result"
    }
   ],
   "source": [
    "26**3 * 10*9*8"
   ]
  },
  {
   "cell_type": "markdown",
   "metadata": {},
   "source": [
    "### Problem 3\n",
    "\n",
    "We are simply choosing 5 places among the 12 possible to stick a 1. So that's 12 choose 5:"
   ]
  },
  {
   "cell_type": "code",
   "execution_count": 4,
   "metadata": {
    "collapsed": false
   },
   "outputs": [
    {
     "data": {
      "text/plain": [
       "792"
      ]
     },
     "execution_count": 4,
     "metadata": {},
     "output_type": "execute_result"
    }
   ],
   "source": [
    "binomial(12,5)"
   ]
  },
  {
   "cell_type": "markdown",
   "metadata": {},
   "source": [
    "## Level 2\n",
    "\n",
    "### Problem 1\n",
    "\n",
    "### Part a\n",
    "\n",
    "In this case it's easiest to first count the number of strings that _don't_ have an \"a\" in them. Then the number of strings that _do_ have an \"a\" will be the total number of strings possible, minus this amount. \n",
    "\n",
    "The number of strings with no \"a\" at all is $25^6$ since we are allowed a free choice for each of the six positions from among all the letters of the alphabet except \"a\". \n",
    "\n",
    "There are $26^6$ strings in all that we can make. So the number of strings with no \"a\" is $26^6 - 25^6$:"
   ]
  },
  {
   "cell_type": "code",
   "execution_count": 5,
   "metadata": {
    "collapsed": false
   },
   "outputs": [
    {
     "data": {
      "text/plain": [
       "64775151"
      ]
     },
     "execution_count": 5,
     "metadata": {},
     "output_type": "execute_result"
    }
   ],
   "source": [
    "26**6 - 25**6"
   ]
  },
  {
   "cell_type": "markdown",
   "metadata": {},
   "source": [
    "### Part b\n",
    "\n",
    "The strategy is similar to part a: First let's count the number of strings that do _not_ have both \"a\" and \"b\", then subtract that amount from $26^6$. \n",
    "\n",
    "If a string does not have both \"a\" and \"b\", logically it means that either it is missing an \"a\" _or_ it is missing a \"b\", or possibly both. A little set theory will help navigate how to set up the calculations to count this set. Let $A$ be the set of all strings in this collection that do not have an \"a\", and $B$ the set of strings missing a \"b\". We are trying to count the size of $A \\cup B$. We learned earlier in the semester that \n",
    "\n",
    "$$|A \\cup B| = |A| + |B| - |A \\cap B|$$\n",
    "\n",
    "So we need to count the number of strings missing \"a\", then the number of strings missing \"b\", then the number of strings missing both \"a\" and \"b\". \n",
    "\n",
    "1. The number of strings without \"a\" is $25^6$, which we calculated in part (a) of this problem. \n",
    "2. The number of strings without \"b\" is also $25^6$ using the same reasoning as in part (a) for the strings missing \"a\". \n",
    "3. The number of strings without \"a\" and without \"b\" would be $24^6$, since those strings are formed by a free choice of six positions from 24 letters (everything but \"a\" and \"b\"). \n",
    "\n",
    "Therefore the number of strings that do not have both \"a\" and \"b\" is: \n",
    "$$25^6 + 25^6 - 24^6 = 2 \\cdot 25^6 - 24^6$$\n",
    "\n",
    "Finally -- the number of strings that _do_ have both \"a\" and \"b\" is the complement of this number, which is"
   ]
  },
  {
   "cell_type": "code",
   "execution_count": 7,
   "metadata": {
    "collapsed": false
   },
   "outputs": [
    {
     "data": {
      "text/plain": [
       "11737502"
      ]
     },
     "execution_count": 7,
     "metadata": {},
     "output_type": "execute_result"
    }
   ],
   "source": [
    "26**6 - (2 * 25**6 - 24**6)"
   ]
  },
  {
   "cell_type": "markdown",
   "metadata": {},
   "source": [
    "#### Part c\n",
    "\n",
    "The \"ab\" must appear as a block. So we can think of the strings we are counting as having not six but five positions, one of which must be filled by \"ab\" and the others filled by non-repeating letters (that are not \"a\" or \"b\"). \n",
    "\n",
    "There are five different places we can position the \"ab\" block in such a string. And of the remaining four positions, there are 24 choices for the first spot, 23 for the second, 22 for the third, and 21 for the fourth. (This is because the letters cannot repeat; so we have only 24 choices (\"a\" and \"b\" are already selected) then 23, then 22, then 21.) That gives a total of"
   ]
  },
  {
   "cell_type": "code",
   "execution_count": 8,
   "metadata": {
    "collapsed": false
   },
   "outputs": [
    {
     "data": {
      "text/plain": [
       "1275120"
      ]
     },
     "execution_count": 8,
     "metadata": {},
     "output_type": "execute_result"
    }
   ],
   "source": [
    "5*24*23*22*21"
   ]
  },
  {
   "cell_type": "markdown",
   "metadata": {},
   "source": [
    "### Problem 2\n",
    "\n",
    "Let $C(n,k)$ be the binomial coefficient (it's easier to type this way). The number of 8-element subsets is $C(10,8)$. The number of 9-element subsets is $C(10,9)$. The number of 10-element subsets is $C(10,10)$. The number of subsets of at least 8 elements is the number of subsets having 8 _or_ 9 _or_ 10 elements: "
   ]
  },
  {
   "cell_type": "code",
   "execution_count": 9,
   "metadata": {
    "collapsed": false
   },
   "outputs": [
    {
     "data": {
      "text/plain": [
       "56"
      ]
     },
     "execution_count": 9,
     "metadata": {},
     "output_type": "execute_result"
    }
   ],
   "source": [
    "binomial(10,8) + binomial(10,9) + binomial(10,10)"
   ]
  },
  {
   "cell_type": "markdown",
   "metadata": {},
   "source": [
    "### Problem 3\n",
    "\n",
    "The Binomial Theorem states that this coefficient will be $C(25,20)$ (focus on the exponent attached to $y$): "
   ]
  },
  {
   "cell_type": "code",
   "execution_count": 10,
   "metadata": {
    "collapsed": false
   },
   "outputs": [
    {
     "data": {
      "text/plain": [
       "53130"
      ]
     },
     "execution_count": 10,
     "metadata": {},
     "output_type": "execute_result"
    }
   ],
   "source": [
    "binomial(25,20)"
   ]
  }
 ],
 "metadata": {
  "kernelspec": {
   "display_name": "Sage 6.9",
   "language": "",
   "name": "sage_6_9"
  },
  "language_info": {
   "codemirror_mode": {
    "name": "ipython",
    "version": 2
   },
   "file_extension": ".py",
   "mimetype": "text/x-python",
   "name": "python",
   "nbconvert_exporter": "python",
   "pygments_lexer": "ipython2",
   "version": "2.7.9"
  }
 },
 "nbformat": 4,
 "nbformat_minor": 0
}
