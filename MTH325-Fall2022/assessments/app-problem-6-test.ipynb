{
 "cells": [
  {
   "cell_type": "code",
   "execution_count": 17,
   "metadata": {},
   "outputs": [],
   "source": [
    "# Poset tests\n",
    "\n",
    "p1 = [(0,1), (1,2), (0,2), (0,3)]\n",
    "p2 = [(\"a\", \"c\"), (\"b\", \"c\"), (\"c\", \"d\"), (\"c\", \"e\"), (\"a\", \"d\"), (\"a\", \"e\"), (\"b\", \"e\"), (\"b\", \"d\"), (\"a\", \"a\"), (\"b\",\"b\"), (\"c\", \"c\"), (\"d\", \"d\"), (\"e\", \"e\")]\n",
    "p3 = [(a,b) for a in range(1,21) for b in range(1,21) if b % a == 0]\n",
    "p4 = [(a,b) for a in range(2,21) for b in range(2,21) if b % a == 0]\n",
    "p5 = [(a,b) for a in range(2, 9) for b in range(2,9) if b % a == 0]\n",
    "\n",
    "poset_list = [p1, p2, p3, p4, p5]"
   ]
  },
  {
   "cell_type": "code",
   "execution_count": 40,
   "metadata": {},
   "outputs": [],
   "source": [
    "# Instructor solution code \n",
    "\n",
    "def rt_maximal_elements(edge_list):\n",
    "    base_set = list(set([e[0] for e in edge_list] + [e[1] for e in edge_list]))\n",
    "    trimmed_edge_list = [e for e in edge_list if e[0] != e[1]]\n",
    "    first_coordinate = list(set([e[0] for e in trimmed_edge_list]))\n",
    "    second_coordinate = list(set([e[1] for e in trimmed_edge_list]))\n",
    "    isolated = [x for x in base_set if x not in first_coordinate and x not in second_coordinate]\n",
    "    return [x for x in second_coordinate if x not in first_coordinate] + isolated \n",
    "\n",
    "  # Append isolated nodes \n",
    "\n",
    "def rt_greatest_element(edge_list):\n",
    "  maxes = rt_maximal_elements(edge_list)\n",
    "  if len(maxes) == 1: \n",
    "    return maxes\n",
    "  else: \n",
    "    return [ ] "
   ]
  },
  {
   "cell_type": "code",
   "execution_count": 56,
   "metadata": {},
   "outputs": [],
   "source": [
    "# Student code \n",
    "def maximal_element(r):\n",
    "  max = [];\n",
    "  for x in r:\n",
    "    if x[1] not in max: \n",
    "      max.append(x[1])\n",
    "  for y in r:\n",
    "      if y[0] in max and y[0]!=y[1]:\n",
    "        max.remove(y[0])\n",
    "  return max; \n",
    "\n",
    "def greatest_element(r):\n",
    "  if len(maximal_element(r)) != 1:\n",
    "    return [];\n",
    "  else: return maximal_element(r); "
   ]
  },
  {
   "cell_type": "code",
   "execution_count": 57,
   "metadata": {},
   "outputs": [
    {
     "name": "stdout",
     "output_type": "stream",
     "text": [
      "FAIL maximal\n",
      "[(0, 1), (1, 2), (0, 2), (0, 3)]\n",
      "PASS greatest\n",
      "------------------\n",
      "PASS maximal\n",
      "PASS greatest\n",
      "------------------\n",
      "FAIL maximal\n",
      "[(1, 2), (1, 3), (1, 4), (1, 5), (1, 6), (1, 7), (1, 8), (1, 9), (1, 10), (1, 11), (1, 12), (1, 13), (1, 14), (1, 15), (1, 16), (1, 17), (1, 18), (1, 19), (1, 20), (2, 4), (2, 6), (2, 8), (2, 10), (2, 12), (2, 14), (2, 16), (2, 18), (2, 20), (3, 6), (3, 9), (3, 12), (3, 15), (3, 18), (4, 8), (4, 12), (4, 16), (4, 20), (5, 10), (5, 15), (5, 20), (6, 12), (6, 18), (7, 14), (8, 16), (9, 18), (10, 20)]\n",
      "PASS greatest\n",
      "------------------\n",
      "FAIL maximal\n",
      "[(2, 4), (2, 6), (2, 8), (2, 10), (2, 12), (2, 14), (2, 16), (2, 18), (2, 20), (3, 6), (3, 9), (3, 12), (3, 15), (3, 18), (4, 8), (4, 12), (4, 16), (4, 20), (5, 10), (5, 15), (5, 20), (6, 12), (6, 18), (7, 14), (8, 16), (9, 18), (10, 20)]\n",
      "PASS greatest\n",
      "------------------\n",
      "PASS maximal\n",
      "PASS greatest\n",
      "------------------\n"
     ]
    }
   ],
   "source": [
    "# Testing\n",
    "\n",
    "\n",
    "for poset in poset_list: \n",
    "    if rt_maximal_elements(poset) == maximal_elements(poset): \n",
    "      print(\"PASS maximal\")\n",
    "    else: \n",
    "      print(\"FAIL maximal\")\n",
    "      print(poset)\n",
    "    if rt_greatest_element(poset) == greatest_element(poset): \n",
    "      print(\"PASS greatest\")\n",
    "    else: \n",
    "      print(\"FAIL greatest\")\n",
    "      print(poset)\n",
    "    print(\"------------------\")"
   ]
  },
  {
   "cell_type": "code",
   "execution_count": 58,
   "metadata": {},
   "outputs": [
    {
     "name": "stdout",
     "output_type": "stream",
     "text": [
      "[2, 3]\n",
      "[3, 2]\n",
      "=======\n",
      "['e', 'd']\n",
      "['e', 'd']\n",
      "=======\n",
      "[11, 12, 13, 14, 15, 16, 17, 18, 19, 20]\n",
      "[20, 19, 18, 17, 16, 15, 14, 13, 12, 11]\n",
      "=======\n",
      "[12, 14, 15, 16, 18, 20]\n",
      "[15, 20, 18, 16, 14, 12]\n",
      "=======\n",
      "[8, 6]\n",
      "[8, 6]\n",
      "=======\n",
      "[]\n",
      "[]\n",
      "=======\n",
      "[]\n",
      "[]\n",
      "=======\n",
      "[]\n",
      "[]\n",
      "=======\n",
      "[]\n",
      "[]\n",
      "=======\n",
      "[]\n",
      "[]\n",
      "=======\n"
     ]
    }
   ],
   "source": [
    "# Individual testing \n",
    "\n",
    "for poset in poset_list:\n",
    "    print(rt_maximal_elements(poset))\n",
    "    print(maximal_elements(poset))\n",
    "    print(\"=======\")\n",
    "\n",
    "for poset in poset_list:\n",
    "    print(rt_greatest_element(poset))\n",
    "    print(greatest_element(poset))\n",
    "    print(\"=======\")"
   ]
  },
  {
   "cell_type": "code",
   "execution_count": 53,
   "metadata": {},
   "outputs": [
    {
     "data": {
      "text/plain": [
       "[]"
      ]
     },
     "execution_count": 53,
     "metadata": {},
     "output_type": "execute_result"
    }
   ],
   "source": [
    "maximal_elements([(2, 2), (2, 4), (2, 6), (2, 8), (3, 3), (3, 6), \n",
    "(4, 4), (4, 8), (5, 5), (6, 6), (7, 7), (8, 8)])"
   ]
  }
 ],
 "metadata": {
  "kernelspec": {
   "display_name": "base",
   "language": "python",
   "name": "python3"
  },
  "language_info": {
   "codemirror_mode": {
    "name": "ipython",
    "version": 3
   },
   "file_extension": ".py",
   "mimetype": "text/x-python",
   "name": "python",
   "nbconvert_exporter": "python",
   "pygments_lexer": "ipython3",
   "version": "3.9.12"
  },
  "orig_nbformat": 4,
  "vscode": {
   "interpreter": {
    "hash": "8e6e3e7c53fd6a28a81294ef3dd447ed88fcf7b735529e54a575198fef2dd40d"
   }
  }
 },
 "nbformat": 4,
 "nbformat_minor": 2
}
