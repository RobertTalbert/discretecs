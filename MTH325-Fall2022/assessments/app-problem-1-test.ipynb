{
 "cells": [
  {
   "cell_type": "code",
   "execution_count": 1,
   "metadata": {},
   "outputs": [],
   "source": [
    "import networkx as nx"
   ]
  },
  {
   "cell_type": "code",
   "execution_count": 5,
   "metadata": {},
   "outputs": [],
   "source": [
    "# Student code\n",
    "def is_bipartite(inputdict):\n",
    "    color_a_list = []\n",
    "    color_b_list = []\n",
    "    key_list = []\n",
    "    all_colored_list = []\n",
    "    all_items_list = []\n",
    "\n",
    "    for key in inputdict:\n",
    "        key_list.append(key)\n",
    "        all_items_list.append(key)\n",
    "\n",
    "    for key in inputdict:\n",
    "        for item in inputdict[key]:\n",
    "          if item not in all_items_list:\n",
    "            all_items_list.append(item)\n",
    "    \n",
    "    all_items_list.sort()\n",
    "    color_a_list.append(key_list[0])\n",
    "    all_colored_list.append(key_list[0])\n",
    "\n",
    "    for item in inputdict[key_list[0]]:\n",
    "        color_b_list.append(item)\n",
    "        all_colored_list.append(item)\n",
    "    \n",
    "    update_happened = True\n",
    "\n",
    "    while all_colored_list != all_items_list:\n",
    "      if not update_happened:\n",
    "          # If somehow no vertices left in inputdict are adjacent to any vertices already checked,\n",
    "          # which occurs in cases where the original input graph is essentially a union of two or more graphs with no\n",
    "          # connections to each other at all, there will eventually be no updates made to the graph on some loop\n",
    "          # iteration. Then on the next iteration this executes to prevent an infinite loop\n",
    "          index = 0\n",
    "          while key_list[index] in all_colored_list: \n",
    "            index += 1\n",
    "          else:\n",
    "            for item in inputdict[key_list[index]]:\n",
    "              if item in color_a_list and key_list[index] not in color_b_list:\n",
    "                color_b_list.append(key_list[index])\n",
    "                all_colored_list.append(key_list[index])\n",
    "            if key_list[index] not in color_b_list:\n",
    "              color_a_list.append(key_list[index])\n",
    "              all_colored_list.append(key_list[index])\n",
    "\n",
    "      update_happened = False\n",
    "\n",
    "      for i in color_a_list:\n",
    "        if i in inputdict.keys():\n",
    "          for x in inputdict[i]:\n",
    "            if x in color_a_list:\n",
    "              return False\n",
    "            elif x not in color_b_list:\n",
    "              color_b_list.append(x)\n",
    "              all_colored_list.append(x)\n",
    "              update_happened = True\n",
    "        \n",
    "      for i in color_b_list:\n",
    "        if i in inputdict.keys():\n",
    "          for x in inputdict[i]:\n",
    "            if x in color_b_list:\n",
    "              return False\n",
    "            elif x not in color_a_list:\n",
    "              color_a_list.append(x)\n",
    "              all_colored_list.append(x)\n",
    "              update_happened = True\n",
    "      \n",
    "      all_colored_list.sort()\n",
    "    \n",
    "    else: #to the while loop\n",
    "      for i in color_a_list:\n",
    "        if i in inputdict.keys():\n",
    "          for x in inputdict[i]:\n",
    "            if x in color_a_list:\n",
    "              return False\n",
    "\n",
    "      for i in color_b_list:\n",
    "        if i in inputdict.keys():\n",
    "          for x in inputdict[i]:\n",
    "            if x in color_b_list:\n",
    "              return False\n",
    "\n",
    "\n",
    "    return True\n"
   ]
  },
  {
   "cell_type": "code",
   "execution_count": 6,
   "metadata": {},
   "outputs": [
    {
     "name": "stdout",
     "output_type": "stream",
     "text": [
      "Pass\n",
      "-----\n",
      "Pass\n",
      "-----\n",
      "Pass\n",
      "-----\n",
      "Pass\n",
      "-----\n",
      "Pass\n",
      "-----\n",
      "Pass\n",
      "-----\n",
      "Pass\n",
      "-----\n",
      "Pass\n",
      "-----\n",
      "Pass\n",
      "-----\n",
      "Pass\n",
      "-----\n"
     ]
    }
   ],
   "source": [
    "# Testing\n",
    "\n",
    "# First with random graphs\n",
    "\n",
    "for i in range(10):\n",
    "    test = nx.gnp_random_graph(10,0.5)\n",
    "    test_dict = nx.to_dict_of_lists(test)\n",
    "    if is_bipartite(test_dict) == nx.is_bipartite(test): \n",
    "        print(\"Pass\")\n",
    "    else:\n",
    "        print(\"Fail\")\n",
    "        print(test_dict)\n",
    "    print(\"-----\")"
   ]
  },
  {
   "cell_type": "code",
   "execution_count": 8,
   "metadata": {},
   "outputs": [
    {
     "name": "stdout",
     "output_type": "stream",
     "text": [
      "True\n",
      "True\n"
     ]
    }
   ],
   "source": [
    "# Test specifically on bipartite graphs \n",
    "\n",
    "k33 = nx.complete_bipartite_graph(3,3)\n",
    "k57 = nx.complete_bipartite_graph(5,7)\n",
    "\n",
    "print(is_bipartite(nx.to_dict_of_lists(k33)))\n",
    "print(is_bipartite(nx.to_dict_of_lists(k57)))\n",
    "\n",
    "\n",
    "# g = nx.gnp_random_graph(10,.5)\n",
    "# while not nx.is_bipartite(g):\n",
    "#     g = nx.gnp_random_graph(10,.5)\n",
    "\n",
    "# test = nx.to_dict_of_lists(g)\n",
    "# print(test)\n",
    "# print(is_bipartite(test))"
   ]
  }
 ],
 "metadata": {
  "kernelspec": {
   "display_name": "base",
   "language": "python",
   "name": "python3"
  },
  "language_info": {
   "codemirror_mode": {
    "name": "ipython",
    "version": 3
   },
   "file_extension": ".py",
   "mimetype": "text/x-python",
   "name": "python",
   "nbconvert_exporter": "python",
   "pygments_lexer": "ipython3",
   "version": "3.9.12"
  },
  "orig_nbformat": 4,
  "vscode": {
   "interpreter": {
    "hash": "8e6e3e7c53fd6a28a81294ef3dd447ed88fcf7b735529e54a575198fef2dd40d"
   }
  }
 },
 "nbformat": 4,
 "nbformat_minor": 2
}
