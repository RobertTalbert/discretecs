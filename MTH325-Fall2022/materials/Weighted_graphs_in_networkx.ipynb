{
 "cells": [
  {
   "cell_type": "markdown",
   "metadata": {
    "id": "qGPKb0SaPfDb",
    "slideshow": {
     "slide_type": "slide"
    }
   },
   "source": [
    "# Weighted graphs in `networkX`\n",
    "\n"
   ]
  },
  {
   "cell_type": "code",
   "execution_count": null,
   "metadata": {
    "id": "by9WuRZYPmGI",
    "slideshow": {
     "slide_type": "slide"
    }
   },
   "outputs": [],
   "source": [
    "# First import packages\n",
    "\n",
    "import networkx as nx\n",
    "import matplotlib.pyplot as plt"
   ]
  },
  {
   "cell_type": "markdown",
   "metadata": {
    "id": "OvsNHz64P4gN",
    "slideshow": {
     "slide_type": "slide"
    }
   },
   "source": [
    "The easiest way to create a weighted graph in `networkX`: \n",
    "\n",
    "- Create an empty graph\n",
    "- Then add edges *with an extra parameter for weight*. \n",
    "\n",
    "For example let's recreate this graph: \n",
    "\n",
    "![pasted image 0.png](data:image/png;base64,iVBORw0KGgoAAAANSUhEUgAAAbcAAAD+CAYAAAC5t0v7AAAgAElEQVR4Ae2dC7LkKA5Fa/+rnJ28CYpWGfOwzUeAgJMRGdgYgzhX4lZW90z/+d/Pzw9fGJAD5AA5QA7slAN/fvhAAAIQgAAENiOAuW0mKNuBAAQgAIGfH8yNLIAABCAAge0IYG7bScqGIAABCEAAcyMHIAABCEBgOwKY23aSsiEIQAACEMDcyAEIQAACENiOAOa2naRsCAIQgAAEMDdyAAIQgAAEtiOAuW0nKRuCAAQgAAHMjRywR+DPn58f+dqLjoggAIEFCGBuC4h0TIhiaHF7DAA2CgEIaBHA3LRIMk8bATE0mUXupZV+WghAAAIZBDC3DEgMmURAjM21fCAAAQgUEODUKIDF0MEEMLfBwFkOAvsQwNyMa/nnz5+f1Nd42O3hYWztDJkBAgcTwNyMiR8bmf8PNziZ7t/f44xtpDYcTK2WHO9BAAIBAcwtgDHzUswqNrHc++v9mbtoXDs0NrlunHK110XHr3a1fREvBEYTwNxGE0+s5w6yXBP7GufnSiyyUpcYm7QrxV4Ra2hkX/rK8/s7FYvyCgQ2J4C5TRRYDig5sLTaa96Jm2tdWoztr/G3Tmb3fadVq+5+Drt7zIpM9M4azCAIfBPA3L4ZdRmhcah9HYpLH3py2G1qbk4bzRy45uuSrn0n3VzrvvCY/YkA5vZEpmO/5qG2rcFtfOD11N/P3TF5tafeWGdtVMxXRgBzK+OlMrrn4RabnfnDTg63mOxTfzxusfsR2pvXXDQTjaWVfloIKBDA3BQglkwx4nBbxuDkUHNt+JH+sG+D65Hamzc40Vy0lvsNdGYLNghEp4qNoHaNYuThtqTByUG3YQLM0N6swYU6yzXmtmHWz90S5jaQ/4wDTkzO7EE3kP/MpWq1l7NfdCxpTWp+bej6zxphbDNTc9u1MbdB0tYebuFhJueCtOGznGuTh90g/jOXqdFeNJY2R9/UGFOaX5vxcsi9a/lAQJkAWaUM9Gm6mgMuPKzkHHB9cu3PBCdh3tfUQfcEarP+Ut1DbcPrXI1T40zoLpsJ9ZU+1/KBgDIBskoZ6NN0pYdcfEjJOSD98b30v7UmDrknQJv2t+guGvuzP+8PMCn9p+suG4k1ln6/wfgp9xBoIoC5NeHLf1n7kLufC/kH3/SDLh/ZFiO1dU+Z11ffdM3DZH273kJxNmGFAOY2QImWA84dXOF5IAdZqk+evbXTD7oBvC0t0aJ9rcax/tM1DzfydG1JNGLZggDmNkDGlgPOHVTheSAHV6pPnr210w+6AbytLNFD9zdt356Z0/2ewFYkI46NCGBuA8Tsccjdzwb+WnKAjMVL9ND9zcDenpkyt3vyFnNd4QXHO/yuEPNuMWJuAxTtccjdzwfMbYCMxUv00P3NwN6e+ViKt9DnhXvy9llj4Kyhicl1rIX0h+3AEI9cCnMbILtL6DjZS+7vZ4GfK9X3NWdYWFzf/2Q9gseXPvHzGo3jOeQ+3N+AlD9iCWEqjEtb9z6ffgSg24/tv5l9EtcbXOqQS/XlFBcF9U+W7hc9dM/RODUm1N1dp77dgWy0QKu2opHosBEaM1vB3AZI0VoIKSNL9UnBvLU+lgGbZonm/15brcYp/XN0l4M2bJHxTkDYpBi39OXoc4+Euy8CmNsXIaXnPnnbf71JAcnBJ/c5LQWkJGbmNFqaO61z9H0bU6u9ey/1zUSw1bBWPd/0cc+E81bQJm4GcxsEv7UwYjOL778KR4pn0HZZ5j8CpbqLrk9tjs6pMT4OPVnkII5bvRVszVSqY0qD3D5trWyRHBcN5jaItUZxxAdebrHIOIpmkNjBMhq6i3617Ujd3VrxN8Cx7OVIHUfqtawgGYFjbhmQNIaMLI6nQ5Ci0VCybA50d/9lm9+Gt1IuztBwJT5lFTFuNOY2jvXfIn8ynt79FMtAoYOlZhyMcS5Z1d7FlfoG+KZfztTPqm7TRckMAHPLBKU1bEaxUCRa6tXNM0NzMbgVtXcxx9868u1voV07w1kzYG6Dyc8oFr/m4I2y3D8CMzRf2dz+gQsuHMPUNxiifjlTt930UxcnY0LMLQOS1hBfLP6fQUjy9m5lTa09ME8dgRkH5Qnauz2mvnUq3d+aoVl8Hpyg4Z263h3mpsfydaY4SUcUTrzma4A87E5ghOZyOJ6uvdt//C0VeKReolvcnq5jqWbheMwtpNHxOpWkPYsntV7H7TF1BoGeenMofgvg+Ke+qTdHahVrF977OFIR0vdFAHP7IqTw/C1BpdjChG65vuZTCJwpOhBwJdf3+5ZvHTa0/JRSM3HbW6fc+dGzLsUwtzpu2W/lJqYf13bo5a6VHTwDuxBwOmnoHR+O17xdwj5q0hZ94v+zhfg+1u3r3sdyFH6VzWJuKhjTk5Qm5XU4lZnc9V46DnptEvD5Uab100FYmms2idiJqkWb2Mzi+ycNn/rRti4vMLc6bp9vtSSkezf+SuLH/S3rfG6CAd0JiJ6ib2l7vd891KMW8HVV/geP2MhS9zUaHwVfabOYmxLIcJoehsMhFhLe71r0lfbpAJTn0u5HwsaOHN8nDd76/76W+GeqYnJv7z4987HY4LJSFJhbB7V6JGOPOTtsnSmVCDi9U1+l6Znmg4CvtzqDS5kU5vYBvMNjzE0Zai8T6jWv8vaZDgJbEMDc1pcRc1PUsKcB9ZxbEQFTQWAbAloGx6+2OSmBuSlx720+vedXwsA0ENiGAOa2tpSYm4J+I4xnxBoKKJgCAtsQwNzWlhJzU9BvlPGMWkcBCVNAYHkCGubW8leS7l9Moebr0whzq2f3982RyTdyrUYsvA6BLQi0GlyLuVHvbSmEuTXwG518o9drQMOrENiGQK3BYWxzUwBzq+Q/w2hmrFmJh9cgsA0BzG1NKTG3Ct1mmcysdSsQ8QoEtiJQa3Cp/0H3Vx91rpM6mFsFx5nJN3PtClS8AoFtCIwwOOpbL10wt0KWs5Nv9vqFuBgOgW0IuNrz9eeOTf0vta2bKphbAU8LyWchhgJkDIXAdgS0Dc7NR13rpwnmlsnUSvJZiSMTG8MgsCWBy5DafsFRz/3SA3PLYGspAS3FkoGOIRBYnsBlZL+3cj0rM7nrvd9z0qNDAHP74GjRTCzG9IGRxxBYkkBurYlZha38c7mwT66XhLFY0Jjbh2AuGa19LMZkjRHxQKCFgIYJaczRsofT37V3chtSxKqJWI3LkHSEAoFqAtRXNTpTL+5nbtf/500TaMsJbjm2Jui8DIGJBFxdUVsTBVBeei9zE2Nr/KtE6wluPT7lHGU6CHQnQE11Rzx8gX3M7RBjkwyhGIUELQTqCbg6opbq+Vl+cw9zC41t819tkkxVBanISeKghcCqBKpqaNXNHhj3+uYmZhYe3JVCrpTsxbGGfMLrSla8BoFVCbjaKa6fVTd7cNxrm5sc0k5AuXZtxWe1ZC+KN2YSsoqfVbDjFQisQqCoblbZFHEmCdQ5QXKqwZ1yQLtl5bryoF4x4bNjfmLSyGyw2iwHgSYCrl6ya6ZpJV62QmBNc5ODWSjK/dNBLuMS7coJ3xR7A7MERrogYJZAU52Y3RWBfRFYz9zkUA53Jn2YW0jl/bqB2fvEPD2KQJhHFfXXk5UzNYytJ2Hbc69lblJIMVPpLyyu1RO/Ov5KXjF27g8nEOZReG0AS3VtGIidEHQIrGluYSGlrjPY7JD81XsQZhmcGAKBJAGXQ+FHckra8NnAa1cT1XUxME6W6k8gytD+CzatIIXz1mYssEvyV+1D2GVwYggEkgRcDqU+kltPz1PvKPZV1YPi+kxli8BDltoK8jWawoLarQCK9iOsXoHyEAKVBCS/Bpubq4GiOqjcHq+tRWBtcyssph0LIHtPwmqt/CTalQhIjg00t+z8X4kjsaoQwNxUMM6bJKu45dCJwxx4CMVLc78ZAcmxQTnl8j4r9zfDzHbyCaxtbvn73LYQPgtcDp2Y1aBDKF6W+00JPOVZh+1+5nyHNZlyPQJHmNvOxfC6Nzlwntr18pWILRKQ/Oocm8v113zvvD7Tr0Vge3M7oRge9yiHzlO7Vq4SrUUCkludY3vM8c7rMv26BLY2t1MK4pR9rltmm0Y+wNhcbpPfm+ZP521hbp0Bj5ie4h9BmTVuBJ6MzfUrfchrJZCHTqOXicYAnlQYJ+3VWJqdGU5nY3P5TE6fmVqau97S3E4rjNP2q1kAzFVIQIztqS2cLh5OLsdEuK8lsJ25nVocp+67NvF5r5LAk6lJf/W0/FqrRMdrDwS2MreTD/iT9/6Q23QvQoDcXUSoxcLE3BYT7ClcDognMvRbJeBylry1qs76cW1jbqcXyen7X78Uz9oB+bqm3k638Gt5F1uYG4Xyw5+ALVcZsf0jIAfjvw4uzBIQrcL258dZxvUNn8m1lQ0tb24OKB9PABZkgmUC5Kdlda7YLpO6TCw0tK9rKzov7QxWIF5pMfcKHnP5s3qawHVYpp/Ta4eAP0PqTC00PQuaL2tuHOS/CwImv5nQM5cAOTmXf+7qlxm1G1tscrkxaI/D3LSJTpyPg2QifJa+EbgOy1s3NwYJ+HND19Rig5txNi1pbjNAGczJXyHB5RcSOiYQIA8nQK9c0mvVz9hik6sMs+q15cyNwnnXGT7vfHjaj4DLPfKvH98eM3u9MLcebIvmpHC+ccHomxEj9AmQd/pMe8840tjkF9zIPFnml9tIKL2Tquf8cOpJl7ljAi7fyLmYiv17r9mYX2xibNKOyhfMzX4eFkU4KnGKgmLwlgTItXVlxdyMaEcR5QsBq3xWjKwj4HKMPKtjZ+Etr53er7brPwiRP+eI/DH/y20EBAsJpxkDzDRpMldIgNwKaax57TXMNyL568S4rTE1mWNEHpk2txEA1kzP96jh9s6Hp+UEXE6RV+XcLL7hdaw3NzE1//98WDfPiFxqMjdJ+K+2RuARm6+Ja4V3YLeCSuvESD6to9VXpF7LOkNyv7o0jM3P02Q9X9v8+7x4BQdHvvIT86uV8R5sVlz8KTEPU3JUCefkBHRCwP1/v/Nrbbs88GfDfHMbYXBF5tYKJndDHM5tNQW/Nn4W33aapr69YiWHepGdO6/Xtc7ctH61yY+h3jmWZW5SVBJUa3vN91vo3hv+veKePcdxlMrbRE6pEWmfak6eS9u6fa15WuPg/T4EnL5PufTVLyWWar/eTT33sfTZp5v109xaYKQ2FPbFm4vv+217/5mPYRlW2gayOt28dnWH0PV+OYxjcqYczTZvtOWW+6tq/5VzXO5dK325be98ezW3FhClG+y90W2yM3Mj2/O8V1UmFdvDNOutRH83tmS8bYpE90agJcfuJef/8JXqKz373+JtefZobi0Qcjcn4yisFgnT727N9F5RaQAL9TqtetTbNe8zjK3z5Hnbxz5pybN72S1qbi0AxLBKW4pMr94cy6ev3iqTZrpX2KQgNJf1h0RpvZSMT9WW5IfmTpjLPgGfC3U5dy89zC3772FTBWg/VWxEKAeVtHLwpRJZxkhrYweZUdyrK/Mlu8NS+oh22q1fy7MIr+3SIbJeBGrz7l5+beY2IgddhLdP7cY1inHEhm+b3eDmTa+3Z6LXUszD6gqvF9UxRx/RSaN16y2l96K6Wg+7Je+k7CQf43vp/2pH5OHN3Fo2/bWZ3OcjNm09+XLic5y+9Pp6Lppcc+WsPGmMVJFrw4/0h30LXOdqIxq1tktovIBuO4TYmntSctLW5KaPoS/N20nRuumaTcbvjNh0X6T9Z++lk2n2UkmuDT9P/eEYY9e99ItrKXVvWmNjOu0azsz8k5wckYe3k+KUTa+atE6f3hpdaxij9GRiT/3Gwg/D6a2hHCBPrV8/jIjr0wjMzMFR+adqbuE5I9dPBfbUP2rjKybzqIQ0qcGVUJd00ift9cTs1SgNn+rL9ZvU16xi+wY2IxdH5t4/c2vd6HW+uCldAf3+X7O/FVz4bCSAVVK3VZ+Qb861OQ0koULBpE/a8JnR69E6prQ2p61RrXYPa0Yujsw9FXOTs8W1UkypPnn21Y4EsEICz0hCp5EpHSShQsGkzyde+MTsdYuW4Xbl+quWUs9N6WpWqTMCa8nHVG699Y3OO8xtgRwemYBhco5OxlcprtPcD5N71y70qdUy3G58HWqWe21K24X02zHU2pzMzTU3bka+/TsZWjaYKrawrwTCLBBWk7ZFl1LuqfEzkvJRizCp5PpxsL0HtVq6rYbayNalDZ/lXpvS1Z5UR0XkcqE2N3PybVaudTE3Kbq4KHNAuDGzYFjM6NqkCzWo1QEtdDOiVstU3YT6pp5/9VFjutruMJtmfsrZMTPPVMzNb+T6F0ik8L4K7On5TCCWkrQ22YR/qn1i/taPHjpZUatnSptQ29Tzrz401dF0t1lcXmjkqYX8UjM3V0xhwcn1V5GlnlsAYyFpa5LMcQ+Zig7Shs9yr9FDJxtq9HzSqEVPNyea6mi62yySF66tydfrvflkVMxNCs21vnDuv+KeCjTVL3Dno5kfQU1ypZleeqSef/WhiU4uaOv5pdvbczTV0XSnWVI54frir+RV3J96fyaff+bmgvDBua78b2xs7t2wTwwvd05rgKaK8xdevhZPjEWPp+df/WiikwU19RVr06qlzIemOpruMktJPrixJeNnMepibq6ApAj/ns9FZnkLaRYXE+v6BGozN9FBDrWadoVENiFYRhCtmpbW05PeaJoh1iFDds2Fm5PUFJ4cnnHRPfU/FZv07wq6tE5qtBCGrg35h9fhmNxrFwvfdgYuB1p0jWss1DlXSxnn4yjNSsbvRmDnPLiZW23xpQ5P6ZNiyml3Bl1aFC2HoLAWDeJWnpe0aFOqYHp8ra6xhuF9iY5uLFqmtTmtd/c8UDE3XzDXv7QghUfRtZVL7UEYcxc9pI2ff93vXgRtKpW9XaOp6PbUfukXP0fPMs12HH1CDvwyNydkTQHGBVR6fwLs0iLR1CE8GNGmVAnd8SW6hro9XaOnrj67z3bKWZs0NyduSQGWFlc8/hTYpUWjqUF4MMb8v+7Rp1S59/Gaun5pFz9Hy3dtdn96kv6Ym+FsrjkExcR+H2r+r43j/pz7kwpiVDrUaJuj1dsYdBylrs11TtP/0dycPCMK8DTgJWlfyl+MTVo56OJ76c9t0ahEtfyxpfrm6vU0Dh3ztdlt5Inav5qbE9hB6VGE17y7pZHufkrZi5GF7dNhl9Pv19fdE7N5AqXa5uj1NAYdz826U7X/NDdJCc1CPBW2sCxpNbk/HXxv/WhVolb52BH6omG5Lru8cbL22ebmxHagWopR3j8ZeE3RtDB/M66vZ+hUo1b5Oz31FQ2lLY+ON1YlcLrmReYmIjto4ffpkAzHxKDlmcxJ+0zAs3NSjf3Gmj1HyJNWAlc96Gh8zXdFhp4Xi92v0Nqfls06SyHFbc7EiJBDacy/3BOaJ7rk6aI9ynNvM7g37d6eae+F+eYQQGPP3VXR9I8TA0G+ZfCM2g6+0MCertHiW4ueI6QeSvS+v/MeHfq+81F/ev+3u9SnDydE24uGCXOTcBBGSKRbzwdzS9PZs9dpnvMt3T21VkqscrwYm3s9vK6c7u01NL3TMWVuXn9zId2JTb6Tg+7pV1dL/zX35E2y/BACHIadMafMLNWnEAZa/oZo0kk4ZH8LFff4ZNb7FUdxxITPuEf3jjqnjCzV1xgCGqYBmjQ3CRXRhES6dXw8o3qTu+ZIr0Hv/gSos04ap4ws1dewPNo9wzNtbi5sDt9n8eSJMPKJ/m109/EyC+3JBHzunEygw97FyFzrPnKvtBSavYM0b24SPkIKifc2NK6n6/cZeHoqAWqsg/JiaNIqLYFW3yCXMTe3FTmsv7fFiCcCFMUTGfodgaH5IQe+a3f9hHtU2udQjRbWZcmsQtz6jINdPbtT3nQ50i1P4sNe7neDK/uK28Z9dtOlMS6Lry9pbg5k1wK0qJRiTBSIIsyNp+qaJ8qHvikZZG9hUNLn2spPVz0qY7L8Wj1pI7tC8HIhYFbO7NQ3uuWKwmFvUhPZVyq4t2ep8UFfNx2CNXa7XN7cnCAIX56WMCtnduobXXJFDnrX7vSRfaX29PYsNf6/vi78X9bb5dE2meUSgCTIT0tY5bNiZIc/QMpBj7m9phd1+orn9eE25ia7JBmExHcLq29GjLgIqOXLrsYmqGR/cu/aVF/4PHGtxjsx9wld25mbE80lBYnxnb4w+mbEiDsBlZyRg961u37CPcp1wV5VOBest+PQjbOrw1+lbJYBFNBmgg7aTnPeyGG/s7k1aNHMt2HtnV7d2tycUC5RSJbnlIXNMxuePBOozpvQ2DC3X4Cruf6aiY7tzU0kJmmExL2Fy50Hd/kEqnInNLf8pY4YWcXzCDJ1mzzG3Bwelzwk0O9EgclvJvTkESjOHcwtCbaYY3IWOkMCR5mbbJxEEhK+hcedB3dlBFz+ZOcQ5vYLbja7X2/S8UbgSHNzQEioe1rA486Du3ICnzkUGpu75sM51DEHjs4wV4yfBdkRvqWp4WBJjXVjSeZRbGrx/brbbYo8yappRl4OCRxtbgKCJOOXrOQCbTsB6umbIYy+GbWOwNz+I+iS7fSEO33/rcXE+xcBculiEV/BJibS5x5zi7ienHgn7z1KA24VCJBPvyHC5DeTXj2YW4KsS8BTk7B53+E/T0mwpessAs35tBEuWIwVE3N74X1iMlbtOTS08PqFLY/OIVCVU5vhgcF4QTG3D+YuKU9LzOr9hsbmrvlA4D8C1Tm1AcGT9z5TPk6gTPonJWj1XkNzy+TKsHMIVOfVwohO3LMVuTC3AiVOSdTqfWJuBdl05tDq3FoQ10l7tSgP5laoikvYE5K2ao+YW2E2nTn8hBqqqp8z06HbrjG3SrS7J2/x/jC2ykw697XiHFsE1a77WgT/vzAxt38oyi9cEu+cyEV7w9zKE4g3tqufoppB/64EMDcFvLsmdNG+MDeFTDpziqI8M4xol30YRlwUGuZWhOt5sEvsHZM7a0+hsblrPhAoJJCVZ4Vzjhy+evwjWY1ai5NImfRuSZ61n9DclHky3TkEsnLNII5V4zaIUjUkzE0Vp5/MJfsuCZ+1D8ytQxadOWVWvhWgkVr8agumvA3Vjvc2OTdNBDC3JnzvL++S+J/7wNzeE4GnRQQ+8+1jNve+fH9+3BH3/ZXxJWuXjP0ImccdCGBuHaCGU+5QAK97CI3NXfOBgAKB15x7md+/921mb4aXs3bOmJcweTSAAKfRCMgb/DXlr2KOTS2+H8CVJfYm8CvnXrbrxvrxbcYmpnfN93vRkrh+v03PKAKY2xPp8LB+GlPYv3JRrBx7oUwMN0QgJ+/8GB1TE3OTNl4/vjeEilAiAphbBOTvrRibuwmvU2ML+1xxrFogq8ZdKBHDjRF4qxmfk32MLTY48t9YYnyEg7nFgFJmluqL3yu8X7FQVoy5UBaGGyYQ55+/72tsscEZxkNoEQHMLQKS/KXWwdzcsq4444KNw7F0v1KslrgRix4ByUHfjjE2DE5Pv5EzYW4x7ZSRpfri9xrupWAbphj26kqxDoPCQkMJuBzE3IYiX3IxzC2WTYzMte4j9/E45furYJUnVp4Oc1MGynTFBK5aGfvLzf2CI/+L5Zr2AuaWQi+GJm1qTKe+FYpnhRg7ycO0kwn43POmFl7LXx2OaMn/yUmQuTzmlgIlpiZtakzHPuvFYz2+jtIw9WQCswwtNE3yf3ISZC6PuYWgxMziNhwz6NoVkOUishzbIIlYZgIBn3f+l1toOLnXcWnLfe77bhy5P0H4iiUxN4F2Zbn0XP+8zT2b9LFaSFbjmiQTyw4i0GJuUuKpFnMbJODAZead2gM3+bmUZHtq4Nuz1PgOfa6grZmJtXg6YGdKYwRajM3/4rr/eVVK27Ul5savN2OJ8RAO5vY3r//4rE9BkgpIPRvcZ81QrMUzWA6WG0xAw9xKTexpPLk/WPyK5TA3B+3NwN6eVQBvfcUVlZXCshJHK1PeX4OAzzd3ZJV/pYzjtmYu9w65bz9nMDfRSLJe7l2b6gufT7y2UlxW4pgoBUsPItDD3FyJ1xgceT9I9IZlMLcQnphZ2IbPjV27AptdZLPXNyYJ4XQk4HOt/Feb/6V1/Vk1LG+5LjU48r6j0EpTY25KIGdOM7vQZq8/kz1rjyPQYm4p8xJjc23q+VsfOT9O99qVMLdacsbem1lsM9c2JgPhdCSgbW7OvMTg3ows9Yyc7yi00tSYmxJIC9O4gptRdDPWtMCbGMYS8Hnmjiy9b425ke9jda9dDXOrJWf4vRnFN2NNwxIQWicCtQb3ZGJP/W8GSq53Eld5WsxNGaiV6VwBjizCkWtZYUwc4wn4PCv75SYGJq0YV3wv/V8tuT5e95oVMbcaagu9M7IQR661kASEqkigxtycWYmRhe2XiT09J88VBe04FebWEa6VqV0xjijIEWtYYUoc8wj4PCv79fZkVKX95Pg83UtXxtxKiS08fkRhjlhjYQkIXYEA5qYA8YApMLcDRA636A6GngbUc+5wH1yfTWCGwZHba+Uc5raWXmrR9irUXvOqbZyJtiEw0uDI6/XSBnNbTzO1iHsVbK951TbORFsQwNy2kLHbJjC3bmjXmNgdENpmpD3fGiSJcgaBEQZHPs9Qtn1NzK2d4RYzaBfw23zuWfzdAiKbmEJAcqn033z8Gn/NO2VbLNpIAHNrBLjT65rF7OZyH5kzbFOHSvhc3t2JLXvpT8Dnjcu79i852F+v3itgbr0JLzi/VmG3HDbuXa04FpSAkCsJXHlTZ3DX+5UB8JoZApibGSlsBdJS5Ne7dQdM+CdvNxcfCJQSkByUNsyp8FqeS1u6DuPtEuDksKuNichc0Zd8/Ph2U0sdQCVxMBYCIQExr7gNx3C9F4Gyk2uvvbObTAJyIHwN72Fsscl9xcBzCEAAAo4A5kYeZBPw5pUe3tvYxOTeYkhHRi8EIHAiAcztRNUb9n2PryEAAALQSURBVJwyl1HGhsE1CMerEDiMAOZ2mOAa23VmFpoc5qZBlTkgAAFNApibJs3D5rpMzqXR2G9orodhZ7sQgEAGAcwtAxJD0gTE3Eb/chMjxeDSutALAQj4UwIOEKgiMMvUMLcquXgJAkcR4JfbUXLrbXa2sWFweloyEwR2JIC57ajqgD1pmpv734n7/614+T+3468mB4jNEhBYkADmtqBoFkLWMjcxNszNgqrEAIF9CGBu+2g5dCeY21DcLAYBCBQSwNwKgTHcE9Awt/BXG7/cyCwIQECTAOamSfOQubSMzf1LIaHByb8kUtr6eA6BzzYhAIEsAphbFiYGhQRazU0MDXMLqXINAQhoEsDcNGkeMleLuYXGpmFu/Go7JOnYJgQKCWBuhcAY7gnUGlz8z9bE7OL+3L+axNzISAhAIEUAc0tRoe+TQI25iZGFxiV9mNsncgZAAAIFBDC3AlgMvQi0mFtoaKnr0Py+rvnldmnCFQQgcBHA3C4WXBUQwNwKYDEUAhAYTgBzG458jwVrzC31Kyz85ZZ6/tbHr7Y9coldQKAHAcytB9VD5tQwOMztkGRhmxAYTABzGwx8p+Uwt53UZC8Q2IsA5raXnsN3o2Fwb3/1+PSMv5IcLjULQmApApjbUnLZDHa0wWFsNvOAqCBgiQDmZkmNRWMZaW4Y26JJQtgQGEwAcxsMfNflRhkc5rZrBrEvCOgSwNx0eR49W0+Dc3NjbEenF5uHQBEBzK0IF4O/CFwm5FJL54upfVHnOQQgEBPA3GIi3KsQ8IbUZm6XUaqExCQQgMBBBDC3g8QevVUxp1Kjk/dGx8t6EIDAPgQwt320NL0TMaywdX9tGd7LtemNEBwEILAEAcxtCZn2DNKZGR8IQAACPQhwuvSgypwQgAAEIDCVAOY2FT+LQwACEIBADwKYWw+qzAkBCEAAAlMJYG5T8bM4BCAAAQj0IPB/iDwdl7SFpuoAAAAASUVORK5CYII=)"
   ]
  },
  {
   "cell_type": "code",
   "execution_count": null,
   "metadata": {
    "colab": {
     "base_uri": "https://localhost:8080/"
    },
    "id": "ftVIss06Pv6j",
    "outputId": "61ee0b25-b61c-4bcd-8356-e7c6b7100e7a",
    "slideshow": {
     "slide_type": "slide"
    }
   },
   "outputs": [],
   "source": [
    "G = nx.Graph()\n",
    "\n",
    "# Create a WEIGHTED edge list by giving the endpoints and then the weight: \n",
    "edge_list = [(0,1,3), (1,7,4)]\n",
    "\n",
    "# Now use this new command to add: \n",
    "G.add_weighted_edges_from(edge_list)"
   ]
  },
  {
   "cell_type": "code",
   "execution_count": null,
   "metadata": {
    "colab": {
     "base_uri": "https://localhost:8080/"
    },
    "id": "H-DMSyXCRnHg",
    "outputId": "214085ea-11c2-4fb1-9932-cddf0549d820",
    "slideshow": {
     "slide_type": "subslide"
    }
   },
   "outputs": [],
   "source": [
    "# get_edge_data will tell you the weight on a single edge: \n",
    "\n",
    "G.get_edge_data(0,1)"
   ]
  },
  {
   "cell_type": "code",
   "execution_count": null,
   "metadata": {
    "id": "McHY3gvqRywL",
    "slideshow": {
     "slide_type": "subslide"
    }
   },
   "outputs": [],
   "source": [
    "# Let's go ahead and add the rest: \n",
    "remaining_edges = [(0,8,4), (8,4,8), (0,3,2), (3,4,1), (2,3,6), \n",
    "                   (2,7,2), (2,5,1), (5,6,8) ]\n",
    "G.add_weighted_edges_from(remaining_edges)"
   ]
  },
  {
   "cell_type": "markdown",
   "metadata": {
    "id": "GPqvws70SLSc",
    "slideshow": {
     "slide_type": "slide"
    }
   },
   "source": [
    "**Visualizing weighted graphs with the weights shown on the edges is unfortunately not simple.** The workflow for making this happen is: \n",
    "\n",
    "1. Define a variable `pos` that specifies the layout of the graph from a list of defaults. `pos = nx.spring_layout(G)` and `pos = nx.circular_layout(G)` are the two we will use the most often. \n",
    "2. Call `nx.draw()` on the graph with the name of the graph first, then `pos`, then any other parameters. This will create a plot of the graph *without* the edge labels, but it doesn't draw it yet. \n",
    "3. Define `labels = nx.get_edge_attributes(G, \"weight\")`. This strips the weights out of `G` and puts then into the variable `labels`. \n",
    "4. Now call `nx.draw_networkx_edge_labels(wg2, pos, edge_labels = labels)`. This creates a plot of *just the labels*, on top of the unlabelled graph you created in step 2. \n",
    "5. Finally call `plt.show()` (with no input). This will draw the figure consisting of the unlabelled graph with the edge labels superimposed on it. \n",
    "\n",
    "\n",
    "\n"
   ]
  },
  {
   "cell_type": "code",
   "execution_count": null,
   "metadata": {
    "colab": {
     "base_uri": "https://localhost:8080/",
     "height": 319
    },
    "id": "qtCFXesxTXr8",
    "outputId": "03ab0512-d8a2-44bf-e465-edda1c8d06c2",
    "slideshow": {
     "slide_type": "slide"
    }
   },
   "outputs": [],
   "source": [
    "pos = nx.spring_layout(G)\n",
    "nx.draw(G, pos, with_labels = True, node_color = \"lime\")\n",
    "labels = nx.get_edge_attributes(G, \"weight\")\n",
    "nx.draw_networkx_edge_labels(G, pos, edge_labels = labels)\n",
    "plt.show()"
   ]
  },
  {
   "cell_type": "markdown",
   "metadata": {
    "id": "FL3C0FNgTpAN",
    "slideshow": {
     "slide_type": "slide"
    }
   },
   "source": [
    "## Finding MSTs using `networkX`\n",
    "\n",
    "The `networkX` function `minimum_spanning_tree` finds the MST of a weighted graph using Kruskal's algorithm. You can switch it to Prim's algorithm by adding `algorithm = \"prim\"`. \n"
   ]
  },
  {
   "cell_type": "code",
   "execution_count": null,
   "metadata": {
    "colab": {
     "base_uri": "https://localhost:8080/"
    },
    "id": "uJIWt8etTsoc",
    "outputId": "931723e9-e53d-437e-8a14-016f5d4d631f"
   },
   "outputs": [],
   "source": [
    "T = nx.minimum_spanning_tree(G)\n",
    "\n",
    "# Adding data = True causes Python to print out the edge weights. \n",
    "# The list function is necessary to actually see the contents of the edge list. \n",
    "\n",
    "list(T.edges(data=True))"
   ]
  },
  {
   "cell_type": "code",
   "execution_count": null,
   "metadata": {
    "colab": {
     "base_uri": "https://localhost:8080/"
    },
    "id": "9_Gt-wYzUjnR",
    "outputId": "d224b77c-7b2e-4635-a8f2-f11cfcf44a05",
    "slideshow": {
     "slide_type": "slide"
    }
   },
   "outputs": [],
   "source": [
    "T_prim = nx.minimum_spanning_tree(G, algorithm=\"prim\")\n",
    "list(T_prim.edges(data=True))"
   ]
  },
  {
   "cell_type": "markdown",
   "metadata": {
    "id": "4yMpMUNHU7FR",
    "slideshow": {
     "slide_type": "slide"
    }
   },
   "source": [
    "There's no built-in command to get the total weight of the MST, but a simple loop will do the trick: "
   ]
  },
  {
   "cell_type": "code",
   "execution_count": null,
   "metadata": {
    "colab": {
     "base_uri": "https://localhost:8080/"
    },
    "id": "AtTx2DJVVASS",
    "outputId": "8185c850-e054-4f43-982f-ca891d55395c",
    "slideshow": {
     "slide_type": "subslide"
    }
   },
   "outputs": [],
   "source": [
    "edge_list = list(T.edges(data=True))\n",
    "\n",
    "total_weight = 0\n",
    "for i in range(len(edge_list)): \n",
    "  # Add on the weight of the i-th edge \n",
    "  total_weight += edge_list[i][2]['weight']\n",
    "\n",
    "print(total_weight)\n"
   ]
  }
 ],
 "metadata": {
  "celltoolbar": "Slideshow",
  "colab": {
   "provenance": []
  },
  "kernelspec": {
   "display_name": "Python 3 (ipykernel)",
   "language": "python",
   "name": "python3"
  },
  "language_info": {
   "codemirror_mode": {
    "name": "ipython",
    "version": 3
   },
   "file_extension": ".py",
   "mimetype": "text/x-python",
   "name": "python",
   "nbconvert_exporter": "python",
   "pygments_lexer": "ipython3",
   "version": "3.9.12"
  }
 },
 "nbformat": 4,
 "nbformat_minor": 1
}
