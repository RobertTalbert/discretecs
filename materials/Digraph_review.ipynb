{
  "nbformat": 4,
  "nbformat_minor": 0,
  "metadata": {
    "colab": {
      "provenance": [],
      "authorship_tag": "ABX9TyOuVUfSdBph3TWKX8SMvC9U",
      "include_colab_link": true
    },
    "kernelspec": {
      "name": "python3",
      "display_name": "Python 3"
    },
    "language_info": {
      "name": "python"
    }
  },
  "cells": [
    {
      "cell_type": "markdown",
      "metadata": {
        "id": "view-in-github",
        "colab_type": "text"
      },
      "source": [
        "<a href=\"https://colab.research.google.com/github/RobertTalbert/discretecs/blob/master/materials/Digraph_review.ipynb\" target=\"_parent\"><img src=\"https://colab.research.google.com/assets/colab-badge.svg\" alt=\"Open In Colab\"/></a>"
      ]
    },
    {
      "cell_type": "code",
      "source": [
        "import networkx as nx"
      ],
      "metadata": {
        "id": "0Huucji0jnXy"
      },
      "execution_count": null,
      "outputs": []
    },
    {
      "cell_type": "markdown",
      "source": [
        "## DR.1: I can determine information about a directed graph and its individual vertices and edges using different representations."
      ],
      "metadata": {
        "id": "GMuuoge4jpu9"
      }
    },
    {
      "cell_type": "code",
      "source": [
        "# Directed graph used for class activity \n",
        "# - Find the in- and out-degrees of each vertex\n",
        "# - Convert to edge list and adjacency matrix \n",
        "\n",
        "dr1 = nx.gnp_random_graph(10, 0.2, directed = True)\n",
        "nx.draw_circular(dr1, with_labels = True, node_color = \"cyan\")"
      ],
      "metadata": {
        "id": "U4z53T9QjtKM"
      },
      "execution_count": null,
      "outputs": []
    },
    {
      "cell_type": "code",
      "source": [
        "# Check your work \n",
        "\n",
        "print(list(edges(dr1)))\n",
        "nx.to_pandas_adjacency(dr1)"
      ],
      "metadata": {
        "id": "0f19ATdJkeJX"
      },
      "execution_count": null,
      "outputs": []
    },
    {
      "cell_type": "code",
      "source": [
        "# Bonus practice -- rerun this cell to get more practice problems \n",
        "new_dr1 = nx.gnp_random_graph(10, 0.2, directed = True)\n",
        "nx.draw_circular(new_dr1, with_labels = True, node_color = \"cyan\")"
      ],
      "metadata": {
        "id": "OSNYrqCAkLSM"
      },
      "execution_count": null,
      "outputs": []
    },
    {
      "cell_type": "markdown",
      "source": [
        "## DR.2: I can give examples of relations on a set that have combinations of the properties of reflexivity, symmetry, antisymmetry, and transitivity.\n",
        "## DR.3: I can determine if a relation is an equivalence relation; I can determine the equivalence class of an element under an equivalence relation and determine whether two elements belong to the same equivalence class.\n",
        "\n",
        "*Partial practice:* Generate a random relation (digraph). Check to see if it has reflexivity, symmetric, antisymmetric, or transitivity. If it's an equivalence relation, pick a vertex and find the equivalence class of that vertex. "
      ],
      "metadata": {
        "id": "S7QFggUUkrQD"
      }
    },
    {
      "cell_type": "code",
      "source": [
        "r = nx.gnp_random_graph(10,0.2, directed = True)\n",
        "print(list(r.edges()))"
      ],
      "metadata": {
        "id": "_LxNKCytlFMB"
      },
      "execution_count": null,
      "outputs": []
    },
    {
      "cell_type": "markdown",
      "source": [
        "## DR.4:  I can find the $n$th order composition of a relation with itself. \n",
        "\n",
        "## DR.5: I can sketch the transitive closure of a relation as a directed graph.\n",
        "\n",
        "Generate a random digraph/relation $r$. \n",
        "- Write out the edge list for $r^2$ and $r^3$. \n",
        "- Sketch the transitive closure. "
      ],
      "metadata": {
        "id": "DzUjBHUFlSzv"
      }
    },
    {
      "cell_type": "code",
      "source": [
        "r = nx.gnp_random_graph(10,0.2, directed = True)\n",
        "print(list(r.edges()))\n",
        "nx.draw_circular(r, with_labels = True, node_color = \"cyan\")"
      ],
      "metadata": {
        "id": "avg1Squslj9R"
      },
      "execution_count": null,
      "outputs": []
    },
    {
      "cell_type": "code",
      "source": [
        "# Check your work on the transitive closure\n",
        "\n",
        "tc = nx.transitive_closure(r)\n",
        "nx.draw_circular(tc, with_labels = True, node_color = \"pink\")"
      ],
      "metadata": {
        "id": "eGBfLkQrlui5"
      },
      "execution_count": null,
      "outputs": []
    }
  ]
}