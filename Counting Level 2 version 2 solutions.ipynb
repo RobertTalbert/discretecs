{
 "cells": [
  {
   "cell_type": "markdown",
   "metadata": {},
   "source": [
    "# Counting Level 2, Version 2 solutions\n",
    "\n",
    "First define the binomial coefficient in Python to aid in the calculations:"
   ]
  },
  {
   "cell_type": "code",
   "execution_count": 1,
   "metadata": {
    "collapsed": true
   },
   "outputs": [],
   "source": [
    "from math import factorial\n",
    "\n",
    "def binom(n,k):\n",
    "    return int(factorial(n)/(factorial(n-k) * factorial(k))) \n",
    "    # the \"int\" forces the output into integer format. \n",
    "    # Without it, the result is a floating point decimal."
   ]
  },
  {
   "cell_type": "markdown",
   "metadata": {},
   "source": [
    "## Problem 1\n",
    "\n",
    "### 1(a)\n",
    "\n",
    "There are six possible ways to position the vowel. and 21 ways to fill each remaining slot. So the number of ways to insert the vowel is $6 \\times 21^5$:"
   ]
  },
  {
   "cell_type": "code",
   "execution_count": 4,
   "metadata": {
    "collapsed": false
   },
   "outputs": [
    {
     "data": {
      "text/plain": [
       "24504606"
      ]
     },
     "execution_count": 4,
     "metadata": {},
     "output_type": "execute_result"
    }
   ],
   "source": [
    "6 * 21**5"
   ]
  },
  {
   "cell_type": "markdown",
   "metadata": {},
   "source": [
    "And then there are five choices for the vowel for each of these arrangements, so the total number of ways to have a string with exactly one vowel is $5 \\times 6 \\times 21^5$:"
   ]
  },
  {
   "cell_type": "code",
   "execution_count": 5,
   "metadata": {
    "collapsed": false
   },
   "outputs": [
    {
     "data": {
      "text/plain": [
       "122523030"
      ]
     },
     "execution_count": 5,
     "metadata": {},
     "output_type": "execute_result"
    }
   ],
   "source": [
    "5 * 6 * 21**5"
   ]
  },
  {
   "cell_type": "markdown",
   "metadata": {},
   "source": [
    "### 1(b)\n",
    "\n",
    "Similarly to above, we can count the number of ways to choose a six-character string with two vowels, then multiply by the number of ways to choose the vowels. \n",
    "\n",
    "The number of ways to choose two vowels in a string of length 6 is $\\left( {\\begin{array}{*{20}c} 6 \\\\ 2 \\\\ \\end{array}} \\right)$, which is "
   ]
  },
  {
   "cell_type": "code",
   "execution_count": 6,
   "metadata": {
    "collapsed": false
   },
   "outputs": [
    {
     "data": {
      "text/plain": [
       "15"
      ]
     },
     "execution_count": 6,
     "metadata": {},
     "output_type": "execute_result"
    }
   ],
   "source": [
    "binom(6,2)"
   ]
  },
  {
   "cell_type": "markdown",
   "metadata": {},
   "source": [
    "For each of those 15 choices, there are $21^4$ ways to fill in the consonants, which gives us "
   ]
  },
  {
   "cell_type": "code",
   "execution_count": 7,
   "metadata": {
    "collapsed": false
   },
   "outputs": [
    {
     "data": {
      "text/plain": [
       "2917215"
      ]
     },
     "execution_count": 7,
     "metadata": {},
     "output_type": "execute_result"
    }
   ],
   "source": [
    "15 * 21**4"
   ]
  },
  {
   "cell_type": "markdown",
   "metadata": {},
   "source": [
    "This is the total number of ways to create a string of length six with four consonants and two open slots for vowels. Now we should count the number of ways to fill in the slots, which is $\\left( {\\begin{array}{*{20}c} 5 \\\\ 2 \\\\ \\end{array}} \\right)$. Therefore the total number of arrangements is \n",
    "$$\\left( {\\begin{array}{*{20}c} 5 \\\\ 2 \\\\ \\end{array}} \\right) \\times 15 \\times 21^4$$"
   ]
  },
  {
   "cell_type": "code",
   "execution_count": 8,
   "metadata": {
    "collapsed": false
   },
   "outputs": [
    {
     "data": {
      "text/plain": [
       "29172150"
      ]
     },
     "execution_count": 8,
     "metadata": {},
     "output_type": "execute_result"
    }
   ],
   "source": [
    "binom(5,2) * 15 * 21**4"
   ]
  },
  {
   "cell_type": "markdown",
   "metadata": {},
   "source": [
    "### 1(c)\n",
    "\n",
    "The number of ways to have at least one vowel is the total number of strings possible, minus the number of ways to have no vowels at all. The number of strings that are all consonants is $21^6$ and the total number of possible strings is $26^6$, so the answer here is $26^6 - 21^6$:"
   ]
  },
  {
   "cell_type": "code",
   "execution_count": 9,
   "metadata": {
    "collapsed": false
   },
   "outputs": [
    {
     "data": {
      "text/plain": [
       "223149655"
      ]
     },
     "execution_count": 9,
     "metadata": {},
     "output_type": "execute_result"
    }
   ],
   "source": [
    "26**6 - 21**6"
   ]
  },
  {
   "cell_type": "markdown",
   "metadata": {},
   "source": [
    "### 1(d)\n",
    "\n",
    "Similarly, the number of ways to have at least two vowels is the total number of possible strings ($26^6$) minus the number of ways to have 1 or fewer vowels. The number of ways to have no vowels at all is $21^6$. The number of ways to get exactly one vowel is 122523030 as computed above. So the answer is:"
   ]
  },
  {
   "cell_type": "code",
   "execution_count": 10,
   "metadata": {
    "collapsed": false
   },
   "outputs": [
    {
     "data": {
      "text/plain": [
       "100626625"
      ]
     },
     "execution_count": 10,
     "metadata": {},
     "output_type": "execute_result"
    }
   ],
   "source": [
    "26**6 - 21**6 - 122523030"
   ]
  },
  {
   "cell_type": "markdown",
   "metadata": {},
   "source": [
    "## Problem 2\n",
    "\n",
    "The number of ways for the first player to be dealt a hand is $\\left( {\\begin{array}{*{20}c} 52 \\\\ 5 \\\\ \\end{array}} \\right)$. Then the second player is dealt 5 cards from the remaining 47, and the number of ways for this to happen is $\\left( {\\begin{array}{*{20}c} 47 \\\\ 5 \\\\ \\end{array}} \\right)$.  Then the third player is dealt 5 cards from the remaining 42, and the number of ways for this to happen is $\\left( {\\begin{array}{*{20}c} 42 \\\\ 5 \\\\ \\end{array}} \\right)$. This continues for the remaining three players. Since this is a sequence of choices, we will multiply all these counting results, so the answer is \n",
    "\n",
    "$$\\left( {\\begin{array}{*{20}c} 52 \\\\ 5 \\\\ \\end{array}} \\right) \\times  \n",
    "\\left( {\\begin{array}{*{20}c} 47 \\\\ 5 \\\\ \\end{array}} \\right) \\times \n",
    "\\left( {\\begin{array}{*{20}c} 42 \\\\ 5 \\\\ \\end{array}} \\right) \\times \n",
    "\\left( {\\begin{array}{*{20}c} 37 \\\\ 5 \\\\ \\end{array}} \\right) \\times\n",
    "\\left( {\\begin{array}{*{20}c} 32 \\\\ 5 \\\\ \\end{array}} \\right) \\times\n",
    "\\left( {\\begin{array}{*{20}c} 27 \\\\ 5 \\\\ \\end{array}} \\right)$$\n",
    "\n"
   ]
  },
  {
   "cell_type": "code",
   "execution_count": 14,
   "metadata": {
    "collapsed": false
   },
   "outputs": [
    {
     "data": {
      "text/plain": [
       "24032243930028561656103452172595200"
      ]
     },
     "execution_count": 14,
     "metadata": {},
     "output_type": "execute_result"
    }
   ],
   "source": [
    "binom(52,5) * binom(47,5) * binom(42,5) * binom(37,5) * binom(32,5) * binom(27,5)"
   ]
  },
  {
   "cell_type": "markdown",
   "metadata": {},
   "source": [
    "## Problem 3\n",
    "\n",
    "The Binomial Theorem states that \n",
    "\t$$(x+y)^{201} = \\sum_{i = 0}^{201} \\left( {\\begin{array}{*{20}c} 201 \\\\ i \\\\ \\end{array}} \\right)x^{201-i}y^i$$\n",
    "For the term $x^{100}y^{101}$, this corresponds to $i = 101$ in the summation above. Therefore by the Binomial Theorem the coefficient is $\\left( {\\begin{array}{*{20}c} 201 \\\\ 101 \\\\ \\end{array}} \\right)$:"
   ]
  },
  {
   "cell_type": "code",
   "execution_count": 12,
   "metadata": {
    "collapsed": false
   },
   "outputs": [
    {
     "data": {
      "text/plain": [
       "180200509365116428985865769066794881789720556144203854249984"
      ]
     },
     "execution_count": 12,
     "metadata": {},
     "output_type": "execute_result"
    }
   ],
   "source": [
    "binom(201,101)"
   ]
  },
  {
   "cell_type": "code",
   "execution_count": null,
   "metadata": {
    "collapsed": true
   },
   "outputs": [],
   "source": []
  }
 ],
 "metadata": {
  "kernelspec": {
   "display_name": "Python 3",
   "language": "python",
   "name": "python3"
  },
  "language_info": {
   "codemirror_mode": {
    "name": "ipython",
    "version": 3
   },
   "file_extension": ".py",
   "mimetype": "text/x-python",
   "name": "python",
   "nbconvert_exporter": "python",
   "pygments_lexer": "ipython3",
   "version": "3.4.3"
  }
 },
 "nbformat": 4,
 "nbformat_minor": 0
}
