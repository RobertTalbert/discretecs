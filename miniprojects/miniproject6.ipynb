{
 "cells": [
  {
   "cell_type": "markdown",
   "metadata": {
    "button": false,
    "deletable": true,
    "new_sheet": false,
    "run_control": {
     "read_only": false
    }
   },
   "source": [
    "# Miniproject 6: Counting relations with specific properties\n",
    "\n",
    "## Overview\n",
    "\n",
    "In this miniproject, you will do a little counting using concepts you learned in MTH 225, along with some new ideas about relations, representations of relations, and properties of relations, to discover some results about the number of relations on a set that have a particular set of properties. \n",
    "\n",
    "## Problems\n",
    "\n",
    "Let $A = \\{1, 2, \\dots, n\\}$. For each combination of properties below, find the number of relations on $A$ that have that property. Please see the Notes section below for what this means. \n",
    "\n",
    "1. Reflexive\n",
    "2. Symmetric\n",
    "2. Reflexive and symmetric\n",
    "3. Either reflexive or symmetric (or both)\n",
    "4. Antisymmetric \n",
    "5. Symmetric but not reflexive\n",
    "\n",
    "## Notes \n",
    "\n",
    "Each problem in this miniproject asks you to find the number of relations on the set $\\{1, 2, \\dots, n\\}$ that have a particular combination of properties. \n",
    "\n",
    "A complete and correct answer to a question like this consists of the following: \n",
    "\n",
    "+ An answer that is clearly stated, and is given in terms of $n$ -- that is, as a formula that involves $n$. For example, the first question asks, _How many reflexive relations are there on the set $\\{1,2,\\dots, n\\}$?_ An answer of the correct form would be something like: $n^2$. (Please note this is not a correct answer to this question; it's just an example of what the answer should look like.) \n",
    "+ Once the answer is stated, there should be an _argument_ that explains exactly why that answer is correct. You may think of this argument as a _proof_ that your answer is correct. \n",
    "\n",
    "It is a good idea to work through each question for _specific values_ of $n$ first. For example, in the first question, you could first figure out how many reflexive relations there are on the set $\\{1,2\\}$. There are four of these: $\\{(1,1), (2,2)\\}, \\{(1,1), (2,2), (1,2)\\}, \\{(1,1), (2,2), (1,2)\\}$, and $\\{(1,1), (2,2), (1,2), (2,1)\\}$. Then, repeat and find the number of reflexive relations on $\\{1,2,3\\}$. Then try $\\{1,2,3,4\\}$. And so on. Once you have collected data on specific values, look to see if you can find a pattern in either the results or in the processes you used. Then you will be situated to give the main answer in terms of $n$ along with an argument. \n",
    "\n",
    "You are welcome to write code to help you collect data on the specific cases. However please _do not include computations on specific cases in the final writeup_. Only include your answer and argument on the main question. \n",
    "\n",
    "When you give the argument to support your main answer, you cannot just give the data from the specific calculations and say \"the pattern continues\" or otherwise just assume that the general answer is obvious. You should be giving a _proof_ that your answer is correct and this cannot depend only on specific cases. \n",
    "\n",
    "Finally, note that we have studied four different ways to represent relations. It might be helpful to think about each of these four different representations to see if one of those representations makes the questions easier to think about. \n",
    "\n",
    "If there are other FAQs about this Miniproject as it gets underway, they will be posted in a prominent spot and announced. \n",
    "\n",
    "## Submission instructions and grading rubric\n",
    "\n",
    "A complete submission will consist of the following: A Jupyter notebook, properly formatted with your name included, with complete answers and arguments for all questions. Note that there is no coding this time (unless you do it for scratch work) and so the kernel doesn't matter.  \n",
    "\n",
    "Again please _do not include any sample computations_ with your Jupyter notebook. Do those in a \"scratch\" notebook. \n",
    "\n",
    "Once you are done, save a PDF version of the notebook to the __Miniproject 6__ assignment on Blackboard. Please give your Jupyter notebook the name `LastName-Miniproject6` so I can find it easily. If you have issues converting the notebook to PDF from within SageMath Cloud, save the notebook as HTML first and then print that to a PDF. If all else fails, upload the Jupyter notebook itself. \n",
    "\n",
    "The grading standards are as follows: \n",
    "\n",
    "+ E = There are correct answers and correct, detailed, well-written arguments for all of the questions above\n",
    "+ M = The answers for each question are correct but there are a small number errors in logic, semantics, syntax, or computation in the arguments. \n",
    "+ R = One or more of the answers is incorrect, or there are pervasive errors in the arguments. \n",
    "+ F = One or more of the answers or arguments is missing; or one or more of the arguments is just a list of examples (possibly followed by \"The pattern continues\" or some similar assumption that the specific examples imply the result). \n"
   ]
  },
  {
   "cell_type": "code",
   "execution_count": null,
   "metadata": {
    "collapsed": true,
    "run_control": {}
   },
   "outputs": [],
   "source": []
  }
 ],
 "metadata": {
  "kernelspec": {
   "display_name": "Python 3",
   "language": "python",
   "name": "python3"
  },
  "language_info": {
   "codemirror_mode": {
    "name": "ipython",
    "version": 3
   },
   "file_extension": ".py",
   "mimetype": "text/x-python",
   "name": "python",
   "nbconvert_exporter": "python",
   "pygments_lexer": "ipython3",
   "version": "3.5.0"
  }
 },
 "nbformat": 4,
 "nbformat_minor": 0
}
