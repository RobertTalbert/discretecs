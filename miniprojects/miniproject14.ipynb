{
 "cells": [
  {
   "cell_type": "markdown",
   "metadata": {
    "collapsed": false
   },
   "source": [
    "# Miniproject 14: Road trip\n",
    "\n",
    "## Overview\n",
    "\n",
    "In this miniproject you will put your knowledge of Hailtonian circuits and minimum spanning trees to work to find an optimum road trip that visits 20 randomly selected cities in the US. \n",
    "\n",
    "## Tasks \n",
    "\n",
    "You and your friends are planning on taking a road trip to celebrate the end of the semester. You're going to do this by picking out 20 cities in the US at random and visiting each one -- this makes it exciting, because you'll probably be visiting a city you've never seen (or possibly even heard of). \n",
    "\n",
    "First, to make your list of cities, go to this website and generate a list of 20 cities in the US: [https://www.randomlists.com/random-us-cities](https://www.randomlists.com/random-us-cities) You can do this by changing the \"Quantities\" field to 20 and clicking \"Refresh\": \n",
    "\n",
    "<img src=\"20cities.png\">\n",
    "\n",
    "Write down the names of all 20 of your cities. Then, use this website to find the driving distances between each pair of cities: [http://distancecalculator.globefeed.com/US_Distance_Calculator.asp](http://distancecalculator.globefeed.com/US_Distance_Calculator.asp\n",
    "). Round the distances to the nearest mile. \n",
    "\n",
    "Once you have done this, use Sage to create a weighted graph of your cities, with the distances between cities as the edge weights. Use the following names for your objects: \n",
    "\n",
    "+ Call the list of weighted edges `city_edge_list`. \n",
    "+ Call the weighted graph `city_graph`. \n",
    "\n",
    "This is so your work can be checked later. For directions on how to create the weighted graph, please see Lesson 22's notes. \n",
    "\n",
    "Once you have created your weighted graph, do the following. \n",
    "\n",
    "1. Display your graph, including the edge weights. \n",
    "2. Determine if there is a Hamiltonian circuit in your graph. Do this using Sage commands and clearly display the results of the calculation. If you find a Hamiltonian circuit, then calcuate its total weight (distance). \n",
    "3. Find a minimum spanning tree for this graph and give its total weight. Do this using Sage; then, in a separate Markdown cell, choose either Prim's Algorithm or Kruskal's Algorithm and go through the first six steps of building the spanning tree and explain each of those steps in detail.\n",
    "4. Finally, display the minimum spanning tree in red, superimposed on the original `city_graph`. Please see the lesson notes for the code for doing this. \n",
    "\n",
    "## Submission instructions \n",
    "\n",
    "A complete submission for this miniproject consists of a Jupyter notebook with `city_edge_list` and `city_graph` items given clearly, then complete responses to all four of the questions given above. There should be a good balance of English text and code -- not just code, and not just English. Submissions that consist of all code with no explanation and no narrative will be given an __R__ mark at best. As usual, convert the notebook to PDF and upload it to Blackboard and then place the Jupyter notebook in your Dropbox folder. \n",
    "\n",
    "The grading rubric is as follows: \n",
    "\n",
    "+ E = The graph has 20 cities and is constructed properly in Sage; and all four items have substantive and correct responses that are clearly-written and informative. \n",
    "+ M = The graph has 20 cities, is constructed properly in Sage, and all four items have substantive and correct responses.\n",
    "+ R = There is an error in the construction of the graph or in one of the four response items. \n",
    "+ F = There are significant errors or omissions. \n",
    "\n"
   ]
  },
  {
   "cell_type": "code",
   "execution_count": null,
   "metadata": {
    "collapsed": true
   },
   "outputs": [],
   "source": []
  }
 ],
 "metadata": {
  "kernelspec": {
   "display_name": "Python 2 (SageMath)",
   "language": "python",
   "name": "python2"
  },
  "language_info": {
   "codemirror_mode": {
    "name": "ipython",
    "version": 2
   },
   "file_extension": ".py",
   "mimetype": "text/x-python",
   "name": "python",
   "nbconvert_exporter": "python",
   "pygments_lexer": "ipython2",
   "version": "2.7.10"
  }
 },
 "nbformat": 4,
 "nbformat_minor": 0
}
