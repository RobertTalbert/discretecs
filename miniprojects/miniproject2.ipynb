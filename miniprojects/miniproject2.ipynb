{
 "cells": [
  {
   "cell_type": "markdown",
   "metadata": {
    "button": false,
    "deletable": true,
    "new_sheet": false,
    "run_control": {
     "read_only": false
    }
   },
   "source": [
    "# MTH 325: Miniproject 2\n",
    "\n",
    "\n",
    "## Overview\n",
    "\n",
    "The purpose of this miniproject is to give practice with writing proofs of statements using mathematical induction. Your work on this miniproject will address the following learning targets: \n",
    "\n",
    ">RI.2: I can outline and analyze a mathematical proof using mathematical induction over the positive integers, weak induction, strong induction, and structural induction.\n",
    "\n",
    ">RI.3: I can construct a correct proof using mathematical induction over the positive integers, weak induction, strong induction, or structural induction.\n",
    "\n",
    "Your work on this miniproject is due by 11:59pm EST on Wednesday, February 3. The instructions for submitting your work are given at the end of the assignment. \n",
    "\n",
    "## Assignment\n",
    "\n",
    "All of the following ask you to write a __proof__ for the statement being shown. These will all be done by some form of mathematical induction. Before writing your proof, in your rough draft make sure you __outline__ the proof so that you can clearly state the _base case_, _inductive hypothesis_, and _inductive step_. Then your final writeup that will appear in your submission will have these three elements along with all the argumentation necessary. \n",
    "\n",
    "__IMPORTANT NOTES ABOUT PROOFS:__ \n",
    "\n",
    "1. _A list of examples is not a proof._ Submissions that consist only of a finite list of examples followed by \"The pattern continues\" or \"See? It works!\" or something equivalent will be marked \"F\" and returned without comment. Your job is to provide a general, correct, and convincing argument that \"the pattern continues\". \n",
    "2. _Do not include examples in your writeup._ Your writeup should only consist of _two proofs_, without any extraneous work. \n",
    "3. However, _do work out examples on your own before starting a proof._ just as you wouldn't try to write a working program without trying out test cases first, you shouldn't try to write a completed draft of a proof without experimenting with the statement first. For example in Group 1 proposition 1 below, try computing several values of the left and right sides of the equation to make sure they are equal -- if they aren't, then you are misunderstanding the computations involved. \n",
    "\n",
    "For additional examples of induction proofs, please see the supplementary materials on the [card for Learning Target RI.2](https://trello.com/c/dy0sP1OH) which is found at the link you see here and at the [Lessons and Learning Targets board](https://trello.com/b/zR8MNE7m/mth-325-discrete-structures-2). Additional examples can be found in our [secondary textbook](http://applied-discrete-structures.wiki.uml.edu/) in Chapter 3 section 7. \n",
    "\n",
    "\n",
    "\n",
    "Each student is to complete ONE proof from EACH of the following two groups. \n",
    "\n",
    "### Group 1\n",
    "\n",
    "Choose one: \n",
    "\n",
    "1. Prove that if $n$ is a positive integer, then \n",
    "$$1 \\cdot 1! + 2 \\cdot 2! + 3 \\cdot 3! + \\cdots + n \\cdot n! = (n+1)! - 1$$\n",
    "\n",
    "2. Prove that if $n$ is a positive integer, then \n",
    "$$1 + 2 + 4 + 8 + \\cdots + 2^n = 2^{n+1} - 1$$\n",
    "\n",
    "3. Prove that for all positive integers $n$, the number $8^n - 3^n$ is a multiple (that is, an integer multiple) of $5$. \n",
    "\n",
    "### Group 2\n",
    "\n",
    "Choose one: \n",
    "\n",
    "1. Consider the following sequence defined recursively: Define $a_1 = 1$, $a_2 = 2$, $a_3 = 3$. Then for all $n \\geq 4$, define $a_n = a_{n-1} + a_{n-2} + a_{n-3}$. With this definition, prove that $a_n < 2^n$ for all positive integers $n$. \n",
    "2. Let $a_1, a_2, \\dots, a_n$ be positive real numbers. define the following two numbers: \n",
    "    + $A = (a_1 + a_2 + \\cdots + a_n)/n$ (This is just the average of the numbers)\n",
    "    + $B = (a_1 + a_2 + \\cdots + a_n)^{1/n}$ \n",
    "    \n",
    "Prove that for all positive integers $n$, $A \\geq B$. \n",
    "\n",
    "\n",
    "\n",
    "\n",
    "\n",
    "## Specifications and submission instructions\n",
    "\n",
    "Please see the [Specifications for Student Work in MTH 325 document](https://gist.github.com/RobertTalbert/641c29bd9f3fc60cba93) for full details on the general expectations for passing work in the class, specifically on miniprojects. \n",
    "\n",
    "For this particular assignment, please note the following: \n",
    "\n",
    "+ You are expected to use $\\LaTeX$ in your notebook to format all mathematical notation, including variables. Excessive use of plain text where you should be using notation will result in your work being downgraded. If you want to see how to generate certain symbols in $\\LaTeX$, the simplest thing to do is download this assignment notebook from the nbviewer link and open it up in SageMath Cloud to view the source code. Or, you can use Google or ask questions on Piazza. Or all three! \n",
    "+ Particular attention will be paid here to the syntax and semantics of your English usage. Please double-check to make sure your argument is sensible and is written up in a professional-looking way. \n",
    "\n",
    "\n",
    "To submit your work, do the following: \n",
    "\n",
    "+ According to the [Specifications for Student Work in MTH 325 document](https://gist.github.com/RobertTalbert/641c29bd9f3fc60cba93), you are to write your submission up as a Jupyter notebook using an appropriate mix of text, math, and code. Save your Jupyter notebook to your shared Dropbox folder using the file name `LastName-Miniproject2` where `LastName` is replaced by your last name (family name). \n",
    "+ Please save a _second_ copy of this assignment as an HTML file with the same name (`LastName-Miniproject2`). If you are working in SageMath Cloud, you can save a Jupyter notebook as HTML by going to `File` then `Download As` and then `HTML (.html)`. See the GIF below: \n",
    "\n",
    "<img src=\"jupyter-html.gif\">\n",
    "\n",
    "There is nothing to \"hand in\", either on paper or Blackboard or email attachments. Just save the two versions of the notebook to your folder and it's \"turned in\". Remember that you and I share the folder, so as long as you see it in your folder I will also see it in mine. "
   ]
  },
  {
   "cell_type": "code",
   "execution_count": null,
   "metadata": {
    "button": false,
    "collapsed": true,
    "deletable": true,
    "new_sheet": false,
    "run_control": {
     "read_only": false
    }
   },
   "outputs": [],
   "source": []
  }
 ],
 "metadata": {
  "kernelspec": {
   "display_name": "Python 3",
   "language": "python",
   "name": "python3"
  },
  "language_info": {
   "codemirror_mode": {
    "name": "ipython",
    "version": 3
   },
   "file_extension": ".py",
   "mimetype": "text/x-python",
   "name": "python",
   "nbconvert_exporter": "python",
   "pygments_lexer": "ipython3",
   "version": "3.4.4"
  }
 },
 "nbformat": 4,
 "nbformat_minor": 0
}
