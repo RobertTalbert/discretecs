{
 "cells": [
  {
   "cell_type": "markdown",
   "metadata": {
    "button": false,
    "deletable": true,
    "new_sheet": false,
    "run_control": {
     "read_only": false
    }
   },
   "source": [
    "# MTH 325: Miniproject 2\n",
    "\n",
    "\n",
    "## Overview\n",
    "\n",
    "The purpose of this miniproject is to give practice with writing proofs of statements using mathematical induction. Your work on this miniproject will address the following learning targets: \n",
    "\n",
    ">RI.2: I can outline and analyze a mathematical proof using mathematical induction over the positive integers, weak induction, strong induction, and structural induction.\n",
    "\n",
    ">RI.3: I can construct a correct proof using mathematical induction over the positive integers, weak induction, strong induction, or structural induction.\n",
    "\n",
    "Your work on this miniproject is due by 11:59pm EST on Wednesday, February 3. The instructions for submitting your work are given at the end of the assignment. \n",
    "\n",
    "## Assignment\n",
    "\n",
    "All of the following ask you to write a __proof__ for the statement being shown. These will all be done by some form of mathematical induction. Before writing your proof, in your rough draft make sure you __outline__ the proof so that you can clearly state the _base case_, _inductive hypothesis_, and _inductive step_. Then your final writeup that will appear in your submission will have these three elements along with all the argumentation necessary. \n",
    "\n",
    "For additional examples of induction proofs, please see the supplementary materials on the [card for Learning Target RI.2](https://trello.com/c/dy0sP1OH) which is found at the link you see here and at the [Lessons and Learning Targets board](https://trello.com/b/zR8MNE7m/mth-325-discrete-structures-2). Additional examples can be found in our [secondary textbook](http://applied-discrete-structures.wiki.uml.edu/) in Chapter 3 section 7. \n",
    "\n",
    "\n",
    "\n",
    "\n",
    "\n",
    "## Specifications and submission instructions\n",
    "\n",
    "Please see the [Specifications for Student Work in MTH 325 document](https://gist.github.com/RobertTalbert/641c29bd9f3fc60cba93) for full details on the general expectations for passing work in the class, specifically on miniprojects. \n",
    "\n",
    "To submit your work, do the following: \n",
    "\n",
    "+ According to the [Specifications for Student Work in MTH 325 document](https://gist.github.com/RobertTalbert/641c29bd9f3fc60cba93), you are to write your submission up as a Jupyter notebook using an appropriate mix of text, math, and code. Save your Jupyter notebook to your shared Dropbox folder using the file name `LastName-Miniproject1` where `LastName` is replaced by your last name (family name). \n",
    "+ Please save a _second_ copy of this assignment as an HTML file with the same name (`LastName-Miniproject1`). If you are working in SageMath Cloud, you can save a Jupyter notebook as HTML by going to `File` then `Download As` and then `HTML (.html)`. See the GIF below: \n",
    "\n",
    "<img src=\"jupyter-html.gif\">\n",
    "\n",
    "There is nothing to \"hand in\", either on paper or Blackboard or email attachments. Just save the two versions of the notebook to your folder and it's \"turned in\". Remember that you and I share the folder, so as long as you see it in your folder I will also see it in mine. "
   ]
  },
  {
   "cell_type": "code",
   "execution_count": null,
   "metadata": {
    "button": false,
    "collapsed": true,
    "deletable": true,
    "new_sheet": false,
    "run_control": {
     "read_only": false
    }
   },
   "outputs": [],
   "source": []
  }
 ],
 "metadata": {
  "kernelspec": {
   "display_name": "Python 3",
   "language": "python",
   "name": "python3"
  },
  "language_info": {
   "codemirror_mode": {
    "name": "ipython",
    "version": 3
   },
   "file_extension": ".py",
   "mimetype": "text/x-python",
   "name": "python",
   "nbconvert_exporter": "python",
   "pygments_lexer": "ipython3",
   "version": "3.5.0"
  }
 },
 "nbformat": 4,
 "nbformat_minor": 0
}
