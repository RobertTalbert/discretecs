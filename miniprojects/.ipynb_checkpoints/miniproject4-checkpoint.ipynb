{
 "cells": [
  {
   "cell_type": "markdown",
   "metadata": {
    "button": false,
    "deletable": true,
    "new_sheet": false,
    "run_control": {
     "read_only": false
    }
   },
   "source": [
    "# Miniproject 4: Results about connections inside a relation and transitivity\n",
    "\n",
    "## Overview\n",
    "\n",
    "For this miniproject you are going to be asked to examine some mathematical conjectures that relate compositions of relations and transitivity together. We've discussed these in class and even stated the conjectures through group work, and we will continue to use these results as facts. Your job on this miniproject, should you choose to do it, is to provide clear and correct _proofs_ for these conjectures, and there's an extra statement to consider that may or may not be true.  \n",
    "\n",
    "First, a couple of items that you'll need for all of the results below: \n",
    "\n",
    "+ Assume that in each of the statements below, $r$ is a relation on a set $A$. (This means that $r$ is a set of pairs whose first and second coordinates both belong to $A$.) \n",
    "+ If $a$ and $b$ are nodes in a directed graph, then we define a __directed path from $a$ to $b$ of length $n$__ to be a sequence of edges (pairs) $(a,v_1), (v_1, v_2), (v_2, v_3), \\dots, (v_{n-1}, b)$.  That is, the directed path is a sequence of $n$ edges (pairs) where the first pair has $a$ for its initial node, the last pair has $b$ as its terminal node, and then for every pair \"in the middle\" the initial node of each edge equals the terminal node of the previous one. \n",
    "\n",
    "Here are the statements you'll be examining for this miniproject. You will need to prove all of these. See the end of this assignment for a reminder of specifications for correct proofs. \n",
    "\n",
    "1. Prove that for all $a,b \\in A$, if there is a directed path from $a$ to $b$ of length 2 in the directed graph for $r$, then $(a,b) \\in r^2$. \n",
    "2. Prove that for all $a,b \\in A$ and for all positive integers $n$, if there is a directed path from $a$ to $b$ of length $n$ in the directed graph for $r$, then $(a,b) \\in r^n$. (Note that question 1 is a special case of this proposition. You should prove question 1 first as a warm-up to the general case here in question 2.) \n",
    "3. Prove that if $r$ is transitive, then $r^2 \\subseteq r$. \n",
    "4. Is the converse of question 3 true? That is, if $r^2 \\subseteq r$, then must $r$ be transitive? If you think so, then provide a correct proof. If you think not, provide a _specific_ counterexample. \n",
    "\n",
    "## Notes\n",
    "\n",
    "Please review the [Specifications for Student Work](https://gist.github.com/RobertTalbert/641c29bd9f3fc60cba93) before beginning your writeup of this miniproject, especially the \"Specifications for Miniprojects\" section. See below for the specific grading rubric for the items in this miniproject. \n",
    "\n",
    "Some specific notes about the problems here: \n",
    "\n",
    "+ Note that question 1 is asking for a proof, but probably not a proof by induction this time. The same is true for the proposition in question 3. This is because the proposition is not a predicate that is claimed to be true \"for all positive integers\" and there is no recursion underlying the proposition. To write a proof for these two statements, you'll need to draw upon the other proof techniques you learned in MTH 225. \n",
    "+ I would be very interested in hearing from you if you _did not learn_ any proof techniques in MTH 225 that can be applied to those problems, or if you felt that insufficient time was spent working with proof in your class. \n",
    "+ Remember that to prove a statement of the form \"If...then\" you have three options: (1) Use a _direct proof_, (2) prove the _contrapositive_ instead, or (3) use an _indirect proof_. If you are unfamiliar with these terms, you can either review your notes from MTH 225 (or you might just decide this miniproject isn't for you). I can make available the notes on proof that I used in my sections of MTH 225 if it helps. \n",
    "+ Please note that the proposition in question 4 is not necessarily true. If you think it's false, provide a _specific counterexample_ -- that is, an example of a relation $r$ on a set $A$ in which $r^2 \\subseteq r$ but $r$ is not transitive. This must be a specific relation on a specific set, not a general description. \n",
    "+ When we say \"$r^2 \\subseteq r$\" or other statements about one relation being a \"subset of\" another, what we mean is that we are thinking about $r^2$ and $r$ as relations represented as sets of ordered pairs. Since they are sets, it's possible for one to be a subset of the other. If this is still unclear, take one of our examples from class as a set of pairs and then find $r^2$ and see the sets for yourself. \n",
    "\n",
    "\n",
    "## Submission instructions and grading rubric\n",
    "\n",
    "A complete submission will consist of the following: \n",
    "\n",
    "+ A Jupyter notebook, properly formatted with your name included and with your writeup included (using LaTeX and Markdown -- no code required this time unless it's for an example used in question 4). Save this notebook to your `Miniprojects` folder on Dropbox and use the name `LastName-Miniproject4` so I can find it easily.\n",
    "+ As usual, convert your Jupyter notebook to PDF and upload it to the __Miniproject 4__ assignment. "
   ]
  },
  {
   "cell_type": "code",
   "execution_count": null,
   "metadata": {
    "button": false,
    "collapsed": true,
    "deletable": true,
    "new_sheet": false,
    "run_control": {
     "read_only": false
    }
   },
   "outputs": [],
   "source": []
  }
 ],
 "metadata": {
  "kernelspec": {
   "display_name": "Python 3",
   "language": "python",
   "name": "python3"
  },
  "language_info": {
   "codemirror_mode": {
    "name": "ipython",
    "version": 3
   },
   "file_extension": ".py",
   "mimetype": "text/x-python",
   "name": "python",
   "nbconvert_exporter": "python",
   "pygments_lexer": "ipython3",
   "version": "3.5.0"
  }
 },
 "nbformat": 4,
 "nbformat_minor": 0
}
