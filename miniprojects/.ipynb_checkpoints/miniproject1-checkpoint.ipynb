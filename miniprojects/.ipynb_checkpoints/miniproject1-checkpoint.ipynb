{
 "cells": [
  {
   "cell_type": "markdown",
   "metadata": {
    "button": false,
    "deletable": true,
    "new_sheet": false,
    "run_control": {
     "read_only": false
    }
   },
   "source": [
    "# MTH 325: Miniproject 1\n",
    "\n",
    "\n",
    "## Overview\n",
    "\n",
    "The purpose of this miniproject is to give practice with working with recursively-defined structures. Your work on this miniproject will address the following learning target: \n",
    "\n",
    ">RI.1: I can construct several instances of a recursively defined structure, such as an integer sequence, graph, or tree. \n",
    "\n",
    "Your work on this miniproject is due by 11:59pm EST on Wednesday, January 27. The instructions for submitting your work are given at the end of the assignment. \n",
    "\n",
    "## Assignment\n",
    "\n",
    "Give full solutions to each of the following. \n",
    "\n",
    "### Problem 1\n",
    "\n",
    "Consider the subset $S$ of the integers that is defined recursively as follows: \n",
    "\n",
    "+ The number 4 is an element of $S$. \n",
    "+ If $x \\in S$ and $y \\in S$, then $x - y \\in S$. \n",
    "\n",
    "List the entire set $S$ using roster notation. ([Here's a refresher](https://www.youtube.com/watch?v=PqdWqHU6VPU) if you are not sure what _roster notation_ or other set theory language means.) After giving the set in roster notation, give a clear and complete description of how you got your answer. (A proof is not necessary, just a convincing and clear explanation.) \n",
    "\n",
    "### Problem 2\n",
    "\n",
    "Let $A = \\{0,1\\}$ and consider the following recursively-defined set $T$ that consists of binary strings (that is, strings made out of 0s and 1s): \n",
    "\n",
    "+ The empty string belongs to $T$. \n",
    "+ If $x \\in T$ and $a$ is a symbol in $A$ (that is, a 0 or 1) then $xa \\in T$ where $xa$ means to [concatenate](https://en.wikipedia.org/wiki/Concatenation) $x$ with $a$. \n",
    "\n",
    "This time, do two things:\n",
    "\n",
    "1. Describe the set $T$ either as a list of elements in roster notation, or verbally. If you opt for a verbal description then you need to be as clear and precise as possible. After your description, give a clear and complete description of how you got your answer. (A proof is not necessary, just a convincing and clear explanation.)\n",
    "2. Is it possible for an _infinitely long_ string to belong to $T$? Answer \"yes\" or \"no\" and then explain your reasoning clearly. \n",
    "\n",
    "\n",
    "\n",
    "## Specifications and submission instructions\n",
    "\n",
    "Please see the [Specifications for Student Work in MTH 325 document](https://gist.github.com/RobertTalbert/641c29bd9f3fc60cba93) for full details on the general expectations for passing work in the class, specifically on miniprojects. \n",
    "\n",
    "To submit your work, do the following: \n",
    "\n",
    "+ According to the [Specifications for Student Work in MTH 325 document](https://gist.github.com/RobertTalbert/641c29bd9f3fc60cba93), you are to write your submission up as a Jupyter notebook using an appropriate mix of text, math, and code. Save your Jupyter notebook to your shared Dropbox folder using the file name `LastName-Miniproject1` where `LastName` is replaced by your last name (family name). \n",
    "+ Please save a _second_ copy of this assignment as an HTML file with the same name (`LastName-Miniproject1`). If you are working in SageMath Cloud, you can save a Jupyter notebook as HTML by going to `File` then `Download As` and then `HTML (.html)`. See the GIF below: \n",
    "\n",
    "<img src=\"jupyter-html.gif\">\n",
    "\n",
    "There is nothing to \"hand in\", either on paper or Blackboard or email attachments. Just save the two versions of the notebook to your folder and it's \"turned in\". Remember that you and I share the folder, so as long as you see it in your folder I will also see it in mine. "
   ]
  },
  {
   "cell_type": "code",
   "execution_count": null,
   "metadata": {
    "button": false,
    "collapsed": true,
    "deletable": true,
    "new_sheet": false,
    "run_control": {
     "read_only": false
    }
   },
   "outputs": [],
   "source": []
  }
 ],
 "metadata": {
  "kernelspec": {
   "display_name": "Python 3",
   "language": "python",
   "name": "python3"
  },
  "language_info": {
   "codemirror_mode": {
    "name": "ipython",
    "version": 3
   },
   "file_extension": ".py",
   "mimetype": "text/x-python",
   "name": "python",
   "nbconvert_exporter": "python",
   "pygments_lexer": "ipython3",
   "version": "3.5.0"
  }
 },
 "nbformat": 4,
 "nbformat_minor": 0
}
