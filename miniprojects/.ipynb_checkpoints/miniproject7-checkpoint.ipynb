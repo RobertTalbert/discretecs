{
 "cells": [
  {
   "cell_type": "markdown",
   "metadata": {
    "button": false,
    "deletable": true,
    "new_sheet": false,
    "run_control": {
     "read_only": false
    }
   },
   "source": [
    "# Miniproject 7: Topological sorting\n",
    "\n",
    "## Overview\n",
    "\n",
    "In this miniproject you will learn a few more things about partially ordered sets, then apply them to a method of sorting that works on any partially ordered set. \n",
    "\n",
    "## Background material\n",
    "\n",
    "To get this miniproject off and running, we need to introduce two new ideas about partially ordered sets (\"posets\"). \n",
    "\n",
    "First of all we introduce the idea of _minimal_ elements in a poset: \n",
    "\n",
    ">__Definition:__ Let $r$ be a partial order on the set $S$. (This means $r$ is reflexive, antisymmetric, and transitive.) An element $b \\in S$ is called __minimal__ in $S$ if there is no $a \\in S$ other than $b$ such that $(a,b) \\in r$. \n",
    "\n",
    "Examples: \n",
    "\n",
    "+ In the set $\\{1,3,5,6,7\\}$ with the partial ordering of \"less than or equal to\", the number $1$ is maximal. \n",
    "+ In the set $\\{2, 3, 5, 10, 11, 15, 25\\}$ using the partial ordering of \"divides\", the numbers 2, 3, 5, and 11 are minimal. This is because there are no numbers (other than those numbers themselves) that divide them. (Note that this shows that a poset can have more than one minimal element.) On the other hand 10 is not minimal because 5 divides 10 and therefore $(5,10)$ belongs to the relation. Similarly, neither 15 nor 25 are minimal. \n",
    "+ In the set of all subsets of $\\{1,2,4,6\\}$ using $\\subseteq$ as the partial ordering, the set $\\emptyset$ is minimal. None of the other subsets are minimal because there is always something \"below\" one of the other subsets, if nothing else then the empty set. \n",
    "\n",
    "Maximal elements are easy to find in a Hasse diagram because they are the elements at the \"bottom\". (Refer to the Hasse diagrams drawn for the Daily Homework in Lesson 12 for the second two examples above.) \n",
    "\n",
    "The second concept to introduce is a special kind of partial ordering:\n",
    "\n",
    ">__Definition:__ Let $S$ be a partially ordered set with partial ordering $r$. If $a,b \\in S$ and either $(a,b) \\in r$ or $(b,a) \\in r$, then we say $a$ and $b$ are __comparable elements__. If _every_ pair of elements in $S$ is comparable, then we say that $r$ is a __total ordering__. \n",
    "\n",
    "Going back to the examples above: \n",
    "\n",
    "+ In the set $\\{1,3,5,6,7\\}$ with the partial ordering of \"less than or equal to\", 1 and 5 are comparable, as are 4 and 7. In fact every pair of numbers is comparable because $a \\leq b$ or $b \\leq a$ for every $a,b$. That means that \"less than or equal to\" is a total ordering. \n",
    "+ In the set $\\{2, 3, 5, 10, 11, 15, 25\\}$ using the partial ordering of \"divides\", the numbers 5 and 10 are comparable and so are the numbers 2 and 10, and the numbers 5 and 25. However the numbers 3 and 10 are not comparable (because 3 does not divide 10, nor vice versa) and 10 and 15 are not comparable either. This means \"divides\" is _not_ a total ordering. \n",
    "+ In the set of all subsets of $\\{1,2,4,6\\}$ using $\\subseteq$ as the partial ordering, the subests $\\{1,2\\}$ and $\\{1,2,6\\}$ are comparable as are the sets $\\emptyset$ and $\\{4\\}$. However the sets $\\{1,2\\}$ and $\\{2,4\\}$ are not comparable because neither one of them is a subset of the other. Therefore $\\subseteq$ is not a total ordering. \n",
    "\n",
    "When we take a set of objects and _sort_ it, we are placing a total ordering on it because we are taking the elements of the set and placing them in order, one after the other in a way that each pair of elements is \"comparable\". So total orderings are at the heart of sorting algorithms. \n",
    "\n",
    "The main focus of this miniproject is an algorithm that takes a partially ordered set and returns a _totally_ ordered set, so that the elements of the original partially ordered set are \"sorted\", that is, put in a staight-line order with any two elements comparable. The algorithm is called __topological sort__. \n",
    "\n",
    "Here is pseudocode for the topological sorting algorithm. Please note this is not real, executable Python -- just fake Python with the steps of the algorithm written out. The algorithm takes as input a partially ordered set $S$: \n",
    "\n",
    "    def topological_sort(S): \n",
    "        k = 0\n",
    "        a = [ ]\n",
    "        while S is nonempty: \n",
    "            a[k] = Any minimal element of S\n",
    "            S = S - {a[k]}     \n",
    "            k = k+1\n",
    "        return a\n",
    "     \n",
    "Note that in line 5, there is no specified rule for how to choose the minimal element of $S$ if there are more than one. Therefore two different people working out this algorithm by hand might have different results; but the results may both be correct.      \n",
    "     \n",
    "In line 6, what's happening there is a set difference operation -- we are removing `a[k]` from the set $S$ and setting $S$ equal to the result. \n",
    "\n",
    "The list that is output by this algorithm represents a _total ordering_ on the original partially ordered set. By sorting these and putting them in a row, as they are with a list, we have a total order. Very important: This total ordering is _compatible_ with the original partial ordering in the sense that if $(a,b)$ is in the original partial ordering, then $a$ will appear before $b$ in the list that the algorithm produces. (Proving this, is one of the questions to answer below.) \n",
    "\n",
    "The problems in this miniproject ask you to interpret and work out this algorithm for a number of examples. Therefore no examples are given here. It's up to you read this pseudocode and work it out for yourself. \n",
    "\n",
    "    \n",
    "## Problems \n",
    "\n",
    "(1) Consider the set $\\{1,2,3,6,12,24,36,48\\}$ with the relation of \"divides\". (That is, $(a,b)$ belongs to the relation if and only if $a$ divides $b$.)  Apply the topological sorting algorithm to this partial ordering. Show all the steps in the algorithm and explain what you are doing in each step, and be sure to clearly state the list that results. \n",
    "\n",
    "(2) Consider the set of all subsets of $\\{a,b,c,d\\}$ with $\\subseteq$ as the partial ordering. Apply the topological sorting algorithm to this partial ordering. Show all the steps in the algorithm and explain what you are doing in each step, and be sure to clearly state the list that results. \n",
    "\n",
    "(3) Shown below is a Hasse diagram for the tasks in a software design project. Each node is a task that needs to be completed, and one task appears below another if the first task must be completed before the next task can be completed. Notice that a large number of these tasks are not comparable -- one does not depend on the other. However, in real life we have to come up with a \"to do list\" for this project where the tasks must be done in a single linear order. Apply the topological sort algorithm to this partially ordered set to come up with such a to-do list. As before, show all the steps in the algorithm and explain what you are doing in each step, and be sure to clearly state the list that results. \n",
    "\n",
    "<img src=\"hasse-mp7.png\">\n",
    "\n",
    "(4) Let $r$ be the original partial ordering on $S$ and suppose $(x,y) \\in r$. Prove that in the list that is produced by the topological sorting algorithm, $x$ precedes $y$. (By \"precede\" we just mean that $x$ appears earlier in the list than $y$ does, not necessarily consecutively.) \n",
    "\n"
   ]
  },
  {
   "cell_type": "markdown",
   "metadata": {
    "button": false,
    "collapsed": true,
    "deletable": true,
    "new_sheet": false,
    "run_control": {
     "read_only": false
    }
   },
   "source": [
    "## Submission instructions and grading rubric\n",
    "\n",
    "A complete submission will consist of the following: A Jupyter notebook, properly formatted with your name included, with complete answers and arguments for all questions. Note that there is no coding this time (unless you do it for scratch work) and so the kernel doesn't matter.  \n",
    "\n",
    "Again please _do not include any sample computations_ with your Jupyter notebook. Do those in a \"scratch\" notebook. \n",
    "\n",
    "Once you are done, save a PDF version of the notebook to the __Miniproject 7__ assignment on Blackboard. Please give your Jupyter notebook the name `LastName-Miniproject7` so I can find it easily. If you have issues converting the notebook to PDF from within SageMath Cloud, save the notebook as HTML first and then print that to a PDF. If all else fails, upload the Jupyter notebook itself. \n",
    "\n",
    "The grading standards are as follows: \n",
    "\n",
    "+ E = Each part above has correct work and detailed, complete, and correct explanations of the steps of the algorithm and the proof in question 3. \n",
    "+ M = The work for each question are correct but there are a small number errors in logic, semantics, syntax, or computation in the arguments. \n",
    "+ R = One or more of the answers is incorrect, or there are pervasive errors in the arguments. \n",
    "+ F = One or more of the answers or arguments is missing, or generally speaking not enough evidence is shown to conclude that the author has partial understanding of the concepts. \n",
    "\n"
   ]
  },
  {
   "cell_type": "code",
   "execution_count": null,
   "metadata": {
    "collapsed": true,
    "run_control": {}
   },
   "outputs": [],
   "source": []
  }
 ],
 "metadata": {
  "kernelspec": {
   "display_name": "Python 3",
   "language": "python",
   "name": "python3"
  },
  "language_info": {
   "codemirror_mode": {
    "name": "ipython",
    "version": 3
   },
   "file_extension": ".py",
   "mimetype": "text/x-python",
   "name": "python",
   "nbconvert_exporter": "python",
   "pygments_lexer": "ipython3",
   "version": "3.5.0"
  }
 },
 "nbformat": 4,
 "nbformat_minor": 0
}
