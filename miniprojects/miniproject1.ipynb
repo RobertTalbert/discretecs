{
 "cells": [
  {
   "cell_type": "markdown",
   "metadata": {
    "button": false,
    "deletable": true,
    "new_sheet": false,
    "run_control": {
     "read_only": false
    }
   },
   "source": [
    "# MTH 325: Miniproject 1\n",
    "\n",
    "\n",
    "## Overview\n",
    "\n",
    "The purpose of this miniproject is to give practice with working with recursively-defined structures. Your work on this miniproject will address the following learning target: \n",
    "\n",
    ">RI.1: I can construct several instances of a recursively defined structure, such as an integer sequence, graph, or tree. \n",
    "\n",
    "Your work on this miniproject is due by 11:59pm EST on Wednesday, January 27. The instructions for submitting your work are given at the end of the assignment. \n",
    "\n",
    "## Assignment\n",
    "\n",
    "\n",
    "\n",
    "\n",
    "## Specifications and submission instructions\n",
    "\n",
    "Please see the [Specifications for Student Work in MTH 325 document](https://gist.github.com/RobertTalbert/641c29bd9f3fc60cba93) for full details on the general expectations for passing work in the class, specifically on miniprojects. \n",
    "\n",
    "For this particular miniproject, here are some specific expectations: \n",
    "\n",
    "\n",
    "To submit your work, do the following: \n",
    "\n",
    "+ According to the [Specifications for Student Work in MTH 325 document](https://gist.github.com/RobertTalbert/641c29bd9f3fc60cba93), you are to write your submission up as a Jupyter notebook using an appropriate mix of text, math, and code. Save your Jupyter notebook to your shared Dropbox folder using the file name `LastName-Miniproject1` where `LastName` is replaced by your last name (family name). \n",
    "+ Please save a _second_ copy of this assignment as an HTML file with the same name (`LastName-Miniproject1`). If you are working in SageMath Cloud, you can save a Jupyter notebook as HTML by going to `File` then `Download As` and then `HTML (.html)`. \n",
    "\n",
    "\n",
    "\n",
    "There is nothing to \"hand in\", either on paper or Blackboard or email attachments. Just save the two versions of the notebook to your folder and it's \"turned in\". "
   ]
  },
  {
   "cell_type": "code",
   "execution_count": null,
   "metadata": {
    "collapsed": true,
    "run_control": {}
   },
   "outputs": [],
   "source": []
  }
 ],
 "metadata": {
  "kernelspec": {
   "display_name": "Python 3",
   "language": "python",
   "name": "python3"
  },
  "language_info": {
   "codemirror_mode": {
    "name": "ipython",
    "version": 3
   },
   "file_extension": ".py",
   "mimetype": "text/x-python",
   "name": "python",
   "nbconvert_exporter": "python",
   "pygments_lexer": "ipython3",
   "version": "3.5.0"
  }
 },
 "nbformat": 4,
 "nbformat_minor": 0
}
