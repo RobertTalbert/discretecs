{
 "cells": [
  {
   "cell_type": "markdown",
   "metadata": {
    "collapsed": false
   },
   "source": [
    "# Miniproject 8: Creating a word graph\n",
    "\n",
    "## Overview\n",
    "\n",
    "One of the first examples of _graphs_ we studied in class was the so-called __word graph__. The nodes of this graph are words from a given set of words, and there is an edge between two words if one of the following is true: \n",
    "\n",
    "+ You can get one word from the other by transposing two letters of the word, or\n",
    "+ You can get one word from the other by replacing one letter in the first word with a new letter. \n",
    "\n",
    "For example, in the set {\"ACT\", \"AIM\", \"ARC\", \"ARM\", \"ART\", \"CAR\", \"CAT\", \"OAR\", \"OAT\", \"RAT\", \"TAR\"}, there would be an edge between \"RAT\" and \"TAR\" because we can get \"TAR\" from \"RAT\" by transposing the \"R\" and \"T\"; and there would be an edge between \"AIM\" and \"ARM\" because we can get \"ARM\" from \"AIM\" by replacing the \"I\" with an \"R\". However there would not be an edge between \"ACT\" and \"ARC\". \n",
    "\n",
    "In this miniproject, you will __write a Python function called `word_graph` that accepts a list of three-letter strings as input, and generate its corresponding word graph as the output.__ Although this is a Python function, you will need to use the SageMath 6.10 kernel and the graph-theory related Sage commands in your function. So the syntax is Python as always, but you will be using Sage commmands to produce the graph. \n",
    "\n",
    "Here are two screenshots that show what the function should look like when used: \n",
    "\n",
    "+ [First screenshot](https://goo.gl/Q86r9g) \n",
    "+ [Second screenshot](https://goo.gl/Ct8bsE)\n",
    "\n",
    "\n",
    "## Notes\n",
    "\n",
    "The `word_graph` function should use the `return` command to `return` a _graph object_ -- an instance of the `Graph` class, as shown in the screenshots. The `word_graph` function __should not return a picture__. Again -- it should return a Graph object that can then be manipulated in any of the ways we typically manipulate graphs. \n",
    "\n",
    "To test to make sure your function is returning the correct data, feed it a list of three-letter words and assign the result to a variable. For example, type: \n",
    "\n",
    "    wg_test = word_graph(['bat', 'bit', 'but', 'bad', 'bar', 'cat', 'hat'])\n",
    "    \n",
    "When you shift-enter to execute that code, nothing should be output because all it does is store the graph object in the variable `wg_test`. But you should then be able to do the following: \n",
    "\n",
    "+ `wg_test.show()` to produce a visual of the graph\n",
    "+ `wg_test.adjacency_matrix()` to convert the graph to an adjacency matrix\n",
    "+ `wg_test.to_dictionary()` to convert the graph to a dictionary\n",
    "+ `wg_test.edges(labels = False)` to get the edge list of the graph \n",
    "+ `wg_test.degree_sequence()` to get the degree sequence of the graph\n",
    "\n",
    "So again, what your function is supposed to produce is not a _drawing_ of a graph but a __Graph object__ that can be manipulated further using other Sage commands. \n",
    "\n",
    "Other notes for this miniproject: \n",
    "\n",
    "+ The `word_graph` function should only operate on lists of three-letter words. You may assume that the user is smart enough not to enter invalid data; but the input must consist of three-letter strings and the strings must be inside a list (and not a dictionary or other data structure). \n",
    "+ The words in the list do not have to be real words, just three-letter strings. \n",
    "+ Assume that the capitalization of the strings is the same throughout. That is, assume that the entire list is lower-case or the entire list is upper case but do not attempt to work with lists of strings in which the cases are mixed (e.g. `['Cat', 'Bat']`). \n",
    "+ You would be well-served, before beginning this miniproject, to review how Graph objects are constructed in Sage. Because this is what your function will be doing. \n",
    "+ If you need to write helping functions that reside outside the code for `word_graph`, that's fine; just make sure they are included in the same code block as `word_graph`. \n",
    "\n",
    "If other clarifying questions about this miniproject are asked, they will be posted in a prominent place and announced. \n",
    "\n",
    "\n",
    "## Submission instructions and grading rubric\n",
    "\n",
    "A complete submission will consist of the following: \n",
    "\n",
    "+ A Jupyter notebook that contains the code for `word_graph` along with any helper functions you use, plus a short narrative that explains the working of your function(s) (in a Markdown block, or multiple Markdown blocks) and then a code block that contains the functions themselves. \n",
    "+ A PDF version of this Jupyter notebook uploaded to Blackboard. \n",
    "\n",
    "_Please do not include any sample computations with your Jupyter notebook._ Do those in a \"scratch\" notebook.\n",
    "\n",
    "To grade this miniproject I will be reading your narrative explanation and then testing your function out on a semi-large set of input sets for which the answers are known. The grading standards are as follows:\n",
    "\n",
    "+ E = The function produces a correct graph object on each input, and the narrative is informative and well-written. \n",
    "+ M = The function produces the correct graph on almost all the test inputs (to give a rough figure, around 80% of them) and there is a brief and well-written descriptive narrative that explains how the function works.\n",
    "+ R = The function produces the correct output on fewer than 3/4 of the test inputs; or the narrative is uninformative or poorly written.\n",
    "+ F = The function throws a Python or Sage syntax error when the code block is evaluated; or the output is not a Graph object (for example, if the output is just a picture); or the narrative is missing or shows a lack of effort."
   ]
  },
  {
   "cell_type": "code",
   "execution_count": null,
   "metadata": {
    "collapsed": true
   },
   "outputs": [],
   "source": []
  }
 ],
 "metadata": {
  "kernelspec": {
   "display_name": "Python 2 (SageMath)",
   "language": "python",
   "name": "python2"
  },
  "language_info": {
   "codemirror_mode": {
    "name": "ipython",
    "version": 2
   },
   "file_extension": ".py",
   "mimetype": "text/x-python",
   "name": "python",
   "nbconvert_exporter": "python",
   "pygments_lexer": "ipython2",
   "version": "2.7.10"
  },
  "name": "miniproject8.ipynb"
 },
 "nbformat": 4,
 "nbformat_minor": 0
}
