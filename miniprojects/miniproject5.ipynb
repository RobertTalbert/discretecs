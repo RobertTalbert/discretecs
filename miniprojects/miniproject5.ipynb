{
 "cells": [
  {
   "cell_type": "markdown",
   "metadata": {
    "collapsed": false
   },
   "source": [
    "# Miniproject 5: Relation property finder functions\n",
    "\n",
    "## Overview\n",
    "\n",
    "In this miniproject, you will write four different functions in SageMath: `isReflexive`, `isSymmetric`, `isAntisymmetric`, and `isTransitive`. The functions should behave like this: \n",
    "\n",
    "+ The input to the function is a relation on a set, _entered as a dictionary_.\n",
    "+ The output of the function `isReflexive` is a Boolean, returning `True` if the relation that was input has the reflexive property, or `False` if it does not have the reflexive property. \n",
    "+ The remaining three functions `isSymmetric`, `isAntiSymmetric`, and `isTransitive` should behave similarly: `isSymmetric` should return `True` if the relation is symmetric and `False` otherwise; `isAntisymmetric` should return `True` if the relation is antisymmetric and `False` otherwise; `isTransitive` should return `True` if the relation is transitive and `False` otherwise. \n",
    "\n",
    "[Here is a screenshot](https://goo.gl/8NyO9u) with some examples of the input and outputs that are expected. \n",
    "\n",
    "## Notes \n",
    "\n",
    "You shouldn't need any special SageMath functionality for this miniproject -- in fact you should be able to write the functions using only \"pure\" Python code. However, please note that any Sage command you find that would determine the properties of these relations automatically is off-limits (except to test your code). The point here is for _you_ to write code that will take in the input and determine the correct output. \n",
    "\n",
    "Here are some further notes: \n",
    "\n",
    "+ Please note that the functions you write should `return` the Boolean, not `print` it. That is, the function should not merely print `True` or `False` to the screen but actually use the `return` command to return a Boolean. This is because in future miniprojects you will have the opportunity to build off your work here, and use the functions to set up `if-then` blocks. (`if isTransitive(r) then...`) \n",
    "+ The functions need to return the correct values regardless of the data type of the elements in the original dictionary. For example your functions should work equally well on the dictionary `{0:[0,1], 1:[1]}` and on the dictionary `{'John':['John', 'Paul'], 'Paul':['Paul']}`. Functions that only work on dictionaries containing integers will not get passing marks. \n",
    "+ The functions must be named _exactly_ as they are described above -- lower-case \"is\", then capital letter, then lowercase letters. Otherwise my grading script will not work and you will be asked to resubmit the miniproject. \n",
    "+ You would be well-served, before you begin coding, to review how to work with dictionaries in Python. For example, you will probably want to review the concepts of keys and values; how to get the list of values for a given key; and how to iterate a `for` loop over the keys. \n",
    "+ As per our class discussion from Wednesday, February 17 -- \"antisymmetric\" is not the same as \"not symmetric\" and so you can't write `isAntisymmetric` using the `isSymmetric` function. \n",
    "\n",
    "If there are other FAQs about this Miniproject as it gets underway, they will be posted in a prominent spot and announced. \n",
    "\n",
    "## Submission instructions and grading rubric\n",
    "\n",
    "A complete submission will consist of the following: \n",
    "\n",
    "+ A Jupyter notebook, properly formatted with your name included. Also included must be a short narrative that explains the working of your functions (in a Markdown block, or multiple Markdown blocks) and then a code block that contains the functions themselves. Please put all four functions in the same block. \n",
    "+ Again: __The functions themselves must be included and placed in a code block__ so that I can run it within your notebook. \n",
    "\n",
    "Please _do not include any sample computations_ with your Jupyter notebook. Do those in a \"scratch\" notebook. \n",
    "\n",
    "Once you have a working function written up as above, save the Jupyter notebook to your `Miniprojects` folder on Dropbox and save a PDF version to the __Miniproject 5__ assignment on Blackboard. Please give your Jupyter notebook the name `LastName-Miniproject5` so I can find it easily. \n",
    "\n",
    "To grade this miniproject I will be reading your narrative explanation and then testing your function out on a semi-large set of inputs (which in this case are ordered quadruples of numbers) for which the answers are known. The grading standards are as follows: \n",
    "\n",
    "+ E = The function produces the correct output on all the test inputs, and there is a brief and well-written descriptive narrative that explains how the function works. \n",
    "+ M = The function produces the correct output on almost all the test inputs (to give a rough figure, around 80% of them) and there is a brief and well-written descriptive narrative that explains how the function works.\n",
    "+ R = The function produces the correct output on fewer than 3/4 of the test inputs; or the narrative is uninformative or poorly written. \n",
    "+ F = The function throws an error, or the narrative is missing or shows a lack of effort. \n",
    "\n",
    "Please note that if your code throws an error of any sort on any of the test inputs, it will be given an \"F\" grade (\"Fragmentary\") automatically. It is your responsibility to ensure that you have thoroughly debugged your work and do not submit anything that throws an error. "
   ]
  }
 ],
 "metadata": {
  "kernelspec": {
   "display_name": "Python 2 (SageMath)",
   "language": "python",
   "name": "python2"
  },
  "language_info": {
   "codemirror_mode": {
    "name": "ipython",
    "version": 2
   },
   "file_extension": ".py",
   "mimetype": "text/x-python",
   "name": "python",
   "nbconvert_exporter": "python",
   "pygments_lexer": "ipython2",
   "version": "2.7.10"
  },
  "name": "miniproject5.ipynb"
 },
 "nbformat": 4,
 "nbformat_minor": 0
}
