{
 "cells": [
  {
   "cell_type": "markdown",
   "metadata": {},
   "source": [
    "# Miniproject 3: Linear Recurrence Relation Solver\n",
    "\n",
    "## Overview\n",
    "\n",
    "In this miniproject, you will write a function in SageMath called `rrsolver` that does the following: \n",
    "\n",
    "+ The input to the function are the _coefficients_ and _initial conditions_ of a linear second-order homogeneous recurrence relation written in the form\n",
    "$$a_n = c_1a_{n-1} + c_2a_{n-2} \\quad a(0) = A, a(1) = B$$\n",
    "and the input would look like ``rrsolver(c1, c2, A, B)``. For example, if the recurrence relation were\n",
    "$$a_n = a_{n-1} + 6a_{n-2} \\quad a(0) = 3, a(1) = 6$$\n",
    "then the input would be ``rrsolver(1, 6, 3, 6)``. In other words there are four inputs, in this order: The coefficient on $a_{n-1}$, the coefficient on $a_{n-2}$, the value of $a(0)$, and the value of $a(1)$. We assume that the recurrence relation has been written as above, with $a_n$ on the left side and everything else on the right side. \n",
    "\n",
    "+ Once entered, the function will: \n",
    "    + Print an error message if there are no real-number roots to the characteristic equation; \n",
    "    + Print an error message if there is a single root to the characteristic equation that is repeated; and \n",
    "    + Print, as a string, the formula for the closed-formula solution if there are two distinct real roots. \n",
    "    \n",
    "Here is a screenshot with some examples:\n",
    "\n",
    "<img src=\"rrexamples.png\">\n",
    "\n",
    "__Note:__ A \"SageMath\" function is exactly the same thing as a Python function, only we switch the kernel to SageMath to tap into SageMath's built-in math functionality. \n",
    "\n",
    "\n",
    "\n",
    "## Notes \n",
    "\n",
    "Taking on this miniproject will involve teaching yourself a few things about how SageMath does algebra. __You are expected to use internet resources to learn how to do these things.__ Learning about background material needed to complete the project is not a violation of academic honesty, so search away. On the other hand if you aren't willing to engage in this level of self-teaching, then you should not do this miniproject!\n",
    "\n",
    "The things you will need to learn about include: \n",
    "\n",
    "+ How SageMath handles symbolic variables in computations\n",
    "+ How SageMath solves linear systems (you'll need this for finding the coefficients in the closed-form solution) \n",
    "\n",
    "[Here is the official Sage tutorial on basic algebra and calculus as a starting point.](http://doc.sagemath.org/html/en/tutorial/tour_algebra.html). There are plenty of other SageMath resources out there; sometimes a Google query on \"Sage\" will bring back results that you won't find with a query on \"SageMath\". \n",
    "\n",
    "Please note that SageMath has an incredibly deep repository of mathematical functions that \"pure\" Python does not have (e.g. the ability to solve linear systems). However __any Sage command you find that would solve the recurrence relation automatically is off-limits.__ The point here is for _you_ to write code that will take in the input, use SageMath to do any _basic_ algebra needed to find the pieces of the solution, and then format a string that puts all the pieces together. \n",
    "\n",
    "Here are some further notes: \n",
    "\n",
    "+ Having a mix of decimals and exact values in the closed-formula solution is OK. \n",
    "+ You may assume a smart user -- that is, the user will always correctly input four numbers into the function. \n",
    "+ The output of the program does not have to look exactly like the examples in the screenshot above. You can change the wording of the error message for instance. However, the output _must_ produce a correct-looking formula as shown in the examples. \n",
    "+ Remember to change the kernel to SageMath! The function you are writing will likely not work in Python 3. \n",
    "\n",
    "If there are other FAQs about this Miniproject as it gets underway, they will be posted in a prominent spot and announced. \n",
    "\n",
    "## Submission instructions and grading rubric\n",
    "\n",
    "A complete submission will consist of the following: \n",
    "\n",
    "+ A Jupyter notebook, properly formatted with your name included. Also included must be a short narrative that explains the working of your function (in a Markdown block) and then a code block that contains the function itself. \n",
    "+ Again: __The function itself must be included and placed in a code block__ so that I can run it within your notebook. \n",
    "\n",
    "Please _do not include any sample computations_ with your Jupyter notebook. Do those in a \"scratch\" notebook. \n",
    "\n",
    "Once you have a working function written up as above, save the Jupyter notebook to your `Miniprojects` folder on Dropbox and save a PDF version to the __Miniproject 3__ assignment on Blackboard. Please give your Jupyter notebook the name `LastName-Miniproject3` so I can find it easily. \n",
    "\n",
    "To grade this miniproject I will be reading your narrative explanation and then testing your function out on a semi-large set of inputs (which in this case are ordered quadruples of numbers) for which the answers are known. The grading standards are as follows: \n",
    "\n",
    "+ E = The function produces the correct output on all the test inputs, and there is a brief and well-written descriptive narrative that explains how the function works. \n",
    "+ M = The function produces the correct output on almost all the test inputs (to give a rough figure, around 80% of them) and there is a brief and well-written descriptive narrative that explains how the function works.\n",
    "+ R = The function produces the correct output on fewer than 3/4 of the test inputs; or the narrative is uninformative or poorly written. \n",
    "+ F = The function throws an error, or the narrative is missing or shows a lack of effort. \n",
    "\n",
    "Please note that if your code throws an error of any sort on any of the test inputs, it will be given an \"F\" grade (\"Fragmentary\") automatically. It is your responsibility to ensure that you have thoroughly debugged your work and do not submit anything that throws an error. "
   ]
  },
  {
   "cell_type": "code",
   "execution_count": null,
   "metadata": {
    "collapsed": true
   },
   "outputs": [],
   "source": []
  }
 ],
 "metadata": {
  "kernelspec": {
   "display_name": "Sage 6.9",
   "language": "",
   "name": "sage_6_9"
  },
  "language_info": {
   "codemirror_mode": {
    "name": "ipython",
    "version": 2
   },
   "file_extension": ".py",
   "mimetype": "text/x-python",
   "name": "python",
   "nbconvert_exporter": "python",
   "pygments_lexer": "ipython2",
   "version": "2.7.9"
  }
 },
 "nbformat": 4,
 "nbformat_minor": 0
}
