{
 "cells": [
  {
   "cell_type": "markdown",
   "metadata": {},
   "source": [
    "# Solutions to in-class activity 2024-03-11\n",
    "\n",
    "Please refer to [this document](https://docs.google.com/document/d/1YAAVckzM1zqm_L2--EYpczKNjfSGX5kGY3MFKLZTIb8/edit?usp=sharing) for the specifics of the activity. \n",
    "\n",
    "- **Mapping 1:** This is a function that is *bijective* (both injective and surjective). \n",
    "- **Mapping 2:** This is *not a function* because $f(20)$ is given as two different things (both 20 and 50). \n",
    "- **Mapping 3:** This is a function that is *bijective* (both injective and surjective). \n",
    "- **Mapping 4:** This is a function that is *injective but not surjective*. It fails to be surjective because since the domain is $\\mathbb{N}$, there are no negative outputs; it also fails to be surjective because odd numbers like $5$ can never be output. \n",
    "- **Mapping 5:** This is *not a function* because negative numbers are in the domain (for example $-4$) but those cannot be input into this mapping. \n",
    "- **Mapping 6:** This is a function that is *surjective but not injective*. It is not injective, because \"collisions\" can happen where different inputs map to the same output, for example `ceil(1.2)` and `ceil(1.9)` both equal $2$. \n",
    "- **Mapping 7:** This is *not a function*. The domain is the set of all pairs of integers, which we would denote with the Cartesian product $\\mathbb{Z} \\times \\mathbb{Z}$. One pair that is in the domain is $(1,0)$. But `divmod(1,0)` produces an error because it is attempting to divide 1 by 0: \n",
    "\n"
   ]
  },
  {
   "cell_type": "code",
   "execution_count": 1,
   "metadata": {},
   "outputs": [
    {
     "ename": "ZeroDivisionError",
     "evalue": "integer division or modulo by zero",
     "output_type": "error",
     "traceback": [
      "\u001b[0;31m---------------------------------------------------------------------------\u001b[0m",
      "\u001b[0;31mZeroDivisionError\u001b[0m                         Traceback (most recent call last)",
      "Cell \u001b[0;32mIn[1], line 1\u001b[0m\n\u001b[0;32m----> 1\u001b[0m \u001b[38;5;28mdivmod\u001b[39m(\u001b[38;5;241m1\u001b[39m,\u001b[38;5;241m0\u001b[39m)\n",
      "\u001b[0;31mZeroDivisionError\u001b[0m: integer division or modulo by zero"
     ]
    }
   ],
   "source": [
    "divmod(1,0)"
   ]
  },
  {
   "cell_type": "markdown",
   "metadata": {},
   "source": [
    "- **Mapping 8:** This is a function that is *bijective* (both injective and surjective). \n",
    "- **Mapping 9:** This is a function that is *neither injective nor surjective*. It's not injective because for example, `11110000` and `10100000` both map to the same bitstring, `00000000`. It's not surjective because although the codomain is the set of all 8-bit strings, no bitstring with a `1` in its first four bits will ever be output. For example `11001010` is not a possible output. \n",
    "- **Mapping 10:** This is a function that is *injective* (or at least, we hope it is injective because having two people with the same G number is a disaster!) *but not surjective*, because there are $10^9$ points in the codomain but not nearly that many current or former GVSU students or employees, so not all of those numbers will be used. \n",
    "\n",
    "## Part 2\n",
    "\n",
    "*(From the back of the activity, which we did not get to)* For each mapping from part 1 that was a function, determine the domain, codomain, and range. \n",
    "\n",
    "| Function | Domain | Codomain | Range | \n",
    "| :-----: | :-----: | :-----: | :----: | \n",
    "| 1 | $\\{1,2,3,4\\}$ | $\\{10,20,30,40\\}$ | $\\{10,20,30,40\\}$ | \n",
    "| 3 | $\\mathbb{N}$ | $\\{0,2,4,6,8,\\dots\\}$ | $\\{0,2,4,6,8,\\dots\\}$ | \n",
    "| 4 | $\\mathbb{N}$ | $\\mathbb{Z}$ | $\\{0,2,4,6,8,\\dots\\}$ | \n",
    "| 6 | $\\mathbb{R}$ (set of all real numbers) | $\\mathbb{Z}$ | $\\mathbb{Z}$ | \n",
    "| 8 | Set of all 8-bit strings | Set of all 8-bit strings | Set of all 8-bit strings |\n",
    "| 9 | Set of all 8-bit strings | Set of all 8-bit strings | Set of all 8-bit strings starting with `0000` | \n",
    "| 10 | Set of all current and past GV students | $\\{1,2,\\dots, 99999999\\}$ | Set of all assigned G numbers | "
   ]
  },
  {
   "cell_type": "markdown",
   "metadata": {},
   "source": []
  }
 ],
 "metadata": {
  "kernelspec": {
   "display_name": "base",
   "language": "python",
   "name": "python3"
  },
  "language_info": {
   "codemirror_mode": {
    "name": "ipython",
    "version": 3
   },
   "file_extension": ".py",
   "mimetype": "text/x-python",
   "name": "python",
   "nbconvert_exporter": "python",
   "pygments_lexer": "ipython3",
   "version": "3.11.5"
  }
 },
 "nbformat": 4,
 "nbformat_minor": 2
}
