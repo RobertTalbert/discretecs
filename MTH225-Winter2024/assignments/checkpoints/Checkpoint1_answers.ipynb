{
 "cells": [
  {
   "cell_type": "markdown",
   "id": "9abcd3ce-6ae7-4feb-977a-d36fada733cc",
   "metadata": {},
   "source": [
    "# Checkpoint 1 answers\n",
    "\n",
    "## C1\n",
    "\n",
    ">If it's cold, then I'll stay inside\n",
    "\n",
    "1. It's cold\n",
    "2. I'll stay inside\n",
    "3. If I stay inside, then it's cold.\n",
    "4. If I don't stay inside, then it's not cold.\n",
    "5. If it's not cold, then I'll not stay inside.\n",
    "6. It's cold but I am not staying inside.\n",
    "\n",
    "---\n"
   ]
  },
  {
   "cell_type": "markdown",
   "id": "1be4a4e9-7b9b-4963-bb0d-ae28c8fc78e4",
   "metadata": {},
   "source": [
    "## C2\n",
    "\n",
    ">For every integer $n \\geq 1$, a set with $n$ elements has $2^n$ subsets.\n",
    "\n",
    "1. The predicate $P(n)$ says \"a set with $n$ elements has $2^n$ subsets\".\n",
    "2. $n = 1$\n",
    "3. Consider a set with $1$ element, let's say $\\{x\\}$. Then there are exactly two subsets: $\\emptyset$, and the entire set $\\{x\\}$. Since $2 = 2^1$ the base case holds. \n",
    "4. Assume that for some integer $k$, a set with $k$ elements has $2^k$ subsets. \n",
    "5. Prove that a set with $k+1$ elements has $2^{k+1}$ subsets. \n",
    "\n",
    "Side note: A complete proof of this proposition is found in [the vault article on mathematical induction](https://publish.obsidian.md/mth225/Recursion+and+Induction/Mathematical+induction). The proof in the vault uses a different base case ($n=0$) however.\n",
    "\n",
    "---"
   ]
  },
  {
   "cell_type": "markdown",
   "id": "72566a2d-1c9d-4290-9dd7-1aa53ebc68f5",
   "metadata": {},
   "source": [
    "## C3\n",
    "\n",
    "1. (a) True\n",
    "\n",
    "   (b) True \n",
    "\n",
    "   (c) False\n",
    "\n",
    "   (d) True\n",
    "\n",
    "   (e) False \n",
    "\n",
    "\n",
    "2. (a) $\\{0, 4, 8, 12, 16, 20, 24, \\dots \\}$\n",
    "\n",
    "   (b) INCORRECT SYNTAX ($2^n$ is not a predicate)\n",
    "\n",
    "   (c) Can be interpreted as INCORRECT SYNTAX since \"$x$ is odd\" is a predicate; or as the set {True, False} if you interpret this as a Boolean function.\n",
    "\n",
    "---"
   ]
  },
  {
   "cell_type": "markdown",
   "id": "8ee86a67-7ed5-4885-bd10-bc6be52e96d2",
   "metadata": {},
   "source": [
    " ## C4\n",
    "\n",
    " 1. $\\emptyset$\n",
    " 2. $\\{u,v,x,y\\}$\n",
    " 3. $\\{y\\}$\n",
    " 4. $\\{o,p,q,w,x,y,z\\}$\n",
    " 5. $U = \\{o,p,q,r,\\dots, x,y,z\\}$ \n",
    " 6. 4\n",
    "\n",
    "---"
   ]
  },
  {
   "cell_type": "markdown",
   "id": "eef3cd9d-2fe6-4310-94ef-bc6769336b49",
   "metadata": {},
   "source": [
    "## C5"
   ]
  },
  {
   "cell_type": "markdown",
   "id": "7977b05e-238c-4111-89c1-07dbefe81090",
   "metadata": {},
   "source": [
    "1. There are 26 ways to fill in each letter, then 10 ways to fill in each of the four digits, and all of these choices are independent. Therefore the total count is $26^2 \\cdot 10^4 = 6,760,000$.\n",
    "\n",
    "2. If we force the first letter to be `X` and the last digit to be `0`, then there is one letter and three digits where we have a choice. With 26 choices for the letter and 10 choices for each digit, the total count is $26 \\cdot 10^3 = 26,000$.\n",
    "\n",
    "3. We'll count the number of IDs that start with Z, then add the number of IDs that end in 69, and then subtract the number of IDs that both start with a Z *and* end in 69 because we double counted those.\n",
    "\n",
    "The number of ID's starting with a Z is $26 \\cdot 10^4 = 260,000$ since there is one choice for the letter and ten choices for each digit. The number of IDs ending in 69 is $26^2 \\cdot 10^2 = 67,600$ since there are 26 choices per letter and 10 choices for each of the remaining two digits. Finally the number that satisfy both starting with a Z and ending in a 69 is $26 \\cdot 10^2 = 2600$ since there are 26 choices for the letter and 10 choices for each of the remaining 2 digits. Therefore the total count is \n",
    "\n",
    "$$260,000 + 67,600 - 2600 = 325,000$$\n",
    "\n",
    "---"
   ]
  },
  {
   "cell_type": "markdown",
   "id": "e107ba2c-5d44-4f20-86c7-0524ac9ad266",
   "metadata": {},
   "source": [
    "## C6\n",
    "\n",
    "1. $7! = 7 \\cdot 6 \\cdot 5 \\cdot 4 \\cdot 3 \\cdot 2 \\cdot 1 = 5040$\n",
    "\n",
    "2. $\\displaystyle{\\binom{10}{3} = \\frac{10!}{3! \\cdot 7!} = \\frac{10 \\cdot 9 \\cdot 8}{3\\cdot 2 \\cdot 1} = 120}$\n",
    "\n",
    "3. (a) We have four choices for president, then three choices for vice president once the president is selected, then two choices for secretary, and then one person left over to be treasurer. The choices are independent so the count is $4! = 4 \\cdot 3 \\cdot 2 \\cdot 1 = 24$.\n",
    "\n",
    "    (b) Similarly we have 20 choices for president, then 19 for vice president, then 18 for secretary, then 17 for treasurer for a total of $20 \\cdot 19 \\cdot 18 \\cdot 17 = 116280$. This is the same as $\\frac{20!}{16!}$ sometimes known as $P(20,4)$ or $_{20} P_4$.\n",
    "\n",
    "---"
   ]
  },
  {
   "cell_type": "markdown",
   "id": "4b41857b-5fc5-4e43-9c08-779eacd7d965",
   "metadata": {},
   "source": [
    "## S1\n",
    "\n",
    "1. $(110)_{10}$\n",
    "2. $(1111011)_2$\n",
    "3. $(57)_{16}$\n",
    "4. $(11011011)_2$\n",
    "\n",
    "---"
   ]
  },
  {
   "cell_type": "markdown",
   "id": "425ce772-d341-49e0-b7ab-ddf4dc5e30f3",
   "metadata": {},
   "source": [
    "\n",
    "## S2\n",
    "\n",
    "1. `0001 1101`\n",
    "2. `0000 1111`\n",
    "3. `01000010`\n",
    "4. Quotient `0111`, remainder `1`"
   ]
  },
  {
   "cell_type": "markdown",
   "id": "6caddbb1",
   "metadata": {},
   "source": []
  }
 ],
 "metadata": {
  "kernelspec": {
   "display_name": "Python 3 (ipykernel)",
   "language": "python",
   "name": "python3"
  },
  "language_info": {
   "codemirror_mode": {
    "name": "ipython",
    "version": 3
   },
   "file_extension": ".py",
   "mimetype": "text/x-python",
   "name": "python",
   "nbconvert_exporter": "python",
   "pygments_lexer": "ipython3",
   "version": "3.11.5"
  }
 },
 "nbformat": 4,
 "nbformat_minor": 5
}
