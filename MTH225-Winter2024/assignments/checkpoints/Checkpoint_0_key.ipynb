{
 "cells": [
  {
   "cell_type": "markdown",
   "metadata": {},
   "source": [
    "# Checkpoint 0 \n",
    "\n",
    "Below are responses to each of the six Core skills found on Checkpoint 0, that would be considered \"Successful\" attempts. \n",
    "\n",
    "## Skill C1\n",
    "\n",
    ">If an animal flies, then it's a bird \n",
    "\n",
    "1. An animal flies\n",
    "2. The animal is a bird\n",
    "3. If an animal is a bird, then it flies. \n",
    "4. If an animial is not a bird, then it does not fly. \n",
    "5. If an animal does not fly, then it is not a bird. \n",
    "6. An animal flies but it's not a bird. "
   ]
  },
  {
   "cell_type": "markdown",
   "metadata": {},
   "source": [
    "## Skill C2\n",
    "\n",
    "1. The predicate $P(n)$ says that a set with $n$ elements has $2^n$ subsets. \n",
    "2. $n = 1$\n",
    "3. Consider a set with $1$ element, let's say $\\{x\\}$. Then there are exactly two subsets: $\\empty$, and the entire set $\\{x\\}$. Since $2 = 2^1$ the base case holds. \n",
    "4. Assumme that for some integer $k$, a set with $k$ elements has $2^k$ subsets. \n",
    "5. Prove that a set with $k+1$ elements has $2^{k+1}$ subsets. \n",
    "\n",
    "Side note: A complete proof of this proposition is found in [the vault article on mathematical induction](https://publish.obsidian.md/mth225/Recursion+and+Induction/Mathematical+induction)."
   ]
  },
  {
   "cell_type": "markdown",
   "metadata": {},
   "source": [
    "## Skill C3\n",
    "\n",
    "1. (a) True\n",
    "\n",
    "   (b) True \n",
    "\n",
    "   (c) False\n",
    "\n",
    "   (d) True\n",
    "\n",
    "   (e) False \n",
    "\n",
    "\n",
    "2. (a) $\\{0, 4, 8, 12, 16, 20, 24, \\dots \\}$\n",
    "\n",
    "   (b) INCORRECT SYNTAX ($2^n$ is not a predicate)\n",
    "\n",
    "   (c) Can be interpreted as INCORRECT SYNTAX since \"$x$ is odd\" is a predicate; or as the set {True, False} if you interpret this as a Boolean function."
   ]
  },
  {
   "cell_type": "markdown",
   "metadata": {},
   "source": [
    " ## Skill C4\n",
    "\n",
    " 1. $\\emptyset$\n",
    " 2. $\\{u,v,x,y\\}$\n",
    " 3. $\\{y\\}$\n",
    " 4. $\\{o,p,q,w,x,y,z\\}$\n",
    " 5. *IGNORE: This was actually a typo, forgot to say what $D$ was*\n",
    " 6. 8"
   ]
  },
  {
   "cell_type": "markdown",
   "metadata": {},
   "source": [
    "## Skill C5\n",
    "\n",
    "1. There are 26 ways to fill in each letter, then 10 ways to fill in each of the four digits, and all of these choices are independent. Therefore the total count is $26^2 \\cdot 10^4 = 6,760,000$. \n",
    "2. If we force the first letter to be `X` and the last digit to be `0`, then there is one letter and three digits where we have a choice. With 26 choices for the letter and 10 choices for each digit, the total count is $26 \\cdot 10^3 = 26,000$. \n",
    "3. The correct count will be obtained by counting the number of IDs that start with Z, adding the number of IDs that end in 69, and then subtracting the number of IDs that both start with a Z *and* end in 69. The number of ID's starting with a Z is $26 \\cdot 10^4 = 260,000$ since there is one choice for the letter and ten choices for each digit. The number of IDs ending in 69 is $26^2 \\cdot 10^2 = 67,600$ since there are 26 choices per letter and 10 choices for each of the remaining two digits. Finally the number that satisfy both starting with a Z and ending in a 69 is $26 \\cdot 10^2 = 2600$ since there are 26 choices for the letter and 10 choices for each of the remaining 2 digits. Therefore the total count is \n",
    "\n",
    "$$260,000 + 67,600 - 2600 = 325,000$$"
   ]
  },
  {
   "cell_type": "markdown",
   "metadata": {},
   "source": [
    "## Skill C6\n",
    "\n",
    "1.  (a) $7! = 7 \\cdot 6 \\cdot 5 \\cdot 4 \\cdot 3 \\cdot 2 \\cdot 1 = 5040$\n",
    "    \n",
    "    (b) $\\displaystyle{\\binom{10}{3} = \\frac{10!}{7! \\cdot 3!} = \\frac{10 \\cdot 9 \\cdot 8}{3 \\cdot 2 \\cdot 1} = 120}$\n",
    "\n",
    "2. (a) There are four ways to assign a president, then 3 ways to assign vice-president, then two ways to assign secretary, then only one way to assign treasurer. So the total count is $4! = 24$. \n",
    "\n",
    "   (b) Similar to (a) except there are 20 ways to assign a president, then 19 ways to assign vice-president, then 18 ways to assign secretary, then 17 ways to assign treasurer. So the total count is $20 \\cdot 19 \\cdot 18 \\cdot 17 = 116,280$. (Note, this is the same as $P(20,4) = \\frac{20!}{16!}$.)"
   ]
  }
 ],
 "metadata": {
  "kernelspec": {
   "display_name": "base",
   "language": "python",
   "name": "python3"
  },
  "language_info": {
   "name": "python",
   "version": "3.10.13"
  }
 },
 "nbformat": 4,
 "nbformat_minor": 2
}
