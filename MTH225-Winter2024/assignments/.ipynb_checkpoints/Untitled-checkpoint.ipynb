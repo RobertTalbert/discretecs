{
 "cells": [
  {
   "cell_type": "markdown",
   "id": "9abcd3ce-6ae7-4feb-977a-d36fada733cc",
   "metadata": {},
   "source": [
    "# Checkpoint 1 answers\n",
    "\n",
    "## C1\n",
    "\n",
    ">If it's cold, then I'll stay inside\n",
    "\n",
    "1. It's cold\n",
    "2. I'll stay inside\n",
    "3. If I stay inside, then it's cold.\n",
    "4. If I don't stay inside, then it's not cold.\n",
    "5. If it's not cold, then I'll not stay inside.\n",
    "6. It's cold but I am not staying inside.\n",
    "\n",
    "---\n"
   ]
  },
  {
   "cell_type": "markdown",
   "id": "1be4a4e9-7b9b-4963-bb0d-ae28c8fc78e4",
   "metadata": {},
   "source": [
    "## C2\n",
    "\n",
    ">For every integer $n \\geq 1$, a set with $n$ elements has $2^n$ subsets.\n",
    "\n",
    "1. The predicate $P(n)$ says \"a set with $n$ elements has $2^n$ subsets\".\n",
    "2. $n = 1$\n",
    "3. Consider a set with $1$ element, let's say $\\{x\\}$. Then there are exactly two subsets: $\\emptyset$, and the entire set $\\{x\\}$. Since $2 = 2^1$ the base case holds. \n",
    "4. Assume that for some integer $k$, a set with $k$ elements has $2^k$ subsets. \n",
    "5. Prove that a set with $k+1$ elements has $2^{k+1}$ subsets. \n",
    "\n",
    "Side note: A complete proof of this proposition is found in [the vault article on mathematical induction](https://publish.obsidian.md/mth225/Recursion+and+Induction/Mathematical+induction). The proof in the vault uses a different base case ($n=0$) however.\n",
    "\n",
    "---"
   ]
  },
  {
   "cell_type": "markdown",
   "id": "72566a2d-1c9d-4290-9dd7-1aa53ebc68f5",
   "metadata": {},
   "source": [
    "## C3\n",
    "\n",
    "1. (a) True\n",
    "\n",
    "   (b) True \n",
    "\n",
    "   (c) False\n",
    "\n",
    "   (d) True\n",
    "\n",
    "   (e) False \n",
    "\n",
    "\n",
    "2. (a) $\\{0, 4, 8, 12, 16, 20, 24, \\dots \\}$\n",
    "\n",
    "   (b) INCORRECT SYNTAX ($2^n$ is not a predicate)\n",
    "\n",
    "   (c) Can be interpreted as INCORRECT SYNTAX since \"$x$ is odd\" is a predicate; or as the set {True, False} if you interpret this as a Boolean function.\n",
    "\n",
    "---"
   ]
  },
  {
   "cell_type": "markdown",
   "id": "8ee86a67-7ed5-4885-bd10-bc6be52e96d2",
   "metadata": {},
   "source": [
    " ## C4\n",
    "\n",
    " 1. $\\emptyset$\n",
    " 2. $\\{u,v,x,y\\}$\n",
    " 3. $\\{y\\}$\n",
    " 4. $\\{o,p,q,w,x,y,z\\}$\n",
    " 5. $U = \\{0,p,q,r,\\dots, x,y,z\\}$ \n",
    " 6. 4\n",
    "\n",
    "---"
   ]
  },
  {
   "cell_type": "markdown",
   "id": "eef3cd9d-2fe6-4310-94ef-bc6769336b49",
   "metadata": {},
   "source": [
    "## C5"
   ]
  },
  {
   "cell_type": "code",
   "execution_count": null,
   "id": "15d8dfd4-dd79-4507-87b0-ee92ed5d3d39",
   "metadata": {},
   "outputs": [],
   "source": []
  }
 ],
 "metadata": {
  "kernelspec": {
   "display_name": "Python 3 (ipykernel)",
   "language": "python",
   "name": "python3"
  },
  "language_info": {
   "codemirror_mode": {
    "name": "ipython",
    "version": 3
   },
   "file_extension": ".py",
   "mimetype": "text/x-python",
   "name": "python",
   "nbconvert_exporter": "python",
   "pygments_lexer": "ipython3",
   "version": "3.11.5"
  }
 },
 "nbformat": 4,
 "nbformat_minor": 5
}
