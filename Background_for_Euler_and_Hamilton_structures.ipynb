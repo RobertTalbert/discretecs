{
  "nbformat": 4,
  "nbformat_minor": 0,
  "metadata": {
    "colab": {
      "provenance": [],
      "authorship_tag": "ABX9TyN7sAVhzomoWFBMXCDFJ+TP",
      "include_colab_link": true
    },
    "kernelspec": {
      "name": "python3",
      "display_name": "Python 3"
    },
    "language_info": {
      "name": "python"
    }
  },
  "cells": [
    {
      "cell_type": "markdown",
      "metadata": {
        "id": "view-in-github",
        "colab_type": "text"
      },
      "source": [
        "<a href=\"https://colab.research.google.com/github/RobertTalbert/discretecs/blob/master/Background_for_Euler_and_Hamilton_structures.ipynb\" target=\"_parent\"><img src=\"https://colab.research.google.com/assets/colab-badge.svg\" alt=\"Open In Colab\"/></a>"
      ]
    },
    {
      "cell_type": "markdown",
      "source": [
        "# Overview\n",
        "\n",
        "The focus of this lesson is on **Eulerian** and **Hamiltonian structures** in graphs. [Your textbook covers this material](http://discrete.openmathbooks.org/dmoi3/sec_paths.html), but some of the key terminology is scattered over multiple sections, so it can be hard to find. The purpose of this document is to put all of the necessary terminology in one place; to give some examples of these concepts; and to show you how to use `networkX` to automate some of the things we will do in class. \n",
        "\n",
        "## Terminology\n",
        "\n",
        "In all of the definitions below, $G$ refers to a graph. \n",
        "\n",
        "- A **walk** in $G$ is a sequence of vertices such that every vertex in the sequence is adjacent to the vertex before it and the vertex after it in the sequences. (Alternatively, a walk is a list of edges where two consecutive edges in the list have a vertex in common.) \n",
        "- A **path** in $G$ is a walk, where no edges are repeated and in which no vertex is repeated (except possibly the first and last vertices). \n",
        "- A **cycle** in $G$ is a path that starts and ends at the same vertex (but contains no other repeated vertices). \n",
        "- An **Euler path** (or *Eulerian* path) in $G$ is a path that travels along *every* edge in $G$ *exactly once*. \n",
        "- An **Euler circult** (sometimes called an *Euler cycle* or *Euler tour*) in $G$ is an Euler path that starts and ends at the same vertex. \n",
        "- A **Hamiltonian path** in $G$ is a path that visits *every vertex* in $G$ exactly once (except perhaps the first and last vertices). \n",
        "- A **Hamiltonian cycle** in $G$ is a Hamiltonian path that starts and ends at the same vertex. \n",
        "\n",
        "Some notes on these terms: \n",
        "- \"Euler\" is pronounced \"OIL-er\". It rhymes with \"boiler\", not with \"ruler\". \n",
        "- Euler and Hamilton structures are named after the legendary mathematicians [Leonhard Euler](https://mathshistory.st-andrews.ac.uk/Biographies/Euler/) and [William Rowan Hamilton](https://mathshistory.st-andrews.ac.uk/Biographies/Hamilton/) whose contributions to math include most of what we call \"graph theory\" today. \n",
        "\n",
        "## Examples and non-examples \n",
        "\n",
        "Consider the graph $G$ below. "
      ],
      "metadata": {
        "id": "M20pOCOfZf1t"
      }
    },
    {
      "cell_type": "code",
      "source": [
        "import networkx as nx\n",
        "\n",
        "G = nx.Graph({0:[1,2,3,4], 1:[2], 3:[4]})\n",
        "nx.draw(G, with_labels = True, node_color = \"cyan\")"
      ],
      "metadata": {
        "colab": {
          "base_uri": "https://localhost:8080/",
          "height": 319
        },
        "id": "NfSUkpaMcqCz",
        "outputId": "2845de1b-8b39-4bb5-b8fe-9e2367e617c8"
      },
      "execution_count": 5,
      "outputs": [
        {
          "output_type": "display_data",
          "data": {
            "text/plain": [
              "<Figure size 432x288 with 1 Axes>"
            ],
            "image/png": "[encoded data removed]"
          },
          "metadata": {}
        }
      ]
    },
    {
      "cell_type": "markdown",
      "source": [
        "In this graph: \n",
        "\n",
        "- The node sequence 0, 1, 2, 0, 1, 0, 3, 4, 3, 0 is a walk. But the sequence 1, 4, 3, 0 is *not* a walk, because 1 and 4 are not adjacent. \n",
        "- The node sequence 0, 1, 2, 0, 1, 0, 3, 4, 3, 0 is a walk but *not* a path, because several edges are repeated. \n",
        "- The node sequence 1, 0, 3, 4 is a path. \n",
        "- However 1, 0, 3, 4 is *not* an Eulerian path because not every edge is visited. Nor is it a Hamiltonian path because not every vertex is visited. \n",
        "- The sequence 0, 2, 1, 0, 3, 4, 0 is an Eulerian path because it is a path that visits every edge and only visits each one once. Actually it's an Eulerian *cycle* because the starting and ending nodes are the same. \n",
        "- The sequence 0, 2, 1, 0, 3, 4, 0 is *not* a Hamiltonian path (or cycle) because although it visits every vertex, it vists some of them more than once. \n",
        "- The sequence 1, 2, 0, 3, 4 is a Hamiltonian path. But *not* a Hamiltonian cycle because it's not a cycle at all --- it does not start and end at the same vertex. \n",
        "- In fact, it does not appear that this graph has a Hamiltonian cycle at all! Can you explain why? \n",
        "\n",
        "\n"
      ],
      "metadata": {
        "id": "ShBfVsIZdH8V"
      }
    },
    {
      "cell_type": "markdown",
      "source": [
        "## Eulerian functions in `networkX`\n",
        "\n",
        "The `networkX` package provides some helpful functions for working with Eulerian structures: \n",
        "\n",
        "- `is_eulerian`: Returns `True` if the input graph has an Eulerian cycle. \n",
        "- `has_eulerian_path`: Returns `True` if the input graph has an Eulerian path. \n",
        "- `eulerian_circuit`: If the input graph has an Eulerian cycle, this function returns an iterable that contains the cycle as an edge list. Wrapping `list( )` around this function will produce the actual list. \n",
        "- `eulerian_path`: Does the same thing as `eulerian_circuit` except for Eulerian paths. \n",
        "\n",
        "Testing these out on the \"bowtie\" graph from above: "
      ],
      "metadata": {
        "id": "dzpDLaXIeyTM"
      }
    },
    {
      "cell_type": "code",
      "source": [
        "nx.is_eulerian(G)"
      ],
      "metadata": {
        "colab": {
          "base_uri": "https://localhost:8080/"
        },
        "id": "ObfbjokafeH3",
        "outputId": "e9c0d258-646e-4de7-c7a1-31ce3e38daa6"
      },
      "execution_count": 6,
      "outputs": [
        {
          "output_type": "execute_result",
          "data": {
            "text/plain": [
              "True"
            ]
          },
          "metadata": {},
          "execution_count": 6
        }
      ]
    },
    {
      "cell_type": "code",
      "source": [
        "# This by itself doesn't produce output we can see - it's just an \"iterable\"\n",
        "nx.eulerian_circuit(G)"
      ],
      "metadata": {
        "colab": {
          "base_uri": "https://localhost:8080/"
        },
        "id": "k_xRKiFrfiUh",
        "outputId": "dc450d80-4d7f-47e3-9a86-cc26ac1d7c09"
      },
      "execution_count": 7,
      "outputs": [
        {
          "output_type": "execute_result",
          "data": {
            "text/plain": [
              "<generator object eulerian_circuit at 0x7f27b2e97950>"
            ]
          },
          "metadata": {},
          "execution_count": 7
        }
      ]
    },
    {
      "cell_type": "code",
      "source": [
        "# Wrap in list( ) to see the list\n",
        "list(nx.eulerian_circuit(G))"
      ],
      "metadata": {
        "colab": {
          "base_uri": "https://localhost:8080/"
        },
        "id": "5ujAiY-sfqjT",
        "outputId": "7cc64871-3bc1-42db-a3ae-12ee6a04a97e"
      },
      "execution_count": 8,
      "outputs": [
        {
          "output_type": "execute_result",
          "data": {
            "text/plain": [
              "[(0, 4), (4, 3), (3, 0), (0, 2), (2, 1), (1, 0)]"
            ]
          },
          "metadata": {},
          "execution_count": 8
        }
      ]
    },
    {
      "cell_type": "markdown",
      "source": [
        "Notice the output here is an edge list, not a node sequence. Also it's a different sequence than what we noted earlier. That's OK, because if a graph has an Eulerian cycle, it could have more than one. "
      ],
      "metadata": {
        "id": "bufLU16Jfzrl"
      }
    },
    {
      "cell_type": "code",
      "source": [
        "nx.has_eulerian_path(G)"
      ],
      "metadata": {
        "colab": {
          "base_uri": "https://localhost:8080/"
        },
        "id": "jfijE5O2fzVM",
        "outputId": "e060b50f-4e64-44f8-a885-5382e02ef7c4"
      },
      "execution_count": 9,
      "outputs": [
        {
          "output_type": "execute_result",
          "data": {
            "text/plain": [
              "True"
            ]
          },
          "metadata": {},
          "execution_count": 9
        }
      ]
    },
    {
      "cell_type": "code",
      "source": [
        "list(nx.eulerian_path(G))"
      ],
      "metadata": {
        "colab": {
          "base_uri": "https://localhost:8080/"
        },
        "id": "3FMmgMrhgDhj",
        "outputId": "8a487e11-4d11-4784-de29-53e1a54e86e2"
      },
      "execution_count": 10,
      "outputs": [
        {
          "output_type": "execute_result",
          "data": {
            "text/plain": [
              "[(0, 1), (1, 2), (2, 0), (0, 3), (3, 4), (4, 0)]"
            ]
          },
          "metadata": {},
          "execution_count": 10
        }
      ]
    },
    {
      "cell_type": "markdown",
      "source": [
        "## Where is all the Hamiltonian stuff in `networkX`? \n",
        "\n",
        "The `networkX` package does not contain much in the way of Hamiltonian versions of the above functions --- only for special niche graphs. That's because generally speaking **finding Hamiltonian structures in graphs is a very hard computational problem**. Specifically, taking a generic graph $G$ and determining whether it has a Hamiltonian path is [an NP-complete problem](https://en.wikipedia.org/wiki/Hamiltonian_path_problem) which means that there is no simple, quick algorithm that does it in general. For small graphs we can do it manually, and that's what we're stuck with!  "
      ],
      "metadata": {
        "id": "CL8ySbpYgIq3"
      }
    }
  ]
}